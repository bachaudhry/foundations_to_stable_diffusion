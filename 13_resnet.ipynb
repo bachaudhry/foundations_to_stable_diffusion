{
 "cells": [
  {
   "cell_type": "markdown",
   "id": "75903bfa-1c5f-4e29-9b6b-40bc7af82e98",
   "metadata": {},
   "source": [
    "# **Moving to ResNets**"
   ]
  },
  {
   "cell_type": "code",
   "execution_count": 1,
   "id": "3f933f64-e933-49ed-af0f-55ffccd83911",
   "metadata": {},
   "outputs": [],
   "source": [
    "import pickle, gzip, math, os, time, shutil\n",
    "import matplotlib as mpl\n",
    "import matplotlib.pyplot as plt\n",
    "import numpy as np\n",
    "import fastcore.all as fc\n",
    "from pathlib import Path\n",
    "from operator import attrgetter, itemgetter\n",
    "from functools import partial\n",
    "from copy import copy\n",
    "from contextlib import contextmanager\n",
    "\n",
    "import torch\n",
    "from torch import tensor, nn, optim\n",
    "import torchvision.transforms.functional as TF\n",
    "import torch.nn.functional as F\n",
    "from torch.utils.data import DataLoader, default_collate\n",
    "from torch.nn import init\n",
    "from torch.optim import lr_scheduler\n",
    "from torcheval.metrics import MulticlassAccuracy\n",
    "from datasets import load_dataset, load_dataset_builder\n",
    "\n",
    "from miniai.datasets import *\n",
    "from miniai.conv import *\n",
    "from miniai.learner import *\n",
    "from miniai.activations import *\n",
    "from miniai.init import *\n",
    "from miniai.sgd import *"
   ]
  },
  {
   "cell_type": "code",
   "execution_count": 2,
   "id": "7e70e976-6824-44f8-9090-4828c30976d8",
   "metadata": {},
   "outputs": [],
   "source": [
    "from fastcore.test import test_close\n",
    "\n",
    "torch.set_printoptions(precision=2, linewidth=140, sci_mode=False)\n",
    "torch.manual_seed(1)\n",
    "mpl.rcParams['image.cmap'] = 'gray'\n",
    "\n",
    "import logging\n",
    "logging.disable(logging.WARNING)\n",
    "\n",
    "set_seed(42)"
   ]
  },
  {
   "cell_type": "markdown",
   "id": "331bc57d-ea1f-4273-8cbf-fedc559b9347",
   "metadata": {},
   "source": [
    "## **Setup**"
   ]
  },
  {
   "cell_type": "code",
   "execution_count": 3,
   "id": "53e2aee2-f14f-470f-a38c-3a431b1cde20",
   "metadata": {},
   "outputs": [],
   "source": [
    "xl, yl = 'image', 'label'\n",
    "name = \"fashion_mnist\"\n",
    "bs = 1024\n",
    "x_mean, x_std = 0.28, 0.35\n",
    "\n",
    "@inplace\n",
    "def transformi(b): b[xl] = [(TF.to_tensor(o) - x_mean) / x_std for o in b[xl]]\n",
    "\n",
    "dsd = load_dataset(name)\n",
    "tds = dsd.with_transform(transformi)\n",
    "dls = DataLoaders.from_dd(tds, bs, num_workers=4)"
   ]
  },
  {
   "cell_type": "code",
   "execution_count": 4,
   "id": "cade13d2-77e7-4867-8480-d4be44c3b82a",
   "metadata": {},
   "outputs": [
    {
     "name": "stdout",
     "output_type": "stream",
     "text": [
      "Batch Size: torch.Size([1024, 1, 28, 28])\n"
     ]
    }
   ],
   "source": [
    "for batch in dls.train: \n",
    "    print(f\"Batch Size: {batch[0].shape}\")\n",
    "    break"
   ]
  },
  {
   "cell_type": "code",
   "execution_count": 5,
   "id": "ab7dd7d6-4e20-45e0-a251-69eea32fef97",
   "metadata": {},
   "outputs": [],
   "source": [
    "# Activations with our trusty General RelU\n",
    "act_gr = partial(GeneralRelu, leak=0.1, sub=0.4)"
   ]
  },
  {
   "cell_type": "code",
   "execution_count": 6,
   "id": "f53db48d-3b9d-4c7e-9345-6a30694ee724",
   "metadata": {},
   "outputs": [],
   "source": [
    "metrics = MetricsCB(accuracy=MulticlassAccuracy())\n",
    "astats = ActivationStats(fc.risinstance(GeneralRelu))\n",
    "cbs = [DeviceCB(), metrics, ProgressCB(plot=True), astats]\n",
    "iw = partial(init_weights, leaky=0.1)"
   ]
  },
  {
   "cell_type": "code",
   "execution_count": 7,
   "id": "42ad8c66-4b21-4712-9bbc-54fb54726c0e",
   "metadata": {},
   "outputs": [],
   "source": [
    "@fc.patch\n",
    "def summary(self:Learner):\n",
    "    res = '|Module|Input|Output|Num Params|\\n|--|--|--|--|\\n'\n",
    "    tot = 0\n",
    "    def _f(hook, mod, inp, outp):\n",
    "        nonlocal res, tot\n",
    "        nparams = sum(o.numel() for o in mod.parameters())\n",
    "        tot += nparams\n",
    "        res += f'|{type(mod).__name__}|{tuple(inp[0].shape)}|{tuple(outp.shape)}|{nparams}|\\n'\n",
    "    with Hooks(self.model, _f) as hooks: self.fit(1, lr=1, train=False, cbs=SingleBatchCB())\n",
    "    print(\"Total params: \", tot)\n",
    "    if fc.IN_NOTEBOOK:\n",
    "        from IPython.display import Markdown\n",
    "        return Markdown(res)\n",
    "    else: print(res)"
   ]
  },
  {
   "cell_type": "markdown",
   "id": "c31473f4-3e79-4a5b-8c4d-2246d4f1bdec",
   "metadata": {},
   "source": [
    "## **Moving Toward Deeper Architectures**"
   ]
  },
  {
   "cell_type": "markdown",
   "id": "08cc88b6-6ad3-4fc5-8849-8d9674368827",
   "metadata": {},
   "source": [
    "Prior to moving onto ResNets, we can experiment with increasing the depth of our ConvNet model. This should be possible since we were initializing our weights pretty effectively while using BatchNorm.\n",
    "\n",
    "Previously, we had a model which peaked at 64 output channels / filters. To increase output filters to 128, we can:\n",
    "1. Set the inputs and outputs to `conv(1, 8)` with a stride of 1.\n",
    "2. This would allow the network to be deeper and wider as a result."
   ]
  },
  {
   "cell_type": "code",
   "execution_count": 8,
   "id": "40b5df73-fc09-4e25-8785-324e0a8f57a9",
   "metadata": {},
   "outputs": [
    {
     "data": {
      "text/plain": [
       "\u001b[0;31mSignature:\u001b[0m\n",
       "\u001b[0mget_model\u001b[0m\u001b[0;34m(\u001b[0m\u001b[0;34m\u001b[0m\n",
       "\u001b[0;34m\u001b[0m    \u001b[0mact\u001b[0m\u001b[0;34m=\u001b[0m\u001b[0;34m<\u001b[0m\u001b[0;32mclass\u001b[0m \u001b[0;34m'torch.nn.modules.activation.ReLU'\u001b[0m\u001b[0;34m>\u001b[0m\u001b[0;34m,\u001b[0m\u001b[0;34m\u001b[0m\n",
       "\u001b[0;34m\u001b[0m    \u001b[0mnfs\u001b[0m\u001b[0;34m=\u001b[0m\u001b[0;32mNone\u001b[0m\u001b[0;34m,\u001b[0m\u001b[0;34m\u001b[0m\n",
       "\u001b[0;34m\u001b[0m    \u001b[0mnorm\u001b[0m\u001b[0;34m=\u001b[0m\u001b[0;32mNone\u001b[0m\u001b[0;34m,\u001b[0m\u001b[0;34m\u001b[0m\n",
       "\u001b[0;34m\u001b[0m\u001b[0;34m)\u001b[0m\u001b[0;34m\u001b[0m\u001b[0;34m\u001b[0m\u001b[0m\n",
       "\u001b[0;31mDocstring:\u001b[0m <no docstring>\n",
       "\u001b[0;31mSource:\u001b[0m   \n",
       "\u001b[0;32mdef\u001b[0m \u001b[0mget_model\u001b[0m\u001b[0;34m(\u001b[0m\u001b[0mact\u001b[0m\u001b[0;34m=\u001b[0m\u001b[0mnn\u001b[0m\u001b[0;34m.\u001b[0m\u001b[0mReLU\u001b[0m\u001b[0;34m,\u001b[0m \u001b[0mnfs\u001b[0m\u001b[0;34m=\u001b[0m\u001b[0;32mNone\u001b[0m\u001b[0;34m,\u001b[0m \u001b[0mnorm\u001b[0m\u001b[0;34m=\u001b[0m\u001b[0;32mNone\u001b[0m\u001b[0;34m)\u001b[0m\u001b[0;34m:\u001b[0m\u001b[0;34m\u001b[0m\n",
       "\u001b[0;34m\u001b[0m    \u001b[0;32mif\u001b[0m \u001b[0mnfs\u001b[0m \u001b[0;32mis\u001b[0m \u001b[0;32mNone\u001b[0m\u001b[0;34m:\u001b[0m \u001b[0mnfs\u001b[0m \u001b[0;34m=\u001b[0m \u001b[0;34m[\u001b[0m\u001b[0;36m1\u001b[0m\u001b[0;34m,\u001b[0m\u001b[0;36m8\u001b[0m\u001b[0;34m,\u001b[0m\u001b[0;36m16\u001b[0m\u001b[0;34m,\u001b[0m\u001b[0;36m32\u001b[0m\u001b[0;34m,\u001b[0m\u001b[0;36m64\u001b[0m\u001b[0;34m]\u001b[0m\u001b[0;34m\u001b[0m\n",
       "\u001b[0;34m\u001b[0m    \u001b[0mlayers\u001b[0m \u001b[0;34m=\u001b[0m \u001b[0;34m[\u001b[0m\u001b[0mconv\u001b[0m\u001b[0;34m(\u001b[0m\u001b[0mnfs\u001b[0m\u001b[0;34m[\u001b[0m\u001b[0mi\u001b[0m\u001b[0;34m]\u001b[0m\u001b[0;34m,\u001b[0m \u001b[0mnfs\u001b[0m\u001b[0;34m[\u001b[0m\u001b[0mi\u001b[0m\u001b[0;34m+\u001b[0m\u001b[0;36m1\u001b[0m\u001b[0;34m]\u001b[0m\u001b[0;34m,\u001b[0m \u001b[0mact\u001b[0m\u001b[0;34m=\u001b[0m\u001b[0mact\u001b[0m\u001b[0;34m,\u001b[0m \u001b[0mnorm\u001b[0m\u001b[0;34m=\u001b[0m\u001b[0mnorm\u001b[0m\u001b[0;34m)\u001b[0m \u001b[0;32mfor\u001b[0m \u001b[0mi\u001b[0m \u001b[0;32min\u001b[0m \u001b[0mrange\u001b[0m\u001b[0;34m(\u001b[0m\u001b[0mlen\u001b[0m\u001b[0;34m(\u001b[0m\u001b[0mnfs\u001b[0m\u001b[0;34m)\u001b[0m\u001b[0;34m-\u001b[0m\u001b[0;36m1\u001b[0m\u001b[0;34m)\u001b[0m\u001b[0;34m]\u001b[0m\u001b[0;34m\u001b[0m\n",
       "\u001b[0;34m\u001b[0m    \u001b[0;32mreturn\u001b[0m \u001b[0mnn\u001b[0m\u001b[0;34m.\u001b[0m\u001b[0mSequential\u001b[0m\u001b[0;34m(\u001b[0m\u001b[0;34m*\u001b[0m\u001b[0mlayers\u001b[0m\u001b[0;34m,\u001b[0m \u001b[0mconv\u001b[0m\u001b[0;34m(\u001b[0m\u001b[0mnfs\u001b[0m\u001b[0;34m[\u001b[0m\u001b[0;34m-\u001b[0m\u001b[0;36m1\u001b[0m\u001b[0;34m]\u001b[0m\u001b[0;34m,\u001b[0m\u001b[0;36m10\u001b[0m\u001b[0;34m,\u001b[0m \u001b[0mact\u001b[0m\u001b[0;34m=\u001b[0m\u001b[0;32mNone\u001b[0m\u001b[0;34m,\u001b[0m \u001b[0mnorm\u001b[0m\u001b[0;34m=\u001b[0m\u001b[0;32mFalse\u001b[0m\u001b[0;34m,\u001b[0m \u001b[0mbias\u001b[0m\u001b[0;34m=\u001b[0m\u001b[0;32mTrue\u001b[0m\u001b[0;34m)\u001b[0m\u001b[0;34m,\u001b[0m\u001b[0;34m\u001b[0m\n",
       "\u001b[0;34m\u001b[0m                         \u001b[0mnn\u001b[0m\u001b[0;34m.\u001b[0m\u001b[0mFlatten\u001b[0m\u001b[0;34m(\u001b[0m\u001b[0;34m)\u001b[0m\u001b[0;34m)\u001b[0m\u001b[0;34m.\u001b[0m\u001b[0mto\u001b[0m\u001b[0;34m(\u001b[0m\u001b[0mdef_device\u001b[0m\u001b[0;34m)\u001b[0m\u001b[0;34m\u001b[0m\u001b[0;34m\u001b[0m\u001b[0m\n",
       "\u001b[0;31mFile:\u001b[0m      ~/nbs/course22p2/miniai/init.py\n",
       "\u001b[0;31mType:\u001b[0m      function"
      ]
     },
     "metadata": {},
     "output_type": "display_data"
    }
   ],
   "source": [
    "# for comparison\n",
    "??get_model"
   ]
  },
  {
   "cell_type": "code",
   "execution_count": 9,
   "id": "effbe3bf-a4f6-4079-92f8-de0acf3fc9e1",
   "metadata": {},
   "outputs": [],
   "source": [
    "# Updating the get_model() function for additional filters.\n",
    "def get_model(act=nn.ReLU, nfs=(8, 16, 32, 64, 128), norm=nn.BatchNorm2d):\n",
    "    # initialize the first layer separately to have a wider and deeper network\n",
    "    layers = [conv(1, 8, stride=1, act=act, norm=norm)]\n",
    "    layers += [conv(nfs[i], nfs[i+1], act=act, norm=norm) for i in range(len(nfs)-1)]\n",
    "    return nn.Sequential(*layers, conv(nfs[-1], 10, act=None, norm=norm, bias=True), nn.Flatten()).to(def_device)"
   ]
  },
  {
   "cell_type": "code",
   "execution_count": 10,
   "id": "da342e08-19c0-4398-b9bc-6615b905bff1",
   "metadata": {},
   "outputs": [
    {
     "name": "stdout",
     "output_type": "stream",
     "text": [
      "Total params:  110286\n"
     ]
    },
    {
     "name": "stderr",
     "output_type": "stream",
     "text": [
      "/home/bchaudhry/miniforge3/envs/miniai/lib/python3.11/site-packages/torch/nn/modules/conv.py:459: UserWarning: Applied workaround for CuDNN issue, install nvrtc.so (Triggered internally at /opt/conda/conda-bld/pytorch_1682343995622/work/aten/src/ATen/native/cudnn/Conv_v8.cpp:80.)\n",
      "  return F.conv2d(input, weight, bias, self.stride,\n"
     ]
    },
    {
     "data": {
      "text/markdown": [
       "|Module|Input|Output|Num Params|\n",
       "|--|--|--|--|\n",
       "|Sequential|(2048, 1, 28, 28)|(2048, 8, 28, 28)|96|\n",
       "|Sequential|(2048, 8, 28, 28)|(2048, 16, 14, 14)|1200|\n",
       "|Sequential|(2048, 16, 14, 14)|(2048, 32, 7, 7)|4704|\n",
       "|Sequential|(2048, 32, 7, 7)|(2048, 64, 4, 4)|18624|\n",
       "|Sequential|(2048, 64, 4, 4)|(2048, 128, 2, 2)|74112|\n",
       "|Sequential|(2048, 128, 2, 2)|(2048, 10, 1, 1)|11550|\n",
       "|Flatten|(2048, 10, 1, 1)|(2048, 10)|0|\n"
      ],
      "text/plain": [
       "<IPython.core.display.Markdown object>"
      ]
     },
     "execution_count": 10,
     "metadata": {},
     "output_type": "execute_result"
    }
   ],
   "source": [
    "TrainLearner(get_model(), dls, F.cross_entropy, cbs=DeviceCB()).summary()"
   ]
  },
  {
   "cell_type": "markdown",
   "id": "23a0d756-46e3-4cea-9014-edfafe87744c",
   "metadata": {},
   "source": [
    "`NOTE` This summary table shows that there may be an issue with fastcore versioning here. Everything else seems to pan out."
   ]
  },
  {
   "cell_type": "code",
   "execution_count": 11,
   "id": "705b08ea-465b-4201-a0e6-70c809e935ad",
   "metadata": {},
   "outputs": [],
   "source": [
    "set_seed(42)\n",
    "\n",
    "lr, epochs = 6e-2, 5\n",
    "model = get_model(act_gr, norm=nn.BatchNorm2d).apply(iw)\n",
    " # Adding the scheduler\n",
    "tmax = epochs * len(dls.train)\n",
    "sched = partial(lr_scheduler.OneCycleLR, max_lr=lr, total_steps=tmax)\n",
    "xtra = [BatchSchedCB(sched)]\n",
    "learn = TrainLearner(model, dls, F.cross_entropy, lr=lr, cbs=cbs+xtra, opt_func=optim.AdamW)"
   ]
  },
  {
   "cell_type": "code",
   "execution_count": 12,
   "id": "b8a0be7a-55a8-455c-80bd-ee7f16c0ab4e",
   "metadata": {},
   "outputs": [
    {
     "data": {
      "text/html": [
       "\n",
       "<style>\n",
       "    /* Turns off some styling */\n",
       "    progress {\n",
       "        /* gets rid of default border in Firefox and Opera. */\n",
       "        border: none;\n",
       "        /* Needs to be in here for Safari polyfill so background images work as expected. */\n",
       "        background-size: auto;\n",
       "    }\n",
       "    progress:not([value]), progress:not([value])::-webkit-progress-bar {\n",
       "        background: repeating-linear-gradient(45deg, #7e7e7e, #7e7e7e 10px, #5c5c5c 10px, #5c5c5c 20px);\n",
       "    }\n",
       "    .progress-bar-interrupted, .progress-bar-interrupted::-webkit-progress-bar {\n",
       "        background: #F44336;\n",
       "    }\n",
       "</style>\n"
      ],
      "text/plain": [
       "<IPython.core.display.HTML object>"
      ]
     },
     "metadata": {},
     "output_type": "display_data"
    },
    {
     "data": {
      "text/html": [
       "<table border=\"1\" class=\"dataframe\">\n",
       "  <thead>\n",
       "    <tr style=\"text-align: left;\">\n",
       "      <th>accuracy</th>\n",
       "      <th>loss</th>\n",
       "      <th>epoch</th>\n",
       "      <th>train</th>\n",
       "    </tr>\n",
       "  </thead>\n",
       "  <tbody>\n",
       "    <tr>\n",
       "      <td>0.809</td>\n",
       "      <td>0.692</td>\n",
       "      <td>0</td>\n",
       "      <td>train</td>\n",
       "    </tr>\n",
       "    <tr>\n",
       "      <td>0.829</td>\n",
       "      <td>0.543</td>\n",
       "      <td>0</td>\n",
       "      <td>eval</td>\n",
       "    </tr>\n",
       "    <tr>\n",
       "      <td>0.885</td>\n",
       "      <td>0.332</td>\n",
       "      <td>1</td>\n",
       "      <td>train</td>\n",
       "    </tr>\n",
       "    <tr>\n",
       "      <td>0.862</td>\n",
       "      <td>0.392</td>\n",
       "      <td>1</td>\n",
       "      <td>eval</td>\n",
       "    </tr>\n",
       "    <tr>\n",
       "      <td>0.908</td>\n",
       "      <td>0.261</td>\n",
       "      <td>2</td>\n",
       "      <td>train</td>\n",
       "    </tr>\n",
       "    <tr>\n",
       "      <td>0.895</td>\n",
       "      <td>0.290</td>\n",
       "      <td>2</td>\n",
       "      <td>eval</td>\n",
       "    </tr>\n",
       "    <tr>\n",
       "      <td>0.926</td>\n",
       "      <td>0.209</td>\n",
       "      <td>3</td>\n",
       "      <td>train</td>\n",
       "    </tr>\n",
       "    <tr>\n",
       "      <td>0.913</td>\n",
       "      <td>0.248</td>\n",
       "      <td>3</td>\n",
       "      <td>eval</td>\n",
       "    </tr>\n",
       "    <tr>\n",
       "      <td>0.942</td>\n",
       "      <td>0.166</td>\n",
       "      <td>4</td>\n",
       "      <td>train</td>\n",
       "    </tr>\n",
       "    <tr>\n",
       "      <td>0.916</td>\n",
       "      <td>0.232</td>\n",
       "      <td>4</td>\n",
       "      <td>eval</td>\n",
       "    </tr>\n",
       "  </tbody>\n",
       "</table>"
      ],
      "text/plain": [
       "<IPython.core.display.HTML object>"
      ]
     },
     "metadata": {},
     "output_type": "display_data"
    },
    {
     "data": {
      "image/png": "[encoded data removed]",
      "text/plain": [
       "<Figure size 600x400 with 1 Axes>"
      ]
     },
     "metadata": {},
     "output_type": "display_data"
    }
   ],
   "source": [
    "learn.fit(epochs)"
   ]
  },
  {
   "cell_type": "markdown",
   "id": "ca792242-f752-41fd-a377-a737a6db36a2",
   "metadata": {},
   "source": [
    "We've hit **`91.6%`** with the simple addition of one line of code in `get_model()` which allows us to go from 8 to 128 filters. But we've also reached an inflection point i.e. adding additional width and depth will start becoming an exercise with diminishing returns."
   ]
  },
  {
   "cell_type": "markdown",
   "id": "21d56d26-d704-4be3-b7b9-b93998976ae6",
   "metadata": {},
   "source": [
    "## **Skip Connections - The Core of ResNets**"
   ]
  },
  {
   "cell_type": "markdown",
   "id": "7bef5814-9859-464b-9a37-5e4e72714c58",
   "metadata": {},
   "source": [
    "ResNets (Residual Networks) were introduced by Kaiming He et al. in 2015, in the article [\"Deep Residual Learning for Image Recognition\"](https://arxiv.org/abs/1512.03385). \n",
    "\n",
    "![title](imgs/kaiming.png)\n",
    "\n",
    "The abstract states:\n",
    "\n",
    "> Deeper neural networks are more difficult to train. We present a residual learning framework to ease the training of networks that are substantially deeper than those used previously. We explicitly reformulate the layers as learning residual functions with reference to the layer inputs, instead of learning unreferenced functions. We provide comprehensive empirical evidence showing that these residual networks are easier to optimize, and can gain accuracy from considerably increased depth. On the ImageNet dataset we evaluate residual nets with a depth of up to 152 layers---8x deeper than VGG nets but still having lower complexity. An ensemble of these residual nets achieves 3.57% error on the ImageNet test set. This result won the 1st place on the ILSVRC 2015 classification task. We also present analysis on CIFAR-10 with 100 and 1000 layers.\n",
    "\n",
    "Experiments showed that training deeper (56 layers vs. 20 layers) networks, began resulting in higher errors. The main insight was that _skip / shortcut / residual connections_ allowed deeper networks to train successfully - while retaining the training dynamics of much shallower networks. "
   ]
  },
  {
   "cell_type": "code",
   "execution_count": 13,
   "id": "969bb204-1dac-4c3d-9124-19fc5974199a",
   "metadata": {},
   "outputs": [],
   "source": [
    "# Inner convolutional block\n",
    "def _conv_block(ni, nf, stride, act=act_gr, norm=None, ks=3):\n",
    "    # Change to stride 1\n",
    "    # NOTE that this block is different compared to the lecture.\n",
    "    # the init method, which initialized the batchnorm weights to 0. lead to worsening performance.\n",
    "    return nn.Sequential(conv(ni, nf, stride=1, act=act, norm=norm, ks=ks),\n",
    "                         conv(nf, nf, stride=stride, act=None, norm=norm, ks=ks))\n",
    "\n",
    "# NOTE that this block is different from the lecture\n",
    "class ResBlock(nn.Module):\n",
    "    def __init__(self, ni, nf, stride=1, ks=3, act=act_gr, norm=None):\n",
    "        super().__init__()\n",
    "        self.convs = _conv_block(ni, nf, stride, act=act, ks=ks, norm=norm) # Convolutions\n",
    "        # nothing for condition, otherwise convolution with ni, nf and stride=1\n",
    "        # This changes the number of filters so that the shapes match.\n",
    "        self.idconv = fc.noop if ni==nf else conv(ni, nf, ks=1, stride=1, act=None) \n",
    "        # Condition in case there is a stride of 2, then pool the mean.\n",
    "        self.pool = fc.noop if stride==1 else nn.AvgPool2d(2, ceil_mode=True) # test\n",
    "        self.act = act()\n",
    "    # The activation is applied to the result of the ResNet block.\n",
    "    # This is one approach to handling the block.\n",
    "    def forward(self, x):\n",
    "        return self.act(self.convs(x) + self.idconv(self.pool(x)))"
   ]
  },
  {
   "cell_type": "code",
   "execution_count": 14,
   "id": "230952df-730f-494f-aa46-edb79ad4bf4b",
   "metadata": {},
   "outputs": [],
   "source": [
    "def get_model(act=nn.ReLU, nfs=(8, 16, 32, 64, 128, 256), norm=nn.BatchNorm2d):\n",
    "    layers = [ResBlock(1, 8, stride=1, act=act, norm=norm)]\n",
    "    layers += [ResBlock(nfs[i], nfs[i+1], act=act, norm=norm, stride=2) for i in range(len(nfs)-1)]\n",
    "    # Previous convs in get_model() went from 128 channels to 10 channels, followed by flatten.\n",
    "    # However, the convs worked with a 1x1 input. Here, we flatten first and then use a linear layer.\n",
    "    # Conv on 1x1 input is equal to a linear layer.\n",
    "    layers += [nn.Flatten(), nn.Linear(nfs[-1], 10, bias=False), nn.BatchNorm1d(10)]\n",
    "    return nn.Sequential(*layers).to(def_device)"
   ]
  },
  {
   "cell_type": "markdown",
   "id": "f447d483-0935-4131-8cfb-6e6e5b7ea889",
   "metadata": {},
   "source": [
    "Jeremy also mentioned that an important insight to convolutions is that a `conv()` on a 1x1 input is equal to a Linear layer. Based on my understanding, a convolution on a 1x1 input would reduce the kernel to the same size, effectively converting the matmul operation to much reduced form.\n",
    "\n",
    "The detailed explanation by ChatGPT is as follows:\n",
    "\n",
    "> A convolution on a 1×1 input tensor is equivalent to a linear (fully connected) layer because of the way the convolution operation works in this specific case:\n",
    "\n",
    "> Kernel Size Matches Input Size: When performing a convolution with a 1×1 input, the convolutional kernel also has dimensions 1×1. This means the kernel is applied to a single pixel at a time, and no spatial information is captured since there are no neighboring pixels.\n",
    "\n",
    "> Element-wise Multiplication and Sum: The convolution operation involves element-wise multiplication between the input and the kernel, followed by a summation of these products. Since both the input and kernel are 1×1, this operation reduces to simply multiplying the single input value by the kernel weight and potentially adding a bias term.\n",
    "\n",
    "> No Spatial Influence: In larger inputs, convolutional layers leverage spatial relationships by sliding the kernel over the input and combining information from neighboring pixels. However, with a 1×1 input, there are no neighboring pixels, so no spatial relationships are considered. This makes the operation functionally identical to a linear transformation, where the input is multiplied by a weight and added to a bias.\n",
    "\n",
    "> Equivalence to Linear Layer: The process described above is exactly what a linear (fully connected) layer does—each input is multiplied by a weight and summed with a bias. Therefore, a convolution on a 1×1 input is mathematically the same as applying a linear layer to that input.\n",
    "\n",
    ">In summary, a convolution on a 1×1 input is equivalent to a linear layer because it reduces to a simple weighted sum of the input, just like a linear transformation."
   ]
  },
  {
   "cell_type": "code",
   "execution_count": 15,
   "id": "5d992c98-09f4-4f13-865b-3717e53f9bca",
   "metadata": {},
   "outputs": [],
   "source": [
    "# This function allows us to print out the shapes of our model architecture.\n",
    "def _print_shape(hook, mod, inp, outp): print(type(mod).__name__, inp[0].shape, outp.shape)"
   ]
  },
  {
   "cell_type": "code",
   "execution_count": 16,
   "id": "b7f8eba0-1987-4057-b911-d6bc4cb2348b",
   "metadata": {},
   "outputs": [
    {
     "name": "stdout",
     "output_type": "stream",
     "text": [
      "ResBlock torch.Size([2048, 1, 28, 28]) torch.Size([2048, 8, 28, 28])\n",
      "ResBlock torch.Size([2048, 8, 28, 28]) torch.Size([2048, 16, 14, 14])\n",
      "ResBlock torch.Size([2048, 16, 14, 14]) torch.Size([2048, 32, 7, 7])\n",
      "ResBlock torch.Size([2048, 32, 7, 7]) torch.Size([2048, 64, 4, 4])\n",
      "ResBlock torch.Size([2048, 64, 4, 4]) torch.Size([2048, 128, 2, 2])\n",
      "ResBlock torch.Size([2048, 128, 2, 2]) torch.Size([2048, 256, 1, 1])\n",
      "Flatten torch.Size([2048, 256, 1, 1]) torch.Size([2048, 256])\n",
      "Linear torch.Size([2048, 256]) torch.Size([2048, 10])\n",
      "BatchNorm1d torch.Size([2048, 10]) torch.Size([2048, 10])\n"
     ]
    }
   ],
   "source": [
    "model = get_model()\n",
    "learn = TrainLearner(model, dls, F.cross_entropy, cbs=[DeviceCB(), SingleBatchCB()])\n",
    "# Using the Hooks context manager.\n",
    "with Hooks(model, _print_shape) as hooks: learn.fit(1, train=False)"
   ]
  },
  {
   "cell_type": "markdown",
   "id": "8ea1cf78-f682-4924-a893-f15cd026fcc2",
   "metadata": {},
   "source": [
    "`NOTE` There might be an issue with the `Dataloader/ResBlock/fc.patch` or the custom hooks class since the batch number is 2x the original."
   ]
  },
  {
   "cell_type": "markdown",
   "id": "ea91ff4f-2ac8-45d5-a2f5-e099c32d0c46",
   "metadata": {},
   "source": [
    "`@fc.patch` has moved to the top of the NB!"
   ]
  },
  {
   "cell_type": "code",
   "execution_count": 17,
   "id": "06e44c8f-8710-493e-82eb-59dbd9ba6834",
   "metadata": {},
   "outputs": [
    {
     "name": "stdout",
     "output_type": "stream",
     "text": [
      "Total params:  1228908\n"
     ]
    },
    {
     "data": {
      "text/markdown": [
       "|Module|Input|Output|Num Params|\n",
       "|--|--|--|--|\n",
       "|ResBlock|(2048, 1, 28, 28)|(2048, 8, 28, 28)|712|\n",
       "|ResBlock|(2048, 8, 28, 28)|(2048, 16, 14, 14)|3696|\n",
       "|ResBlock|(2048, 16, 14, 14)|(2048, 32, 7, 7)|14560|\n",
       "|ResBlock|(2048, 32, 7, 7)|(2048, 64, 4, 4)|57792|\n",
       "|ResBlock|(2048, 64, 4, 4)|(2048, 128, 2, 2)|230272|\n",
       "|ResBlock|(2048, 128, 2, 2)|(2048, 256, 1, 1)|919296|\n",
       "|Flatten|(2048, 256, 1, 1)|(2048, 256)|0|\n",
       "|Linear|(2048, 256)|(2048, 10)|2560|\n",
       "|BatchNorm1d|(2048, 10)|(2048, 10)|20|\n"
      ],
      "text/plain": [
       "<IPython.core.display.Markdown object>"
      ]
     },
     "execution_count": 17,
     "metadata": {},
     "output_type": "execute_result"
    }
   ],
   "source": [
    "TrainLearner(get_model(), dls, F.cross_entropy, cbs=DeviceCB()).summary()"
   ]
  },
  {
   "cell_type": "markdown",
   "id": "abc89908-1cde-4677-a42f-9a4332281940",
   "metadata": {},
   "source": [
    "`NOTE` - the calculation is correct at the model level, the issue lies with the interaction between Hooks and dataloaders."
   ]
  },
  {
   "cell_type": "code",
   "execution_count": 20,
   "id": "a4403682-d14d-4510-9aa0-3dbe9b30b0ea",
   "metadata": {},
   "outputs": [
    {
     "data": {
      "image/png": "[encoded data removed]",
      "text/plain": [
       "<Figure size 640x480 with 1 Axes>"
      ]
     },
     "metadata": {},
     "output_type": "display_data"
    }
   ],
   "source": [
    "# Using lr_find() for the new ResNet model\n",
    "model = get_model(act_gr, norm=nn.BatchNorm2d).apply(iw)\n",
    "MomentumLearner(model, dls, F.cross_entropy, cbs=DeviceCB()).lr_find()"
   ]
  },
  {
   "cell_type": "code",
   "execution_count": 23,
   "id": "dbc600b1-0629-489a-aa72-d7bb0c0440da",
   "metadata": {},
   "outputs": [],
   "source": [
    "lr = 2e-2\n",
    "tmax = epochs * len(dls.train)\n",
    "sched = partial(lr_scheduler.OneCycleLR, max_lr=lr, total_steps=tmax)\n",
    "xtra = [BatchSchedCB(sched)]\n",
    "model = get_model(act_gr, norm=nn.BatchNorm2d).apply(iw)\n",
    "learn = TrainLearner(model, dls, F.cross_entropy, lr=lr, cbs=cbs+xtra, opt_func=optim.AdamW)"
   ]
  },
  {
   "cell_type": "code",
   "execution_count": 25,
   "id": "67850c71-0589-40e3-92fe-e8870319e000",
   "metadata": {},
   "outputs": [
    {
     "data": {
      "text/html": [
       "\n",
       "<style>\n",
       "    /* Turns off some styling */\n",
       "    progress {\n",
       "        /* gets rid of default border in Firefox and Opera. */\n",
       "        border: none;\n",
       "        /* Needs to be in here for Safari polyfill so background images work as expected. */\n",
       "        background-size: auto;\n",
       "    }\n",
       "    progress:not([value]), progress:not([value])::-webkit-progress-bar {\n",
       "        background: repeating-linear-gradient(45deg, #7e7e7e, #7e7e7e 10px, #5c5c5c 10px, #5c5c5c 20px);\n",
       "    }\n",
       "    .progress-bar-interrupted, .progress-bar-interrupted::-webkit-progress-bar {\n",
       "        background: #F44336;\n",
       "    }\n",
       "</style>\n"
      ],
      "text/plain": [
       "<IPython.core.display.HTML object>"
      ]
     },
     "metadata": {},
     "output_type": "display_data"
    },
    {
     "data": {
      "text/html": [
       "<table border=\"1\" class=\"dataframe\">\n",
       "  <thead>\n",
       "    <tr style=\"text-align: left;\">\n",
       "      <th>accuracy</th>\n",
       "      <th>loss</th>\n",
       "      <th>epoch</th>\n",
       "      <th>train</th>\n",
       "    </tr>\n",
       "  </thead>\n",
       "  <tbody>\n",
       "    <tr>\n",
       "      <td>0.812</td>\n",
       "      <td>0.721</td>\n",
       "      <td>0</td>\n",
       "      <td>train</td>\n",
       "    </tr>\n",
       "    <tr>\n",
       "      <td>0.866</td>\n",
       "      <td>0.430</td>\n",
       "      <td>0</td>\n",
       "      <td>eval</td>\n",
       "    </tr>\n",
       "    <tr>\n",
       "      <td>0.892</td>\n",
       "      <td>0.352</td>\n",
       "      <td>1</td>\n",
       "      <td>train</td>\n",
       "    </tr>\n",
       "    <tr>\n",
       "      <td>0.877</td>\n",
       "      <td>0.356</td>\n",
       "      <td>1</td>\n",
       "      <td>eval</td>\n",
       "    </tr>\n",
       "    <tr>\n",
       "      <td>0.916</td>\n",
       "      <td>0.250</td>\n",
       "      <td>2</td>\n",
       "      <td>train</td>\n",
       "    </tr>\n",
       "    <tr>\n",
       "      <td>0.905</td>\n",
       "      <td>0.277</td>\n",
       "      <td>2</td>\n",
       "      <td>eval</td>\n",
       "    </tr>\n",
       "    <tr>\n",
       "      <td>0.935</td>\n",
       "      <td>0.192</td>\n",
       "      <td>3</td>\n",
       "      <td>train</td>\n",
       "    </tr>\n",
       "    <tr>\n",
       "      <td>0.918</td>\n",
       "      <td>0.239</td>\n",
       "      <td>3</td>\n",
       "      <td>eval</td>\n",
       "    </tr>\n",
       "    <tr>\n",
       "      <td>0.956</td>\n",
       "      <td>0.141</td>\n",
       "      <td>4</td>\n",
       "      <td>train</td>\n",
       "    </tr>\n",
       "    <tr>\n",
       "      <td>0.928</td>\n",
       "      <td>0.209</td>\n",
       "      <td>4</td>\n",
       "      <td>eval</td>\n",
       "    </tr>\n",
       "  </tbody>\n",
       "</table>"
      ],
      "text/plain": [
       "<IPython.core.display.HTML object>"
      ]
     },
     "metadata": {},
     "output_type": "display_data"
    },
    {
     "data": {
      "image/png": "[encoded data removed]",
      "text/plain": [
       "<Figure size 600x400 with 1 Axes>"
      ]
     },
     "metadata": {},
     "output_type": "display_data"
    }
   ],
   "source": [
    "learn.fit(epochs)"
   ]
  },
  {
   "cell_type": "markdown",
   "id": "8a20bbb9-aa50-4a2c-b54a-4f8d8b3f2f17",
   "metadata": {},
   "source": [
    "The ResNet model has taken our accuracy to `92.8%`in just 5 epochs!!\n",
    "\n",
    "Ross Wightman's `timm` library contains a host of ResNet models which we can experiment with. The source code of the library defines the model architectures in a very convenient and easy to read manner.\n",
    "\n",
    "```\n",
    "resnet18:  block=BasicBlock, layers=[2, 2, 2, 2]\n",
    "resnet18d: block=BasicBlock, layers=[2, 2, 2, 2], stem_width=32, stem_type='deep', avg_down=True\n",
    "resnet10t: block=BasicBlock, layers=[1, 1, 1, 1], stem_width=32, stem_type='deep_tiered', avg_down=True\n",
    "```"
   ]
  },
  {
   "cell_type": "code",
   "execution_count": 26,
   "id": "95bb19e4-50b3-4c80-a849-8b5bf4d15af4",
   "metadata": {},
   "outputs": [],
   "source": [
    "import timm\n",
    "from timm.models.resnet import BasicBlock, ResNet, Bottleneck"
   ]
  },
  {
   "cell_type": "code",
   "execution_count": 27,
   "id": "191da929-23f4-4987-bc03-944bd4bcfc7b",
   "metadata": {},
   "outputs": [
    {
     "data": {
      "text/plain": [
       "'cspresnet50 -- cspresnet50d -- cspresnet50w -- eca_resnet33ts -- ecaresnet26t -- ecaresnet50d -- ecaresnet50d_pruned -- ecaresnet50t -- ecaresnet101d -- ecaresnet101d_pruned -- ecaresnet200d -- ecaresnet269d -- ecaresnetlight -- gcresnet33ts -- gcresnet50t -- inception_resnet_v2 -- lambda_resnet26rpt_256 -- lambda_resnet26t -- lambda_resnet50ts -- legacy_seresnet18 -- legacy_seresnet34 -- legacy_seresnet50 -- legacy_seresnet101 -- legacy_seresnet152 -- nf_ecaresnet26 -- nf_ecaresnet50 -- nf_ecaresnet101 -- nf_resnet26 -- nf_resnet50 -- nf_resnet101 -- nf_seresnet26 -- nf_seresnet50 -- nf_seresnet101 -- resnet10t -- resnet14t -- resnet18 -- resnet18d -- resnet26 -- resnet26d -- resnet26t -- resnet32ts -- resnet33ts -- resnet34 -- resnet34d -- resnet50 -- resnet50_clip -- resnet50_clip_gap -- resnet50_gn -- resnet50_mlp -- resnet50c -- resnet50d -- resnet50s -- resnet50t -- resnet50x4_clip -- resnet50x4_clip_gap -- resnet50x16_clip -- resnet50x16_clip_gap -- resnet50x64_clip -- resnet50x64_clip_gap -- resnet51q -- resnet61q -- resnet101 -- resnet101_clip -- resnet101_clip_gap -- resnet101c -- resnet101d -- resnet101s -- resnet152 -- resnet152c -- resnet152d -- resnet152s -- resnet200 -- resnet200d -- resnetaa34d -- resnetaa50 -- resnetaa50d -- resnetaa101d -- resnetblur18 -- resnetblur50 -- resnetblur50d -- resnetblur101d -- resnetrs50 -- resnetrs101 -- resnetrs152 -- resnetrs200 -- resnetrs270 -- resnetrs350 -- resnetrs420 -- resnetv2_50 -- resnetv2_50d -- resnetv2_50d_evos -- resnetv2_50d_frn -- resnetv2_50d_gn -- resnetv2_50t -- resnetv2_50x1_bit -- resnetv2_50x3_bit -- resnetv2_101 -- resnetv2_101d -- resnetv2_101x1_bit -- resnetv2_101x3_bit -- resnetv2_152 -- resnetv2_152d -- resnetv2_152x2_bit -- resnetv2_152x4_bit -- seresnet18 -- seresnet33ts -- seresnet34 -- seresnet50 -- seresnet50t -- seresnet101 -- seresnet152 -- seresnet152d -- seresnet200d -- seresnet269d -- seresnetaa50d -- skresnet18 -- skresnet34 -- skresnet50 -- skresnet50d -- tresnet_l -- tresnet_m -- tresnet_v2_l -- tresnet_xl -- vit_base_resnet26d_224 -- vit_base_resnet50d_224 -- vit_small_resnet26d_224 -- vit_small_resnet50d_s16_224 -- wide_resnet50_2 -- wide_resnet101_2'"
      ]
     },
     "execution_count": 27,
     "metadata": {},
     "output_type": "execute_result"
    }
   ],
   "source": [
    "' -- '.join(timm.list_models('*resnet*'))"
   ]
  },
  {
   "cell_type": "code",
   "execution_count": 28,
   "id": "276bc8ef-4e15-41d6-b5cd-9470b5832a28",
   "metadata": {},
   "outputs": [],
   "source": [
    "# Jeremy experimented with a number of resnets in timm and found this setup had comparable results to our\n",
    "# hand built resnet\n",
    "model = timm.create_model('resnet18d', in_chans=1, num_classes=10)"
   ]
  },
  {
   "cell_type": "code",
   "execution_count": 30,
   "id": "3ad6461f-9383-406c-a2d4-5dbd1e6004e6",
   "metadata": {},
   "outputs": [],
   "source": [
    "lr = 2e-2\n",
    "tmax = epochs * len(dls.train)\n",
    "sched = partial(lr_scheduler.OneCycleLR, max_lr=lr, total_steps=tmax)\n",
    "xtra = [BatchSchedCB(sched)]\n",
    "learn = TrainLearner(model, dls, F.cross_entropy, lr=lr, cbs=cbs+xtra, opt_func=optim.AdamW)"
   ]
  },
  {
   "cell_type": "code",
   "execution_count": 31,
   "id": "8263dbd4-63f4-48f4-b988-cf467acd0e0a",
   "metadata": {},
   "outputs": [
    {
     "data": {
      "text/html": [
       "\n",
       "<style>\n",
       "    /* Turns off some styling */\n",
       "    progress {\n",
       "        /* gets rid of default border in Firefox and Opera. */\n",
       "        border: none;\n",
       "        /* Needs to be in here for Safari polyfill so background images work as expected. */\n",
       "        background-size: auto;\n",
       "    }\n",
       "    progress:not([value]), progress:not([value])::-webkit-progress-bar {\n",
       "        background: repeating-linear-gradient(45deg, #7e7e7e, #7e7e7e 10px, #5c5c5c 10px, #5c5c5c 20px);\n",
       "    }\n",
       "    .progress-bar-interrupted, .progress-bar-interrupted::-webkit-progress-bar {\n",
       "        background: #F44336;\n",
       "    }\n",
       "</style>\n"
      ],
      "text/plain": [
       "<IPython.core.display.HTML object>"
      ]
     },
     "metadata": {},
     "output_type": "display_data"
    },
    {
     "data": {
      "text/html": [
       "<table border=\"1\" class=\"dataframe\">\n",
       "  <thead>\n",
       "    <tr style=\"text-align: left;\">\n",
       "      <th>accuracy</th>\n",
       "      <th>loss</th>\n",
       "      <th>epoch</th>\n",
       "      <th>train</th>\n",
       "    </tr>\n",
       "  </thead>\n",
       "  <tbody>\n",
       "    <tr>\n",
       "      <td>0.775</td>\n",
       "      <td>0.642</td>\n",
       "      <td>0</td>\n",
       "      <td>train</td>\n",
       "    </tr>\n",
       "    <tr>\n",
       "      <td>0.768</td>\n",
       "      <td>0.792</td>\n",
       "      <td>0</td>\n",
       "      <td>eval</td>\n",
       "    </tr>\n",
       "    <tr>\n",
       "      <td>0.881</td>\n",
       "      <td>0.320</td>\n",
       "      <td>1</td>\n",
       "      <td>train</td>\n",
       "    </tr>\n",
       "    <tr>\n",
       "      <td>0.821</td>\n",
       "      <td>0.532</td>\n",
       "      <td>1</td>\n",
       "      <td>eval</td>\n",
       "    </tr>\n",
       "    <tr>\n",
       "      <td>0.910</td>\n",
       "      <td>0.241</td>\n",
       "      <td>2</td>\n",
       "      <td>train</td>\n",
       "    </tr>\n",
       "    <tr>\n",
       "      <td>0.905</td>\n",
       "      <td>0.267</td>\n",
       "      <td>2</td>\n",
       "      <td>eval</td>\n",
       "    </tr>\n",
       "    <tr>\n",
       "      <td>0.930</td>\n",
       "      <td>0.189</td>\n",
       "      <td>3</td>\n",
       "      <td>train</td>\n",
       "    </tr>\n",
       "    <tr>\n",
       "      <td>0.910</td>\n",
       "      <td>0.243</td>\n",
       "      <td>3</td>\n",
       "      <td>eval</td>\n",
       "    </tr>\n",
       "    <tr>\n",
       "      <td>0.949</td>\n",
       "      <td>0.140</td>\n",
       "      <td>4</td>\n",
       "      <td>train</td>\n",
       "    </tr>\n",
       "    <tr>\n",
       "      <td>0.924</td>\n",
       "      <td>0.211</td>\n",
       "      <td>4</td>\n",
       "      <td>eval</td>\n",
       "    </tr>\n",
       "  </tbody>\n",
       "</table>"
      ],
      "text/plain": [
       "<IPython.core.display.HTML object>"
      ]
     },
     "metadata": {},
     "output_type": "display_data"
    },
    {
     "data": {
      "image/png": "[encoded data removed]",
      "text/plain": [
       "<Figure size 600x400 with 1 Axes>"
      ]
     },
     "metadata": {},
     "output_type": "display_data"
    }
   ],
   "source": [
    "learn.fit(epochs)"
   ]
  },
  {
   "cell_type": "markdown",
   "id": "e25d6e95-691b-4287-83ac-7a86123aab9d",
   "metadata": {},
   "source": [
    "That gives us an accuracy of **`92.4%`**. What this proves is that our custom framework driven approach, which allows us to build simple, yet well thought out, networks can perform as well as or better than alot of predesigned PyTorch models.\n",
    "\n",
    "Common sense goes a long way!"
   ]
  },
  {
   "cell_type": "code",
   "execution_count": null,
   "id": "3b49cd72-6e46-4ed7-b36a-78299d8f076c",
   "metadata": {},
   "outputs": [],
   "source": []
  }
 ],
 "metadata": {
  "kernelspec": {
   "display_name": "Python 3 (ipykernel)",
   "language": "python",
   "name": "python3"
  },
  "language_info": {
   "codemirror_mode": {
    "name": "ipython",
    "version": 3
   },
   "file_extension": ".py",
   "mimetype": "text/x-python",
   "name": "python",
   "nbconvert_exporter": "python",
   "pygments_lexer": "ipython3",
   "version": "3.11.6"
  },
  "widgets": {
   "application/vnd.jupyter.widget-state+json": {
    "state": {},
    "version_major": 2,
    "version_minor": 0
   }
  }
 },
 "nbformat": 4,
 "nbformat_minor": 5
}
