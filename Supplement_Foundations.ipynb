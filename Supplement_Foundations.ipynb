{
 "cells": [
  {
   "cell_type": "markdown",
   "id": "7d15cf5d-d302-4e4f-8632-0e199a3595e9",
   "metadata": {},
   "source": [
    "# **A Revision of Some Fundamentals**"
   ]
  },
  {
   "cell_type": "code",
   "execution_count": 1,
   "id": "dfd5598a-4423-4d1b-a74d-8095b0dcf09c",
   "metadata": {},
   "outputs": [],
   "source": [
    "import torch\n",
    "import matplotlib.pyplot as plt\n",
    "import random"
   ]
  },
  {
   "cell_type": "markdown",
   "id": "b54d2ca0-5910-41c7-b665-e76ac4d26f88",
   "metadata": {},
   "source": [
    "## Callbacks"
   ]
  },
  {
   "cell_type": "markdown",
   "id": "682205b9-e183-4927-8479-0fe5cbfa5be7",
   "metadata": {},
   "source": [
    "### Callbacks as GUI Events"
   ]
  },
  {
   "cell_type": "code",
   "execution_count": 2,
   "id": "6dddbe19-fc22-43c1-9d9b-fc9ddf657943",
   "metadata": {},
   "outputs": [],
   "source": [
    "import ipywidgets as widgets"
   ]
  },
  {
   "cell_type": "code",
   "execution_count": 3,
   "id": "90e186f3-8304-4e59-b1f5-441512ddb4c8",
   "metadata": {},
   "outputs": [],
   "source": [
    "w = widgets.Button(description='Click here')\n",
    "output = widgets.Output()"
   ]
  },
  {
   "cell_type": "code",
   "execution_count": 4,
   "id": "a4b94511-de37-4db3-98db-20fb6fdb2de2",
   "metadata": {},
   "outputs": [
    {
     "data": {
      "application/vnd.jupyter.widget-view+json": {
       "model_id": "12b96fcda6174f229bc471e6c7d05c57",
       "version_major": 2,
       "version_minor": 0
      },
      "text/plain": [
       "Button(description='Click here', style=ButtonStyle())"
      ]
     },
     "execution_count": 4,
     "metadata": {},
     "output_type": "execute_result"
    }
   ],
   "source": [
    "w"
   ]
  },
  {
   "cell_type": "code",
   "execution_count": 5,
   "id": "b03581e4-ce7f-4c36-baef-191127237fd7",
   "metadata": {},
   "outputs": [],
   "source": [
    "# Adding clickable call back\n",
    "def f(o): \n",
    "    with output:\n",
    "        print(\"Yep, that's a click.\")\n",
    "\n",
    "w.on_click(f)"
   ]
  },
  {
   "cell_type": "code",
   "execution_count": 6,
   "id": "4494d000-06f3-462a-aed0-c204437d9d46",
   "metadata": {},
   "outputs": [
    {
     "data": {
      "application/vnd.jupyter.widget-view+json": {
       "model_id": "12b96fcda6174f229bc471e6c7d05c57",
       "version_major": 2,
       "version_minor": 0
      },
      "text/plain": [
       "Button(description='Click here', style=ButtonStyle())"
      ]
     },
     "metadata": {},
     "output_type": "display_data"
    },
    {
     "data": {
      "application/vnd.jupyter.widget-view+json": {
       "model_id": "0d3c1b94febc43578e067b679d243adc",
       "version_major": 2,
       "version_minor": 0
      },
      "text/plain": [
       "Output(outputs=({'name': 'stdout', 'text': \"Yep, that's a click.\\n\", 'output_type': 'stream'},))"
      ]
     },
     "metadata": {},
     "output_type": "display_data"
    }
   ],
   "source": [
    "display(w, output)"
   ]
  },
  {
   "cell_type": "markdown",
   "id": "50ee76ac-d176-4f5e-ac52-566728bb678f",
   "metadata": {},
   "source": [
    "## Creating Custom Callbacks"
   ]
  },
  {
   "cell_type": "code",
   "execution_count": 7,
   "id": "b459359c-2f3f-47fd-89e2-142e0cb9cfe0",
   "metadata": {},
   "outputs": [],
   "source": [
    "from time import sleep"
   ]
  },
  {
   "cell_type": "code",
   "execution_count": 10,
   "id": "44e5317a-c04d-4a9a-9f6b-2589fc64459b",
   "metadata": {},
   "outputs": [],
   "source": [
    "def slow_calculation():\n",
    "    res = 0\n",
    "    for i in range(5):\n",
    "        res += i*i\n",
    "        print(res)\n",
    "        sleep(2)\n",
    "    return res"
   ]
  },
  {
   "cell_type": "code",
   "execution_count": 11,
   "id": "c14e2e26-0380-4855-b616-1592c845f63a",
   "metadata": {},
   "outputs": [
    {
     "name": "stdout",
     "output_type": "stream",
     "text": [
      "0\n",
      "1\n",
      "5\n",
      "14\n",
      "30\n",
      "CPU times: user 18 ms, sys: 2.4 ms, total: 20.4 ms\n",
      "Wall time: 10 s\n"
     ]
    },
    {
     "data": {
      "text/plain": [
       "30"
      ]
     },
     "execution_count": 11,
     "metadata": {},
     "output_type": "execute_result"
    }
   ],
   "source": [
    "%time slow_calculation()"
   ]
  },
  {
   "cell_type": "code",
   "execution_count": 12,
   "id": "51caae38-174c-43d3-a541-ab36f7fdfaa0",
   "metadata": {},
   "outputs": [],
   "source": [
    "# Adding a callback with a print out after each cycle\n",
    "def slow_calculation(cb=None):\n",
    "    res = 0\n",
    "    for i in range(5):\n",
    "        res += i*i\n",
    "        print(res)\n",
    "        sleep(2)\n",
    "        if cb: cb(i)\n",
    "    return res"
   ]
  },
  {
   "cell_type": "code",
   "execution_count": 13,
   "id": "37a17a0a-c88d-4aaf-8600-56d93a97969f",
   "metadata": {},
   "outputs": [],
   "source": [
    "# Callback function\n",
    "def show_progress(epoch): print(f\"Epoch {epoch} completed!\")"
   ]
  },
  {
   "cell_type": "code",
   "execution_count": 15,
   "id": "45842c2e-3c39-4f02-974c-2946b659bc07",
   "metadata": {},
   "outputs": [
    {
     "name": "stdout",
     "output_type": "stream",
     "text": [
      "0\n",
      "Epoch 0 completed!\n",
      "1\n",
      "Epoch 1 completed!\n",
      "5\n",
      "Epoch 2 completed!\n",
      "14\n",
      "Epoch 3 completed!\n",
      "30\n",
      "Epoch 4 completed!\n",
      "CPU times: user 22.8 ms, sys: 0 ns, total: 22.8 ms\n",
      "Wall time: 10 s\n"
     ]
    },
    {
     "data": {
      "text/plain": [
       "30"
      ]
     },
     "execution_count": 15,
     "metadata": {},
     "output_type": "execute_result"
    }
   ],
   "source": [
    "%time slow_calculation(show_progress)"
   ]
  },
  {
   "cell_type": "markdown",
   "id": "aa59453a-8ae3-45af-9830-af4092577ef2",
   "metadata": {},
   "source": [
    "## Lambdas and Partials"
   ]
  },
  {
   "cell_type": "code",
   "execution_count": 16,
   "id": "19b253c4-f8f7-446d-8653-0d7d94078262",
   "metadata": {},
   "outputs": [
    {
     "name": "stdout",
     "output_type": "stream",
     "text": [
      "0\n",
      "Epoch 0 completed!\n",
      "1\n",
      "Epoch 1 completed!\n",
      "5\n",
      "Epoch 2 completed!\n",
      "14\n",
      "Epoch 3 completed!\n",
      "30\n",
      "Epoch 4 completed!\n"
     ]
    },
    {
     "data": {
      "text/plain": [
       "30"
      ]
     },
     "execution_count": 16,
     "metadata": {},
     "output_type": "execute_result"
    }
   ],
   "source": [
    "# Adding a lambda function for inplace function calls\n",
    "slow_calculation(lambda o: print(f\"Epoch {o} completed!\"))"
   ]
  },
  {
   "cell_type": "code",
   "execution_count": 17,
   "id": "96c34055-bead-4c08-adc9-874c76e895ef",
   "metadata": {},
   "outputs": [],
   "source": [
    "def show_progress(exclamation, epoch): print(f\"{exclamation}! Epoch {epoch} completed!\")"
   ]
  },
  {
   "cell_type": "code",
   "execution_count": 18,
   "id": "b80c1e3b-cc9a-42e8-bafc-f809d731dcb5",
   "metadata": {},
   "outputs": [
    {
     "name": "stdout",
     "output_type": "stream",
     "text": [
      "0\n",
      "Slowly!! Epoch 0 completed!\n",
      "1\n",
      "Slowly!! Epoch 1 completed!\n",
      "5\n",
      "Slowly!! Epoch 2 completed!\n",
      "14\n",
      "Slowly!! Epoch 3 completed!\n",
      "30\n",
      "Slowly!! Epoch 4 completed!\n"
     ]
    },
    {
     "data": {
      "text/plain": [
       "30"
      ]
     },
     "execution_count": 18,
     "metadata": {},
     "output_type": "execute_result"
    }
   ],
   "source": [
    "slow_calculation(lambda o: show_progress(\"Slowly!\", o))"
   ]
  },
  {
   "cell_type": "code",
   "execution_count": 22,
   "id": "eba7ab38-35a8-4b77-b027-f851e32f6fad",
   "metadata": {},
   "outputs": [],
   "source": [
    "# For similar results, we can use an inner function to achieve similar results\n",
    "def make_show_progress(exclamation):\n",
    "    def _inner(epoch): print(f\"{exclamation}! Epoch {epoch} completed!\")\n",
    "    return _inner"
   ]
  },
  {
   "cell_type": "code",
   "execution_count": 23,
   "id": "7229bda5-dd59-4fd4-9a40-084dd1c67cd4",
   "metadata": {},
   "outputs": [
    {
     "name": "stdout",
     "output_type": "stream",
     "text": [
      "0\n",
      "Inner function check!! Epoch 0 completed!\n",
      "1\n",
      "Inner function check!! Epoch 1 completed!\n",
      "5\n",
      "Inner function check!! Epoch 2 completed!\n",
      "14\n",
      "Inner function check!! Epoch 3 completed!\n",
      "30\n",
      "Inner function check!! Epoch 4 completed!\n"
     ]
    },
    {
     "data": {
      "text/plain": [
       "30"
      ]
     },
     "execution_count": 23,
     "metadata": {},
     "output_type": "execute_result"
    }
   ],
   "source": [
    "slow_calculation(make_show_progress(\"Inner function check!\"))"
   ]
  },
  {
   "cell_type": "code",
   "execution_count": 24,
   "id": "81485e21-7f87-4812-9a8c-21b7964b0711",
   "metadata": {},
   "outputs": [],
   "source": [
    "# Moving on to partials\n",
    "from functools import partial"
   ]
  },
  {
   "cell_type": "code",
   "execution_count": 26,
   "id": "016d7a78-973c-4c36-98bb-3147863c702e",
   "metadata": {},
   "outputs": [
    {
     "name": "stdout",
     "output_type": "stream",
     "text": [
      "0\n",
      "Testing Testing! Epoch 0 completed!\n",
      "1\n",
      "Testing Testing! Epoch 1 completed!\n",
      "5\n",
      "Testing Testing! Epoch 2 completed!\n",
      "14\n",
      "Testing Testing! Epoch 3 completed!\n",
      "30\n",
      "Testing Testing! Epoch 4 completed!\n"
     ]
    },
    {
     "data": {
      "text/plain": [
       "30"
      ]
     },
     "execution_count": 26,
     "metadata": {},
     "output_type": "execute_result"
    }
   ],
   "source": [
    "slow_calculation(partial(show_progress, \"Testing Testing\"))"
   ]
  },
  {
   "cell_type": "code",
   "execution_count": 28,
   "id": "5bbbcc10-2c52-48a1-a165-fda3fc190c9f",
   "metadata": {},
   "outputs": [
    {
     "data": {
      "text/plain": [
       "functools.partial(<function show_progress at 0x7fce2f775090>, 'Another partial')"
      ]
     },
     "execution_count": 28,
     "metadata": {},
     "output_type": "execute_result"
    }
   ],
   "source": [
    "f2 = partial(show_progress, \"Another partial\")\n",
    "f2"
   ]
  },
  {
   "cell_type": "markdown",
   "id": "f65a9f8e-37fc-463a-999b-945cc3325c04",
   "metadata": {},
   "source": [
    "## Callbacks as Callable Classes"
   ]
  },
  {
   "cell_type": "code",
   "execution_count": 56,
   "id": "ca381745-9409-4e57-aa58-0bab789f1181",
   "metadata": {},
   "outputs": [],
   "source": [
    "class ProgressShowingCallback():\n",
    "    def __init__(self, exclamation=\"Another test\"): self.exclamation = exclamation\n",
    "    def __call__(self, epoch): print(f\"{self.exclamation}! Epoch {epoch} completed!\")"
   ]
  },
  {
   "cell_type": "code",
   "execution_count": 57,
   "id": "d4daa2cc-c39c-4cd6-86ae-51b722aced3b",
   "metadata": {},
   "outputs": [],
   "source": [
    "cb = ProgressShowingCallback()"
   ]
  },
  {
   "cell_type": "code",
   "execution_count": 58,
   "id": "37aa3954-514c-4af5-9be3-0ad947cb2508",
   "metadata": {},
   "outputs": [
    {
     "name": "stdout",
     "output_type": "stream",
     "text": [
      "0\n",
      "Another test! Epoch 0 completed!\n",
      "1\n",
      "Another test! Epoch 1 completed!\n",
      "5\n",
      "Another test! Epoch 2 completed!\n",
      "14\n",
      "Another test! Epoch 3 completed!\n",
      "30\n",
      "Another test! Epoch 4 completed!\n"
     ]
    },
    {
     "data": {
      "text/plain": [
       "30"
      ]
     },
     "execution_count": 58,
     "metadata": {},
     "output_type": "execute_result"
    }
   ],
   "source": [
    "slow_calculation(cb)"
   ]
  },
  {
   "cell_type": "code",
   "execution_count": 60,
   "id": "5c964d9e-e071-4324-b6f4-4b759d7b14b8",
   "metadata": {},
   "outputs": [
    {
     "name": "stdout",
     "output_type": "stream",
     "text": [
      "0\n",
      "Override!! Epoch 0 completed!\n",
      "1\n",
      "Override!! Epoch 1 completed!\n",
      "5\n",
      "Override!! Epoch 2 completed!\n",
      "14\n",
      "Override!! Epoch 3 completed!\n",
      "30\n",
      "Override!! Epoch 4 completed!\n"
     ]
    },
    {
     "data": {
      "text/plain": [
       "30"
      ]
     },
     "execution_count": 60,
     "metadata": {},
     "output_type": "execute_result"
    }
   ],
   "source": [
    "cb = ProgressShowingCallback(\"Override!\")\n",
    "slow_calculation(cb)"
   ]
  },
  {
   "cell_type": "markdown",
   "id": "1a91f321-1d5d-41b6-8a58-5c8e8764496f",
   "metadata": {},
   "source": [
    "## Multiple Callback Functions `*args` and `**kwargs`"
   ]
  },
  {
   "cell_type": "code",
   "execution_count": 67,
   "id": "b37b8c37-7f9f-4b1a-96d2-328fcba48215",
   "metadata": {},
   "outputs": [],
   "source": [
    "# Function which returns positional and keyword args\n",
    "# We don't necessarily have to stick to the same arg and kwarg names, they can really be anything\n",
    "# as long as we are mindful of the usage of * and **\n",
    "def f(*args, **kwargs): print(f\"arguments(args): {args};\\nkeyword argments(kwargs): {kwargs}\")"
   ]
  },
  {
   "cell_type": "code",
   "execution_count": 68,
   "id": "eba6ead3-223c-4565-bb93-b71f323e2c6c",
   "metadata": {},
   "outputs": [
    {
     "name": "stdout",
     "output_type": "stream",
     "text": [
      "arguments(args): (33, 'bilal');\n",
      "keyword argments(kwargs): {'somearg': 'chaudhry'}\n"
     ]
    }
   ],
   "source": [
    "f(33, 'bilal', somearg=\"chaudhry\")"
   ]
  },
  {
   "cell_type": "code",
   "execution_count": 69,
   "id": "4810edae-b929-418a-973e-ef68970a69e1",
   "metadata": {},
   "outputs": [],
   "source": [
    "# Create a function with a combo of args and kwargs\n",
    "def g(a, b, c=22): print(a, b, c)"
   ]
  },
  {
   "cell_type": "code",
   "execution_count": 71,
   "id": "b10f4459-add9-43f5-b973-596dc42d1826",
   "metadata": {},
   "outputs": [
    {
     "name": "stdout",
     "output_type": "stream",
     "text": [
      "1 2 431\n"
     ]
    }
   ],
   "source": [
    "args = [1, 2]\n",
    "kwargs = {'c': 431}\n",
    "\n",
    "g(*args, **kwargs)"
   ]
  },
  {
   "cell_type": "code",
   "execution_count": 88,
   "id": "88fe075e-a577-420d-a12a-d2a54c9a5ffb",
   "metadata": {},
   "outputs": [],
   "source": [
    "# Modifying the slow_calculation() function with two additional methods to extend the\n",
    "# functionality of callback\n",
    "def slow_calculation(cb=None):\n",
    "    res = 0\n",
    "    for i in range(5):\n",
    "        if cb: cb.before_calc(i)\n",
    "        res += i*i\n",
    "        print(f\"Result: {res}\")\n",
    "        sleep(2)\n",
    "        if cb: cb.after_calc(i, val=res)\n",
    "    return res"
   ]
  },
  {
   "cell_type": "code",
   "execution_count": 89,
   "id": "e9ebb93e-d055-416f-a2fb-5370a20c28c7",
   "metadata": {},
   "outputs": [],
   "source": [
    "# Creating a class to handle the before and after callback calculation\n",
    "class PrintStepCallback():\n",
    "    def before_calc(self, *args, **kwargs): print(f\"Warming Up!\")\n",
    "    def after_calc (self, *args, **kwargs): print(f\"Step Completed!\\n\")"
   ]
  },
  {
   "cell_type": "code",
   "execution_count": 90,
   "id": "4dda270a-6756-4961-a2d5-e7b18e45283b",
   "metadata": {},
   "outputs": [
    {
     "name": "stdout",
     "output_type": "stream",
     "text": [
      "Warming Up!\n",
      "Result: 0\n",
      "Step Completed!\n",
      "\n",
      "Warming Up!\n",
      "Result: 1\n",
      "Step Completed!\n",
      "\n",
      "Warming Up!\n",
      "Result: 5\n",
      "Step Completed!\n",
      "\n",
      "Warming Up!\n",
      "Result: 14\n",
      "Step Completed!\n",
      "\n",
      "Warming Up!\n",
      "Result: 30\n",
      "Step Completed!\n",
      "\n"
     ]
    },
    {
     "data": {
      "text/plain": [
       "30"
      ]
     },
     "execution_count": 90,
     "metadata": {},
     "output_type": "execute_result"
    }
   ],
   "source": [
    "slow_calculation(PrintStepCallback())"
   ]
  },
  {
   "cell_type": "code",
   "execution_count": 93,
   "id": "8929dd63-df10-40a2-a35e-51619154cc51",
   "metadata": {},
   "outputs": [],
   "source": [
    "# Let's also utilize the argument in the after calc function\n",
    "class PrintStepCallback():\n",
    "    def __init__(self): pass\n",
    "    def before_calc(self, epoch, **kwargs): print(f\"Warming Up!: {epoch}\")\n",
    "    def after_calc(self, epoch, val, **kwargs): print(f\"Epoch {epoch} completed!.\\nRepeating output {val}\\n\")"
   ]
  },
  {
   "cell_type": "code",
   "execution_count": 94,
   "id": "035026ef-62a0-461f-bd6a-1bd4767327fd",
   "metadata": {},
   "outputs": [
    {
     "name": "stdout",
     "output_type": "stream",
     "text": [
      "Warming Up!: 0\n",
      "Result: 0\n",
      "Epoch 0 completed!.\n",
      "Repeating output 0\n",
      "\n",
      "Warming Up!: 1\n",
      "Result: 1\n",
      "Epoch 1 completed!.\n",
      "Repeating output 1\n",
      "\n",
      "Warming Up!: 2\n",
      "Result: 5\n",
      "Epoch 2 completed!.\n",
      "Repeating output 5\n",
      "\n",
      "Warming Up!: 3\n",
      "Result: 14\n",
      "Epoch 3 completed!.\n",
      "Repeating output 14\n",
      "\n",
      "Warming Up!: 4\n",
      "Result: 30\n",
      "Epoch 4 completed!.\n",
      "Repeating output 30\n",
      "\n"
     ]
    },
    {
     "data": {
      "text/plain": [
       "30"
      ]
     },
     "execution_count": 94,
     "metadata": {},
     "output_type": "execute_result"
    }
   ],
   "source": [
    "slow_calculation(PrintStepCallback())"
   ]
  },
  {
   "cell_type": "markdown",
   "id": "5168389c-bc45-45af-aef2-3d7519b84fe2",
   "metadata": {},
   "source": [
    "## Modifying Behaviour"
   ]
  },
  {
   "cell_type": "code",
   "execution_count": 100,
   "id": "151ec36b-bb23-40a7-9dd4-de9308e847da",
   "metadata": {},
   "outputs": [],
   "source": [
    "def slow_calculation(cb=None):\n",
    "    res = 0\n",
    "    for i in range(5):\n",
    "        if cb and hasattr(cb, 'before_calc'): cb.before_calc(i)\n",
    "        res += i*i \n",
    "        print(res)\n",
    "        sleep(2)\n",
    "        if cb and hasattr(cb, 'after_calc'): \n",
    "            if cb.after_calc(i, res):\n",
    "                print(\"Emergency stop!!\")\n",
    "                break\n",
    "    return"
   ]
  },
  {
   "cell_type": "code",
   "execution_count": 101,
   "id": "c80bf8cb-2701-4d8e-aeef-9839fb238ef2",
   "metadata": {},
   "outputs": [],
   "source": [
    "# Modifying the PrintAfterCallback class\n",
    "class PrintAfterCallback():\n",
    "    def after_calc(self, epoch, val):\n",
    "        print(f\"Epoch {epoch} completed! Repeated output {val}\")\n",
    "        if val > 10: return True"
   ]
  },
  {
   "cell_type": "code",
   "execution_count": 102,
   "id": "bd654764-5b11-417a-84c7-8c808f9b4350",
   "metadata": {},
   "outputs": [
    {
     "name": "stdout",
     "output_type": "stream",
     "text": [
      "0\n",
      "Epoch 0 completed! Repeated output 0\n",
      "1\n",
      "Epoch 1 completed! Repeated output 1\n",
      "5\n",
      "Epoch 2 completed! Repeated output 5\n",
      "14\n",
      "Epoch 3 completed! Repeated output 14\n",
      "Emergency stop!!\n"
     ]
    }
   ],
   "source": [
    "slow_calculation(PrintAfterCallback())"
   ]
  },
  {
   "cell_type": "code",
   "execution_count": 121,
   "id": "cc939b5f-f859-461b-ad3d-f56788966183",
   "metadata": {},
   "outputs": [],
   "source": [
    "# Why not chuck it all into a class\n",
    "class SlowCalculator():\n",
    "    def __init__(self, cb=None): self.cb, self.res = cb, 0\n",
    "\n",
    "    def callback(self, cb_name, *args):\n",
    "        if not self.cb: return\n",
    "        cb = getattr(self.cb, cb_name, None)\n",
    "        if cb: return cb(self, *args)\n",
    "\n",
    "    def calc(self):\n",
    "        for i in range(5):\n",
    "            self.callback('before_calc', i)\n",
    "            self.res += i*i\n",
    "            sleep(2)\n",
    "            if self.callback('after_calc', i):\n",
    "                print(\"Emergency Stop!\")\n",
    "                break"
   ]
  },
  {
   "cell_type": "code",
   "execution_count": 127,
   "id": "756d79ac-af8a-4d7c-a8d2-8f9d4b3b31cd",
   "metadata": {},
   "outputs": [],
   "source": [
    "# Modified callbacks\n",
    "class ModifyingCallback():\n",
    "    def after_calc(self, calc, epoch):\n",
    "        print(f\"Epoch {epoch} completed!\\nModified Output {calc.res}\\n\")\n",
    "        if calc.res > 10: return True\n",
    "        if calc.res < 3: calc.res = calc.res*2"
   ]
  },
  {
   "cell_type": "code",
   "execution_count": 128,
   "id": "156a286c-c726-41d9-9bf7-ab94894587b9",
   "metadata": {},
   "outputs": [],
   "source": [
    "calculator = SlowCalculator(ModifyingCallback())"
   ]
  },
  {
   "cell_type": "code",
   "execution_count": 129,
   "id": "5ebe6188-03dc-4720-84aa-573a7f7905dc",
   "metadata": {},
   "outputs": [
    {
     "name": "stdout",
     "output_type": "stream",
     "text": [
      "Epoch 0 completed!\n",
      "Modified Output 0\n",
      "\n",
      "Epoch 1 completed!\n",
      "Modified Output 1\n",
      "\n",
      "Epoch 2 completed!\n",
      "Modified Output 6\n",
      "\n",
      "Epoch 3 completed!\n",
      "Modified Output 15\n",
      "\n",
      "Emergency Stop!\n"
     ]
    }
   ],
   "source": [
    "calculator.calc()"
   ]
  },
  {
   "cell_type": "markdown",
   "id": "eb62b3dd-0b69-4ce4-9208-65ec48936fc9",
   "metadata": {},
   "source": [
    "## `__dunder__` Methods"
   ]
  },
  {
   "cell_type": "code",
   "execution_count": 130,
   "id": "171cf8e1-9c0f-4f97-b2ed-d518a7b118ea",
   "metadata": {},
   "outputs": [],
   "source": [
    "class SloppyAdder():\n",
    "    def __init__(self, o): self.o = o\n",
    "    def __add__(self, b): return SloppyAdder(self.o + b.o + 0.0121)\n",
    "    def __repr__(self): return str(f\"Output: {self.o}\")"
   ]
  },
  {
   "cell_type": "code",
   "execution_count": 131,
   "id": "7baa0c7c-7208-49f4-b408-25f350b8970f",
   "metadata": {},
   "outputs": [
    {
     "data": {
      "text/plain": [
       "Output: 25.0121"
      ]
     },
     "execution_count": 131,
     "metadata": {},
     "output_type": "execute_result"
    }
   ],
   "source": [
    "a = SloppyAdder(22)\n",
    "b = SloppyAdder(3)\n",
    "\n",
    "a+b"
   ]
  },
  {
   "cell_type": "code",
   "execution_count": 133,
   "id": "9ad62c66-176a-402d-8228-7a5ba01d9179",
   "metadata": {},
   "outputs": [],
   "source": [
    "class A: a, b  = 3, 4"
   ]
  },
  {
   "cell_type": "code",
   "execution_count": 134,
   "id": "bb780de8-6cdf-40c1-a6e4-2e56014b9ee4",
   "metadata": {},
   "outputs": [],
   "source": [
    "a = A()"
   ]
  },
  {
   "cell_type": "code",
   "execution_count": 140,
   "id": "d97e960e-2126-4a45-9bac-4503d431068b",
   "metadata": {},
   "outputs": [
    {
     "data": {
      "text/plain": [
       "4"
      ]
     },
     "execution_count": 140,
     "metadata": {},
     "output_type": "execute_result"
    }
   ],
   "source": [
    "# Fine grained and dynamic control\n",
    "getattr(a, 'b' if random.random() > 0.5 else 'a')"
   ]
  },
  {
   "cell_type": "code",
   "execution_count": 141,
   "id": "9a8fe1f6-586b-4b57-996c-990d54f6d964",
   "metadata": {},
   "outputs": [],
   "source": [
    "class B:\n",
    "    a, b = 1, 5\n",
    "    def __getattr__(self, k):\n",
    "        if k[0] == '_': raise AttributeError(k)\n",
    "        return f'Test case {k}'"
   ]
  },
  {
   "cell_type": "code",
   "execution_count": 142,
   "id": "bd634820-0b94-40d0-8b20-55531b185134",
   "metadata": {},
   "outputs": [],
   "source": [
    "b = B()"
   ]
  },
  {
   "cell_type": "code",
   "execution_count": 144,
   "id": "70495eaa-573c-4f4b-9aca-27b74a24fe65",
   "metadata": {},
   "outputs": [
    {
     "data": {
      "text/plain": [
       "(1, 5)"
      ]
     },
     "execution_count": 144,
     "metadata": {},
     "output_type": "execute_result"
    }
   ],
   "source": [
    "b.a, b.b"
   ]
  },
  {
   "cell_type": "code",
   "execution_count": 145,
   "id": "dc4975e2-0626-402d-b4c7-5355975f17b7",
   "metadata": {},
   "outputs": [
    {
     "data": {
      "text/plain": [
       "'Test case blah'"
      ]
     },
     "execution_count": 145,
     "metadata": {},
     "output_type": "execute_result"
    }
   ],
   "source": [
    "b.blah"
   ]
  },
  {
   "cell_type": "code",
   "execution_count": null,
   "id": "2c2b7ce7-7d5d-4de1-bb1c-8275cf8a58f2",
   "metadata": {},
   "outputs": [],
   "source": []
  }
 ],
 "metadata": {
  "kernelspec": {
   "display_name": "Python 3 (ipykernel)",
   "language": "python",
   "name": "python3"
  },
  "language_info": {
   "codemirror_mode": {
    "name": "ipython",
    "version": 3
   },
   "file_extension": ".py",
   "mimetype": "text/x-python",
   "name": "python",
   "nbconvert_exporter": "python",
   "pygments_lexer": "ipython3",
   "version": "3.10.14"
  },
  "widgets": {
   "application/vnd.jupyter.widget-state+json": {
    "state": {},
    "version_major": 2,
    "version_minor": 0
   }
  }
 },
 "nbformat": 4,
 "nbformat_minor": 5
}
