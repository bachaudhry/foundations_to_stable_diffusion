{
 "cells": [
  {
   "cell_type": "markdown",
   "id": "a7ae38e7-5ea6-4a4d-b2c0-189ebd0af2bd",
   "metadata": {},
   "source": [
    "# **Exploring HuggingFace Datasets**"
   ]
  },
  {
   "cell_type": "code",
   "execution_count": 1,
   "id": "d149271c-930f-4ffc-88ca-e1a8336ba0df",
   "metadata": {},
   "outputs": [],
   "source": [
    "from __future__ import annotations\n",
    "from operator import itemgetter\n",
    "from itertools import zip_longest\n",
    "import fastcore.all as fc\n",
    "import pickle, gzip, math, os, time, shutil, logging, os\n",
    "\n",
    "from pathlib import Path\n",
    "import numpy as np\n",
    "import matplotlib as mpl\n",
    "import matplotlib.pyplot as plt\n",
    "import torch\n",
    "from torch import tensor, nn, optim\n",
    "from torch.utils.data import DataLoader, default_collate\n",
    "import torch.nn.functional as F\n",
    "import torchvision.transforms.functional as TF\n",
    "from fastcore.test import  test_close\n",
    "from datasets import load_dataset, load_dataset_builder\n",
    "\n",
    "# Configs\n",
    "torch.manual_seed(1)\n",
    "mpl.rcParams['image.cmap'] = 'gray'\n",
    "torch.set_printoptions(precision=3, linewidth=125, sci_mode=False)\n",
    "np.set_printoptions(precision=3, linewidth=125)"
   ]
  },
  {
   "cell_type": "code",
   "execution_count": 2,
   "id": "649c7b76-f740-4792-8de7-31304e35f1a7",
   "metadata": {},
   "outputs": [],
   "source": [
    "logging.disable(logging.WARNING)"
   ]
  },
  {
   "cell_type": "markdown",
   "id": "4c60660a-24d4-4e13-bba7-9ee258d35fa8",
   "metadata": {},
   "source": [
    "## **Accessing HuggingFace Datasets**"
   ]
  },
  {
   "cell_type": "markdown",
   "id": "b944fc8a-6dc0-47cf-9aa9-c3f331a791d1",
   "metadata": {},
   "source": [
    "Alongside the hub and spaces, HuggingFace also has a very large repository of datasets which can be used for experimentation, practice or portfolio building."
   ]
  },
  {
   "cell_type": "code",
   "execution_count": 3,
   "id": "cbed4a0e-ee66-464a-9589-dfd1288d0053",
   "metadata": {},
   "outputs": [
    {
     "name": "stdout",
     "output_type": "stream",
     "text": [
      "Fashion-MNIST is a dataset of Zalando's article images—consisting of a training set of\n",
      "60,000 examples and a test set of 10,000 examples. Each example is a 28x28 grayscale image,\n",
      "associated with a label from 10 classes. We intend Fashion-MNIST to serve as a direct drop-in\n",
      "replacement for the original MNIST dataset for benchmarking machine learning algorithms.\n",
      "It shares the same image size and structure of training and testing splits.\n",
      "\n"
     ]
    }
   ],
   "source": [
    "name  = \"fashion_mnist\"\n",
    "ds_builder = load_dataset_builder(name)\n",
    "print(ds_builder.info.description) # This provides handy meta data for the dataset."
   ]
  },
  {
   "cell_type": "code",
   "execution_count": 4,
   "id": "ce22e321-5df1-4f00-83eb-b29952a42ea2",
   "metadata": {},
   "outputs": [
    {
     "data": {
      "text/plain": [
       "{'image': Image(mode=None, decode=True, id=None),\n",
       " 'label': ClassLabel(names=['T - shirt / top', 'Trouser', 'Pullover', 'Dress', 'Coat', 'Sandal', 'Shirt', 'Sneaker', 'Bag', 'Ankle boot'], id=None)}"
      ]
     },
     "execution_count": 4,
     "metadata": {},
     "output_type": "execute_result"
    }
   ],
   "source": [
    "# We can dive deeper into the dataset features\n",
    "ds_builder.info.features"
   ]
  },
  {
   "cell_type": "code",
   "execution_count": 5,
   "id": "ba6957d5-5cdf-45a8-a6d9-fba8b2e62336",
   "metadata": {},
   "outputs": [
    {
     "data": {
      "text/plain": [
       "{'train': SplitInfo(name='train', num_bytes=31296607, num_examples=60000, shard_lengths=None, dataset_name='fashion_mnist'),\n",
       " 'test': SplitInfo(name='test', num_bytes=5233810, num_examples=10000, shard_lengths=None, dataset_name='fashion_mnist')}"
      ]
     },
     "execution_count": 5,
     "metadata": {},
     "output_type": "execute_result"
    }
   ],
   "source": [
    "# We can also get the training and test splits\n",
    "ds_builder.info.splits"
   ]
  },
  {
   "cell_type": "code",
   "execution_count": 6,
   "id": "54a08ed0-11db-4d79-a457-06ab55c8fd80",
   "metadata": {},
   "outputs": [
    {
     "data": {
      "text/plain": [
       "DatasetDict({\n",
       "    train: Dataset({\n",
       "        features: ['image', 'label'],\n",
       "        num_rows: 60000\n",
       "    })\n",
       "    test: Dataset({\n",
       "        features: ['image', 'label'],\n",
       "        num_rows: 10000\n",
       "    })\n",
       "})"
      ]
     },
     "execution_count": 6,
     "metadata": {},
     "output_type": "execute_result"
    }
   ],
   "source": [
    "# Once we're sure about the dataset in question, we can download them directly into a local object.\n",
    "dsd = load_dataset(name)\n",
    "dsd"
   ]
  },
  {
   "cell_type": "markdown",
   "id": "0fa6bb3e-bc28-4eaf-8941-bb3162212b3c",
   "metadata": {},
   "source": [
    "The fact that we're getting everything organized and split by training and test sets, plus feature labels, is really cool. This functionality is similar to what was done in the previous notebook i.e. [06_mini_batch_training](https://github.com/bachaudhry/FastAI-22-23/blob/main/course_part_2/05_minibatch_training.ipynb).\n",
    "\n",
    "The key difference is that we're now working with dictionaries instead of tuples."
   ]
  },
  {
   "cell_type": "code",
   "execution_count": 7,
   "id": "21e373fa-d30a-455f-9e4e-021782d799f1",
   "metadata": {},
   "outputs": [
    {
     "data": {
      "text/plain": [
       "{'image': <PIL.PngImagePlugin.PngImageFile image mode=L size=28x28>,\n",
       " 'label': 9}"
      ]
     },
     "execution_count": 7,
     "metadata": {},
     "output_type": "execute_result"
    }
   ],
   "source": [
    "train, test = dsd['train'], dsd['test']\n",
    "train[0]"
   ]
  },
  {
   "cell_type": "code",
   "execution_count": 8,
   "id": "f0951546-ba4a-41ce-ace4-86a6d5169c86",
   "metadata": {},
   "outputs": [
    {
     "data": {
      "image/jpeg": "[encoded data removed]",
      "image/png": "[encoded data removed]",
      "text/plain": [
       "<PIL.PngImagePlugin.PngImageFile image mode=L size=28x28>"
      ]
     },
     "execution_count": 8,
     "metadata": {},
     "output_type": "execute_result"
    }
   ],
   "source": [
    "# Storing labels as variables to reduce repetition.\n",
    "#x, y = 'image', 'label'\n",
    "# This is much cleaner.\n",
    "x, y = ds_builder.info.features\n",
    "img = train[0][x]\n",
    "img"
   ]
  },
  {
   "cell_type": "code",
   "execution_count": 9,
   "id": "d6322dba-b4cc-48e7-b01a-4a1ee8d82e3d",
   "metadata": {},
   "outputs": [
    {
     "data": {
      "text/plain": [
       "[9, 0, 0, 3, 0]"
      ]
     },
     "execution_count": 9,
     "metadata": {},
     "output_type": "execute_result"
    }
   ],
   "source": [
    "# Grabbing the first 5 images and labels\n",
    "xb = train[:5][x]\n",
    "yb = train[:5][y]\n",
    "yb"
   ]
  },
  {
   "cell_type": "code",
   "execution_count": 10,
   "id": "dcb94ab9-33dc-4065-b5c3-5d4ea908a81c",
   "metadata": {},
   "outputs": [
    {
     "data": {
      "text/plain": [
       "ClassLabel(names=['T - shirt / top', 'Trouser', 'Pullover', 'Dress', 'Coat', 'Sandal', 'Shirt', 'Sneaker', 'Bag', 'Ankle boot'], id=None)"
      ]
     },
     "execution_count": 10,
     "metadata": {},
     "output_type": "execute_result"
    }
   ],
   "source": [
    "# Get class mappings from features\n",
    "feat = train.features[y]\n",
    "feat"
   ]
  },
  {
   "cell_type": "code",
   "execution_count": 11,
   "id": "37641a9f-5b16-45f9-a1ef-c96611c18aaf",
   "metadata": {},
   "outputs": [
    {
     "data": {
      "text/plain": [
       "(['Ankle boot',\n",
       "  'T - shirt / top',\n",
       "  'T - shirt / top',\n",
       "  'Dress',\n",
       "  'T - shirt / top'],\n",
       " [9, 0, 0, 3, 0])"
      ]
     },
     "execution_count": 11,
     "metadata": {},
     "output_type": "execute_result"
    }
   ],
   "source": [
    "# Direct class mappings on samples\n",
    "feat.int2str(yb), train['label'][:5]"
   ]
  },
  {
   "cell_type": "markdown",
   "id": "5c0d8fd6-cd03-4d17-8fb3-3030d458673f",
   "metadata": {},
   "source": [
    "Now that we have our datasets, moving onto model training should be pretty straight forward.\n",
    "\n",
    "Let's review the `collate function` from `05_minibatch_training` which will be slighlty different as compared to the previous NB. This approach allows us to reduce the amount of abstraction which was typically necessary for previous iterations dataloaders. So `collate_fn()` will:\n",
    "\n",
    "1. Loop through each batch.\n",
    "2. Convert items to Tensors.\n",
    "3. Stack them up.\n",
    "\n",
    "...all in one go."
   ]
  },
  {
   "cell_type": "code",
   "execution_count": 12,
   "id": "61d696b0-8810-4715-9a09-fe7d219d87d0",
   "metadata": {},
   "outputs": [],
   "source": [
    "def collate_fn(b):\n",
    "    # This will return a dictionary instead of a tuple in order to align with HuggingFace's approach.\n",
    "    return {x: torch.stack([TF.to_tensor(o[x]) for o in b]),\n",
    "            y: tensor([o[y] for o in b])} # This stacks on integers so we don't need to call torch.stack() explicitly"
   ]
  },
  {
   "cell_type": "code",
   "execution_count": 13,
   "id": "e744fd04-c9d5-46ad-948a-b9d08074752c",
   "metadata": {},
   "outputs": [
    {
     "data": {
      "text/plain": [
       "(torch.Size([16, 1, 28, 28]),\n",
       " tensor([9, 0, 0, 3, 0, 2, 7, 2, 5, 5, 0, 9, 5, 5, 7, 9]))"
      ]
     },
     "execution_count": 13,
     "metadata": {},
     "output_type": "execute_result"
    }
   ],
   "source": [
    "# Creating DataLoader\n",
    "dl = DataLoader(train, collate_fn=collate_fn, batch_size=16)\n",
    "b = next(iter(dl))\n",
    "# The batch has 16 images with each image being 28x28\n",
    "b[x].shape, b[y]"
   ]
  },
  {
   "cell_type": "markdown",
   "id": "b3d9363a-7fc1-4890-879d-fe7ec4d9db92",
   "metadata": {},
   "source": [
    "HuggingFace also allows us to move away from collation functions for simplified and flexible custom functionality. "
   ]
  },
  {
   "cell_type": "code",
   "execution_count": 14,
   "id": "4339f010-b778-446f-8197-09e76d62ae06",
   "metadata": {},
   "outputs": [],
   "source": [
    "def transforms(b):\n",
    "    # Within each batch, replace the PIL images with tensors\n",
    "    b[x] = [TF.to_tensor(o) for o in b[x]]\n",
    "    return b"
   ]
  },
  {
   "cell_type": "markdown",
   "id": "cf0e8021-2af7-48cf-8bef-ccb0a3c2e79a",
   "metadata": {},
   "source": [
    "HuggingFace's `with_transform()` applies the transformation on the fly when `__getitem__()` is called."
   ]
  },
  {
   "cell_type": "code",
   "execution_count": 15,
   "id": "a45491f6-3f22-4bd4-8429-8102fd8c4c6a",
   "metadata": {},
   "outputs": [
    {
     "data": {
      "text/plain": [
       "(torch.Size([16, 1, 28, 28]),\n",
       " tensor([9, 0, 0, 3, 0, 2, 7, 2, 5, 5, 0, 9, 5, 5, 7, 9]))"
      ]
     },
     "execution_count": 15,
     "metadata": {},
     "output_type": "execute_result"
    }
   ],
   "source": [
    "# Using with_transform() applies the custom transformation\n",
    "tds = train.with_transform(transforms)\n",
    "dl = DataLoader(tds, batch_size=16) # Now we don't need a collate function\n",
    "b = next(iter(dl))\n",
    "\n",
    "b[x].shape, b[y]"
   ]
  },
  {
   "cell_type": "markdown",
   "id": "96602d45-cf22-4203-b9e6-08faba2fa58e",
   "metadata": {},
   "source": [
    "However, as Jeremy pointed out, having `transforms()` return an object requires extra code that can be avoided. We can write a custom transformation function which runs inplace and can be stored as a callable object."
   ]
  },
  {
   "cell_type": "code",
   "execution_count": 16,
   "id": "87c2962e-4f80-4099-85eb-5dae087fe008",
   "metadata": {},
   "outputs": [],
   "source": [
    "# Creating transformation which can run inplace\n",
    "def _transformi(b): b[x] = [torch.flatten(TF.to_tensor(o)) for o in b[x]]"
   ]
  },
  {
   "cell_type": "code",
   "execution_count": 17,
   "id": "520fca97-7ccf-47eb-962a-0ecbc9dec9da",
   "metadata": {},
   "outputs": [],
   "source": [
    "# Now we can create an additional function which runs the inplace operation\n",
    "def inplace(f):\n",
    "    def _f(b):\n",
    "        f(b)\n",
    "        return b\n",
    "    return _f"
   ]
  },
  {
   "cell_type": "code",
   "execution_count": 18,
   "id": "0f22b0a8-0f98-4cff-b5e6-aa76170c054c",
   "metadata": {},
   "outputs": [],
   "source": [
    "# Calling the inplace transformation using our \"function generating function\"\n",
    "# func     = _func    (_func)\n",
    "transformi = inplace(_transformi)"
   ]
  },
  {
   "cell_type": "code",
   "execution_count": 19,
   "id": "ffe2c4b1-df75-411e-900d-be891fe46d11",
   "metadata": {},
   "outputs": [
    {
     "data": {
      "text/plain": [
       "(torch.Size([784]), 9)"
      ]
     },
     "execution_count": 19,
     "metadata": {},
     "output_type": "execute_result"
    }
   ],
   "source": [
    "# Rerunning with_transform() which returns the same result as the more verbose version above.\n",
    "r = train.with_transform(transformi)[0]\n",
    "r[x].shape, r[y]"
   ]
  },
  {
   "cell_type": "markdown",
   "id": "b79c8340-811b-479a-9d2c-766b125b084d",
   "metadata": {},
   "source": [
    "The fun part is that what we just implemented above i.e. using `transformi = inplace(_transformi)` where a function generates other functions, mirrors the functionality of Python **decorators**."
   ]
  },
  {
   "cell_type": "code",
   "execution_count": 20,
   "id": "da829295-84c4-4896-b955-bd0b3bc6ced4",
   "metadata": {},
   "outputs": [],
   "source": [
    "# Calling inplace as a decorator and redefining the transform function.\n",
    "@inplace\n",
    "def transformi(b): b[x] = [torch.flatten(TF.to_tensor(o)) for o in b[x]]"
   ]
  },
  {
   "cell_type": "code",
   "execution_count": 21,
   "id": "2850596b-5b90-459e-a08b-dc134752fabf",
   "metadata": {},
   "outputs": [
    {
     "data": {
      "text/plain": [
       "(torch.Size([784]), 9)"
      ]
     },
     "execution_count": 21,
     "metadata": {},
     "output_type": "execute_result"
    }
   ],
   "source": [
    "# Our results will be the same as before\n",
    "tdsf = train.with_transform(transformi)\n",
    "r = tdsf[0]\n",
    "\n",
    "r[x].shape, r[y]"
   ]
  },
  {
   "cell_type": "markdown",
   "id": "40be73a6-4902-421e-9671-717273eff55d",
   "metadata": {},
   "source": [
    "Moving on, we can also play around with the dynamic and highly flexible design of Python to add to the functionality of libraries like HuggingFace.\n",
    "\n",
    "The `itemgetter()` function is a great example of this concept at work."
   ]
  },
  {
   "cell_type": "code",
   "execution_count": 22,
   "id": "7e6edd54-4fa1-4acd-9943-23130a537b08",
   "metadata": {},
   "outputs": [
    {
     "data": {
      "text/plain": [
       "(1, 3)"
      ]
     },
     "execution_count": 22,
     "metadata": {},
     "output_type": "execute_result"
    }
   ],
   "source": [
    "d = dict(a=1, b=2, c=3)\n",
    "# Apply itemgetter to the dict above\n",
    "ig = itemgetter('a', 'c')\n",
    "ig(d)"
   ]
  },
  {
   "cell_type": "code",
   "execution_count": 23,
   "id": "95151f6f-f03e-41d8-ae3a-a725b0c33a56",
   "metadata": {},
   "outputs": [],
   "source": [
    "# This can be extended to classes as well.\n",
    "class D:\n",
    "    def __getitem__(self, k): return 1 if k=='a' else 2 if k=='b' else 3"
   ]
  },
  {
   "cell_type": "code",
   "execution_count": 24,
   "id": "819b112e-635f-47e4-891a-87edea2409ae",
   "metadata": {},
   "outputs": [
    {
     "data": {
      "text/plain": [
       "(1, 3)"
      ]
     },
     "execution_count": 24,
     "metadata": {},
     "output_type": "execute_result"
    }
   ],
   "source": [
    "d = D()\n",
    "ig(d)"
   ]
  },
  {
   "cell_type": "code",
   "execution_count": 25,
   "id": "96777c21-69b6-43b9-902a-84c15ea15874",
   "metadata": {},
   "outputs": [
    {
     "data": {
      "text/plain": [
       "['image', 'label']"
      ]
     },
     "execution_count": 25,
     "metadata": {},
     "output_type": "execute_result"
    }
   ],
   "source": [
    "list(tdsf.features)"
   ]
  },
  {
   "cell_type": "markdown",
   "id": "b17c87d0-1602-48b7-a0a5-66acc49ad29f",
   "metadata": {},
   "source": [
    "...continuing on the thread of flexibility, we can also experiment with Python's `default_collate()` function, which works exactly as the name implies."
   ]
  },
  {
   "cell_type": "code",
   "execution_count": 26,
   "id": "6c72a77e-053f-438a-95a1-44f64e655fba",
   "metadata": {},
   "outputs": [
    {
     "data": {
      "text/plain": [
       "({'a': [1], 'b': [2]}, {'a': [3], 'b': [4]})"
      ]
     },
     "execution_count": 26,
     "metadata": {},
     "output_type": "execute_result"
    }
   ],
   "source": [
    "batch = dict(a=[1], b=[2]), dict(a=[3], b=[4])\n",
    "batch"
   ]
  },
  {
   "cell_type": "markdown",
   "id": "1ef05350-70cd-43d5-b7b8-d64319fc477e",
   "metadata": {},
   "source": [
    "Let's see what the documentation for `default_collate` says."
   ]
  },
  {
   "cell_type": "code",
   "execution_count": 27,
   "id": "82628981-71e0-44b0-bdcf-3729111d7ac5",
   "metadata": {},
   "outputs": [
    {
     "data": {
      "text/plain": [
       "\u001b[0;31mSignature:\u001b[0m \u001b[0mdefault_collate\u001b[0m\u001b[0;34m(\u001b[0m\u001b[0mbatch\u001b[0m\u001b[0;34m)\u001b[0m\u001b[0;34m\u001b[0m\u001b[0;34m\u001b[0m\u001b[0m\n",
       "\u001b[0;31mDocstring:\u001b[0m\n",
       "Take in a batch of data and put the elements within the batch into a tensor with an additional outer dimension - batch size.\n",
       "\n",
       "The exact output type can be a :class:`torch.Tensor`, a `Sequence` of :class:`torch.Tensor`, a\n",
       "Collection of :class:`torch.Tensor`, or left unchanged, depending on the input type.\n",
       "This is used as the default function for collation when\n",
       "`batch_size` or `batch_sampler` is defined in :class:`~torch.utils.data.DataLoader`.\n",
       "\n",
       "Here is the general input type (based on the type of the element within the batch) to output type mapping:\n",
       "\n",
       "    * :class:`torch.Tensor` -> :class:`torch.Tensor` (with an added outer dimension batch size)\n",
       "    * NumPy Arrays -> :class:`torch.Tensor`\n",
       "    * `float` -> :class:`torch.Tensor`\n",
       "    * `int` -> :class:`torch.Tensor`\n",
       "    * `str` -> `str` (unchanged)\n",
       "    * `bytes` -> `bytes` (unchanged)\n",
       "    * `Mapping[K, V_i]` -> `Mapping[K, default_collate([V_1, V_2, ...])]`\n",
       "    * `NamedTuple[V1_i, V2_i, ...]` -> `NamedTuple[default_collate([V1_1, V1_2, ...]),\n",
       "      default_collate([V2_1, V2_2, ...]), ...]`\n",
       "    * `Sequence[V1_i, V2_i, ...]` -> `Sequence[default_collate([V1_1, V1_2, ...]),\n",
       "      default_collate([V2_1, V2_2, ...]), ...]`\n",
       "\n",
       "Args:\n",
       "    batch: a single batch to be collated\n",
       "\n",
       "Examples:\n",
       "    >>> # xdoctest: +SKIP\n",
       "    >>> # Example with a batch of `int`s:\n",
       "    >>> default_collate([0, 1, 2, 3])\n",
       "    tensor([0, 1, 2, 3])\n",
       "    >>> # Example with a batch of `str`s:\n",
       "    >>> default_collate(['a', 'b', 'c'])\n",
       "    ['a', 'b', 'c']\n",
       "    >>> # Example with `Map` inside the batch:\n",
       "    >>> default_collate([{'A': 0, 'B': 1}, {'A': 100, 'B': 100}])\n",
       "    {'A': tensor([  0, 100]), 'B': tensor([  1, 100])}\n",
       "    >>> # Example with `NamedTuple` inside the batch:\n",
       "    >>> Point = namedtuple('Point', ['x', 'y'])\n",
       "    >>> default_collate([Point(0, 0), Point(1, 1)])\n",
       "    Point(x=tensor([0, 1]), y=tensor([0, 1]))\n",
       "    >>> # Example with `Tuple` inside the batch:\n",
       "    >>> default_collate([(0, 1), (2, 3)])\n",
       "    [tensor([0, 2]), tensor([1, 3])]\n",
       "    >>> # Example with `List` inside the batch:\n",
       "    >>> default_collate([[0, 1], [2, 3]])\n",
       "    [tensor([0, 2]), tensor([1, 3])]\n",
       "    >>> # Two options to extend `default_collate` to handle specific type\n",
       "    >>> # Option 1: Write custom collate function and invoke `default_collate`\n",
       "    >>> def custom_collate(batch):\n",
       "    ...     elem = batch[0]\n",
       "    ...     if isinstance(elem, CustomType):  # Some custom condition\n",
       "    ...         return ...\n",
       "    ...     else:  # Fall back to `default_collate`\n",
       "    ...         return default_collate(batch)\n",
       "    >>> # Option 2: In-place modify `default_collate_fn_map`\n",
       "    >>> def collate_customtype_fn(batch, *, collate_fn_map=None):\n",
       "    ...     return ...\n",
       "    >>> default_collate_fn_map.update(CustoType, collate_customtype_fn)\n",
       "    >>> default_collate(batch)  # Handle `CustomType` automatically\n",
       "\u001b[0;31mFile:\u001b[0m      ~/miniforge3/lib/python3.10/site-packages/torch/utils/data/_utils/collate.py\n",
       "\u001b[0;31mType:\u001b[0m      function"
      ]
     },
     "metadata": {},
     "output_type": "display_data"
    }
   ],
   "source": [
    "default_collate?"
   ]
  },
  {
   "cell_type": "code",
   "execution_count": 28,
   "id": "04da340e-d3fd-41d5-89c5-dd8316f2aea4",
   "metadata": {},
   "outputs": [
    {
     "data": {
      "text/plain": [
       "{'a': [tensor([1, 3])], 'b': [tensor([2, 4])]}"
      ]
     },
     "execution_count": 28,
     "metadata": {},
     "output_type": "execute_result"
    }
   ],
   "source": [
    "default_collate(batch)"
   ]
  },
  {
   "cell_type": "markdown",
   "id": "afe5962d-9abc-4535-9f97-a03f77ca9f61",
   "metadata": {},
   "source": [
    "We can now create a function called `collate_dict()` which will take a dataset and create an `itemgetter()` function for the features i.e. images and labels. This function will then call `default_collate()` in place to collate these items for us."
   ]
  },
  {
   "cell_type": "code",
   "execution_count": 29,
   "id": "69ab23a7-f2d0-4948-80f8-dfdf514b5409",
   "metadata": {},
   "outputs": [],
   "source": [
    "def collate_dict(ds):\n",
    "    # Takes a dictionary and collates it into a tuple.\n",
    "    get = itemgetter(*ds.features)\n",
    "    def _f(b): return get(default_collate(b))\n",
    "    return _f"
   ]
  },
  {
   "cell_type": "code",
   "execution_count": 30,
   "id": "3e59c99b-fc57-4b4b-9c1b-267a43ed7f13",
   "metadata": {},
   "outputs": [
    {
     "data": {
      "text/plain": [
       "(torch.Size([4, 784]), tensor([9, 0, 0, 3]))"
      ]
     },
     "execution_count": 30,
     "metadata": {},
     "output_type": "execute_result"
    }
   ],
   "source": [
    "# Calling collate_dict() inside the collate_fn for the DataLoader\n",
    "dlf = DataLoader(tdsf, batch_size=4, collate_fn=collate_dict(tdsf))\n",
    "xb, yb = next(iter(dlf))\n",
    "xb.shape, yb"
   ]
  },
  {
   "cell_type": "markdown",
   "id": "7a1bc147-f802-46d1-adec-5340d47835a3",
   "metadata": {},
   "source": [
    "This sort of flexibility allows us to easily move between HuggingFace and PyTorch, where data objects are usually stored as dictionaries for the prior and tuples in the case of the latter.|"
   ]
  },
  {
   "cell_type": "markdown",
   "id": "4f60915e-0722-4314-a1e1-11f9a2c576c6",
   "metadata": {},
   "source": [
    "## **Visualizing the Dataset**"
   ]
  },
  {
   "cell_type": "code",
   "execution_count": 32,
   "id": "1f4a7517-80b3-43d2-8d1e-b24568e19362",
   "metadata": {},
   "outputs": [
    {
     "data": {
      "image/png": "[encoded data removed]",
      "text/plain": [
       "<Figure size 640x480 with 1 Axes>"
      ]
     },
     "metadata": {},
     "output_type": "display_data"
    }
   ],
   "source": [
    "# Plot an image from a batch\n",
    "b = next(iter(dl))\n",
    "xb = b['image']\n",
    "img = xb[0]\n",
    "plt.imshow(img[0]);"
   ]
  },
  {
   "cell_type": "markdown",
   "id": "1e4e306f-c944-4c29-a42d-0d10c8422b42",
   "metadata": {},
   "source": [
    "Let's create a function which handles our plotting, cleans up the axes and can take additional arguments based on different use-cases."
   ]
  },
  {
   "cell_type": "code",
   "execution_count": 33,
   "id": "caa5db6d-b64b-4079-b9c2-0a8a89645a20",
   "metadata": {},
   "outputs": [
    {
     "data": {
      "text/plain": [
       "\u001b[0;31mSignature:\u001b[0m \u001b[0mfc\u001b[0m\u001b[0;34m.\u001b[0m\u001b[0mdelegates\u001b[0m\u001b[0;34m(\u001b[0m\u001b[0mto\u001b[0m\u001b[0;34m:\u001b[0m \u001b[0mfunction\u001b[0m \u001b[0;34m=\u001b[0m \u001b[0;32mNone\u001b[0m\u001b[0;34m,\u001b[0m \u001b[0mkeep\u001b[0m\u001b[0;34m=\u001b[0m\u001b[0;32mFalse\u001b[0m\u001b[0;34m,\u001b[0m \u001b[0mbut\u001b[0m\u001b[0;34m:\u001b[0m \u001b[0mlist\u001b[0m \u001b[0;34m=\u001b[0m \u001b[0;32mNone\u001b[0m\u001b[0;34m)\u001b[0m\u001b[0;34m\u001b[0m\u001b[0;34m\u001b[0m\u001b[0m\n",
       "\u001b[0;31mSource:\u001b[0m   \n",
       "\u001b[0;32mdef\u001b[0m \u001b[0mdelegates\u001b[0m\u001b[0;34m(\u001b[0m\u001b[0mto\u001b[0m\u001b[0;34m:\u001b[0m\u001b[0mFunctionType\u001b[0m\u001b[0;34m=\u001b[0m\u001b[0;32mNone\u001b[0m\u001b[0;34m,\u001b[0m \u001b[0;31m# Delegatee\u001b[0m\u001b[0;34m\u001b[0m\n",
       "\u001b[0;34m\u001b[0m              \u001b[0mkeep\u001b[0m\u001b[0;34m=\u001b[0m\u001b[0;32mFalse\u001b[0m\u001b[0;34m,\u001b[0m \u001b[0;31m# Keep `kwargs` in decorated function?\u001b[0m\u001b[0;34m\u001b[0m\n",
       "\u001b[0;34m\u001b[0m              \u001b[0mbut\u001b[0m\u001b[0;34m:\u001b[0m\u001b[0mlist\u001b[0m\u001b[0;34m=\u001b[0m\u001b[0;32mNone\u001b[0m\u001b[0;34m)\u001b[0m\u001b[0;34m:\u001b[0m \u001b[0;31m# Exclude these parameters from signature\u001b[0m\u001b[0;34m\u001b[0m\n",
       "\u001b[0;34m\u001b[0m    \u001b[0;34m\"Decorator: replace `**kwargs` in signature with params from `to`\"\u001b[0m\u001b[0;34m\u001b[0m\n",
       "\u001b[0;34m\u001b[0m    \u001b[0;32mif\u001b[0m \u001b[0mbut\u001b[0m \u001b[0;32mis\u001b[0m \u001b[0;32mNone\u001b[0m\u001b[0;34m:\u001b[0m \u001b[0mbut\u001b[0m \u001b[0;34m=\u001b[0m \u001b[0;34m[\u001b[0m\u001b[0;34m]\u001b[0m\u001b[0;34m\u001b[0m\n",
       "\u001b[0;34m\u001b[0m    \u001b[0;32mdef\u001b[0m \u001b[0m_f\u001b[0m\u001b[0;34m(\u001b[0m\u001b[0mf\u001b[0m\u001b[0;34m)\u001b[0m\u001b[0;34m:\u001b[0m\u001b[0;34m\u001b[0m\n",
       "\u001b[0;34m\u001b[0m        \u001b[0;32mif\u001b[0m \u001b[0mto\u001b[0m \u001b[0;32mis\u001b[0m \u001b[0;32mNone\u001b[0m\u001b[0;34m:\u001b[0m \u001b[0mto_f\u001b[0m\u001b[0;34m,\u001b[0m\u001b[0mfrom_f\u001b[0m \u001b[0;34m=\u001b[0m \u001b[0mf\u001b[0m\u001b[0;34m.\u001b[0m\u001b[0m__base__\u001b[0m\u001b[0;34m.\u001b[0m\u001b[0m__init__\u001b[0m\u001b[0;34m,\u001b[0m\u001b[0mf\u001b[0m\u001b[0;34m.\u001b[0m\u001b[0m__init__\u001b[0m\u001b[0;34m\u001b[0m\n",
       "\u001b[0;34m\u001b[0m        \u001b[0;32melse\u001b[0m\u001b[0;34m:\u001b[0m          \u001b[0mto_f\u001b[0m\u001b[0;34m,\u001b[0m\u001b[0mfrom_f\u001b[0m \u001b[0;34m=\u001b[0m \u001b[0mto\u001b[0m\u001b[0;34m.\u001b[0m\u001b[0m__init__\u001b[0m \u001b[0;32mif\u001b[0m \u001b[0misinstance\u001b[0m\u001b[0;34m(\u001b[0m\u001b[0mto\u001b[0m\u001b[0;34m,\u001b[0m\u001b[0mtype\u001b[0m\u001b[0;34m)\u001b[0m \u001b[0;32melse\u001b[0m \u001b[0mto\u001b[0m\u001b[0;34m,\u001b[0m\u001b[0mf\u001b[0m\u001b[0;34m\u001b[0m\n",
       "\u001b[0;34m\u001b[0m        \u001b[0mfrom_f\u001b[0m \u001b[0;34m=\u001b[0m \u001b[0mgetattr\u001b[0m\u001b[0;34m(\u001b[0m\u001b[0mfrom_f\u001b[0m\u001b[0;34m,\u001b[0m\u001b[0;34m'__func__'\u001b[0m\u001b[0;34m,\u001b[0m\u001b[0mfrom_f\u001b[0m\u001b[0;34m)\u001b[0m\u001b[0;34m\u001b[0m\n",
       "\u001b[0;34m\u001b[0m        \u001b[0mto_f\u001b[0m \u001b[0;34m=\u001b[0m \u001b[0mgetattr\u001b[0m\u001b[0;34m(\u001b[0m\u001b[0mto_f\u001b[0m\u001b[0;34m,\u001b[0m\u001b[0;34m'__func__'\u001b[0m\u001b[0;34m,\u001b[0m\u001b[0mto_f\u001b[0m\u001b[0;34m)\u001b[0m\u001b[0;34m\u001b[0m\n",
       "\u001b[0;34m\u001b[0m        \u001b[0;32mif\u001b[0m \u001b[0mhasattr\u001b[0m\u001b[0;34m(\u001b[0m\u001b[0mfrom_f\u001b[0m\u001b[0;34m,\u001b[0m\u001b[0;34m'__delwrap__'\u001b[0m\u001b[0;34m)\u001b[0m\u001b[0;34m:\u001b[0m \u001b[0;32mreturn\u001b[0m \u001b[0mf\u001b[0m\u001b[0;34m\u001b[0m\n",
       "\u001b[0;34m\u001b[0m        \u001b[0msig\u001b[0m \u001b[0;34m=\u001b[0m \u001b[0minspect\u001b[0m\u001b[0;34m.\u001b[0m\u001b[0msignature\u001b[0m\u001b[0;34m(\u001b[0m\u001b[0mfrom_f\u001b[0m\u001b[0;34m)\u001b[0m\u001b[0;34m\u001b[0m\n",
       "\u001b[0;34m\u001b[0m        \u001b[0msigd\u001b[0m \u001b[0;34m=\u001b[0m \u001b[0mdict\u001b[0m\u001b[0;34m(\u001b[0m\u001b[0msig\u001b[0m\u001b[0;34m.\u001b[0m\u001b[0mparameters\u001b[0m\u001b[0;34m)\u001b[0m\u001b[0;34m\u001b[0m\n",
       "\u001b[0;34m\u001b[0m        \u001b[0mk\u001b[0m \u001b[0;34m=\u001b[0m \u001b[0msigd\u001b[0m\u001b[0;34m.\u001b[0m\u001b[0mpop\u001b[0m\u001b[0;34m(\u001b[0m\u001b[0;34m'kwargs'\u001b[0m\u001b[0;34m)\u001b[0m\u001b[0;34m\u001b[0m\n",
       "\u001b[0;34m\u001b[0m        \u001b[0ms2\u001b[0m \u001b[0;34m=\u001b[0m \u001b[0;34m{\u001b[0m\u001b[0mk\u001b[0m\u001b[0;34m:\u001b[0m\u001b[0mv\u001b[0m\u001b[0;34m.\u001b[0m\u001b[0mreplace\u001b[0m\u001b[0;34m(\u001b[0m\u001b[0mkind\u001b[0m\u001b[0;34m=\u001b[0m\u001b[0minspect\u001b[0m\u001b[0;34m.\u001b[0m\u001b[0mParameter\u001b[0m\u001b[0;34m.\u001b[0m\u001b[0mKEYWORD_ONLY\u001b[0m\u001b[0;34m)\u001b[0m \u001b[0;32mfor\u001b[0m \u001b[0mk\u001b[0m\u001b[0;34m,\u001b[0m\u001b[0mv\u001b[0m \u001b[0;32min\u001b[0m \u001b[0minspect\u001b[0m\u001b[0;34m.\u001b[0m\u001b[0msignature\u001b[0m\u001b[0;34m(\u001b[0m\u001b[0mto_f\u001b[0m\u001b[0;34m)\u001b[0m\u001b[0;34m.\u001b[0m\u001b[0mparameters\u001b[0m\u001b[0;34m.\u001b[0m\u001b[0mitems\u001b[0m\u001b[0;34m(\u001b[0m\u001b[0;34m)\u001b[0m\u001b[0;34m\u001b[0m\n",
       "\u001b[0;34m\u001b[0m              \u001b[0;32mif\u001b[0m \u001b[0mv\u001b[0m\u001b[0;34m.\u001b[0m\u001b[0mdefault\u001b[0m \u001b[0;34m!=\u001b[0m \u001b[0minspect\u001b[0m\u001b[0;34m.\u001b[0m\u001b[0mParameter\u001b[0m\u001b[0;34m.\u001b[0m\u001b[0mempty\u001b[0m \u001b[0;32mand\u001b[0m \u001b[0mk\u001b[0m \u001b[0;32mnot\u001b[0m \u001b[0;32min\u001b[0m \u001b[0msigd\u001b[0m \u001b[0;32mand\u001b[0m \u001b[0mk\u001b[0m \u001b[0;32mnot\u001b[0m \u001b[0;32min\u001b[0m \u001b[0mbut\u001b[0m\u001b[0;34m}\u001b[0m\u001b[0;34m\u001b[0m\n",
       "\u001b[0;34m\u001b[0m        \u001b[0manno\u001b[0m \u001b[0;34m=\u001b[0m \u001b[0;34m{\u001b[0m\u001b[0mk\u001b[0m\u001b[0;34m:\u001b[0m\u001b[0mv\u001b[0m \u001b[0;32mfor\u001b[0m \u001b[0mk\u001b[0m\u001b[0;34m,\u001b[0m\u001b[0mv\u001b[0m \u001b[0;32min\u001b[0m \u001b[0mgetattr\u001b[0m\u001b[0;34m(\u001b[0m\u001b[0mto_f\u001b[0m\u001b[0;34m,\u001b[0m \u001b[0;34m\"__annotations__\"\u001b[0m\u001b[0;34m,\u001b[0m \u001b[0;34m{\u001b[0m\u001b[0;34m}\u001b[0m\u001b[0;34m)\u001b[0m\u001b[0;34m.\u001b[0m\u001b[0mitems\u001b[0m\u001b[0;34m(\u001b[0m\u001b[0;34m)\u001b[0m \u001b[0;32mif\u001b[0m \u001b[0mk\u001b[0m \u001b[0;32mnot\u001b[0m \u001b[0;32min\u001b[0m \u001b[0msigd\u001b[0m \u001b[0;32mand\u001b[0m \u001b[0mk\u001b[0m \u001b[0;32mnot\u001b[0m \u001b[0;32min\u001b[0m \u001b[0mbut\u001b[0m\u001b[0;34m}\u001b[0m\u001b[0;34m\u001b[0m\n",
       "\u001b[0;34m\u001b[0m        \u001b[0msigd\u001b[0m\u001b[0;34m.\u001b[0m\u001b[0mupdate\u001b[0m\u001b[0;34m(\u001b[0m\u001b[0ms2\u001b[0m\u001b[0;34m)\u001b[0m\u001b[0;34m\u001b[0m\n",
       "\u001b[0;34m\u001b[0m        \u001b[0;32mif\u001b[0m \u001b[0mkeep\u001b[0m\u001b[0;34m:\u001b[0m \u001b[0msigd\u001b[0m\u001b[0;34m[\u001b[0m\u001b[0;34m'kwargs'\u001b[0m\u001b[0;34m]\u001b[0m \u001b[0;34m=\u001b[0m \u001b[0mk\u001b[0m\u001b[0;34m\u001b[0m\n",
       "\u001b[0;34m\u001b[0m        \u001b[0;32melse\u001b[0m\u001b[0;34m:\u001b[0m \u001b[0mfrom_f\u001b[0m\u001b[0;34m.\u001b[0m\u001b[0m__delwrap__\u001b[0m \u001b[0;34m=\u001b[0m \u001b[0mto_f\u001b[0m\u001b[0;34m\u001b[0m\n",
       "\u001b[0;34m\u001b[0m        \u001b[0mfrom_f\u001b[0m\u001b[0;34m.\u001b[0m\u001b[0m__signature__\u001b[0m \u001b[0;34m=\u001b[0m \u001b[0msig\u001b[0m\u001b[0;34m.\u001b[0m\u001b[0mreplace\u001b[0m\u001b[0;34m(\u001b[0m\u001b[0mparameters\u001b[0m\u001b[0;34m=\u001b[0m\u001b[0msigd\u001b[0m\u001b[0;34m.\u001b[0m\u001b[0mvalues\u001b[0m\u001b[0;34m(\u001b[0m\u001b[0;34m)\u001b[0m\u001b[0;34m)\u001b[0m\u001b[0;34m\u001b[0m\n",
       "\u001b[0;34m\u001b[0m        \u001b[0;32mif\u001b[0m \u001b[0mhasattr\u001b[0m\u001b[0;34m(\u001b[0m\u001b[0mfrom_f\u001b[0m\u001b[0;34m,\u001b[0m \u001b[0;34m'__annotations__'\u001b[0m\u001b[0;34m)\u001b[0m\u001b[0;34m:\u001b[0m \u001b[0mfrom_f\u001b[0m\u001b[0;34m.\u001b[0m\u001b[0m__annotations__\u001b[0m\u001b[0;34m.\u001b[0m\u001b[0mupdate\u001b[0m\u001b[0;34m(\u001b[0m\u001b[0manno\u001b[0m\u001b[0;34m)\u001b[0m\u001b[0;34m\u001b[0m\n",
       "\u001b[0;34m\u001b[0m        \u001b[0;32mreturn\u001b[0m \u001b[0mf\u001b[0m\u001b[0;34m\u001b[0m\n",
       "\u001b[0;34m\u001b[0m    \u001b[0;32mreturn\u001b[0m \u001b[0m_f\u001b[0m\u001b[0;34m\u001b[0m\u001b[0;34m\u001b[0m\u001b[0m\n",
       "\u001b[0;31mFile:\u001b[0m      ~/miniforge3/lib/python3.10/site-packages/fastcore/meta.py\n",
       "\u001b[0;31mType:\u001b[0m      function"
      ]
     },
     "metadata": {},
     "output_type": "display_data"
    }
   ],
   "source": [
    "fc.delegates??"
   ]
  },
  {
   "cell_type": "code",
   "execution_count": 35,
   "id": "85f05452-9b23-4462-b64f-67ba0cc9671c",
   "metadata": {},
   "outputs": [],
   "source": [
    "@fc.delegates(plt.Axes.imshow)\n",
    "def show_image(im, ax=None, figsize=None, title=None, noframe=True, **kwargs):\n",
    "    \"Show PIL or PyTorch image on `ax`.\"\n",
    "    # Detach tensor from the computational graph and move it to the CPU.\n",
    "    if fc.hasattrs(im, ('cpu', 'permute', 'detach')):\n",
    "        im = im.detach().cpu() \n",
    "        # If tensor has 3 dims and the first dim(usually the channel) is less than 5, \n",
    "        # (suggesting it could be an image with channels first), then permute the dim. to \n",
    "        # make the channel the last dimension(H, W, C).\n",
    "        if len(im.shape)==3 and im.shape[0]<5: im = im.permute(1, 2, 0) \n",
    "    elif not isinstance(im, np.ndarray): im = np.array(im)    \n",
    "    # If the last dim of `im` has size 1 (single channel img), squeeze out the dim.\n",
    "    if im.shape[-1]==1: im = im[...,0]                                 \n",
    "    if ax is None: _, ax = plt.subplots(figsize=figsize)\n",
    "    # Plot img with any additional kwargs\n",
    "    ax.imshow(im, **kwargs)\n",
    "    if title is not None: ax.set_title(title)\n",
    "    ax.set_xticks([])\n",
    "    ax.set_yticks([])\n",
    "    if noframe: ax.axis('off')\n",
    "    return ax "
   ]
  },
  {
   "cell_type": "code",
   "execution_count": 36,
   "id": "7f7546f4-b0f8-495d-887e-065ac8a3afad",
   "metadata": {},
   "outputs": [
    {
     "name": "stdout",
     "output_type": "stream",
     "text": [
      "Help on function show_image in module __main__:\n",
      "\n",
      "show_image(im, ax=None, figsize=None, title=None, noframe=True, *, cmap=None, norm=None, aspect=None, interpolation=None, alpha=None, vmin=None, vmax=None, origin=None, extent=None, interpolation_stage=None, filternorm=True, filterrad=4.0, resample=None, url=None, data=None)\n",
      "    Show PIL or PyTorch image on `ax`.\n",
      "\n"
     ]
    }
   ],
   "source": [
    "# We can get additional information about the functions arguments\n",
    "# The @fc.delegates decorator appends additional info about the **kwargs\n",
    "help(show_image)"
   ]
  },
  {
   "cell_type": "code",
   "execution_count": 40,
   "id": "85066736-b077-4e75-a490-7c7a23bba5c6",
   "metadata": {},
   "outputs": [
    {
     "data": {
      "text/plain": [
       "\u001b[0;31mSignature:\u001b[0m   \u001b[0mhelp\u001b[0m\u001b[0;34m(\u001b[0m\u001b[0;34m*\u001b[0m\u001b[0margs\u001b[0m\u001b[0;34m,\u001b[0m \u001b[0;34m**\u001b[0m\u001b[0mkwds\u001b[0m\u001b[0;34m)\u001b[0m\u001b[0;34m\u001b[0m\u001b[0;34m\u001b[0m\u001b[0m\n",
       "\u001b[0;31mType:\u001b[0m        _Helper\n",
       "\u001b[0;31mString form:\u001b[0m Type help() for interactive help, or help(object) for help about object.\n",
       "\u001b[0;31mNamespace:\u001b[0m   Python builtin\n",
       "\u001b[0;31mFile:\u001b[0m        ~/miniforge3/lib/python3.10/_sitebuiltins.py\n",
       "\u001b[0;31mSource:\u001b[0m     \n",
       "\u001b[0;32mclass\u001b[0m \u001b[0m_Helper\u001b[0m\u001b[0;34m(\u001b[0m\u001b[0mobject\u001b[0m\u001b[0;34m)\u001b[0m\u001b[0;34m:\u001b[0m\u001b[0;34m\u001b[0m\n",
       "\u001b[0;34m\u001b[0m    \u001b[0;34m\"\"\"Define the builtin 'help'.\u001b[0m\n",
       "\u001b[0;34m\u001b[0m\n",
       "\u001b[0;34m    This is a wrapper around pydoc.help that provides a helpful message\u001b[0m\n",
       "\u001b[0;34m    when 'help' is typed at the Python interactive prompt.\u001b[0m\n",
       "\u001b[0;34m\u001b[0m\n",
       "\u001b[0;34m    Calling help() at the Python prompt starts an interactive help session.\u001b[0m\n",
       "\u001b[0;34m    Calling help(thing) prints help for the python object 'thing'.\u001b[0m\n",
       "\u001b[0;34m    \"\"\"\u001b[0m\u001b[0;34m\u001b[0m\n",
       "\u001b[0;34m\u001b[0m\u001b[0;34m\u001b[0m\n",
       "\u001b[0;34m\u001b[0m    \u001b[0;32mdef\u001b[0m \u001b[0m__repr__\u001b[0m\u001b[0;34m(\u001b[0m\u001b[0mself\u001b[0m\u001b[0;34m)\u001b[0m\u001b[0;34m:\u001b[0m\u001b[0;34m\u001b[0m\n",
       "\u001b[0;34m\u001b[0m        \u001b[0;32mreturn\u001b[0m \u001b[0;34m\"Type help() for interactive help, \"\u001b[0m \\\n",
       "               \u001b[0;34m\"or help(object) for help about object.\"\u001b[0m\u001b[0;34m\u001b[0m\n",
       "\u001b[0;34m\u001b[0m    \u001b[0;32mdef\u001b[0m \u001b[0m__call__\u001b[0m\u001b[0;34m(\u001b[0m\u001b[0mself\u001b[0m\u001b[0;34m,\u001b[0m \u001b[0;34m*\u001b[0m\u001b[0margs\u001b[0m\u001b[0;34m,\u001b[0m \u001b[0;34m**\u001b[0m\u001b[0mkwds\u001b[0m\u001b[0;34m)\u001b[0m\u001b[0;34m:\u001b[0m\u001b[0;34m\u001b[0m\n",
       "\u001b[0;34m\u001b[0m        \u001b[0;32mimport\u001b[0m \u001b[0mpydoc\u001b[0m\u001b[0;34m\u001b[0m\n",
       "\u001b[0;34m\u001b[0m        \u001b[0;32mreturn\u001b[0m \u001b[0mpydoc\u001b[0m\u001b[0;34m.\u001b[0m\u001b[0mhelp\u001b[0m\u001b[0;34m(\u001b[0m\u001b[0;34m*\u001b[0m\u001b[0margs\u001b[0m\u001b[0;34m,\u001b[0m \u001b[0;34m**\u001b[0m\u001b[0mkwds\u001b[0m\u001b[0;34m)\u001b[0m\u001b[0;34m\u001b[0m\u001b[0;34m\u001b[0m\u001b[0m"
      ]
     },
     "metadata": {},
     "output_type": "display_data"
    }
   ],
   "source": [
    "help??"
   ]
  },
  {
   "cell_type": "code",
   "execution_count": 37,
   "id": "581bde47-0aab-443d-8ce2-aff0349b2174",
   "metadata": {},
   "outputs": [
    {
     "data": {
      "image/png": "[encoded data removed]",
      "text/plain": [
       "<Figure size 200x200 with 1 Axes>"
      ]
     },
     "metadata": {},
     "output_type": "display_data"
    }
   ],
   "source": [
    "show_image(img, figsize=(2, 2));"
   ]
  },
  {
   "cell_type": "code",
   "execution_count": 38,
   "id": "6975abe9-a248-469e-819b-cb113e8d2cae",
   "metadata": {},
   "outputs": [
    {
     "data": {
      "image/png": "[encoded data removed]",
      "text/plain": [
       "<Figure size 640x480 with 2 Axes>"
      ]
     },
     "metadata": {},
     "output_type": "display_data"
    }
   ],
   "source": [
    "# Adding imgs\n",
    "fig, axs = plt.subplots(1, 2)\n",
    "show_image(img, axs[0])\n",
    "show_image(xb[1], axs[1]);"
   ]
  },
  {
   "cell_type": "markdown",
   "id": "0bfa866d-4dbb-4284-aa56-1de05aa1bb34",
   "metadata": {},
   "source": [
    "Adding additional functionality on `subplots()`."
   ]
  },
  {
   "cell_type": "code",
   "execution_count": 41,
   "id": "3ad75a91-3b3c-4676-9718-2642ccffc2bb",
   "metadata": {},
   "outputs": [],
   "source": [
    "@fc.delegates(plt.subplots, keep=True)\n",
    "def subplots(\n",
    "    nrows:    int=1,       # Number of rows in the returned axes grid\n",
    "    ncols:    int=1,       # Number of columsn in returned axes grid\n",
    "    figsize:  tuple=None,  # Width, height in inches of the returned figure\n",
    "    imsize:   int=3,       # Size (in inches) of images that will be displayed in the returned figure\n",
    "    suptitle: str=None,    # Title to be set to returned figure\n",
    "    **kwargs\n",
    "): # fig and axes\n",
    "    \"A figure and set of subplots to display images of `imsize` inches\"\n",
    "    if figsize is None: figsize=(ncols*imsize, nrows*imsize)\n",
    "    fig, ax = plt.subplots(nrows, ncols, figsize=figsize, **kwargs)\n",
    "    if suptitle is not None: fig.suptitle(suptitle)\n",
    "    if nrows*ncols==1: ax = np.array([ax])\n",
    "    return fig, ax"
   ]
  },
  {
   "cell_type": "markdown",
   "id": "60968732-dfea-4b3f-8cc1-cc1aae08597d",
   "metadata": {},
   "source": [
    "All this additional functionality, with the docstrings, can have its documentation generated by **nbdev**. Which is super handy!!!"
   ]
  },
  {
   "cell_type": "code",
   "execution_count": 42,
   "id": "92860b42-7556-46f4-ac29-7b5ae1c35f17",
   "metadata": {},
   "outputs": [
    {
     "data": {
      "text/markdown": [
       "---\n",
       "\n",
       "### subplots\n",
       "\n",
       ">      subplots (nrows:int=1, ncols:int=1, figsize:tuple=None, imsize:int=3,\n",
       ">                suptitle:str=None,\n",
       ">                sharex:\"bool|Literal['none','all','row','col']\"=False,\n",
       ">                sharey:\"bool|Literal['none','all','row','col']\"=False,\n",
       ">                squeeze:bool=True, width_ratios:Sequence[float]|None=None,\n",
       ">                height_ratios:Sequence[float]|None=None,\n",
       ">                subplot_kw:dict[str,Any]|None=None,\n",
       ">                gridspec_kw:dict[str,Any]|None=None, **kwargs)\n",
       "\n",
       "*A figure and set of subplots to display images of `imsize` inches*\n",
       "\n",
       "|    | **Type** | **Default** | **Details** |\n",
       "| -- | -------- | ----------- | ----------- |\n",
       "| nrows | int | 1 | Number of rows in the returned axes grid |\n",
       "| ncols | int | 1 | Number of columsn in returned axes grid |\n",
       "| figsize | tuple | None | Width, height in inches of the returned figure |\n",
       "| imsize | int | 3 | Size (in inches) of images that will be displayed in the returned figure |\n",
       "| suptitle | str | None | Title to be set to returned figure |\n",
       "| sharex | bool \\| Literal['none', 'all', 'row', 'col'] | False |  |\n",
       "| sharey | bool \\| Literal['none', 'all', 'row', 'col'] | False |  |\n",
       "| squeeze | bool | True |  |\n",
       "| width_ratios | Sequence[float] \\| None | None |  |\n",
       "| height_ratios | Sequence[float] \\| None | None |  |\n",
       "| subplot_kw | dict[str, Any] \\| None | None |  |\n",
       "| gridspec_kw | dict[str, Any] \\| None | None |  |\n",
       "| kwargs |  |  |  |"
      ],
      "text/plain": [
       "---\n",
       "\n",
       "### subplots\n",
       "\n",
       ">      subplots (nrows:int=1, ncols:int=1, figsize:tuple=None, imsize:int=3,\n",
       ">                suptitle:str=None,\n",
       ">                sharex:\"bool|Literal['none','all','row','col']\"=False,\n",
       ">                sharey:\"bool|Literal['none','all','row','col']\"=False,\n",
       ">                squeeze:bool=True, width_ratios:Sequence[float]|None=None,\n",
       ">                height_ratios:Sequence[float]|None=None,\n",
       ">                subplot_kw:dict[str,Any]|None=None,\n",
       ">                gridspec_kw:dict[str,Any]|None=None, **kwargs)\n",
       "\n",
       "*A figure and set of subplots to display images of `imsize` inches*\n",
       "\n",
       "|    | **Type** | **Default** | **Details** |\n",
       "| -- | -------- | ----------- | ----------- |\n",
       "| nrows | int | 1 | Number of rows in the returned axes grid |\n",
       "| ncols | int | 1 | Number of columsn in returned axes grid |\n",
       "| figsize | tuple | None | Width, height in inches of the returned figure |\n",
       "| imsize | int | 3 | Size (in inches) of images that will be displayed in the returned figure |\n",
       "| suptitle | str | None | Title to be set to returned figure |\n",
       "| sharex | bool \\| Literal['none', 'all', 'row', 'col'] | False |  |\n",
       "| sharey | bool \\| Literal['none', 'all', 'row', 'col'] | False |  |\n",
       "| squeeze | bool | True |  |\n",
       "| width_ratios | Sequence[float] \\| None | None |  |\n",
       "| height_ratios | Sequence[float] \\| None | None |  |\n",
       "| subplot_kw | dict[str, Any] \\| None | None |  |\n",
       "| gridspec_kw | dict[str, Any] \\| None | None |  |\n",
       "| kwargs |  |  |  |"
      ]
     },
     "execution_count": 42,
     "metadata": {},
     "output_type": "execute_result"
    }
   ],
   "source": [
    "from nbdev.showdoc import show_doc\n",
    "\n",
    "show_doc(subplots)"
   ]
  },
  {
   "cell_type": "code",
   "execution_count": 43,
   "id": "a5e4df6c-87cb-4392-881d-5e5ea6ffccf1",
   "metadata": {},
   "outputs": [
    {
     "data": {
      "image/png": "[encoded data removed]",
      "text/plain": [
       "<Figure size 600x600 with 9 Axes>"
      ]
     },
     "metadata": {},
     "output_type": "display_data"
    }
   ],
   "source": [
    "# Plotting a grid\n",
    "fig, axs = subplots(3, 3, imsize=2)\n",
    "imgs = xb[:8]\n",
    "# flat is used to iterate over arrays\n",
    "for ax, img in zip(axs.flat, imgs): show_image(img, ax)"
   ]
  },
  {
   "cell_type": "markdown",
   "id": "d5caa886-afe5-484e-b26d-73fe54b840ba",
   "metadata": {},
   "source": [
    " The grid doesn't look very...presentable. We can improve the functionality of the plotting functions even further."
   ]
  },
  {
   "cell_type": "code",
   "execution_count": 44,
   "id": "c79c83b9-fad1-46ce-84b8-435c41115b78",
   "metadata": {},
   "outputs": [],
   "source": [
    "@fc.delegates(subplots)\n",
    "def get_grid(\n",
    "    n:      int,        # Number of axes\n",
    "    nrows:  int=None,   # Number of rows, defaulting to `int(math.sqrt(n))`\n",
    "    ncols:  int=None,   # Number of columns, defaulting to `ceil(n/rows)`\n",
    "    title:  str=None,   # If passed, title set to the figure\n",
    "    weight: str='bold', # Title font weight\n",
    "    size:   int=14,     # Title font size\n",
    "    **kwargs,\n",
    "): # fig and axes\n",
    "    \"Return a grid of `n` axes, `rows` by `cols`\"\n",
    "    if nrows: ncols = ncols or int(np.floor(n/nrows))   # Calculate the necessary rows\n",
    "    elif ncols: nrows = nrows or int(np.ceil(n/cols))   # Calculate the necessary columns\n",
    "    else:\n",
    "        nrows = int(math.sqrt(n))\n",
    "        ncols = int(np.floor(n/nrows))\n",
    "    fig,axs = subplots(nrows, ncols, **kwargs)\n",
    "    for i in range(n, nrows*ncols): axs.flat[i].set_axis_off()\n",
    "    if title is not None: fig.suptitle(title, weight=weight, size=size)\n",
    "    return fig,axs"
   ]
  },
  {
   "cell_type": "code",
   "execution_count": 45,
   "id": "865a62a5-e9b3-4675-9427-defac9e2fffd",
   "metadata": {},
   "outputs": [
    {
     "name": "stdout",
     "output_type": "stream",
     "text": [
      "Help on function get_grid in module __main__:\n",
      "\n",
      "get_grid(n: 'int', nrows: 'int' = None, ncols: 'int' = None, title: 'str' = None, weight: 'str' = 'bold', size: 'int' = 14, *, figsize: 'tuple' = None, imsize: 'int' = 3, suptitle: 'str' = None, sharex: \"bool | Literal['none', 'all', 'row', 'col']\" = False, sharey: \"bool | Literal['none', 'all', 'row', 'col']\" = False, squeeze: 'bool' = True, width_ratios: 'Sequence[float] | None' = None, height_ratios: 'Sequence[float] | None' = None, subplot_kw: 'dict[str, Any] | None' = None, gridspec_kw: 'dict[str, Any] | None' = None)\n",
      "    Return a grid of `n` axes, `rows` by `cols`\n",
      "\n"
     ]
    }
   ],
   "source": [
    "help(get_grid)"
   ]
  },
  {
   "cell_type": "code",
   "execution_count": 46,
   "id": "cc183127-8221-4bc4-b145-bd84811826c6",
   "metadata": {},
   "outputs": [
    {
     "data": {
      "text/markdown": [
       "---\n",
       "\n",
       "### get_grid\n",
       "\n",
       ">      get_grid (n:int, nrows:int=None, ncols:int=None, title:str=None,\n",
       ">                weight:str='bold', size:int=14, figsize:tuple=None,\n",
       ">                imsize:int=3, suptitle:str=None,\n",
       ">                sharex:\"bool|Literal['none','all','row','col']\"=False,\n",
       ">                sharey:\"bool|Literal['none','all','row','col']\"=False,\n",
       ">                squeeze:bool=True, width_ratios:Sequence[float]|None=None,\n",
       ">                height_ratios:Sequence[float]|None=None,\n",
       ">                subplot_kw:dict[str,Any]|None=None,\n",
       ">                gridspec_kw:dict[str,Any]|None=None)\n",
       "\n",
       "*Return a grid of `n` axes, `rows` by `cols`*\n",
       "\n",
       "|    | **Type** | **Default** | **Details** |\n",
       "| -- | -------- | ----------- | ----------- |\n",
       "| n | int |  | Number of axes |\n",
       "| nrows | int | None | Number of rows, defaulting to `int(math.sqrt(n))` |\n",
       "| ncols | int | None | Number of columns, defaulting to `ceil(n/rows)` |\n",
       "| title | str | None | If passed, title set to the figure |\n",
       "| weight | str | bold | Title font weight |\n",
       "| size | int | 14 | Title font size |\n",
       "| figsize | tuple | None | Width, height in inches of the returned figure |\n",
       "| imsize | int | 3 | Size (in inches) of images that will be displayed in the returned figure |\n",
       "| suptitle | str | None | Title to be set to returned figure |\n",
       "| sharex | bool \\| Literal['none', 'all', 'row', 'col'] | False |  |\n",
       "| sharey | bool \\| Literal['none', 'all', 'row', 'col'] | False |  |\n",
       "| squeeze | bool | True |  |\n",
       "| width_ratios | Sequence[float] \\| None | None |  |\n",
       "| height_ratios | Sequence[float] \\| None | None |  |\n",
       "| subplot_kw | dict[str, Any] \\| None | None |  |\n",
       "| gridspec_kw | dict[str, Any] \\| None | None |  |"
      ],
      "text/plain": [
       "---\n",
       "\n",
       "### get_grid\n",
       "\n",
       ">      get_grid (n:int, nrows:int=None, ncols:int=None, title:str=None,\n",
       ">                weight:str='bold', size:int=14, figsize:tuple=None,\n",
       ">                imsize:int=3, suptitle:str=None,\n",
       ">                sharex:\"bool|Literal['none','all','row','col']\"=False,\n",
       ">                sharey:\"bool|Literal['none','all','row','col']\"=False,\n",
       ">                squeeze:bool=True, width_ratios:Sequence[float]|None=None,\n",
       ">                height_ratios:Sequence[float]|None=None,\n",
       ">                subplot_kw:dict[str,Any]|None=None,\n",
       ">                gridspec_kw:dict[str,Any]|None=None)\n",
       "\n",
       "*Return a grid of `n` axes, `rows` by `cols`*\n",
       "\n",
       "|    | **Type** | **Default** | **Details** |\n",
       "| -- | -------- | ----------- | ----------- |\n",
       "| n | int |  | Number of axes |\n",
       "| nrows | int | None | Number of rows, defaulting to `int(math.sqrt(n))` |\n",
       "| ncols | int | None | Number of columns, defaulting to `ceil(n/rows)` |\n",
       "| title | str | None | If passed, title set to the figure |\n",
       "| weight | str | bold | Title font weight |\n",
       "| size | int | 14 | Title font size |\n",
       "| figsize | tuple | None | Width, height in inches of the returned figure |\n",
       "| imsize | int | 3 | Size (in inches) of images that will be displayed in the returned figure |\n",
       "| suptitle | str | None | Title to be set to returned figure |\n",
       "| sharex | bool \\| Literal['none', 'all', 'row', 'col'] | False |  |\n",
       "| sharey | bool \\| Literal['none', 'all', 'row', 'col'] | False |  |\n",
       "| squeeze | bool | True |  |\n",
       "| width_ratios | Sequence[float] \\| None | None |  |\n",
       "| height_ratios | Sequence[float] \\| None | None |  |\n",
       "| subplot_kw | dict[str, Any] \\| None | None |  |\n",
       "| gridspec_kw | dict[str, Any] \\| None | None |  |"
      ]
     },
     "execution_count": 46,
     "metadata": {},
     "output_type": "execute_result"
    }
   ],
   "source": [
    "show_doc(get_grid)"
   ]
  },
  {
   "cell_type": "code",
   "execution_count": 47,
   "id": "96b12841-69b9-4904-850c-4f9d07dde31e",
   "metadata": {},
   "outputs": [
    {
     "data": {
      "image/png": "[encoded data removed]",
      "text/plain": [
       "<Figure size 400x600 with 6 Axes>"
      ]
     },
     "metadata": {},
     "output_type": "display_data"
    }
   ],
   "source": [
    "fig, axs = get_grid(8, nrows=3, imsize=2)\n",
    "for ax,img in zip(axs.flat,imgs): show_image(img, ax)"
   ]
  },
  {
   "cell_type": "markdown",
   "id": "1064fb60-66df-41b9-8df2-226ba01c49b7",
   "metadata": {},
   "source": [
    "Now that the functionality for `show_image`, `subplots` and `get_grid` has been customized, we can create a single function to handle all of these image viewing options."
   ]
  },
  {
   "cell_type": "code",
   "execution_count": 48,
   "id": "d1dcbb07-c434-40af-a313-de62fc8eca87",
   "metadata": {},
   "outputs": [],
   "source": [
    "@fc.delegates(subplots)\n",
    "def show_images(\n",
    "    ims: list,    # Images to show\n",
    "    nrows: int|None=None, # Number of rows in a grid\n",
    "    ncols: int|None=None, # Number of columns in the grid (autocalculated if None)\n",
    "    titles: list|None=None, # Optional list of titles for each image\n",
    "    **kwargs\n",
    "):\n",
    "    \"Show all images `ims` as subplots with `rows` using `titles`\"\n",
    "    # Retrieve the second element of the output of get_grid(). Flatten the array of axes into a 1D array\n",
    "    axs = get_grid(len(ims), nrows, ncols, **kwargs)[1].flat\n",
    "    for im, t, ax in zip_longest(ims, titles or [], axs): show_image(im, ax=ax, title=t)"
   ]
  },
  {
   "cell_type": "code",
   "execution_count": 49,
   "id": "370cfde7-6841-45b6-aaf5-e5d158f94ec2",
   "metadata": {},
   "outputs": [],
   "source": [
    "yb = b['label']\n",
    "labels = yb[:8]"
   ]
  },
  {
   "cell_type": "code",
   "execution_count": 50,
   "id": "33b0f510-d690-4e43-84df-23f002807af3",
   "metadata": {},
   "outputs": [
    {
     "data": {
      "text/plain": [
       "'Boot Top Top Dress Top Pullover Sneaker Pullover'"
      ]
     },
     "execution_count": 50,
     "metadata": {},
     "output_type": "execute_result"
    }
   ],
   "source": [
    "names = \"Top Trouser Pullover Dress Coat Sandal Shirt Sneaker Bag Boot\".split()\n",
    "titles = itemgetter(*labels)(names)\n",
    "' '.join(titles)"
   ]
  },
  {
   "cell_type": "code",
   "execution_count": 51,
   "id": "57d368bd-1f87-476f-bfec-b8741cdc31f8",
   "metadata": {},
   "outputs": [
    {
     "data": {
      "image/png": "[encoded data removed]",
      "text/plain": [
       "<Figure size 680x340 with 8 Axes>"
      ]
     },
     "metadata": {},
     "output_type": "display_data"
    }
   ],
   "source": [
    "show_images(imgs, imsize=1.7, titles=titles)"
   ]
  },
  {
   "cell_type": "code",
   "execution_count": 52,
   "id": "155ed767-4663-46b4-83ce-1f8046383d6e",
   "metadata": {},
   "outputs": [],
   "source": [
    "class DataLoaders:\n",
    "    def __init__(self, *dls): self.train, self.valid = dls[:2]\n",
    "\n",
    "    @classmethod\n",
    "    def from_dd(cls, dd, batch_size, as_tuple=True, **kwargs):\n",
    "        f = collate_dict(dd['train'])\n",
    "        return cls(*get_dls(*dd.values(), bs=batch_size, collate_fn=f, **kwargs))"
   ]
  },
  {
   "cell_type": "code",
   "execution_count": null,
   "id": "0c528c87-6060-4c60-926e-d1a96c847ac7",
   "metadata": {},
   "outputs": [],
   "source": []
  }
 ],
 "metadata": {
  "kernelspec": {
   "display_name": "Python 3 (ipykernel)",
   "language": "python",
   "name": "python3"
  },
  "language_info": {
   "codemirror_mode": {
    "name": "ipython",
    "version": 3
   },
   "file_extension": ".py",
   "mimetype": "text/x-python",
   "name": "python",
   "nbconvert_exporter": "python",
   "pygments_lexer": "ipython3",
   "version": "3.10.14"
  },
  "widgets": {
   "application/vnd.jupyter.widget-state+json": {
    "state": {},
    "version_major": 2,
    "version_minor": 0
   }
  }
 },
 "nbformat": 4,
 "nbformat_minor": 5
}
