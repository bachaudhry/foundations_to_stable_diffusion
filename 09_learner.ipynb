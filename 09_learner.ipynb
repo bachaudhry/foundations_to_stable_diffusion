{
 "cells": [
  {
   "cell_type": "markdown",
   "id": "b8ee44bc-b0b5-4e5d-b265-78d5b2259714",
   "metadata": {},
   "source": [
    "# **Framework Improvements & Adding The Learner Class**"
   ]
  },
  {
   "cell_type": "code",
   "execution_count": 1,
   "id": "5434e467-36bd-4101-a8b3-431d7ad114f3",
   "metadata": {},
   "outputs": [],
   "source": [
    "%load_ext autoreload\n",
    "%autoreload 2"
   ]
  },
  {
   "cell_type": "code",
   "execution_count": 1,
   "id": "7626147a-95e7-48a0-b3fc-a7748fbb5a26",
   "metadata": {},
   "outputs": [],
   "source": [
    "import numpy as np\n",
    "import pandas as pd\n",
    "import matplotlib as mpl\n",
    "import matplotlib.pyplot as plt\n",
    "import pickle, gzip, math, os, time, shutil\n",
    "import fastcore.all as fc\n",
    "from operator import attrgetter, itemgetter\n",
    "from functools import partial\n",
    "from collections.abc import Mapping\n",
    "from contextlib import contextmanager\n",
    "from pathlib import Path\n",
    "from copy import copy\n",
    "\n",
    "import torch\n",
    "from torch import nn, tensor, optim\n",
    "from torch.utils.data import default_collate, DataLoader\n",
    "import torch.nn.functional as F\n",
    "import torchvision.transforms.functional as TF\n",
    "from datasets import load_dataset, load_dataset_builder\n",
    "\n",
    "from miniai.training import * # Modules have already been developed in previous NBs\n",
    "from miniai.datasets import * # and, reside in separate Github repo.\n",
    "from miniai.conv import *\n",
    "from fastprogress import progress_bar, master_bar"
   ]
  },
  {
   "cell_type": "code",
   "execution_count": 2,
   "id": "be4bd243-490a-4aaf-9a68-89f72a159e9b",
   "metadata": {},
   "outputs": [],
   "source": [
    "from fastcore.test import test_close\n",
    "\n",
    "torch.set_printoptions(precision=2, linewidth=14, sci_mode=False)\n",
    "torch.manual_seed(1)\n",
    "mpl.rcParams['image.cmap'] = 'gray'\n",
    "\n",
    "import logging \n",
    "logging.disable(logging.WARNING)"
   ]
  },
  {
   "cell_type": "markdown",
   "id": "46b5f496-d6a1-4529-9f15-62a377d18388",
   "metadata": {},
   "source": [
    "## **The Learner**"
   ]
  },
  {
   "cell_type": "markdown",
   "id": "119f4c15-77e7-4bae-bd1f-452095705faf",
   "metadata": {},
   "source": [
    "The objective of this new class will be to:\n",
    "1. Enable rapid testing of new approaches wrt the modeling process, especially on the training and inference fronts.\n",
    "2. Constantly build on-top of the existing learner's functionality.\n",
    "3. Allow improved inspection, optimized CUDA implementations etc.\n",
    "\n",
    "So, let's get the HuggingFace `Fashion_MNIST` dataset again."
   ]
  },
  {
   "cell_type": "code",
   "execution_count": 3,
   "id": "328812bd-3ddb-4952-9ca6-60c5aa858e42",
   "metadata": {},
   "outputs": [],
   "source": [
    "x, y = 'image', 'label'\n",
    "name  = \"fashion_mnist\"\n",
    "dsd = load_dataset(name)"
   ]
  },
  {
   "cell_type": "code",
   "execution_count": 4,
   "id": "54e37bc4-a30a-476a-aa15-d06f993e5d06",
   "metadata": {},
   "outputs": [
    {
     "data": {
      "text/plain": [
       "DatasetDict({\n",
       "    train: Dataset({\n",
       "        features: ['image', 'label'],\n",
       "        num_rows: 60000\n",
       "    })\n",
       "    test: Dataset({\n",
       "        features: ['image', 'label'],\n",
       "        num_rows: 10000\n",
       "    })\n",
       "})"
      ]
     },
     "execution_count": 4,
     "metadata": {},
     "output_type": "execute_result"
    }
   ],
   "source": [
    "dsd"
   ]
  },
  {
   "cell_type": "code",
   "execution_count": 5,
   "id": "5677ecc6-9d25-4604-9a76-720665644ffd",
   "metadata": {},
   "outputs": [],
   "source": [
    "@inplace\n",
    "def transformi(b): b[x] = [torch.flatten(TF.to_tensor(o)) for o in b[x]]"
   ]
  },
  {
   "cell_type": "code",
   "execution_count": 6,
   "id": "5c4f24ab-2fe2-4c94-b6bc-3d1c03c9f8d7",
   "metadata": {},
   "outputs": [],
   "source": [
    "bs = 1024\n",
    "tds = dsd.with_transform(transformi)"
   ]
  },
  {
   "cell_type": "code",
   "execution_count": 7,
   "id": "90d22483-b3d8-4130-a3c8-2db3a6f16b56",
   "metadata": {},
   "outputs": [
    {
     "data": {
      "text/plain": [
       "(torch.Size([1024, 784]),\n",
       " tensor([5, 4,\n",
       "         9, 4,\n",
       "         3, 0,\n",
       "         6, 5,\n",
       "         7, 6]))"
      ]
     },
     "execution_count": 7,
     "metadata": {},
     "output_type": "execute_result"
    }
   ],
   "source": [
    "dls = DataLoaders.from_dd(tds, bs, num_workers=4)\n",
    "dt = dls.train\n",
    "xb, yb = next(iter(dt))\n",
    "xb.shape, yb[:10]"
   ]
  },
  {
   "cell_type": "markdown",
   "id": "83d4ce87-45f3-4f42-8c13-2703c3ca6078",
   "metadata": {},
   "source": [
    "The Leaner's purpose is to replace the `fit` function. This class incorporates the following functionality:\n",
    "\n",
    "1. Train a model using a variety of architectures.\n",
    "2. Use a particular set of dataloaders and loss functions.\n",
    "3. Define a learning rate.\n",
    "4. Use a predefined or custom optimization function."
   ]
  },
  {
   "cell_type": "code",
   "execution_count": 8,
   "id": "a888baa4-93cc-482b-a217-0590ad15d4be",
   "metadata": {},
   "outputs": [],
   "source": [
    "class Learner:\n",
    "    def __init__(self, model, dls, loss_func, lr, opt_func=optim.SGD): \n",
    "        # fastcore store_attr() reduces the amount of boilerplate that usually goes\n",
    "        # into an __init__() constructor.\n",
    "        fc.store_attr()\n",
    "\n",
    "    def one_batch(self):\n",
    "        # Load batch onto device\n",
    "        self.xb, self.yb = to_device(self.batch)\n",
    "        # Call the model and the loss function\n",
    "        self.preds = self.model(self.xb)\n",
    "        self.loss = self.loss_func(self.preds, self.yb)\n",
    "        # Carry out training and calculate stats if mode=training\n",
    "        if self.model.training:\n",
    "            self.loss.backward()\n",
    "            self.opt.step()\n",
    "            self.opt.zero_grad()\n",
    "        with torch.no_grad(): self.calc_stats()\n",
    "\n",
    "    def calc_stats(self):\n",
    "        acc = (self.preds.argmax(dim=1)==self.yb).float().sum()\n",
    "        self.accs.append(acc)\n",
    "        n = len(self.xb)\n",
    "        self.losses.append(self.loss*n)\n",
    "        self.ns.append(n)\n",
    "\n",
    "    def one_epoch(self, train):\n",
    "        # Set model mode\n",
    "        self.model.training = train\n",
    "        # Select training or validating set and call one_batch()\n",
    "        dl = self.dls.train if train else self.dls.valid\n",
    "        for self.num, self.batch in enumerate(dl): self.one_batch()\n",
    "        n = sum(self.ns)\n",
    "        print(self.epoch, self.model.training, sum(self.losses).item()/n, sum(self.accs).item()/n)\n",
    "    \n",
    "    def fit(self, n_epochs):\n",
    "        # Track accuracy, loss etc\n",
    "        self.accs, self.losses,self.ns = [], [], []\n",
    "        self.model.to(def_device)\n",
    "        # Create optim and store the num of epochs\n",
    "        self.opt = self.opt_func(self.model.parameters(), self.lr)\n",
    "        self.n_epochs = n_epochs\n",
    "        # For each epoch, call the one epoch function\n",
    "        for self.epoch in range(n_epochs):\n",
    "            self.one_epoch(True)                        # If training\n",
    "            with torch.no_grad(): self.one_epoch(False) # If evaluating"
   ]
  },
  {
   "cell_type": "markdown",
   "id": "2bfa528c-3a94-4298-bbac-60f5489663ec",
   "metadata": {},
   "source": [
    "We can test the new learner on the simple MLP. "
   ]
  },
  {
   "cell_type": "code",
   "execution_count": 9,
   "id": "bbbc6a91-e541-4ca3-b8e2-d8b33a836c7d",
   "metadata": {},
   "outputs": [],
   "source": [
    "m, nh = 28*28, 50\n",
    "model = nn.Sequential(nn.Linear(m, nh), nn.ReLU(), nn.Linear(nh, 10))"
   ]
  },
  {
   "cell_type": "code",
   "execution_count": 10,
   "id": "a0ea56d7-fd95-4f9d-9f45-a0d17538f772",
   "metadata": {},
   "outputs": [
    {
     "name": "stdout",
     "output_type": "stream",
     "text": [
      "0 True 1.1753046875 0.5986833333333333\n",
      "0 False 1.1203290178571428 0.6135285714285714\n"
     ]
    }
   ],
   "source": [
    "learn = Learner(model, dls, F.cross_entropy, lr=0.2)\n",
    "learn.fit(1)"
   ]
  },
  {
   "cell_type": "markdown",
   "id": "da9ab4f6-36bb-444d-86bb-eab71865a524",
   "metadata": {},
   "source": [
    "While the Learner works for an MLP, it lacks the flexibility to handle more complex architectures like AutoEncoders, Deep ConvNets etc."
   ]
  },
  {
   "cell_type": "markdown",
   "id": "82986276-52f0-486f-bfec-2f99e64f86dc",
   "metadata": {},
   "source": [
    "## **Basic Callbacks Learner**"
   ]
  },
  {
   "cell_type": "code",
   "execution_count": 11,
   "id": "fc19b2a7-f804-4fc8-bccf-97c9366545c3",
   "metadata": {},
   "outputs": [],
   "source": [
    "class CancelFitException(Exception): pass\n",
    "class CancelBatchException(Exception): pass\n",
    "class CancelEpochException(Exception): pass"
   ]
  },
  {
   "cell_type": "code",
   "execution_count": 12,
   "id": "108089f9-3b77-487d-b325-8a148f86452d",
   "metadata": {},
   "outputs": [],
   "source": [
    "# Base callback class with default order of 0\n",
    "class Callback(): order = 0"
   ]
  },
  {
   "cell_type": "code",
   "execution_count": 13,
   "id": "83781953-1167-44a8-866c-a60646fc6a72",
   "metadata": {},
   "outputs": [],
   "source": [
    "def run_cbs(cbs, method_nm, learn=None):\n",
    "    # Loop through each callback and sort them by their order attribute.\n",
    "    for cb in sorted(cbs, key=attrgetter('order')):\n",
    "        method = getattr(cb, method_nm, None)\n",
    "        if method is not None: method(learn) # Run method by order"
   ]
  },
  {
   "cell_type": "code",
   "execution_count": 14,
   "id": "847d1f75-9db0-4614-9e34-44696deaff89",
   "metadata": {},
   "outputs": [],
   "source": [
    "# Simple callback which updates counts based on the model's training runs.\n",
    "class CompletionCB(Callback):\n",
    "    def before_fit(self, learn): self.count = 0\n",
    "    def after_batch(self, learn): self.count += 1\n",
    "    def after_fit(self, learn): print(f'Completed {self.count} batches')"
   ]
  },
  {
   "cell_type": "code",
   "execution_count": 15,
   "id": "77023853-1fb2-42a3-84d3-eca4f5bcd03f",
   "metadata": {},
   "outputs": [
    {
     "name": "stdout",
     "output_type": "stream",
     "text": [
      "Completed 1 batches\n"
     ]
    }
   ],
   "source": [
    "# Demo\n",
    "cbs = [CompletionCB()]\n",
    "run_cbs(cbs, 'before_fit')\n",
    "run_cbs(cbs, 'after_batch')\n",
    "run_cbs(cbs, 'after_fit')"
   ]
  },
  {
   "cell_type": "markdown",
   "id": "e0da7d5c-5581-4b65-9973-8853ec096dd2",
   "metadata": {},
   "source": [
    "Now we can use additional callbacks to extend our demo. These callbacks will be added at key points within the Learner.\n",
    "\n",
    "Any one of these new callbacks i.e. `before_fit`, `after_fit`, `before_batch`, `after_batch`, `before_epoch` and `after_epoch` can raise the following exceptions.\n",
    "\n",
    "- `CancelFitException`\n",
    "- `CancelBatchException`\n",
    "- `CancelEpochException`\n",
    "\n",
    "Also, the use of `self.` throughout the Learner means that those objects or processes are modifiable using callbacks. The `__init__()` constructor basically allows the callback attribute `cb.learn` to be set equal to the learner. So, later on, we will be able to use `self.learn.model` in a callback class to access the Learner directly."
   ]
  },
  {
   "cell_type": "code",
   "execution_count": 16,
   "id": "2e157855-f893-4c32-a1f9-9fd9554a4bb2",
   "metadata": {},
   "outputs": [],
   "source": [
    "class Learner():\n",
    "    def __init__(self, model, dls, loss_func, lr, cbs, opt_func=optim.SGD): fc.store_attr()\n",
    "\n",
    "    def one_batch(self):\n",
    "        self.preds = self.model(self.batch[0])\n",
    "        self.loss = self.loss_func(self.preds, self.batch[1])\n",
    "        if self.model.training:\n",
    "            self.loss.backward()\n",
    "            self.opt.step()\n",
    "            self.opt.zero_grad()\n",
    "\n",
    "    def one_epoch(self, train):\n",
    "        self.model.train(train)\n",
    "        self.dl = self.dls.train if train else self.dls.valid\n",
    "        try:\n",
    "            self.callback('before_epoch')\n",
    "            for self.iter, self.batch in enumerate(self.dl):\n",
    "                try:\n",
    "                    self.callback('before_batch')\n",
    "                    self.one_batch()\n",
    "                    self.callback('after_batch')\n",
    "                except CancelBatchException: pass\n",
    "            self.callback('after_epoch')\n",
    "        except CancelEpochException: pass\n",
    "    \n",
    "    def fit(self, n_epochs):\n",
    "        self.n_epochs = n_epochs\n",
    "        self.epochs = range(n_epochs)\n",
    "        self.opt = self.opt_func(self.model.parameters(), self.lr)\n",
    "        try:\n",
    "            self.callback('before_fit')\n",
    "            for self.epoch in self.epochs:\n",
    "                self.one_epoch(True)\n",
    "                self.one_epoch(False)\n",
    "            self.callback('after_fit')\n",
    "        except CancelFitException: pass\n",
    "\n",
    "    def callback(self, method_nm): \n",
    "        # Takes a function method_nm and runs callbacks.\n",
    "        run_cbs(self.cbs, method_nm, self)"
   ]
  },
  {
   "cell_type": "code",
   "execution_count": 17,
   "id": "7392471c-1092-49f8-a63b-80a899153605",
   "metadata": {},
   "outputs": [],
   "source": [
    "m, nh = 28*28, 50\n",
    "def get_model(): return nn.Sequential(nn.Linear(m, nh), nn.ReLU(), nn.Linear(nh, 10))"
   ]
  },
  {
   "cell_type": "code",
   "execution_count": 18,
   "id": "8c2071e3-cc30-4767-9fca-6c133e3cf20b",
   "metadata": {},
   "outputs": [
    {
     "name": "stdout",
     "output_type": "stream",
     "text": [
      "Completed 64 batches\n"
     ]
    }
   ],
   "source": [
    "model = get_model()\n",
    "# The model will return the results from the Completion Callback above.\n",
    "learn = Learner(model, dls, F.cross_entropy, lr=0.2, cbs=[CompletionCB()])\n",
    "learn.fit(1)"
   ]
  },
  {
   "cell_type": "code",
   "execution_count": 19,
   "id": "b3f1d55a-0cc9-4c67-a578-f899b86147d5",
   "metadata": {},
   "outputs": [],
   "source": [
    "class SingleBatchCB(Callback):\n",
    "    order = 1\n",
    "    def after_batch(self, learn): raise CancelFitException()"
   ]
  },
  {
   "cell_type": "code",
   "execution_count": 20,
   "id": "c7276bfa-6431-49b3-8960-98e5a0d80bd9",
   "metadata": {},
   "outputs": [],
   "source": [
    "learn = Learner(get_model(), dls, F.cross_entropy, lr=0.2, cbs=[SingleBatchCB(), CompletionCB()])\n",
    "learn.fit(1)"
   ]
  },
  {
   "cell_type": "markdown",
   "id": "01eef682-5573-4278-a81d-371e59f4f7dc",
   "metadata": {},
   "source": [
    "## **Metrics**"
   ]
  },
  {
   "cell_type": "markdown",
   "id": "50e5d9cc-a86f-4681-8b3f-06e6fe6f7e08",
   "metadata": {},
   "source": [
    "As the framework begins to take shape, we won't be working exclusively with `Cross Entropy` loss. This is because the framework is supposed to be flexible for a wide range of deep learning problems, be they generative or otherwise.\n",
    "\n",
    "With this in mind, let's create a `Metrics` class. Here, we will also introduce the concept of [Sub-classing](https://llego.dev/posts/in-depth-guide-superclasses-subclasses-python/), which will allow us to calculate various metrics while increasing flexibility:\n",
    "\n",
    "> Superclasses and subclasses are key concepts in object-oriented programming that allow code reuse through inheritance. A superclass, also called a base class or parent class, contains attributes and methods that are common to a set of related classes. A subclass, also known as a derived class or child class, inherits from the superclass and specializes or extends its capabilities."
   ]
  },
  {
   "cell_type": "code",
   "execution_count": 21,
   "id": "2adf63ab-3077-451e-b7c1-b66984f371cc",
   "metadata": {},
   "outputs": [],
   "source": [
    "class Metric:\n",
    "    def __init__(self): self.reset()\n",
    "\n",
    "    def reset(self): \n",
    "        # Reset at the start of each epoch\n",
    "        self.vals, self.ns = [], []\n",
    "\n",
    "    def add(self, inp, targ=None, n=1): # n = number of items in the mini-batch\n",
    "        # Adds mini batches of data and call calculate\n",
    "        self.last = self.calc(inp, targ)\n",
    "        self.vals.append(self.last)\n",
    "        self.ns.append(n)\n",
    "\n",
    "    @property\n",
    "    def value(self):\n",
    "        ns = tensor(self.ns)\n",
    "        return (tensor(self.vals)*ns).sum() / ns.sum()\n",
    "\n",
    "    def calc(self, inps, targ): return inps"
   ]
  },
  {
   "cell_type": "markdown",
   "id": "c99c36e0-bcfc-4afc-ba23-0c104c8a757d",
   "metadata": {},
   "source": [
    "Here, `Accuracy` is the subclass of `Metric`. Whats happening under the hood is that `calc()`, when it is called in `Accuracy`, basically uses the code from the `Metric` class and runs its own version of the function instead of the parent / super-class's version."
   ]
  },
  {
   "cell_type": "code",
   "execution_count": 22,
   "id": "734025df-05b1-4042-ac69-a5515692d4dc",
   "metadata": {},
   "outputs": [],
   "source": [
    "class Accuracy(Metric):\n",
    "    # The sub-class runs this version of calc() instead of the parent's version.\n",
    "    def calc(self, inps, targs): return  (inps==targs).float().mean()"
   ]
  },
  {
   "cell_type": "code",
   "execution_count": 23,
   "id": "2e6687dc-15f6-4dc4-85e3-f54ca0f61903",
   "metadata": {},
   "outputs": [
    {
     "data": {
      "text/plain": [
       "tensor(0.45)"
      ]
     },
     "execution_count": 23,
     "metadata": {},
     "output_type": "execute_result"
    }
   ],
   "source": [
    "# For demonstration purposes, creating some random inputs and predictions\n",
    "acc = Accuracy()\n",
    "# Each call to add() stores the  inputs and predictions\n",
    "acc.add(tensor([0, 1, 2, 0, 1, 2]), tensor([0, 1, 1, 2, 1, 0]))\n",
    "acc.add(tensor([1, 1, 2, 0, 1]), tensor([0, 1, 1, 2, 1]))\n",
    "# Here value is a property of Metric\n",
    "acc.value"
   ]
  },
  {
   "cell_type": "code",
   "execution_count": 24,
   "id": "e1a4877c-942f-4d10-95be-e34f3ff6f2c8",
   "metadata": {},
   "outputs": [
    {
     "data": {
      "text/plain": [
       "(tensor(0.62), 0.62)"
      ]
     },
     "execution_count": 24,
     "metadata": {},
     "output_type": "execute_result"
    }
   ],
   "source": [
    "# In contrast to Accuracy(), Metric() will, by default, calculate the weighted average of whatever is passed.\n",
    "loss = Metric()\n",
    "loss.add(0.6, n=32)\n",
    "loss.add(0.9, n=2)\n",
    "\n",
    "loss.value, round((0.6*32 + 0.9*2) / (32+2), 2)"
   ]
  },
  {
   "cell_type": "markdown",
   "id": "3e20db2a-43ff-45f4-a5c2-3f48fcc49915",
   "metadata": {},
   "source": [
    "## **Some Callbacks - On the Way to Creating a Flexible Learner**"
   ]
  },
  {
   "cell_type": "markdown",
   "id": "070bfa73-18b0-4915-a77a-8543bcd28eeb",
   "metadata": {},
   "source": [
    "While the option certainly exists, we won't actually _need_ to write each metric class since most metrics already exist in PyTorch or its extended libraries / projects.\n",
    "\n",
    "With that in mind, we will use **[TorchEval](https://pytorch.org/torcheval/stable/torcheval.metrics.html)** moving forward."
   ]
  },
  {
   "cell_type": "code",
   "execution_count": 25,
   "id": "598b1172-9c55-4782-b33f-dea06db435be",
   "metadata": {},
   "outputs": [],
   "source": [
    "from torcheval.metrics import MulticlassAccuracy, Mean"
   ]
  },
  {
   "cell_type": "code",
   "execution_count": 26,
   "id": "bd203eb7-9a7a-42a4-9c0c-afdb4c4bd83e",
   "metadata": {},
   "outputs": [
    {
     "data": {
      "text/plain": [
       "tensor(0.50)"
      ]
     },
     "execution_count": 26,
     "metadata": {},
     "output_type": "execute_result"
    }
   ],
   "source": [
    "# Testing torcheval methods\n",
    "metric = MulticlassAccuracy()\n",
    "metric.update(tensor([0, 2, 1, 3]), tensor([0, 1, 2, 3]))\n",
    "metric.compute()"
   ]
  },
  {
   "cell_type": "code",
   "execution_count": 27,
   "id": "3ac934e2-a205-45da-b6e2-4b4acee88d0e",
   "metadata": {},
   "outputs": [
    {
     "data": {
      "text/plain": [
       "tensor(nan)"
      ]
     },
     "execution_count": 27,
     "metadata": {},
     "output_type": "execute_result"
    }
   ],
   "source": [
    "# Our reset function above does the exact same thing\n",
    "metric.reset()\n",
    "metric.compute()"
   ]
  },
  {
   "cell_type": "code",
   "execution_count": 28,
   "id": "0fbb5dd8-be00-4645-a544-3e4740a2b91a",
   "metadata": {},
   "outputs": [],
   "source": [
    "def to_cpu(x):\n",
    "    if isinstance(x, Mapping): return {k:to_cpu(v) for k, v in x.items()}\n",
    "    if isinstance(x, list): return[to_cpu(o) for o in x]\n",
    "    if isinstance(x, tuple): return tuple(to_cpu(list(x)))\n",
    "    res = x.detach().cpu()\n",
    "    return res.float() if res.dtype==torch.float16 else res"
   ]
  },
  {
   "cell_type": "code",
   "execution_count": 29,
   "id": "d0b65ade-f89f-4765-b7e8-0adbef18d165",
   "metadata": {},
   "outputs": [],
   "source": [
    "class MetricsCB(Callback):\n",
    "    def __init__(self, *ms, **metrics):\n",
    "        for o in ms: metrics[type(o).__name__] = o # if positional args are passed then grab the name from the type\n",
    "        self.metrics = metrics\n",
    "        self.all_metrics = copy(metrics)\n",
    "        self.all_metrics['loss'] = self.loss = Mean()\n",
    "\n",
    "    def _log(self, d): print(d)\n",
    "    \n",
    "    def before_fit(self, learn): learn.metrics = self # learner will start recording metrics\n",
    "        \n",
    "    def before_epoch(self, learn): [o.reset() for o in self.all_metrics.values()]\n",
    "\n",
    "    def after_epoch(self, learn):\n",
    "        log = {k: f'{v.compute():.3f}' for k, v in self.all_metrics.items()}\n",
    "        log['epoch'] = learn.epoch\n",
    "        log['train'] = 'train' if learn.model.training else 'eval'\n",
    "        self._log(log)\n",
    "\n",
    "    def after_batch(self, learn):\n",
    "        x, y, *_ = to_cpu(learn.batch) # grab both input and target\n",
    "        for m in self.metrics.values(): m.update(to_cpu(learn.preds), y)\n",
    "        self.loss.update(to_cpu(learn.loss), weight=len(x))"
   ]
  },
  {
   "cell_type": "markdown",
   "id": "3b12b30b-db47-49f0-9dc4-5cdbb6917b6c",
   "metadata": {},
   "source": [
    "Earlier on, we encountered errors when we first tried to increase the number of processes for our dataloaders. This callback, when fully built, will allow us to address such issues at the `before_fit` and the `before_batch` stages."
   ]
  },
  {
   "cell_type": "code",
   "execution_count": 30,
   "id": "f19c3d4c-c44a-4d82-9217-1b68d66e9404",
   "metadata": {},
   "outputs": [],
   "source": [
    "class DeviceCB(Callback):\n",
    "    def __init__(self, device=def_device): \n",
    "        # Option to change devices\n",
    "        fc.store_attr()\n",
    "\n",
    "    def before_fit(self, learn):\n",
    "        # Before fitting, load model onto device\n",
    "        if hasattr(learn.model, 'to'): learn.model.to(self.device)\n",
    "\n",
    "    def before_batch(self, learn): \n",
    "        # Before each batch, load batch onto device\n",
    "        learn.batch = to_device(learn.batch, device=self.device)"
   ]
  },
  {
   "cell_type": "code",
   "execution_count": 31,
   "id": "7eb5795e-1780-4285-8b0a-f71e22bcc3b5",
   "metadata": {},
   "outputs": [
    {
     "name": "stdout",
     "output_type": "stream",
     "text": [
      "{'accuracy': '0.602', 'loss': '1.183', 'epoch': 0, 'train': 'train'}\n",
      "{'accuracy': '0.700', 'loss': '0.847', 'epoch': 0, 'train': 'eval'}\n"
     ]
    }
   ],
   "source": [
    "model = get_model()\n",
    "metrics = MetricsCB(accuracy=MulticlassAccuracy())\n",
    "learn = Learner(model, dls, F.cross_entropy, lr=0.2, cbs=[DeviceCB(), metrics])\n",
    "learn.fit(1)"
   ]
  },
  {
   "cell_type": "markdown",
   "id": "8b85f117-77cd-4edd-b398-e59c4408e99c",
   "metadata": {},
   "source": [
    "## **Moving to a Flexible Learner**"
   ]
  },
  {
   "cell_type": "markdown",
   "id": "83f7a5d2-c6c0-41f7-a7e9-01ce4f411ec8",
   "metadata": {},
   "source": [
    "This update, while being more advanced and flexible than previous versions of the Learner, shortens both the `one_epoch` and `fit` functions through the use of the `@contextmanager` decorator.\n",
    "\n",
    "Reduction in code duplication is the primary goal here."
   ]
  },
  {
   "cell_type": "code",
   "execution_count": 32,
   "id": "8904be64-e979-49f9-bbf1-720ef4e49026",
   "metadata": {},
   "outputs": [],
   "source": [
    "class Learner():\n",
    "    def __init__(self, model, dls=(0,), loss_func=F.mse_loss, lr=0.1, cbs=None, opt_func=optim.SGD):\n",
    "        cbs = fc.L(cbs)\n",
    "        fc.store_attr()\n",
    "\n",
    "    @contextmanager\n",
    "    def cb_ctx(self, nm):\n",
    "        try: # Putting the callbacks in try / except blocks allows for flow control\n",
    "            self.callback(f'before_{nm}')\n",
    "            yield # call all blocks for before_epoch, before_fit and before_batch\n",
    "            self.callback(f'after_{nm}')\n",
    "        except globals()[f'Cancel{nm.title()}Exception']: pass\n",
    "        finally: self.callback(f'cleanup_{nm}')\n",
    "\n",
    "    def one_epoch(self, train):\n",
    "        self.model.train(train)\n",
    "        self.dl = self.dls.train if train else self.dls.valid\n",
    "        with self.cb_ctx('epoch'): # Refer to @contextmanager above\n",
    "            for self.iter, self.batch in enumerate(self.dl):\n",
    "                # Using a context manager here allows us to call the functions while defining them separately\n",
    "                # hence more flexibility. These funcs will call __getattr__()\n",
    "                with self.cb_ctx('batch'):\n",
    "                    self.predict()\n",
    "                    self.get_loss()\n",
    "                    if self.training:\n",
    "                        self.backward()\n",
    "                        self.step()\n",
    "                        self.zero_grad()\n",
    "\n",
    "    def fit(self, n_epochs=1, train=True, valid=True, cbs=None, lr=None):\n",
    "        cbs = fc.L(cbs)\n",
    "        # Reference NB 11 and 12 for `add_cb` and `rm_cb`\n",
    "        for cb in cbs: self.cbs.append(cb)\n",
    "        try:\n",
    "            self.n_epochs = n_epochs\n",
    "            self.epochs = range(n_epochs)\n",
    "            self.opt = self.opt_func(self.model.parameters(), self.lr if lr is None else lr)\n",
    "            with self.cb_ctx('fit'): # Refer to @contextmanager above\n",
    "                for self.epoch in self.epochs:\n",
    "                    if train: self.one_epoch(True)\n",
    "                    if valid: torch.no_grad()(self.one_epoch)(False)\n",
    "        finally:\n",
    "            for cb in cbs: self.cbs.remove(cb)\n",
    "\n",
    "    def __getattr__(self, name):\n",
    "        # When the following func. names are called in one epoch, don't raise an error.\n",
    "        if name in ('predict', 'get_loss', 'backward', 'step', 'zero_grad'): return partial(self.callback, name)\n",
    "        raise AttributeError(name)\n",
    "\n",
    "    def callback(self, method_nm): run_cbs(self.cbs, method_nm, self)\n",
    "\n",
    "    @property\n",
    "    def training(self): return self.model.training"
   ]
  },
  {
   "cell_type": "markdown",
   "id": "bbcdfe93-e2d9-4e76-99cb-1ad4ab1e36ad",
   "metadata": {},
   "source": [
    "With the addition of the context manager and simplification of the `one_epoch()` function, we can create a new callback which executes `predict()`, `get_loss()`, `backward()`, `step()` and `zero_grad()` - while refactoring the code. \n",
    "\n",
    "The `TrainCB()` callback can be edited to add compatibility with HuggingFace Accelerate or other platforms and frameworks. "
   ]
  },
  {
   "cell_type": "code",
   "execution_count": 33,
   "id": "f29764f4-246d-4757-ae07-ed8edb6f5fd7",
   "metadata": {},
   "outputs": [],
   "source": [
    "class TrainCB(Callback):\n",
    "    def __init__(self, n_inp=1): self.n_inp = n_inp # We can train with more than one input\n",
    "    \n",
    "    def predict(self, learn): learn.preds = learn.model(*learn.batch[:self.n_inp])\n",
    "    \n",
    "    def get_loss(self, learn): learn.loss = learn.loss_func(learn.preds, *learn.batch[self.n_inp:])\n",
    "\n",
    "    def backward(self, learn): learn.loss.backward()\n",
    "\n",
    "    def step(self, learn): learn.opt.step()\n",
    "\n",
    "    def zero_grad(self, learn): learn.opt.zero_grad()"
   ]
  },
  {
   "cell_type": "markdown",
   "id": "a652fbc3-d1ed-490f-82cb-094d87b916bc",
   "metadata": {},
   "source": [
    "Let's create a progress bar as well."
   ]
  },
  {
   "cell_type": "code",
   "execution_count": 34,
   "id": "a2ebd9ae-0b53-4589-952d-f6aac726f31a",
   "metadata": {},
   "outputs": [],
   "source": [
    "class ProgressCB(Callback):\n",
    "    order = MetricsCB.order+1\n",
    "\n",
    "    def __init__(self, plot=False): self.plot = plot\n",
    "\n",
    "    def before_fit(self, learn):\n",
    "        # master_bar() wraps learn.epochs in a progress bar. It is then asssigned to\n",
    "        # self.mbar and also back to learn.epochs.\n",
    "        learn.epochs = self.mbar = master_bar(learn.epochs)\n",
    "        self.first = True\n",
    "        if hasattr(learn, 'metrics'): learn.metrics._log = self._log # overwrite learner _log() with ProgressCB._log()\n",
    "        self.losses = []\n",
    "        self.val_losses = []\n",
    "\n",
    "    def _log(self, d):\n",
    "        if self.first:\n",
    "            self.mbar.write(list(d), table=True)\n",
    "            self.first = False\n",
    "        self.mbar.write(list(d.values()), table=True)\n",
    "\n",
    "    def before_epoch(self, learn): learn.dl = progress_bar(learn.dl, leave=False, parent=self.mbar)\n",
    "\n",
    "    def after_batch(self, learn):\n",
    "        learn.dl.comment = f'{learn.loss:.3f}'\n",
    "        if self.plot and hasattr(learn, 'metrics') and learn.training:\n",
    "            self.losses.append(learn.loss.item())\n",
    "            if self.val_losses: self.mbar.update_graph([[fc.L.range(self.losses), self.losses],\n",
    "                                                        [fc.L.range(learn.epoch).map(lambda x: (x+1)*len(learn.dls.train)), \n",
    "                                                         self.val_losses]])\n",
    "    \n",
    "    def after_epoch(self, learn): \n",
    "        if not learn.training:\n",
    "            if self.plot and hasattr(learn, 'metrics'): \n",
    "                self.val_losses.append(learn.metrics.all_metrics['loss'].compute())\n",
    "                self.mbar.update_graph([[fc.L.range(self.losses), self.losses],\n",
    "                                        [fc.L.range(learn.epoch+1).map(lambda x: (x+1)*len(learn.dls.train)), \n",
    "                                         self.val_losses]])"
   ]
  },
  {
   "cell_type": "code",
   "execution_count": 35,
   "id": "d5f9740b-9d3e-4c7f-9526-2734687321fa",
   "metadata": {},
   "outputs": [],
   "source": [
    "model = get_model()"
   ]
  },
  {
   "cell_type": "code",
   "execution_count": 36,
   "id": "889b736a-e787-426a-83a4-c1ad79b4f70c",
   "metadata": {},
   "outputs": [
    {
     "data": {
      "text/html": [
       "\n",
       "<style>\n",
       "    /* Turns off some styling */\n",
       "    progress {\n",
       "        /* gets rid of default border in Firefox and Opera. */\n",
       "        border: none;\n",
       "        /* Needs to be in here for Safari polyfill so background images work as expected. */\n",
       "        background-size: auto;\n",
       "    }\n",
       "    progress:not([value]), progress:not([value])::-webkit-progress-bar {\n",
       "        background: repeating-linear-gradient(45deg, #7e7e7e, #7e7e7e 10px, #5c5c5c 10px, #5c5c5c 20px);\n",
       "    }\n",
       "    .progress-bar-interrupted, .progress-bar-interrupted::-webkit-progress-bar {\n",
       "        background: #F44336;\n",
       "    }\n",
       "</style>\n"
      ],
      "text/plain": [
       "<IPython.core.display.HTML object>"
      ]
     },
     "metadata": {},
     "output_type": "display_data"
    },
    {
     "data": {
      "text/html": [
       "<table border=\"1\" class=\"dataframe\">\n",
       "  <thead>\n",
       "    <tr style=\"text-align: left;\">\n",
       "      <th>accuracy</th>\n",
       "      <th>loss</th>\n",
       "      <th>epoch</th>\n",
       "      <th>train</th>\n",
       "    </tr>\n",
       "  </thead>\n",
       "  <tbody>\n",
       "    <tr>\n",
       "      <td>0.596</td>\n",
       "      <td>1.167</td>\n",
       "      <td>0</td>\n",
       "      <td>train</td>\n",
       "    </tr>\n",
       "    <tr>\n",
       "      <td>0.729</td>\n",
       "      <td>0.794</td>\n",
       "      <td>0</td>\n",
       "      <td>eval</td>\n",
       "    </tr>\n",
       "    <tr>\n",
       "      <td>0.743</td>\n",
       "      <td>0.710</td>\n",
       "      <td>1</td>\n",
       "      <td>train</td>\n",
       "    </tr>\n",
       "    <tr>\n",
       "      <td>0.764</td>\n",
       "      <td>0.654</td>\n",
       "      <td>1</td>\n",
       "      <td>eval</td>\n",
       "    </tr>\n",
       "    <tr>\n",
       "      <td>0.778</td>\n",
       "      <td>0.615</td>\n",
       "      <td>2</td>\n",
       "      <td>train</td>\n",
       "    </tr>\n",
       "    <tr>\n",
       "      <td>0.799</td>\n",
       "      <td>0.575</td>\n",
       "      <td>2</td>\n",
       "      <td>eval</td>\n",
       "    </tr>\n",
       "    <tr>\n",
       "      <td>0.802</td>\n",
       "      <td>0.560</td>\n",
       "      <td>3</td>\n",
       "      <td>train</td>\n",
       "    </tr>\n",
       "    <tr>\n",
       "      <td>0.797</td>\n",
       "      <td>0.571</td>\n",
       "      <td>3</td>\n",
       "      <td>eval</td>\n",
       "    </tr>\n",
       "    <tr>\n",
       "      <td>0.814</td>\n",
       "      <td>0.529</td>\n",
       "      <td>4</td>\n",
       "      <td>train</td>\n",
       "    </tr>\n",
       "    <tr>\n",
       "      <td>0.783</td>\n",
       "      <td>0.586</td>\n",
       "      <td>4</td>\n",
       "      <td>eval</td>\n",
       "    </tr>\n",
       "  </tbody>\n",
       "</table>"
      ],
      "text/plain": [
       "<IPython.core.display.HTML object>"
      ]
     },
     "metadata": {},
     "output_type": "display_data"
    },
    {
     "data": {
      "image/png": "[encoded data removed]",
      "text/plain": [
       "<Figure size 600x400 with 1 Axes>"
      ]
     },
     "metadata": {},
     "output_type": "display_data"
    }
   ],
   "source": [
    "metrics = MetricsCB(accuracy=MulticlassAccuracy())\n",
    "cbs = [TrainCB(), DeviceCB(), metrics, ProgressCB(plot=True)]\n",
    "learn = Learner(model, dls, F.cross_entropy, lr=0.2, cbs=cbs)\n",
    "learn.fit(5)"
   ]
  },
  {
   "cell_type": "markdown",
   "id": "0f1663e3-727d-415f-9027-22abca5104f4",
   "metadata": {},
   "source": [
    "### **Additional Modifications to the Flexible Learner**"
   ]
  },
  {
   "cell_type": "markdown",
   "id": "3789a32c-60fb-44a9-bee1-04a18cf1dedc",
   "metadata": {},
   "source": [
    "There is an additional section in the course NB, where Jeremy mentions:\n",
    "\n",
    "> we noticed that `contextlib.context_manager` has a surprising \"feature\" which doesn't let us raise an exception before the yield. Therefore we've replaced the context manager with a decorator in this updated version of `Learner`. We have also added a few more callbacks in `one_epoch()`."
   ]
  },
  {
   "cell_type": "code",
   "execution_count": 37,
   "id": "04a3abf7-3398-4c1a-934c-1a4784d31b4e",
   "metadata": {},
   "outputs": [],
   "source": [
    "class with_cbs:\n",
    "    def __init__(self, nm): self.nm = nm\n",
    "    \n",
    "    def __call__(self, f):\n",
    "        def _f(o, *args, **kwargs):\n",
    "            try:\n",
    "                o.callback(f'before_{self.nm}')\n",
    "                f(o, *args, **kwargs)\n",
    "                o.callback(f'after_{self.nm}')\n",
    "            except globals()[f'Cancel{self.nm.title()}Exception']: pass\n",
    "            finally: o.callback(f'cleanup_{self.nm}')\n",
    "        return _f"
   ]
  },
  {
   "cell_type": "code",
   "execution_count": 38,
   "id": "a9a42af5-ae2d-4319-83f1-40ff19cb85dc",
   "metadata": {},
   "outputs": [],
   "source": [
    "class Learner():\n",
    "    def __init__(self, model, dls=(0,), loss_func=F.mse_loss, lr=0.1, cbs=None, opt_func=optim.SGD):\n",
    "        cbs = fc.L(cbs)\n",
    "        fc.store_attr()\n",
    "\n",
    "    @with_cbs('batch')\n",
    "    def _one_batch(self):\n",
    "        self.predict()\n",
    "        self.callback('after_predict')\n",
    "        self.get_loss()\n",
    "        self.callback('after_loss')\n",
    "        if self.training:\n",
    "            self.backward()\n",
    "            self.callback('after_backward')\n",
    "            self.step()\n",
    "            self.callback('after_step')\n",
    "            self.zero_grad()\n",
    "\n",
    "    @with_cbs('epoch')\n",
    "    def _one_epoch(self):\n",
    "        for self.iter, self.batch in enumerate(self.dl): self._one_batch()\n",
    "\n",
    "    def one_epoch(self, training):\n",
    "        self.model.train(training)\n",
    "        self.dl = self.dls.train if training else self.dls.valid\n",
    "        self._one_epoch()\n",
    "\n",
    "    @with_cbs('fit')\n",
    "    def _fit(self, train, valid):\n",
    "        for self.epoch in self.epochs:\n",
    "            if train: self.one_epoch(True)\n",
    "            if valid: torch.no_grad()(self.one_epoch)(False)\n",
    "\n",
    "    def fit(self, n_epochs=1, train=True, valid=True, cbs=None, lr=None):\n",
    "        cbs = fc.L(cbs)\n",
    "        # Reference NB 11 and 12 for `add_cb` and `rm_cb`\n",
    "        for cb in cbs: self.cbs.append(cb)\n",
    "        try:\n",
    "            self.n_epochs = n_epochs\n",
    "            self.epochs = range(n_epochs)\n",
    "            if lr is None: lr = self.lr\n",
    "            if self.opt_func: self.opt = self.opt_func(self.model.parameters(), lr)\n",
    "            self._fit(train, valid)\n",
    "        finally:\n",
    "            for cb in cbs: self.cbs.remove(cb)\n",
    "\n",
    "    def __getattr__(self, name):\n",
    "        if name in ('predict', 'get_loss', 'backward', 'step', 'zero_grad'): return partial(self.callback, name)\n",
    "        raise AttributeError(name)\n",
    "\n",
    "    def callback(self, method_nm): run_cbs(self.cbs, method_nm, self)\n",
    "\n",
    "    @property\n",
    "    def training(self): return self.model.training                "
   ]
  },
  {
   "cell_type": "code",
   "execution_count": 39,
   "id": "18556a4e-96d9-49f5-8514-cb92556aaf07",
   "metadata": {},
   "outputs": [
    {
     "data": {
      "text/html": [
       "\n",
       "<style>\n",
       "    /* Turns off some styling */\n",
       "    progress {\n",
       "        /* gets rid of default border in Firefox and Opera. */\n",
       "        border: none;\n",
       "        /* Needs to be in here for Safari polyfill so background images work as expected. */\n",
       "        background-size: auto;\n",
       "    }\n",
       "    progress:not([value]), progress:not([value])::-webkit-progress-bar {\n",
       "        background: repeating-linear-gradient(45deg, #7e7e7e, #7e7e7e 10px, #5c5c5c 10px, #5c5c5c 20px);\n",
       "    }\n",
       "    .progress-bar-interrupted, .progress-bar-interrupted::-webkit-progress-bar {\n",
       "        background: #F44336;\n",
       "    }\n",
       "</style>\n"
      ],
      "text/plain": [
       "<IPython.core.display.HTML object>"
      ]
     },
     "metadata": {},
     "output_type": "display_data"
    },
    {
     "data": {
      "text/html": [
       "<table border=\"1\" class=\"dataframe\">\n",
       "  <thead>\n",
       "    <tr style=\"text-align: left;\">\n",
       "      <th>accuracy</th>\n",
       "      <th>loss</th>\n",
       "      <th>epoch</th>\n",
       "      <th>train</th>\n",
       "    </tr>\n",
       "  </thead>\n",
       "  <tbody>\n",
       "    <tr>\n",
       "      <td>0.619</td>\n",
       "      <td>1.167</td>\n",
       "      <td>0</td>\n",
       "      <td>train</td>\n",
       "    </tr>\n",
       "    <tr>\n",
       "      <td>0.714</td>\n",
       "      <td>0.792</td>\n",
       "      <td>0</td>\n",
       "      <td>eval</td>\n",
       "    </tr>\n",
       "  </tbody>\n",
       "</table>"
      ],
      "text/plain": [
       "<IPython.core.display.HTML object>"
      ]
     },
     "metadata": {},
     "output_type": "display_data"
    },
    {
     "data": {
      "image/png": "[encoded data removed]",
      "text/plain": [
       "<Figure size 600x400 with 1 Axes>"
      ]
     },
     "metadata": {},
     "output_type": "display_data"
    }
   ],
   "source": [
    "model = get_model()\n",
    "\n",
    "metrics = MetricsCB(accuracy=MulticlassAccuracy())\n",
    "cbs = [TrainCB(), DeviceCB(), metrics, ProgressCB(plot=True)]\n",
    "learn = Learner(model, dls, F.cross_entropy, lr=0.2, cbs=cbs)\n",
    "learn.fit(1)"
   ]
  },
  {
   "cell_type": "markdown",
   "id": "7d128fe5-dff6-4308-93bb-86b5643e88cc",
   "metadata": {},
   "source": [
    "## **TrainLearner and Momentum Learner - Using Subclasses Instead of Callbacks** "
   ]
  },
  {
   "cell_type": "markdown",
   "id": "5e2e297c-04ba-42ce-aa1f-e0f8f5aaabff",
   "metadata": {},
   "source": [
    "Notice that we don't need to call `self.learn.{}` like we did in the callbacks. We can call `self.{}` since `TrainLearner` will be a subclass of `Learner`. "
   ]
  },
  {
   "cell_type": "code",
   "execution_count": 40,
   "id": "b57a242b-ce69-4f2b-b501-87930e0a1870",
   "metadata": {},
   "outputs": [],
   "source": [
    "class TrainLearner(Learner): # subclassing\n",
    "    def predict(self): self.preds = self.model(self.batch[0])\n",
    "\n",
    "    def get_loss(self): self.loss = self.loss_func(self.preds, self.batch[1])\n",
    "\n",
    "    def backward(self): self.loss.backward()\n",
    "\n",
    "    def step(self): self.opt.step()\n",
    "\n",
    "    def zero_grad(self): self.opt.zero_grad()"
   ]
  },
  {
   "cell_type": "markdown",
   "id": "499741c6-42f8-4689-b195-aa6ba585d6d9",
   "metadata": {},
   "source": [
    "Recall that the default implementation of `zero_grad()` zeros the gradients. We can now overwrite that function, using a new subclass called `MomentumLearner`, to retain the gradients while multiplying them with a new parameter `momentum`. **[Here](https://paperswithcode.com/method/sgd-with-momentum)** is a quick review of the concept."
   ]
  },
  {
   "cell_type": "code",
   "execution_count": 41,
   "id": "eb649da0-9828-4d4a-b3ff-0b97a202b603",
   "metadata": {},
   "outputs": [],
   "source": [
    "class MomentumLearner(TrainLearner):\n",
    "    def __init__(self, model, dls, loss_func, lr=None, cbs=None, opt_func=optim.SGD, mom=0.85):\n",
    "        self.mom = mom\n",
    "        super().__init__(model, dls, loss_func, lr, cbs, opt_func)\n",
    "\n",
    "    def zero_grad(self):\n",
    "        with torch.no_grad(): \n",
    "            # Using the grads directly makes this a leaner implementation than standard momentum \n",
    "            for p in self.model.parameters(): p.grad *= self.mom"
   ]
  },
  {
   "cell_type": "markdown",
   "id": "848bb86a-9681-486f-8bc7-f7bdb2ed9721",
   "metadata": {},
   "source": [
    "These blocks allow us to effectively get rid of the `TrainCB` callback."
   ]
  },
  {
   "cell_type": "code",
   "execution_count": 42,
   "id": "0585ef83-2ced-4354-bd91-348550a3ac1e",
   "metadata": {},
   "outputs": [
    {
     "data": {
      "text/html": [
       "\n",
       "<style>\n",
       "    /* Turns off some styling */\n",
       "    progress {\n",
       "        /* gets rid of default border in Firefox and Opera. */\n",
       "        border: none;\n",
       "        /* Needs to be in here for Safari polyfill so background images work as expected. */\n",
       "        background-size: auto;\n",
       "    }\n",
       "    progress:not([value]), progress:not([value])::-webkit-progress-bar {\n",
       "        background: repeating-linear-gradient(45deg, #7e7e7e, #7e7e7e 10px, #5c5c5c 10px, #5c5c5c 20px);\n",
       "    }\n",
       "    .progress-bar-interrupted, .progress-bar-interrupted::-webkit-progress-bar {\n",
       "        background: #F44336;\n",
       "    }\n",
       "</style>\n"
      ],
      "text/plain": [
       "<IPython.core.display.HTML object>"
      ]
     },
     "metadata": {},
     "output_type": "display_data"
    },
    {
     "data": {
      "text/html": [
       "<table border=\"1\" class=\"dataframe\">\n",
       "  <thead>\n",
       "    <tr style=\"text-align: left;\">\n",
       "      <th>accuracy</th>\n",
       "      <th>loss</th>\n",
       "      <th>epoch</th>\n",
       "      <th>train</th>\n",
       "    </tr>\n",
       "  </thead>\n",
       "  <tbody>\n",
       "    <tr>\n",
       "      <td>0.676</td>\n",
       "      <td>0.941</td>\n",
       "      <td>0</td>\n",
       "      <td>train</td>\n",
       "    </tr>\n",
       "    <tr>\n",
       "      <td>0.790</td>\n",
       "      <td>0.595</td>\n",
       "      <td>0</td>\n",
       "      <td>eval</td>\n",
       "    </tr>\n",
       "    <tr>\n",
       "      <td>0.822</td>\n",
       "      <td>0.512</td>\n",
       "      <td>1</td>\n",
       "      <td>train</td>\n",
       "    </tr>\n",
       "    <tr>\n",
       "      <td>0.826</td>\n",
       "      <td>0.499</td>\n",
       "      <td>1</td>\n",
       "      <td>eval</td>\n",
       "    </tr>\n",
       "    <tr>\n",
       "      <td>0.838</td>\n",
       "      <td>0.462</td>\n",
       "      <td>2</td>\n",
       "      <td>train</td>\n",
       "    </tr>\n",
       "    <tr>\n",
       "      <td>0.823</td>\n",
       "      <td>0.515</td>\n",
       "      <td>2</td>\n",
       "      <td>eval</td>\n",
       "    </tr>\n",
       "    <tr>\n",
       "      <td>0.846</td>\n",
       "      <td>0.438</td>\n",
       "      <td>3</td>\n",
       "      <td>train</td>\n",
       "    </tr>\n",
       "    <tr>\n",
       "      <td>0.828</td>\n",
       "      <td>0.478</td>\n",
       "      <td>3</td>\n",
       "      <td>eval</td>\n",
       "    </tr>\n",
       "    <tr>\n",
       "      <td>0.855</td>\n",
       "      <td>0.414</td>\n",
       "      <td>4</td>\n",
       "      <td>train</td>\n",
       "    </tr>\n",
       "    <tr>\n",
       "      <td>0.835</td>\n",
       "      <td>0.463</td>\n",
       "      <td>4</td>\n",
       "      <td>eval</td>\n",
       "    </tr>\n",
       "  </tbody>\n",
       "</table>"
      ],
      "text/plain": [
       "<IPython.core.display.HTML object>"
      ]
     },
     "metadata": {},
     "output_type": "display_data"
    },
    {
     "data": {
      "image/png": "[encoded data removed]",
      "text/plain": [
       "<Figure size 600x400 with 1 Axes>"
      ]
     },
     "metadata": {},
     "output_type": "display_data"
    }
   ],
   "source": [
    "metrics = MetricsCB(accuracy=MulticlassAccuracy())\n",
    "cbs = [DeviceCB(), metrics, ProgressCB(plot=True)]\n",
    "learn = MomentumLearner(get_model(), dls, F.cross_entropy, lr=0.1, cbs=cbs)\n",
    "learn.fit(5)"
   ]
  },
  {
   "cell_type": "markdown",
   "id": "4f681ed6-dd23-4dac-8e96-0d3b40080f97",
   "metadata": {},
   "source": [
    "## **LR Finder from FastAI**"
   ]
  },
  {
   "cell_type": "code",
   "execution_count": 43,
   "id": "bd67902d-b075-49bc-81a3-b87125bfbd38",
   "metadata": {},
   "outputs": [],
   "source": [
    "class LRFinderCB(Callback):\n",
    "    def __init__(self, lr_mult=1.3): fc.store_attr()\n",
    "\n",
    "    def before_fit(self, learn):\n",
    "        self.lrs, self.losses = [], []\n",
    "        self.min = math.inf\n",
    "\n",
    "    def after_batch(self, learn):\n",
    "        if not learn.training: raise CancelEpochException()\n",
    "        self.lrs.append(learn.opt.param_groups[0]['lr'])\n",
    "        loss = to_cpu(learn.loss)\n",
    "        self.losses.append(loss)\n",
    "        if loss < self.min: self.min = loss\n",
    "        if loss > self.min*3: raise CancelFitException()\n",
    "        for g in learn.opt.param_groups: g['lr'] *= self.lr_mult"
   ]
  },
  {
   "cell_type": "code",
   "execution_count": 44,
   "id": "8e1a1493-6816-4880-ab81-b82f8b1223e2",
   "metadata": {},
   "outputs": [
    {
     "data": {
      "image/png": "[encoded data removed]",
      "text/plain": [
       "<Figure size 640x480 with 1 Axes>"
      ]
     },
     "metadata": {},
     "output_type": "display_data"
    }
   ],
   "source": [
    "lrfind = LRFinderCB() # instantiating so that we can grab the losses and learning rates\n",
    "cbs = [DeviceCB(), lrfind]\n",
    "learn = MomentumLearner(get_model(), dls, F.cross_entropy, lr=1e-4, cbs=cbs)\n",
    "learn.fit(1)\n",
    "plt.plot(lrfind.lrs, lrfind.losses)\n",
    "plt.xscale('log')"
   ]
  },
  {
   "cell_type": "markdown",
   "id": "2b49ce5f-ca2b-4fc9-b1c7-3917f39268f9",
   "metadata": {},
   "source": [
    "### **Add PyTorch's `LR_Scheduler` to `LRFinderCB`**"
   ]
  },
  {
   "cell_type": "code",
   "execution_count": 45,
   "id": "a70a5a47-0090-481f-af39-7cfd0c30a65c",
   "metadata": {},
   "outputs": [],
   "source": [
    "from torch.optim.lr_scheduler import ExponentialLR"
   ]
  },
  {
   "cell_type": "markdown",
   "id": "ef181665-5448-4c47-b725-89edce9f2abe",
   "metadata": {},
   "source": [
    "The `ExponentialLR` scheduler is used to progressively increase the learning rate in an exponential manner during training.\n",
    "- The scheduler multiplies the learning rate by a constant factor `gamma` during the training process.\n",
    "- `ExponentialLR` will ensure that `LRFinderCB` changes learning rates smoothly and predicticably.\n",
    "- If the loss becomes `NaN` or exceeds `max_mult` of the minimum loss observed, then the training is stopped early."
   ]
  },
  {
   "cell_type": "code",
   "execution_count": 46,
   "id": "c32f7546-0ffe-412a-9b6f-9283231d692e",
   "metadata": {},
   "outputs": [],
   "source": [
    "class LRFinderCB(Callback):\n",
    "    def __init__(self, gamma=1.3, max_mult=3): fc.store_attr()\n",
    "\n",
    "    def before_fit(self, learn):\n",
    "        self.sched = ExponentialLR(learn.opt, self.gamma)\n",
    "        self.lrs, self.losses = [], []\n",
    "        self.min = math.inf\n",
    "\n",
    "    def after_batch(self, learn):\n",
    "        if not learn.training: raise CancelEpochException()\n",
    "        self.lrs.append(learn.opt.param_groups[0]['lr'])\n",
    "        loss = to_cpu(learn.loss)\n",
    "        self.losses.append(loss)\n",
    "        if loss < self.min: self.min = loss\n",
    "        if math.isnan(loss) or (loss > self.min*self.max_mult): \n",
    "            raise CancelFitException()\n",
    "        self.sched.step()\n",
    "\n",
    "    def cleanup_fit(self, learn):\n",
    "        plt.plot(self.lrs, self.losses)\n",
    "        plt.xscale('log')"
   ]
  },
  {
   "cell_type": "code",
   "execution_count": 47,
   "id": "2e44ee3e-ae9a-4b67-999f-ce8b2df7672f",
   "metadata": {},
   "outputs": [
    {
     "data": {
      "image/png": "[encoded data removed]",
      "text/plain": [
       "<Figure size 640x480 with 1 Axes>"
      ]
     },
     "metadata": {},
     "output_type": "display_data"
    }
   ],
   "source": [
    "cbs = [DeviceCB()]\n",
    "learn = MomentumLearner(get_model(), dls, F.cross_entropy, lr=1e-5, cbs=cbs)\n",
    "learn.fit(3, cbs=LRFinderCB())"
   ]
  },
  {
   "cell_type": "markdown",
   "id": "7478d55f-5df7-4d11-8d81-276ccfe6a1ea",
   "metadata": {},
   "source": [
    "### **LR_FIND** patch"
   ]
  },
  {
   "cell_type": "markdown",
   "id": "d6508f17-e1b7-44f7-8711-bd236cb6d6bf",
   "metadata": {},
   "source": [
    "`lr_find` is a shorter way to use `LRFinderCB`.\n",
    "\n",
    "We will use the convenient `fc.patch` decorator which takes a function (including its parameters) and converts it into a method of the class entered as the first parameter passed to the positional arg.\n",
    "\n",
    "So entering ```lr_find(self: Learner)``` will create `Learner.lr_find()`. This, by the way, is added for one fit."
   ]
  },
  {
   "cell_type": "code",
   "execution_count": 48,
   "id": "b497d133-1ba8-4abf-b1a8-c865eb42c79b",
   "metadata": {},
   "outputs": [],
   "source": [
    "@fc.patch\n",
    "def lr_find(self: Learner, gamma=1.3, max_mult=3, start_lr=1e-5, max_epochs=10):\n",
    "    self.fit(max_epochs, lr=start_lr, cbs=LRFinderCB(gamma=gamma, max_mult=max_mult))"
   ]
  },
  {
   "cell_type": "code",
   "execution_count": 49,
   "id": "20e74c05-434f-4429-912a-badecc7f3041",
   "metadata": {},
   "outputs": [
    {
     "data": {
      "image/png": "[encoded data removed]",
      "text/plain": [
       "<Figure size 640x480 with 1 Axes>"
      ]
     },
     "metadata": {},
     "output_type": "display_data"
    }
   ],
   "source": [
    "MomentumLearner(get_model(), dls, F.cross_entropy, cbs=cbs).lr_find()"
   ]
  },
  {
   "cell_type": "code",
   "execution_count": null,
   "id": "e53ec932-7439-48ae-ac1e-e7c512808602",
   "metadata": {},
   "outputs": [],
   "source": []
  }
 ],
 "metadata": {
  "kernelspec": {
   "display_name": "Python 3 (ipykernel)",
   "language": "python",
   "name": "python3"
  },
  "language_info": {
   "codemirror_mode": {
    "name": "ipython",
    "version": 3
   },
   "file_extension": ".py",
   "mimetype": "text/x-python",
   "name": "python",
   "nbconvert_exporter": "python",
   "pygments_lexer": "ipython3",
   "version": "3.11.6"
  },
  "widgets": {
   "application/vnd.jupyter.widget-state+json": {
    "state": {},
    "version_major": 2,
    "version_minor": 0
   }
  }
 },
 "nbformat": 4,
 "nbformat_minor": 5
}
