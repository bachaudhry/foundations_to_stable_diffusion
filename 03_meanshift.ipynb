{
 "cells": [
  {
   "cell_type": "markdown",
   "id": "8f60b333-aa9f-41c7-8bb3-d3b19b7923d0",
   "metadata": {},
   "source": [
    "# **Clustering**"
   ]
  },
  {
   "cell_type": "markdown",
   "id": "b2942aa7-092a-4052-b0ac-f825b337ddad",
   "metadata": {},
   "source": [
    "In this NB, we will apply what was learnt about tensor operations in the `01_matmul` notebook to classical ML algorithms - specifically unsupervised learning techniques like Clustering. \n",
    "\n",
    "The homework at the end of the course NB is the key to this lesson. We should be able to extend tensor operations to other unsupervised algorithms such as dbscan, k-means clustering , fast nearest neighbours _while utilizing our GPU._ Implementing in APL is the bonus.\n",
    "\n",
    "According to Jeremy, this is akin to knowing our times tables. So \"time\" to get cracking!"
   ]
  },
  {
   "cell_type": "code",
   "execution_count": 1,
   "id": "ab82e95d-e55b-45c0-85cd-542292a1588a",
   "metadata": {},
   "outputs": [],
   "source": [
    "import math, matplotlib.pyplot as plt, operator, torch\n",
    "from functools import partial"
   ]
  },
  {
   "cell_type": "code",
   "execution_count": 2,
   "id": "e8dd8be9-3d8f-44d2-8c7e-1adb3ab9c63b",
   "metadata": {},
   "outputs": [],
   "source": [
    "torch.manual_seed(42)\n",
    "torch.set_printoptions(precision=3, linewidth=140, sci_mode=False)"
   ]
  },
  {
   "cell_type": "markdown",
   "id": "b82a452b-79f9-425a-9fea-2eef704e2fc4",
   "metadata": {},
   "source": [
    "## Create Synthetic Data"
   ]
  },
  {
   "cell_type": "code",
   "execution_count": 3,
   "id": "e4f4cd8c-8363-426a-9398-703afb2bd6bb",
   "metadata": {},
   "outputs": [],
   "source": [
    "n_clusters = 6\n",
    "n_samples = 500"
   ]
  },
  {
   "cell_type": "markdown",
   "id": "a77575e5-4af1-4fc5-acc6-afb9f40c4ea0",
   "metadata": {},
   "source": [
    "We will pick 6 random points aka centroids and for each we will generate 500 random observations."
   ]
  },
  {
   "cell_type": "code",
   "execution_count": 4,
   "id": "575bdece-474d-4815-bde4-2b0cd7adf65d",
   "metadata": {},
   "outputs": [],
   "source": [
    "# Create random clusters by 2 for x and y coordinates\n",
    "centroids = torch.rand(n_clusters, 2) * 70-35"
   ]
  },
  {
   "cell_type": "code",
   "execution_count": 5,
   "id": "3dc7db95-265f-4318-99eb-f8d79a374c94",
   "metadata": {},
   "outputs": [
    {
     "data": {
      "text/plain": [
       "tensor([[ 26.759,  29.050],\n",
       "        [ -8.200,  32.151],\n",
       "        [ -7.669,   7.063],\n",
       "        [-17.040,  20.555],\n",
       "        [ 30.854, -25.677],\n",
       "        [ 30.422,   6.551]])"
      ]
     },
     "execution_count": 5,
     "metadata": {},
     "output_type": "execute_result"
    }
   ],
   "source": [
    "centroids"
   ]
  },
  {
   "cell_type": "code",
   "execution_count": 6,
   "id": "10d4ac98-29f9-41ba-a5ca-482922b6107d",
   "metadata": {},
   "outputs": [],
   "source": [
    "from torch.distributions.multivariate_normal import MultivariateNormal\n",
    "from torch import tensor"
   ]
  },
  {
   "cell_type": "code",
   "execution_count": 7,
   "id": "96f718b3-c653-4748-a59e-a41f75a06e2b",
   "metadata": {},
   "outputs": [],
   "source": [
    "# Sample will run on each of the 6 centroids\n",
    "def sample(m): \n",
    "    # Returns normally distributed, multivariate data with means for x and y\n",
    "    # The standard deviation and mean will be 5 for these clusters. \n",
    "    # torch.diag() will create a covariance matrix since we have multivariate data.\n",
    "    # finally, get the number of samples which we want.\n",
    "    return MultivariateNormal(m, torch.diag(tensor([5., 5.]))).sample((n_samples,)) # Comma ensures output is a tuple"
   ]
  },
  {
   "cell_type": "markdown",
   "id": "dede07fc-3909-4e17-b4b0-6cd34f44f18d",
   "metadata": {},
   "source": [
    "**`NOTE`** \n",
    "\n",
    "With regard to `.sample(n_samples,)`, here are some additional details with regard to ChatGPT.\n",
    "\n",
    "> The sample method can take a shape argument to specify how many samples you want to draw. By passing `(n_samples,)`, you're specifying that you want to draw `n_samples` samples from the distribution, and the comma makes this a tuple. In Python, a single-element tuple _must_ have a comma after the element to distinguish it from a regular parenthesized expression.\n",
    "\n",
    "> Without the comma, `(n_samples)` would just be interpreted as n_samples itself, rather than a tuple containing n_samples. Using a tuple ensures that the sample method interprets the argument correctly and returns the desired number of samples."
   ]
  },
  {
   "cell_type": "code",
   "execution_count": 8,
   "id": "e05314cd-345d-4fc8-8c32-0e66ec0cd052",
   "metadata": {},
   "outputs": [
    {
     "data": {
      "text/plain": [
       "torch.Size([3000, 2])"
      ]
     },
     "execution_count": 8,
     "metadata": {},
     "output_type": "execute_result"
    }
   ],
   "source": [
    "slices = [sample(c) for c in centroids]\n",
    "data = torch.cat(slices)\n",
    "data.shape"
   ]
  },
  {
   "cell_type": "code",
   "execution_count": 9,
   "id": "7ffd73dd-2c62-43a8-956d-0a99cc279474",
   "metadata": {},
   "outputs": [
    {
     "data": {
      "text/plain": [
       "\u001b[0;31mDocstring:\u001b[0m\n",
       "cat(tensors, dim=0, *, out=None) -> Tensor\n",
       "\n",
       "Concatenates the given sequence of :attr:`seq` tensors in the given dimension.\n",
       "All tensors must either have the same shape (except in the concatenating\n",
       "dimension) or be a 1-D empty tensor with size ``(0,)``.\n",
       "\n",
       ":func:`torch.cat` can be seen as an inverse operation for :func:`torch.split`\n",
       "and :func:`torch.chunk`.\n",
       "\n",
       ":func:`torch.cat` can be best understood via examples.\n",
       "\n",
       ".. seealso::\n",
       "\n",
       "    :func:`torch.stack` concatenates the given sequence along a new dimension.\n",
       "\n",
       "Args:\n",
       "    tensors (sequence of Tensors): any python sequence of tensors of the same type.\n",
       "        Non-empty tensors provided must have the same shape, except in the\n",
       "        cat dimension.\n",
       "    dim (int, optional): the dimension over which the tensors are concatenated\n",
       "\n",
       "Keyword args:\n",
       "    out (Tensor, optional): the output tensor.\n",
       "\n",
       "Example::\n",
       "\n",
       "    >>> x = torch.randn(2, 3)\n",
       "    >>> x\n",
       "    tensor([[ 0.6580, -1.0969, -0.4614],\n",
       "            [-0.1034, -0.5790,  0.1497]])\n",
       "    >>> torch.cat((x, x, x), 0)\n",
       "    tensor([[ 0.6580, -1.0969, -0.4614],\n",
       "            [-0.1034, -0.5790,  0.1497],\n",
       "            [ 0.6580, -1.0969, -0.4614],\n",
       "            [-0.1034, -0.5790,  0.1497],\n",
       "            [ 0.6580, -1.0969, -0.4614],\n",
       "            [-0.1034, -0.5790,  0.1497]])\n",
       "    >>> torch.cat((x, x, x), 1)\n",
       "    tensor([[ 0.6580, -1.0969, -0.4614,  0.6580, -1.0969, -0.4614,  0.6580,\n",
       "             -1.0969, -0.4614],\n",
       "            [-0.1034, -0.5790,  0.1497, -0.1034, -0.5790,  0.1497, -0.1034,\n",
       "             -0.5790,  0.1497]])\n",
       "\u001b[0;31mType:\u001b[0m      builtin_function_or_method"
      ]
     },
     "metadata": {},
     "output_type": "display_data"
    }
   ],
   "source": [
    "torch.cat?"
   ]
  },
  {
   "cell_type": "code",
   "execution_count": 10,
   "id": "d97a9460-b40b-45a9-a859-f5c822a44242",
   "metadata": {},
   "outputs": [],
   "source": [
    "def plot_data(centroids, data, n_samples, ax=None):\n",
    "    if ax is None: \n",
    "        _, ax = plt.subplots()\n",
    "    for i, centroid in enumerate(centroids):\n",
    "        #Grab samples in order for i to i+1\n",
    "        samples = data[i*n_samples: (i+1)*n_samples]\n",
    "        ax.scatter(samples[:, 0], samples[:, 1], s=1)\n",
    "        ax.plot(*centroid, markersize=10, marker=\"x\", color=\"k\", mew=5) # Large black X\n",
    "        ax.plot(*centroid, markersize=5, marker=\"x\", color=\"m\", mew=2) # Smaller magenta X"
   ]
  },
  {
   "cell_type": "code",
   "execution_count": 11,
   "id": "4b672931-6f7a-4685-8013-7cccbe50cc2c",
   "metadata": {},
   "outputs": [
    {
     "data": {
      "image/png": "[encoded data removed]",
      "text/plain": [
       "<Figure size 640x480 with 1 Axes>"
      ]
     },
     "metadata": {},
     "output_type": "display_data"
    }
   ],
   "source": [
    "plot_data(centroids, data, n_samples)"
   ]
  },
  {
   "cell_type": "markdown",
   "id": "ea8fa164-5a9e-4263-9733-258b11acab10",
   "metadata": {},
   "source": [
    "## Mean Shift Algorithm"
   ]
  },
  {
   "cell_type": "markdown",
   "id": "1c8dea07-1e80-4581-94fe-6594a1baf003",
   "metadata": {},
   "source": [
    "> Most people that have come across clustering algorithms have learnt about k-means. Mean shift clustering is a newer and less well-known approach, but it has some important advantages:\n",
    "> - It doesn't require selecting the number of clusters in advance, but instead just requires a bandwidth to be specified, which can be easily chosen automatically\n",
    "> - It can handle clusters of any shape, whereas k-means (without using special extensions) requires that clusters be roughly ball shaped.\n",
    "\n",
    "> The algorithm is as follows:\n",
    "\n",
    "> - For each data point x in the sample X, find the distance between that point x and every other point in X\n",
    "> - Create weights for each point in X by using the Gaussian kernel of that point's distance to x\n",
    "> - This weighting approach penalizes points further away from x\n",
    "> - The rate at which the weights fall to zero is determined by the bandwidth, which is the standard deviation of the Gaussian\n",
    "> - Update x as the weighted average of all other points in X, weighted based on the previous step\n",
    "\n",
    ">This will iteratively push points that are close together even closer until they are next to each other.\n"
   ]
  },
  {
   "cell_type": "code",
   "execution_count": 12,
   "id": "d43de0d5-4bd4-47f7-b999-7932439f43ec",
   "metadata": {},
   "outputs": [
    {
     "data": {
      "text/plain": [
       "tensor([ 9.258, 11.678])"
      ]
     },
     "execution_count": 12,
     "metadata": {},
     "output_type": "execute_result"
    }
   ],
   "source": [
    "# Taking the mean gives us the middle point of the variable space\n",
    "# This is not the result we want. Our interest lies in taking a weighted average\n",
    "midp = data.mean(0)\n",
    "midp"
   ]
  },
  {
   "cell_type": "code",
   "execution_count": 13,
   "id": "34018ec2-059c-4815-bf60-ec32d45685a8",
   "metadata": {},
   "outputs": [
    {
     "data": {
      "image/png": "[encoded data removed]",
      "text/plain": [
       "<Figure size 640x480 with 1 Axes>"
      ]
     },
     "metadata": {},
     "output_type": "display_data"
    }
   ],
   "source": [
    "plot_data([midp]*6, data, n_samples)"
   ]
  },
  {
   "cell_type": "markdown",
   "id": "402b9028-fa00-4d03-a364-3d0b39824399",
   "metadata": {},
   "source": [
    "We require a weighted average of the data points for each cluster. Each point's weights are assigned using the Gaussian Kernel."
   ]
  },
  {
   "cell_type": "code",
   "execution_count": 14,
   "id": "990cd107-f172-4357-ad15-bb3c4166ef6c",
   "metadata": {},
   "outputs": [],
   "source": [
    "def gaussian(d, bw):\n",
    "    # Computes the value of a Gaussian distribution's PDF\n",
    "    # d=distance and bw=bandwidth\n",
    "    # d/bw normalizes the distance by bw - which acts as a scaling factor\n",
    "    \n",
    "    # (-0.5*((d/bw)**2)) computes the exponent in the Gaussian function.\n",
    "    # Squaring the normalized distance ensures a non-negative result. -0.5 changes the sign.\n",
    "\n",
    "    #The term math.sqrt(2 * math.pi) is a constant that ensures the integral of the Gaussian function \n",
    "    # over all space equals 1, making it a valid probability density function. \n",
    "    return torch.exp(-0.5*((d/bw))**2) / (bw*math.sqrt(2*math.pi))"
   ]
  },
  {
   "cell_type": "code",
   "execution_count": 15,
   "id": "1059649a-4e81-471d-9080-df4a8fc758cf",
   "metadata": {},
   "outputs": [],
   "source": [
    "def plot_func(f):\n",
    "    x = torch.linspace(0, 10, 100)\n",
    "    plt.plot(x, f(x))"
   ]
  },
  {
   "cell_type": "code",
   "execution_count": 16,
   "id": "5d52f152-7df0-4489-83f5-520855bf9a67",
   "metadata": {},
   "outputs": [
    {
     "data": {
      "image/png": "[encoded data removed]",
      "text/plain": [
       "<Figure size 640x480 with 1 Axes>"
      ]
     },
     "metadata": {},
     "output_type": "display_data"
    }
   ],
   "source": [
    "# We can use partial() to simplify the plotting of the function below\n",
    "plot_func(partial(gaussian, bw=2.5))"
   ]
  },
  {
   "cell_type": "markdown",
   "id": "335544ef-a6ff-4336-aac8-97b720ff4b7b",
   "metadata": {},
   "source": [
    "Setting `bw` or `bandwidth` to 2.5 is a rule of thumb which allows us to cover 75% of the data.\n",
    "\n",
    "A simpler alternative is to use triangular weighting for setting the bandwidth."
   ]
  },
  {
   "cell_type": "code",
   "execution_count": 17,
   "id": "8fd81789-8cb2-46d9-9869-5fd49e5f2a9d",
   "metadata": {},
   "outputs": [],
   "source": [
    "def tri(d, i):\n",
    "    return (-d+i).clamp_min(0)/i"
   ]
  },
  {
   "cell_type": "code",
   "execution_count": 18,
   "id": "2de7b79d-fbd2-44a9-96a2-0c48a3dcee57",
   "metadata": {},
   "outputs": [
    {
     "data": {
      "image/png": "[encoded data removed]",
      "text/plain": [
       "<Figure size 640x480 with 1 Axes>"
      ]
     },
     "metadata": {},
     "output_type": "display_data"
    }
   ],
   "source": [
    "plot_func(partial(tri, i=8))"
   ]
  },
  {
   "cell_type": "code",
   "execution_count": 19,
   "id": "07d29cc3-0600-4818-8b76-c04bee9a4d7b",
   "metadata": {},
   "outputs": [],
   "source": [
    "# Cloning the data by creating matrix X\n",
    "X = data.clone()\n",
    "x = data[0]"
   ]
  },
  {
   "cell_type": "code",
   "execution_count": 20,
   "id": "dc22cf6b-c206-4df0-9d66-e87f0ccbafa9",
   "metadata": {},
   "outputs": [
    {
     "data": {
      "text/plain": [
       "tensor([26.204, 26.349])"
      ]
     },
     "execution_count": 20,
     "metadata": {},
     "output_type": "execute_result"
    }
   ],
   "source": [
    "# A simple rank 1 tensor which will be used to calculate the distances from x and y\n",
    "x"
   ]
  },
  {
   "cell_type": "code",
   "execution_count": 21,
   "id": "cb753fc7-2833-46e5-b199-a920518fcd65",
   "metadata": {},
   "outputs": [
    {
     "data": {
      "text/plain": [
       "(torch.Size([2]), torch.Size([3000, 2]), torch.Size([1, 2]))"
      ]
     },
     "execution_count": 21,
     "metadata": {},
     "output_type": "execute_result"
    }
   ],
   "source": [
    "# Tensors and then adding a unit column to x\n",
    "x.shape, X.shape, x[None].shape"
   ]
  },
  {
   "cell_type": "markdown",
   "id": "c1ec7bdc-e30b-427a-8315-4450592e9cdd",
   "metadata": {},
   "source": [
    "Applying what was learnt in the last NB wrt Broadcasting rules."
   ]
  },
  {
   "cell_type": "code",
   "execution_count": 22,
   "id": "64688ed9-037f-4482-ae31-296dcd073fec",
   "metadata": {},
   "outputs": [
    {
     "data": {
      "text/plain": [
       "tensor([[ 0.000,  0.000],\n",
       "        [ 0.513, -3.865],\n",
       "        [-4.227, -2.345],\n",
       "        [ 0.557, -3.685],\n",
       "        [-5.033, -3.745],\n",
       "        [-4.073, -0.638],\n",
       "        [-3.415, -5.601],\n",
       "        [-1.920, -5.686]])"
      ]
     },
     "execution_count": 22,
     "metadata": {},
     "output_type": "execute_result"
    }
   ],
   "source": [
    "(x[None]-X)[:8]"
   ]
  },
  {
   "cell_type": "code",
   "execution_count": 23,
   "id": "c79630a0-5f08-4412-b951-b974c385f3f0",
   "metadata": {},
   "outputs": [
    {
     "data": {
      "text/plain": [
       "tensor([[ 0.000,  0.000],\n",
       "        [ 0.513, -3.865],\n",
       "        [-4.227, -2.345],\n",
       "        [ 0.557, -3.685],\n",
       "        [-5.033, -3.745],\n",
       "        [-4.073, -0.638],\n",
       "        [-3.415, -5.601],\n",
       "        [-1.920, -5.686]])"
      ]
     },
     "execution_count": 23,
     "metadata": {},
     "output_type": "execute_result"
    }
   ],
   "source": [
    "(x-X)[:8] # Same result as before since our tensors have compatible unit axes"
   ]
  },
  {
   "cell_type": "code",
   "execution_count": 24,
   "id": "e012f764-ddcf-41f5-8840-84836fd19cec",
   "metadata": {},
   "outputs": [
    {
     "data": {
      "text/plain": [
       "tensor([0.000, 3.899, 4.834, 3.726, 6.273, 4.122, 6.560, 6.002])"
      ]
     },
     "execution_count": 24,
     "metadata": {},
     "output_type": "execute_result"
    }
   ],
   "source": [
    "# Taking the Euclidean distance \n",
    "dist_1 = ((x-X)**2).sum(1).sqrt()\n",
    "dist_1[:8]"
   ]
  },
  {
   "cell_type": "markdown",
   "id": "844ca4bd-7d56-4701-bf55-07fa422d484a",
   "metadata": {},
   "source": [
    "**HOMEWORK**: Lets rewrite the above using Einsum to speed up operations."
   ]
  },
  {
   "cell_type": "code",
   "execution_count": 25,
   "id": "a620d3af-1e7a-42bf-9dbe-2d4c9872ef3c",
   "metadata": {},
   "outputs": [
    {
     "data": {
      "text/plain": [
       "tensor([0.000, 3.899, 4.834, 3.726, 6.273, 4.122, 6.560, 6.002])"
      ]
     },
     "execution_count": 25,
     "metadata": {},
     "output_type": "execute_result"
    }
   ],
   "source": [
    "# Einsum implementation\n",
    "# Compute the squared differences, take their sum and then the square root.\n",
    "ein_dist = torch.einsum('ij, ij -> i', (X-x), (X-x)).sqrt()\n",
    "ein_dist[:8]"
   ]
  },
  {
   "cell_type": "code",
   "execution_count": 27,
   "id": "de808f01-62c3-43c0-aa55-88b051d58101",
   "metadata": {},
   "outputs": [],
   "source": [
    "# Calculating the weights, using both the standard and the einsum versions\n",
    "weight_1 = gaussian(dist_1, 2.5)\n",
    "weight_2 = gaussian(ein_dist, 2.5)"
   ]
  },
  {
   "cell_type": "code",
   "execution_count": 28,
   "id": "37de2fa7-9899-4f8a-b200-9b395254039e",
   "metadata": {},
   "outputs": [
    {
     "data": {
      "text/plain": [
       "(torch.Size([3000]), torch.Size([3000]), torch.Size([3000, 2]))"
      ]
     },
     "execution_count": 28,
     "metadata": {},
     "output_type": "execute_result"
    }
   ],
   "source": [
    "# We will calculate the weighted average of the data X using the weights we just calculated.\n",
    "weight_1.shape, weight_2.shape ,X.shape"
   ]
  },
  {
   "cell_type": "code",
   "execution_count": 29,
   "id": "a2fdab63-d1e6-4cbd-a49d-fdda94b4380e",
   "metadata": {},
   "outputs": [
    {
     "data": {
      "text/plain": [
       "(torch.Size([3000, 1]), torch.Size([3000, 1]))"
      ]
     },
     "execution_count": 29,
     "metadata": {},
     "output_type": "execute_result"
    }
   ],
   "source": [
    "# To make the tensors compatible for operations requires a unit axis\n",
    "weight_1[:, None].shape, weight_2[:, None].shape"
   ]
  },
  {
   "cell_type": "code",
   "execution_count": 30,
   "id": "4fdd77d7-7228-4081-bfb7-63512512ee59",
   "metadata": {},
   "outputs": [
    {
     "data": {
      "text/plain": [
       "(tensor([[4.182, 4.205],\n",
       "         [1.215, 1.429],\n",
       "         [0.749, 0.706],\n",
       "         [1.347, 1.578],\n",
       "         [0.214, 0.206],\n",
       "         [1.241, 1.106],\n",
       "         [0.151, 0.163],\n",
       "         [0.252, 0.287]]),\n",
       " tensor([[4.182, 4.205],\n",
       "         [1.215, 1.429],\n",
       "         [0.749, 0.706],\n",
       "         [1.347, 1.578],\n",
       "         [0.214, 0.206],\n",
       "         [1.241, 1.106],\n",
       "         [0.151, 0.163],\n",
       "         [0.252, 0.287]]))"
      ]
     },
     "execution_count": 30,
     "metadata": {},
     "output_type": "execute_result"
    }
   ],
   "source": [
    "(weight_1[:, None]*X)[:8], (weight_2[:, None]*X)[:8]"
   ]
  },
  {
   "cell_type": "markdown",
   "id": "6419d058-c6ad-423b-ae0f-64e7a7756328",
   "metadata": {},
   "source": [
    "Thankfully, both the **standard** and the **einsum** versions appear to have similar values.\n",
    "\n",
    "Now that we have iteratively figured out how to get the individual pieces of the mean shift algorithm to work, its time to put it into one function.\n",
    "\n",
    "Additionally, we can compare the difference in performance for both versions of our weight calculations."
   ]
  },
  {
   "cell_type": "code",
   "execution_count": 31,
   "id": "d4ecfdd2-9230-4863-b5b6-3442fcd411c0",
   "metadata": {},
   "outputs": [],
   "source": [
    "def one_update(X, calc=None):\n",
    "    for i, x in enumerate(X):\n",
    "        if calc =='einsum':  dist = torch.einsum('ij, ij -> i', (X-x), (X-x)).sqrt()\n",
    "        else:                dist = torch.sqrt(((x-X)**2).sum(1))\n",
    "        # We can use the gaussian or the triangular weighting since the results will be the same.\n",
    "        #weight = gaussian(dist, 2.5) # where d is dist\n",
    "        weight = tri(dist, 8)\n",
    "        X[i] = (weight[:, None] * X).sum(0) / weight.sum()"
   ]
  },
  {
   "cell_type": "code",
   "execution_count": 32,
   "id": "21a5c447-476a-47d6-a720-43bce70c9eba",
   "metadata": {},
   "outputs": [],
   "source": [
    "def mean_shift(data, calc=None):\n",
    "    X = data.clone()\n",
    "    for it in range(5): one_update(X, calc=calc)\n",
    "    return X"
   ]
  },
  {
   "cell_type": "code",
   "execution_count": 33,
   "id": "262a1347-2e8d-419e-98ff-512700a5a491",
   "metadata": {},
   "outputs": [
    {
     "name": "stdout",
     "output_type": "stream",
     "text": [
      "CPU times: user 8.78 s, sys: 109 ms, total: 8.89 s\n",
      "Wall time: 890 ms\n"
     ]
    }
   ],
   "source": [
    "%time X = mean_shift(data)"
   ]
  },
  {
   "cell_type": "code",
   "execution_count": 34,
   "id": "9f1c7b60-7135-4f1d-987c-3f455d0490f9",
   "metadata": {},
   "outputs": [
    {
     "name": "stdout",
     "output_type": "stream",
     "text": [
      "CPU times: user 11.5 s, sys: 49.1 ms, total: 11.6 s\n",
      "Wall time: 1.16 s\n"
     ]
    }
   ],
   "source": [
    "%time X = mean_shift(data, calc='einsum')"
   ]
  },
  {
   "cell_type": "markdown",
   "id": "c4970db5-3819-41d3-bda0-8836e6d187b4",
   "metadata": {},
   "source": [
    "Interestingly, the **einsum** version is slower than the standard version."
   ]
  },
  {
   "cell_type": "code",
   "execution_count": 35,
   "id": "d76aa447-7009-48f7-ae21-5293fb8459ff",
   "metadata": {},
   "outputs": [
    {
     "data": {
      "image/png": "[encoded data removed]",
      "text/plain": [
       "<Figure size 640x480 with 1 Axes>"
      ]
     },
     "metadata": {},
     "output_type": "display_data"
    }
   ],
   "source": [
    "# We will move the centroids by 2 points to see them better\n",
    "plot_data(centroids + 2, X, n_samples)"
   ]
  },
  {
   "cell_type": "markdown",
   "id": "4def619b-3278-47bc-a80b-03d46fdb17c9",
   "metadata": {},
   "source": [
    "## Animating the Training / Optimization Steps"
   ]
  },
  {
   "cell_type": "code",
   "execution_count": 36,
   "id": "3eb309a1-6cc2-41a0-a16b-946b816cd6e8",
   "metadata": {},
   "outputs": [],
   "source": [
    "from matplotlib.animation import FuncAnimation\n",
    "from IPython.display import HTML"
   ]
  },
  {
   "cell_type": "code",
   "execution_count": 37,
   "id": "43f2e2f5-f3b5-4246-aa9f-9d30c6dd71f9",
   "metadata": {},
   "outputs": [],
   "source": [
    "def one_step(d):\n",
    "    if d: one_update(X)\n",
    "    # Adding clear() so that outputs don't overlap\n",
    "    ax.clear() \n",
    "    plot_data(centroids+2, X, n_samples, ax=ax)"
   ]
  },
  {
   "cell_type": "code",
   "execution_count": 38,
   "id": "2adb094e-0b4a-48c1-8413-977e391a021d",
   "metadata": {},
   "outputs": [
    {
     "data": {
      "text/html": [
       "\n",
       "<link rel=\"stylesheet\"\n",
       "href=\"https://maxcdn.bootstrapcdn.com/font-awesome/4.4.0/css/font-awesome.min.css\">\n",
       "<script language=\"javascript\">\n",
       "  function isInternetExplorer() {\n",
       "    ua = navigator.userAgent;\n",
       "    /* MSIE used to detect old browsers and Trident used to newer ones*/\n",
       "    return ua.indexOf(\"MSIE \") > -1 || ua.indexOf(\"Trident/\") > -1;\n",
       "  }\n",
       "\n",
       "  /* Define the Animation class */\n",
       "  function Animation(frames, img_id, slider_id, interval, loop_select_id){\n",
       "    this.img_id = img_id;\n",
       "    this.slider_id = slider_id;\n",
       "    this.loop_select_id = loop_select_id;\n",
       "    this.interval = interval;\n",
       "    this.current_frame = 0;\n",
       "    this.direction = 0;\n",
       "    this.timer = null;\n",
       "    this.frames = new Array(frames.length);\n",
       "\n",
       "    for (var i=0; i<frames.length; i++)\n",
       "    {\n",
       "     this.frames[i] = new Image();\n",
       "     this.frames[i].src = frames[i];\n",
       "    }\n",
       "    var slider = document.getElementById(this.slider_id);\n",
       "    slider.max = this.frames.length - 1;\n",
       "    if (isInternetExplorer()) {\n",
       "        // switch from oninput to onchange because IE <= 11 does not conform\n",
       "        // with W3C specification. It ignores oninput and onchange behaves\n",
       "        // like oninput. In contrast, Microsoft Edge behaves correctly.\n",
       "        slider.setAttribute('onchange', slider.getAttribute('oninput'));\n",
       "        slider.setAttribute('oninput', null);\n",
       "    }\n",
       "    this.set_frame(this.current_frame);\n",
       "  }\n",
       "\n",
       "  Animation.prototype.get_loop_state = function(){\n",
       "    var button_group = document[this.loop_select_id].state;\n",
       "    for (var i = 0; i < button_group.length; i++) {\n",
       "        var button = button_group[i];\n",
       "        if (button.checked) {\n",
       "            return button.value;\n",
       "        }\n",
       "    }\n",
       "    return undefined;\n",
       "  }\n",
       "\n",
       "  Animation.prototype.set_frame = function(frame){\n",
       "    this.current_frame = frame;\n",
       "    document.getElementById(this.img_id).src =\n",
       "            this.frames[this.current_frame].src;\n",
       "    document.getElementById(this.slider_id).value = this.current_frame;\n",
       "  }\n",
       "\n",
       "  Animation.prototype.next_frame = function()\n",
       "  {\n",
       "    this.set_frame(Math.min(this.frames.length - 1, this.current_frame + 1));\n",
       "  }\n",
       "\n",
       "  Animation.prototype.previous_frame = function()\n",
       "  {\n",
       "    this.set_frame(Math.max(0, this.current_frame - 1));\n",
       "  }\n",
       "\n",
       "  Animation.prototype.first_frame = function()\n",
       "  {\n",
       "    this.set_frame(0);\n",
       "  }\n",
       "\n",
       "  Animation.prototype.last_frame = function()\n",
       "  {\n",
       "    this.set_frame(this.frames.length - 1);\n",
       "  }\n",
       "\n",
       "  Animation.prototype.slower = function()\n",
       "  {\n",
       "    this.interval /= 0.7;\n",
       "    if(this.direction > 0){this.play_animation();}\n",
       "    else if(this.direction < 0){this.reverse_animation();}\n",
       "  }\n",
       "\n",
       "  Animation.prototype.faster = function()\n",
       "  {\n",
       "    this.interval *= 0.7;\n",
       "    if(this.direction > 0){this.play_animation();}\n",
       "    else if(this.direction < 0){this.reverse_animation();}\n",
       "  }\n",
       "\n",
       "  Animation.prototype.anim_step_forward = function()\n",
       "  {\n",
       "    this.current_frame += 1;\n",
       "    if(this.current_frame < this.frames.length){\n",
       "      this.set_frame(this.current_frame);\n",
       "    }else{\n",
       "      var loop_state = this.get_loop_state();\n",
       "      if(loop_state == \"loop\"){\n",
       "        this.first_frame();\n",
       "      }else if(loop_state == \"reflect\"){\n",
       "        this.last_frame();\n",
       "        this.reverse_animation();\n",
       "      }else{\n",
       "        this.pause_animation();\n",
       "        this.last_frame();\n",
       "      }\n",
       "    }\n",
       "  }\n",
       "\n",
       "  Animation.prototype.anim_step_reverse = function()\n",
       "  {\n",
       "    this.current_frame -= 1;\n",
       "    if(this.current_frame >= 0){\n",
       "      this.set_frame(this.current_frame);\n",
       "    }else{\n",
       "      var loop_state = this.get_loop_state();\n",
       "      if(loop_state == \"loop\"){\n",
       "        this.last_frame();\n",
       "      }else if(loop_state == \"reflect\"){\n",
       "        this.first_frame();\n",
       "        this.play_animation();\n",
       "      }else{\n",
       "        this.pause_animation();\n",
       "        this.first_frame();\n",
       "      }\n",
       "    }\n",
       "  }\n",
       "\n",
       "  Animation.prototype.pause_animation = function()\n",
       "  {\n",
       "    this.direction = 0;\n",
       "    if (this.timer){\n",
       "      clearInterval(this.timer);\n",
       "      this.timer = null;\n",
       "    }\n",
       "  }\n",
       "\n",
       "  Animation.prototype.play_animation = function()\n",
       "  {\n",
       "    this.pause_animation();\n",
       "    this.direction = 1;\n",
       "    var t = this;\n",
       "    if (!this.timer) this.timer = setInterval(function() {\n",
       "        t.anim_step_forward();\n",
       "    }, this.interval);\n",
       "  }\n",
       "\n",
       "  Animation.prototype.reverse_animation = function()\n",
       "  {\n",
       "    this.pause_animation();\n",
       "    this.direction = -1;\n",
       "    var t = this;\n",
       "    if (!this.timer) this.timer = setInterval(function() {\n",
       "        t.anim_step_reverse();\n",
       "    }, this.interval);\n",
       "  }\n",
       "</script>\n",
       "\n",
       "<style>\n",
       ".animation {\n",
       "    display: inline-block;\n",
       "    text-align: center;\n",
       "}\n",
       "input[type=range].anim-slider {\n",
       "    width: 374px;\n",
       "    margin-left: auto;\n",
       "    margin-right: auto;\n",
       "}\n",
       ".anim-buttons {\n",
       "    margin: 8px 0px;\n",
       "}\n",
       ".anim-buttons button {\n",
       "    padding: 0;\n",
       "    width: 36px;\n",
       "}\n",
       ".anim-state label {\n",
       "    margin-right: 8px;\n",
       "}\n",
       ".anim-state input {\n",
       "    margin: 0;\n",
       "    vertical-align: middle;\n",
       "}\n",
       "</style>\n",
       "\n",
       "<div class=\"animation\">\n",
       "  <img id=\"_anim_img7a3039d332e549508286202bb45fd823\">\n",
       "  <div class=\"anim-controls\">\n",
       "    <input id=\"_anim_slider7a3039d332e549508286202bb45fd823\" type=\"range\" class=\"anim-slider\"\n",
       "           name=\"points\" min=\"0\" max=\"1\" step=\"1\" value=\"0\"\n",
       "           oninput=\"anim7a3039d332e549508286202bb45fd823.set_frame(parseInt(this.value));\">\n",
       "    <div class=\"anim-buttons\">\n",
       "      <button title=\"Decrease speed\" aria-label=\"Decrease speed\" onclick=\"anim7a3039d332e549508286202bb45fd823.slower()\">\n",
       "          <i class=\"fa fa-minus\"></i></button>\n",
       "      <button title=\"First frame\" aria-label=\"First frame\" onclick=\"anim7a3039d332e549508286202bb45fd823.first_frame()\">\n",
       "        <i class=\"fa fa-fast-backward\"></i></button>\n",
       "      <button title=\"Previous frame\" aria-label=\"Previous frame\" onclick=\"anim7a3039d332e549508286202bb45fd823.previous_frame()\">\n",
       "          <i class=\"fa fa-step-backward\"></i></button>\n",
       "      <button title=\"Play backwards\" aria-label=\"Play backwards\" onclick=\"anim7a3039d332e549508286202bb45fd823.reverse_animation()\">\n",
       "          <i class=\"fa fa-play fa-flip-horizontal\"></i></button>\n",
       "      <button title=\"Pause\" aria-label=\"Pause\" onclick=\"anim7a3039d332e549508286202bb45fd823.pause_animation()\">\n",
       "          <i class=\"fa fa-pause\"></i></button>\n",
       "      <button title=\"Play\" aria-label=\"Play\" onclick=\"anim7a3039d332e549508286202bb45fd823.play_animation()\">\n",
       "          <i class=\"fa fa-play\"></i></button>\n",
       "      <button title=\"Next frame\" aria-label=\"Next frame\" onclick=\"anim7a3039d332e549508286202bb45fd823.next_frame()\">\n",
       "          <i class=\"fa fa-step-forward\"></i></button>\n",
       "      <button title=\"Last frame\" aria-label=\"Last frame\" onclick=\"anim7a3039d332e549508286202bb45fd823.last_frame()\">\n",
       "          <i class=\"fa fa-fast-forward\"></i></button>\n",
       "      <button title=\"Increase speed\" aria-label=\"Increase speed\" onclick=\"anim7a3039d332e549508286202bb45fd823.faster()\">\n",
       "          <i class=\"fa fa-plus\"></i></button>\n",
       "    </div>\n",
       "    <form title=\"Repetition mode\" aria-label=\"Repetition mode\" action=\"#n\" name=\"_anim_loop_select7a3039d332e549508286202bb45fd823\"\n",
       "          class=\"anim-state\">\n",
       "      <input type=\"radio\" name=\"state\" value=\"once\" id=\"_anim_radio1_7a3039d332e549508286202bb45fd823\"\n",
       "             checked>\n",
       "      <label for=\"_anim_radio1_7a3039d332e549508286202bb45fd823\">Once</label>\n",
       "      <input type=\"radio\" name=\"state\" value=\"loop\" id=\"_anim_radio2_7a3039d332e549508286202bb45fd823\"\n",
       "             >\n",
       "      <label for=\"_anim_radio2_7a3039d332e549508286202bb45fd823\">Loop</label>\n",
       "      <input type=\"radio\" name=\"state\" value=\"reflect\" id=\"_anim_radio3_7a3039d332e549508286202bb45fd823\"\n",
       "             >\n",
       "      <label for=\"_anim_radio3_7a3039d332e549508286202bb45fd823\">Reflect</label>\n",
       "    </form>\n",
       "  </div>\n",
       "</div>\n",
       "\n",
       "\n",
       "<script language=\"javascript\">\n",
       "  /* Instantiate the Animation class. */\n",
       "  /* The IDs given should match those used in the template above. */\n",
       "  (function() {\n",
       "    var img_id = \"_anim_img7a3039d332e549508286202bb45fd823\";\n",
       "    var slider_id = \"_anim_slider7a3039d332e549508286202bb45fd823\";\n",
       "    var loop_select_id = \"_anim_loop_select7a3039d332e549508286202bb45fd823\";\n",
       "    var frames = new Array(5);\n",
       "    \n",
       "  frames[0] = \"data:image/png;base64,iVBORw0KGgoAAAANSUhEUgAAAoAAAAHgCAYAAAA10dzkAAAAOXRFWHRTb2Z0d2FyZQBNYXRwbG90\\\n",
       "bGliIHZlcnNpb24zLjkuMSwgaHR0cHM6Ly9tYXRwbG90bGliLm9yZy/TGe4hAAAACXBIWXMAAA9h\\\n",
       "AAAPYQGoP6dpAACHy0lEQVR4nO3deXxU5b0/8M+ZJTNJyIaBhGAEDIhIXAJSRbiIqIhwrdSqN1oR\\\n",
       "K1gXENHaolVLqCDiLkupCnWpV1J/ttLeghgqKoKiLEEBMVeR7SaENSQhycxkZs7vj5PnmXNmy4Ts\\\n",
       "OZ93X7ySnDlz5pnzSp1vvs/z/T6KqqoqiIiIiMg0LO09ACIiIiJqWwwAiYiIiEyGASARERGRyTAA\\\n",
       "JCIiIjIZBoBEREREJsMAkIiIiMhkGAASERERmQwDQCIiIiKTYQBIREREZDIMAImIiIhMhgEgERER\\\n",
       "kckwACQiIiIyGQaARERERCbDAJCIiIjIZBgAEhEREZkMA0AiIiIik2EASERERGQyDACJiIiITIYB\\\n",
       "IBEREZHJMAAkIiIiMhkGgEREREQmwwCQiIiIyGQYABIRERGZDANAIiIiIpNhAEhERERkMgwAiYiI\\\n",
       "iEyGASARERGRyTAAJCIiIjIZBoBEREREJsMAkIiIiMhkGAASERERmQwDQCIiIiKTYQBIREREZDIM\\\n",
       "AImIiIhMhgEgERERkckwACQiIiIyGQaARERERCbDAJCIiIjIZBgAEhEREZkMA0AiIiIik2EASERE\\\n",
       "RGQyDACJiIiITIYBIBEREZHJMAAkIiIiMhkGgEREREQmwwCQiIiIyGQYABIRERGZDANAIiIiIpNh\\\n",
       "AEhERERkMgwAiYiIiEyGASARERGRyTAAJCIiIjIZBoBEREREJsMAkIiIiMhkGAASERERmQwDQCIi\\\n",
       "IiKTsbX3ADozv9+PsrIyJCUlQVGU9h4OERERxUBVVVRXVyMrKwsWizlzYQwAm6GsrAzZ2dntPQwi\\\n",
       "IiI6DQcPHsSZZ57Z3sNoFwwAmyEpKQmA9guUnJzczqMhIiKiWFRVVSE7O1t+jpsRA8BmENO+ycnJ\\\n",
       "DACJiIg6GTMv3zLnxDcRERGRiTEAJCIiIjIZBoBEREREJsMAkIiIiMhkGAASERERmQwDQCIiIiKT\\\n",
       "YQBIREREZDIMAImIiIhMxhQB4Pz586EoCmbOnCmPqaqKgoICZGVlIT4+HqNHj8auXbvab5BERERE\\\n",
       "baTLB4CbN2/Gq6++igsuuMBw/JlnnsELL7yAxYsXY/PmzcjMzMTVV1+N6urqdhopERERUdvo0gHg\\\n",
       "qVOn8Itf/AKvvfYa0tLS5HFVVfHSSy/hscceww033IDc3Fy8+eabqK2txTvvvNOOIyYiIiJqfV06\\\n",
       "AJw2bRomTJiAq666ynB87969KC8vx9ixY+Uxh8OByy+/HJ9//nlbD5OIiIioTdnaewCtpbCwENu2\\\n",
       "bcPmzZtDHisvLwcAZGRkGI5nZGRg//79Ea/pdrvhdrvlz1VVVS00WuoSNi8HNrwIjHwQGDalvUdD\\\n",
       "REQUUZfMAB48eBAPPPAA3n77bTidzojnKYpi+FlV1ZBjevPnz0dKSor8l52d3WJjpi5gw4tA5UHt\\\n",
       "KxERUQfWJQPArVu34siRIxg6dChsNhtsNhs+/fRTLFy4EDabTWb+RCZQOHLkSEhWUO/RRx9FZWWl\\\n",
       "/Hfw4MFWfR/UyYx8EEjJ1r4SERF1YF1yCvjKK6/Ejh07DMd++ctf4txzz8WsWbNw9tlnIzMzE2vX\\\n",
       "rkVeXh4AwOPx4NNPP8WCBQsiXtfhcMDhcLTq2KkTGzaFU79ERNQpdMkAMCkpCbm5uYZjiYmJOOOM\\\n",
       "M+TxmTNn4qmnnsKAAQMwYMAAPPXUU0hISMCtt97aHkMmIiIiajNdMgCMxW9/+1vU1dXhvvvuQ0VF\\\n",
       "BS655BIUFRUhKSmpvYdGRERE1KoUVVXV9h5EZ1VVVYWUlBRUVlYiOTm5vYdDXREri4mIWhw/v7to\\\n",
       "EQhRiM3LgRdzta+dCSuLiYioFTAAJHPorIEUK4uJiKgVMAAkc+hIgVRTspHDpgAP7uT0LxERtSiu\\\n",
       "AWwGriGg0/JirpaNTMnWgjsiImpT/PxmBpCo7XWkbCQREZkSA0CitiamdYHOWZhCRESdHgNAotYQ\\\n",
       "yzo/UZiy7snWCQQ7a+UzERG1OgaARK0hlqpjMRWsonUqlDtr5TMREbU6BoBErSGWdX5iKvjKJ8Kf\\\n",
       "G0sGL9o5XGtIREQRsAq4GVhFZFJN2Z2jOTt5xFItzIpiok7n7U37sfSTPbh3dA5uu7RPew/HlPj5\\\n",
       "zQwgUdOtezKwdi8SkZkT5254selr8mLJ4DHLR9TpLP1kD0pP1mHpJ3vaeyhkYgwAiaIJF7SpQV/D\\\n",
       "nS8CPxWBAK2pa/JiqRZurFE0C0GIOpx7R+egd2o87h2d095DIRNjAEgkhAuWwgVtYs3elU+EPvej\\\n",
       "hsCv3g0oVqD/lYEgznMKcKbJbF1BQQGW/PYXUQO0JUuWoODxR0+/mIOFIEQdzm2X9sHGR8Zw+pfa\\\n",
       "la29B0DUYeiDJZFRE5k7/RTrsCmhGTfx3Pg0LTj0nAK8tcDBLwOP11Vojw2bgoKCAsyZM0d77Fon\\\n",
       "puHFkGsu+e0vMP3Zdxp+6oGCuacxzRtu/EREZHrMAFLXJ7Jz702JPh0abj3dsCmBICraNKp47pgn\\\n",
       "tIzfmCcAWwJQ+X/a6458UAsO3adQcNdPA8EfgOkfuLDk0IWGsRqDP2BO0VEUrDrY9PcMNG0vYU4Z\\\n",
       "ExGZAquAm4FVRJ2EqJRVrIDqC18xG61aVzwfALLygJpjoee9NwXY9T4w+GfAjQ3BU0Eq5ELBlGyg\\\n",
       "9jgK1p7AnE89YYe5+IZMTBvmwJL1hzH9A1fYc2bPno2CgoLY33NTq4NZVUzUoljx2zHx85sZQDID\\\n",
       "kZ0b/LPIFbPBa+X0mTD9+WXF4at6d72vBZe73g8ct+pWWFQejBr8AcD0v5fjvBfLIgZ/ADBnzhwU\\\n",
       "XNOz8Qzd6VYHs6qYqEWx4pc6KmYAm4F/QXRwp9uvDwBW/RqACtgTgIQztGOVuilYWwLgrdPOUaxA\\\n",
       "rwuAsu2APR6wObT1flC0n+trAQBLtqqY/q/qsC+fi1zsxM6IP+stvtaJaVfnMENH1Ak0lgFsqQwh\\\n",
       "M41Nw89vZgCpK4tUAdvYOrePnoScuq2v066hD/6gaAUe4hzVp00Li2DPfUoLCqECXrd81rShFiwe\\\n",
       "nxjycpMxGYuwCPnIBwDkIx+LsAiTMTnk3MVTLsW0S+KB7Eu4Xo+oFb29aT9GPL0Ob2/a36zrNFbx\\\n",
       "21IZQmYaqakYAFLXFWk6UwSG654MBFD6YFERJypA7s8bgjkdW7zxZ8WqBWQNmT74vdp0s8gMpmRr\\\n",
       "14KKacOsWHxDpnxqLnJxB+4AANyNu7ESK3E37gYA3IE7kItcee7ixYsxbXC1FnAe/JItXohaUVsF\\\n",
       "VC3VE5C9BampGABS1xEuI+Y+pQV6+gpgERiqCARQ+mAx50oteEs5U1vT1+sCbSoYCpB7I3DNXK2f\\\n",
       "nz1B+zr4Z9p5gsUG7PybFqhV7NOOZV2kPd+WgGmPzMXixYsBADuxE6/gFfnUFKTI71/BK3IaePEN\\\n",
       "mZg2bZpxnFyvRxRWS2Tv2iqgaqmegOwtSE3FAJC6juCM2EdPAq4KbT3erveNPf4e3Blo6CzWCIp2\\\n",
       "KXs+0oK3yoPa10PfAGPnagFhn8u0cxzdtIyfo5uWjVN9WtAYnwb466FFl0ogyDz0DTDheeDxQwCA\\\n",
       "aZ6lGNRDyywWohCVqDS8lUpUohCFAIBB6RZMu2W89oB+nNF2AeH0MJlYc7N3TVlP11JTxS11HaJY\\\n",
       "MQCkriM4I6afyu11QWCqVogUQImyKItde87gn4UGl+K1gMD6wME/0/r/BV4Y6N634Zo+rbDk6b5A\\\n",
       "0eNYsnYPdh/1AdDW/Okzf4CWCRRrAncf82PJitVNuxecHiYTa272rikBZFODzXCB3tub9mP2P3Zy\\\n",
       "DR+1KQaA1HUEB3RjGjJ8E57XijTE2jkgeoZMZAavXQDMPqH19RMBX2I6MKc7sP9z7Zi+OGTne9rx\\\n",
       "rIsaDqha2xhJBVwVWLLxpGz1kotcueYPgCETeDfulmsAp/+9HEuWLIn9XnB6mEysudOhTQkgYzlX\\\n",
       "H/SFCxiXfrIHPhWwKuAaPmozbAPTDCwjb0NNaekSy/PDNTwWzZyTs4CqMi1reGKfltDLuRL44SNt\\\n",
       "ShkAoADxqQ3tXvS0Yo+QYxYb4PdiyVZ/SCuYyZiMO3AHXsErKEQh8pGPu3E33sAbeBNvGs5dfEMm\\\n",
       "pj0yN7Z70Nx7RtRFRZvibY12KiOeXofSk3UyUAy+fqTXZGuX1sPPbwaAzcJfoDbU0jtUhAuO5nTX\\\n",
       "soThiF1EBItdq/Y1BHsi0Ks3PjclG3CfirrDR5P6AIogsLHg7um+WsDqTAMe2Rf+HCITumhOEU7W\\\n",
       "1SM13o7ts8caHtMHaxsfGdMir3c6AZ6YFvapiDoWBomnh5/fnAKmzqKlpzTDrf8b/LPI5/e6QAuk\\\n",
       "LHYE1vjpgj9nmjbVHBz8AVrg6qrA0Vp/xMuLYG9QusXwczhHrZmxrfFTgr4SUaOaun4w3Jq+GSuK\\\n",
       "kfPoKsxYEVgCUuP24rkPSwznRVs/GOu0sLjGcx+WGMbBohJqDANA6hwiFWyEW8sXfEz8rG8FE86N\\\n",
       "y7UqXgAhUVPNMS2LlpQJQG3I/olTrdq6waLHgy7YcA2LHQBQMNqJ2ZfHRXyLi6914ttp3bD4WmfE\\\n",
       "c2ZfHoeCwfu1YhZnGuA5pb2fcPdBtLPJuTLi9Yi6skhB0MPXDETv1Hg8fM3AkPNuu7SPnKYNFzwF\\\n",
       "X1MfxInH/ufrMvhUYNU3ZQCA5z4swcm6epysq8dzH5bgojlFyBw9CfaSoojB5r2jc2DZ/SEuPLo2\\\n",
       "amZPBKwADMEkG0NTYxgAUucWLhMWfEz8rG8FE44InpxpxgbQijWQecy+JNAjUHtQyw5ueFHbNUTP\\\n",
       "mQpMeEEGgEDkIHDxT7tj2ohUAMC0n8Rh8fj4kHNmX5GIgisSA8Usjm7aGsTVv9F6HQa/N9GeRhS+\\\n",
       "EJlItMra4CKR4GCpscyc/jF9xlA85rRbYFWACRdkGZ4r/qzct/YNHP70bXz6xgLcmrQbAEIC1cqt\\\n",
       "/8Lefy7C+8tfRkFBQcT3Kd6LCGpFMMnG0NQYBoDUuQVPDW9ermXFnGmBYyMf1H62ObQMX6Rp5A0v\\\n",
       "agGVo5uWDRz/rHbt8c8GMo8iqKoqa3hSQ6Vv5UHIKWFnmva8K5/QrumtNbxMcBC4+IZMTHv8GWDg\\\n",
       "eHls2vAUQyZw9uVxKLjCCTiSA+9h5IOBtYkqQqfIWQlMJhZuCjVSRjA4WIoWPJ2RGGf4KgIwQJvm\\\n",
       "TY2347EJ52HP/An4Sb/uGPH0Oow6pwd6p8bjyYm5OPvgalRuXCGvN336dDzy5LNyGhcAlixZgunT\\\n",
       "p8tz5syZExIEBr+X4KCWjaGpMSwCaQYuIm1FkSpYG6tsjVQsIo7bE7T9eQf/TAvyYnlN/eNFj2uZ\\\n",
       "vqyLtAph10mErfotOBn0nFrAagd8DWsEbQko+MyHHk4fpuV5tfF6ToVUFS/5yoOjtX4UjNZNC+vf\\\n",
       "2+blWsNrUal88EtW/RLBWBwBaAFhjduLk3X1hqKKphZR5Dy6SgaWe+ZPkMdF8UhqvB2JDhvuHZ0j\\\n",
       "p35T4+14+JqBePTx3+P/Pnor7HW7X30Pskf8DHelf28I/vRmz54tA8HWKFYxE35+MwBsFv4CtaLG\\\n",
       "ArlI1cDRAsd1TwYCLMWq9fiLFvRFah0DaIHkY4e0dYU7/wZDEGhP0HYOWfekFmzWGzOAALQt5fpc\\\n",
       "BnwwSyscycprCCiD2spY7FrgWF+nvYZiNWYk9fdEZAOdaVoWk4EgEYDwwZkI9poaSM1YUYxV35Rh\\\n",
       "cFYKjtd45LVEIKkPMsX3qfF2HP/svyMGf0Ja736oKN0b9ZyfTXkAh/v/FEP7pGHr/ooOWf3bGSqT\\\n",
       "+fnNKWDqqCJNXzY2rRmpWGTYFGOibvDPtABv9W+04Knoca0NzHu65xU9rj32wSwtyEpMDzxWX6c9\\\n",
       "f+d7CMkAqgDWzNKCzZDgr2EV0M6/aTuDiKrhsu2Azx10qlVrRp1whrYmUT8d/d6UwHjFusReF2jn\\\n",
       "KOAuIEQ6Ykr34WsGyiBPTJ/eOzoHqfF21Li9jVbMvr1pP7bur8Cc63NxvMZjWAsYvBZvaB+toExk\\\n",
       "/8Zc1D/idUXDdxH8iZ/D2X7Uj9KTddi6v6LDTvGyAKVzYABIHVO0QE5/PJY9b8U5MsBStOzbR082\\\n",
       "9PZTtIBO9WmB2dN9gT+kB4I3f70WUOl39cj9eZiq3wbe2sBUr6QAtgTtebJZtD5wVAOvZ0sI3YJu\\\n",
       "z0fGy+16XxvvrvcD6xJrjmn3ZswTxgphIpOLVvRx26V9kOiw4WRdfdSARV9U8tyHJXK9X/D6QgDY\\\n",
       "+MgYbN1fgZN19Uh02HDbpX3w5nNPYPHixSHXnYzJWIRFcuvHfORjERZhMiaHnLt48WL84dFfR1yf\\\n",
       "2FFav7AApXPgFHAzMIXcAcTSIFqc40wD3FVasKRfcxefpq2f2/U+oFhCe/ll5QVt6aZoPf9W/Roy\\\n",
       "iLPYgbhuWpBpdWh7AJcVa+fm/hwoWa0FePYErRilrkJ7zB6vHbclAHaHdrkrnzAGuBteBNyntOlh\\\n",
       "8T7FriWDf6YFs8HT2C3dOJuokwmehgy3JjD4sWjTqmKq2KoAcTYL6ur9iLdb0D3RYagAFtPM+mvp\\\n",
       "X69y67/kGr9c5GIRFsnXqESlYV/w+3G/7Am6ePFiTJs2Lep75LrA2PHzmxlA6uxiqXQVU6T9rwxU\\\n",
       "9o58MJApA7QgavDPQoM/ix3Im6QFbpIKrHoIUHS9As+7XgvcrA4twZc3qaGnoKpl70SLmPq6QH++\\\n",
       "3J9rlb+KFeg5UAsg9cEfEMh4iv2JxfsUVcqixUtwtlS85+xLmnAziTqncJmvaK1dIlXMbt1fgdKT\\\n",
       "dZj9j50RK4XnXJ8Lh01rEVVX75fXFI+7vdqx9f97VL6G/rWnTZsmM4E7sROv4BX5Gvrg7xW8EhL8\\\n",
       "vb1pPy6aU4SL5hRhxorikDY3kTJvHSUzSB1Ll80ALl26FEuXLsW+ffsAAIMHD8bvf/97XHvttQAA\\\n",
       "VVUxZ84cvPrqq6ioqMAll1yCJUuWYPDgwTG/Bv+C6CT02bCRD2rZsuxLtOBJZAGdacYCDHuClpmL\\\n",
       "T9MCM1H8EYli1YI/0fIlJRuoKgVUv5ZVHHxDoFhEXDslWztXX8ARLWOnz/rduNxY/DH+We0c8d7E\\\n",
       "FDEzgNRF6bNfIsCKVt0brjAhOPM3tE8aVn1T1uj2axfN+RAn6wLN4BUA112YhYW35GHQEx+grl7b\\\n",
       "9Sc13o6zuidgR2klnHYLHptwnnzt8847D7t3az0AV2KlIfirRCUmYiIAYNCgQfj2228BBLKQgFaF\\\n",
       "LKqR51yfG3UtIDODofj53YUzgGeeeSaefvppbNmyBVu2bMGYMWNw/fXXY9euXQCAZ555Bi+88AIW\\\n",
       "L16MzZs3IzMzE1dffTWqq6vbeeTU4vTZMNEweefftK8qtCBPH/zl3qhV8doStOBQtI/Jyguco1i1\\\n",
       "x60NTZ5VH+CtM76m2rD1m+rXAjal4f9uYsrXc0o7LyVbC+oay2Tq1/2J1xCvve7JQEHLzve0Y/oG\\\n",
       "1rGIZT0lUQehz6oFZ76Cp3v1a/Nuu7SP3Kpt3qpvUXqyDqu+KZOFFYOztEBM9PkT9Fk0ffAHaP8Z\\\n",
       "+efXZRjx9Dp4fYGcysm6enxTWgkVWrZwzj934aI5RRj9y0dk8JePfEPwB2iZQLEmcPfu3Rj9y0cw\\\n",
       "4ul1GNonDanxdqTG2zHhgiyZkWysEIRr8iicLpsBDKd79+549tlnceeddyIrKwszZ87ErFmzAABu\\\n",
       "txsZGRlYsGAB7r777piux78gOpBo7Vz0GUCxlg6KtlPHlU9oxSD6ANBib9hl4yTkGj/RNibY030D\\\n",
       "17PHB9q1pGRrVcNlxVrg50jRrQsEZCFIYxk68b6yLwG+W60Fmbk/D80AOpJDW8jk3hja6zAarhuk\\\n",
       "TiRaqxF9xgtASPZL9PJTAGQ1VOyu/9+jAIDKunqoCPT5e3vTfjz3YYk8HmYncANF95jdqmj1Xf7A\\\n",
       "2dXb/oUTa/8EoGlrALtffQ/OHXMTNj4yJmo2syO3XulI+PndhTOAej6fD4WFhaipqcHw4cOxd+9e\\\n",
       "lJeXY+zYsfIch8OByy+/HJ9//nk7jpROW7gt4QT9OsErn2jY4k3VgrxhU0K2/YW/Xsv82eMhH7Q5\\\n",
       "wu83LCuLG6p47fFaRrG6XGvtoli0DKCrQuvzp//4SMnWArtoWTfxvnb+TZtedqZq6xVfzA1kD8c/\\\n",
       "G1gjmHtjYAu7pm4Bx51DqANrbOcLPX3GK1x2UIRjSsMuIQtvyZOVwGIbt8wUp8wSnmwI/oDQ+n2h\\\n",
       "d6oTvVPjcX7vQABX71MjBn+AtgbwDbwBQFvzNxET5ZrAN/CGDP4A4MTaP6H/sY0AwrdZEcee+7DE\\\n",
       "cJ+4/o8isbX3AFrTjh07MHz4cLhcLnTr1g3vv/8+zjvvPBnkZWRkGM7PyMjA/v2R/0/idrvhdgd6\\\n",
       "tVVVVbXOwKnpxNq+cMHLsCmhWUH9uaICWGTRFAvgTNGKRPQNoFf/Btj/uXHtYHxaIOsHaO1fEs4I\\\n",
       "NJzWJ9gVaDuIlBVrU8f6tXobXgzftDn7Em3bOVGdrCAQFFaVGZtCi6/6quCmCHefiDqI4CKOaL7a\\\n",
       "ewLllXX4au8JLLwlT64BHPH0OtS4vRAxmV8FZv9DC7LEWkIRKD6+UjteV+83ZPWCxdu1iuAatw+J\\\n",
       "Dhu+P3Iq7HnBwZ/wJt7EVmyVwV4hCrGz4X/B3nr+9wCAmqRLDC1oxPhFplK0tAkuQGFmkPS6dAZw\\\n",
       "4MCB2L59OzZt2oR7770XkydPlotpAUBRjKkfVVVDjunNnz8fKSkp8l92dnarjZ2aKFLfwFjOFX30\\\n",
       "3CKgVwLBH2Dcc3fX+4G1gynZDZXEqYFr++u1oM2eoF0nJRuyB+CYJ7RefYAWKIq1elACmcD3phgz\\\n",
       "gns+0s6x2gOvpx9PuIxnU+4FUSfRlHVsopBj1TdlMvB77sMSWUARbw989PlUyExajduLeau+xRMr\\\n",
       "A8GX3aLgyYmhjZnj7Vb89MIsOGxWpMZra4FLT9ahrt5neK58ndrKiOMVwZ4j/SzDz+Gs2/6Dob+g\\\n",
       "IPoZikBVNKLm+j+KxFRrAK+66irk5ORg1qxZyMnJwbZt25CXF1jYf/311yM1NRVvvvlm2OeHywBm\\\n",
       "Z2ebeg1Bp6ZfX3fwy+jVs+LcxHTg0Dfarhs1xwJZtlUPBc51pgGP7Au/LlHs3avfQ9ieoGUN9dXA\\\n",
       "orL3w8e1qV9bAvD4odDxcLs3IoO3N+3HvFXfwlXvx3UXZsnWLvr+fOv/9yjcXi1Qc9isePiagTJT\\\n",
       "FizeboHDZsXJOq1FlMgGBq8F7J3qRNlJl3wsJd4unyOc3PDfqNy4Iuy4b//1H/BD+gj0P7ZRZvqC\\\n",
       "pY28FckjbkV8Q0UxAEPWUr9WkRW/0XENYBfPAAZTVRVutxv9+vVDZmYm1q5dKx/zeDz49NNPcdll\\\n",
       "l0V8vsPhQHJysuEfdTJi7d57U7RGzmKXjQd3BnrriXVw4apiK/ZpAVpZcWDN4bApwIQXID8SfG7t\\\n",
       "eR89GboucdgULTic8Hzg/Po6LbAU27nps3viUyY4Mc0sH1FYz31Ygrp6P1Li7Vh4S17INnBih466\\\n",
       "er9s1wJo2b94uxXxdgtS4+346YVala0++AMQcS1g6UkXUhoygSqARIfVkAEEgNSRv0DKiFtCxrx4\\\n",
       "8WJ8nXQJSk/W4VPbEGSMuzfknJQRtyB5xK0AAI/XHzK9u/STPThZV4+UeDszfhSTLrsG8He/+x2u\\\n",
       "vfZaZGdno7q6GoWFhfjkk0+wZs0aKIqCmTNn4qmnnsKAAQMwYMAAPPXUU0hISMCtt97a3kOn5oqW\\\n",
       "HdOvnxP/+db/V1ycv+HFwDo/EcCJ3UT0WToxdZt9iTYVrACodwdax4QrqhDjy/15IOMoqoNrjmlB\\\n",
       "qBh/pO3miEykORWu+u3fAG1qVJ/pc3t9MniKt1vg8foxoGeS7Au4/n+Pwm5R4PWrgeIRaBm+Sl1x\\\n",
       "yAW9U9A3PRH//LoMgBYQBv/dFm+3IPXqO7APkJnA7lffg8XlZ8PrC7SWib9wAjIAHF6zFIAW/KWN\\\n",
       "/AVsFgX1fhVxNovcxzjS7iZEjemyAeDhw4cxadIkHDp0CCkpKbjggguwZs0aXH311QCA3/72t6ir\\\n",
       "q8N9990nG0EXFRUhKSmpnUdOzSbauqz6tfazPgjUN4IuWa1l3/pfGf75toTAnro5VwaeDwQCNH1A\\\n",
       "KYJCm0M7x+bQsnQikyieu/o3DWv/oAV74mfRt09fjPHRk4E9gsU1mPUjk2lKIYOYzr13dI4MHE/U\\\n",
       "uFFX78e8Vbvh0q3RA7QpYH0zaQD4plRbrxduShgAnHYLHr5mIL7aewKrvinD4KwUHK/x4MCJWnmO\\\n",
       "RQH8qvF5Ytu42a5fAACsCSlIGvKfhkwkoDWVXqVMQHefCl9tJXpdMQkOmxWjzumBVd+Uoa7ejydW\\\n",
       "7kRKvB0PXzPQsKNJrNg2hky1BrClcQ1BB7Wgb6AKV6zlC5cVjNT3bl6vwL69Ym2e/hz9tYDQ3Tec\\\n",
       "aVqLGfFa+tcBjLt3DJsSPWO5ebnW5Fn0JNTvZsJgkEwill09whH9APXr9vQfeGJ9nwii9Lt4RKv8\\\n",
       "BSDXFIr9gX2qdszt9cNV75PZOr14uxWPTRgEQKs+9oV5gXi7BbufvBYzVhTLbKJ+14/g56TG27F9\\\n",
       "9tjQCzXC7LuD8PPbZGsAySTGPKG1Z3GmGYO0yoNaMCXW9Ym+d8G9+KwNGbz6ukCvPf00rr7noFiL\\\n",
       "d+Nybf0eoDV81q/P0/fXE98Ht2+Jtp7PVQVADWQIo/U8JOqCgnv+heuDF869o3OQGm+H065V6l53\\\n",
       "YZbcSWPuxFx0T3TIlikA8NiE8xBvt0ABYAtavxfp+r1T4zE4KwVWBRh1Tg84bBaoQEjwBwB19T48\\\n",
       "92EJln6yR+7kEfoyCt7etB9b91fggt7adQdnpSDebpHBX+9UZ8j0clOxOpgYAFLXM2wKMGufVmwh\\\n",
       "MmzuU1pQqCI0eDv4pTGg0jeLPvhlIOgSAWKkhsll241f9eMRAd6wKaHXi2bDi8aqYPF8NmwmE4s1\\\n",
       "eBGtUerqtR59P+nXHYkOGx6+ZiAArfAjNd6OMxLjkPPoKny19wS6JzpCAjgFxtYx8Q1TwCIwPXCi\\\n",
       "Fj4VWPvt4ZDKXz0F2ppDse3cxkfG4A/X58Kqi+bq6n1yi7odpZXwqcCBE7XweAPTxOWVLjw5MVcW\\\n",
       "t5yOaI20yRwYAFLXt+FFbU1fXLfAjhn64Ck4oBo2xVgNHJxxi5Sxs8cbv0YbT6wZvOCMIdu/EOG2\\\n",
       "S/tgaJ80zP7HTsxYURz1XH2wGK5qNtFhw66yStk38N7ROYaADIDcy1fonugIGzgFry8EtKCvd2o8\\\n",
       "UuPtQddRcdGcIjz3YQkmXJBlyOi56v3onRoPW8NA3F6/3KMYAOJsFny1N8zWlERNwACQuj59gBcu\\\n",
       "eGvsWKwZt7FztfPGzo1+XvYlgQrixujHsXm5VjDC6V8yiWjbmOmbPUejz3SJKeETNR6cqHEj3m5F\\\n",
       "jdsrp3AnXJCF2y7tgwkXZMGqaFOt4amGcY06pwesCnB+7xSZKbQqWvAntoYT5wilJ1042bBrx/r/\\\n",
       "PYonJ+Yi3m6FAq0IZOMjY5AYp9VpOmwWHK/xyOvW1fux6puymKbBiSJhAEhdX3N75sX6/FjPEzuP\\\n",
       "7Hq/8WlgfS9C/XQwp3+pCwvevSNckCOCtAkXZMV0rbc37TdMCdfV++Hx+nCyrh7HazzYM38CFt6S\\\n",
       "h7c37ZfBZXmlC4AWdMXbrfKapSddct9dANi6vwI+FThe48HuJ69F79R4+FQgKzUex2s8KD1Zh/X/\\\n",
       "exRJTrvsDRjcI/C2S/vgsQmDkJWqzSCMeHodRp3TQ+4yckZiHBQAFkVBarxdriGMdQ0f9wSmYAwA\\\n",
       "qWsI17S5LZ57Ohrbyk1PP10croCEqAvSt2SJFOQsvCVPBm2xXEsEkSILGCmIWvrJHllxO+ECrWgk\\\n",
       "yWnH1edlhCnYAGasKEbZyTrE2y3yOveOzkG83Yqyk3U4IzEOvVPjUeP24mRdPer9KlLj7fKrfh2f\\\n",
       "GKvI7m3dX4FEhw0n6+qxo7RSrk0U6xlP554yY0gCA0DqGppTGRvuuU0JCpsaQAavMYymsenrWLR1\\\n",
       "gEvUTMG7d5xuocLbm/bLQg8RnN12aR88fM1AJDrCt8EVrz3n+lwsvCVPBmDr//doSF8/APjn12Vy\\\n",
       "bd9zH5bgojlFAACP1wcVwI6GnoL6opLKunqkxtsx6pweAIB3Nx9Ev0dWobxSa1kzOCtFBqZiPM6G\\\n",
       "qWWlYYxNDehY9UvB2AewGdhHqANpTnFEU3oEhtOUc9ujiKMp4yPqQoJ73Yn+gSIbJ1gVYM71uWED\\\n",
       "zUAzaQ/qdEUe9jB9/vTXG5yVgl1llYizWQ3PE3o3TPWGazYdrjefGId+L2PRHHrr/go2dG4ifn4z\\\n",
       "A0idUEVhIb4fcyUqCgsDB5uzzi/cc5tSqBGtSCQ4+9YePfzYNoZMINwat+Csl35qWV+Q4VMRkkkT\\\n",
       "1wOAjY+MgcNm/LhMdNiQGm9HvN0i9xAWBSA+Ffj+yClkpsTj6vMy5Gv1To3H3Ib2LfrsXvB6wKF9\\\n",
       "0kLGIhpf6/cyTnTYsHV/hVyPyDV+1BQMAKnTOfbqa/CWleHYq69FP7E5U5+iUOPgl42fGy34DA74\\\n",
       "2iMYa24RDFEnEG5KNLjXnVj/BwSKSAAtGAyeGhUFKKLQY9Q5PaBAy/ylNmzBphWUaDt/1NX74bBZ\\\n",
       "ZTBXV6/1+/ufr8sMaw31YxLfz/7pYENAunV/RcT3pl/DqA8iAXCNHzUJA0DqdBLy8gCrVfsaTXOy\\\n",
       "bS0VqI18MLCf8OblDMaIWkksa9xEFfDJunr8z9dliLNZkBpvN0z/isyf22vcn3fr/gqoAPyqKos2\\\n",
       "TtR4QnYN8QZNC6sNz713dI5cIxicpbvt0j6Yc32uIbDTZzT17+22S/tg++yx2D57rCGIfPiageid\\\n",
       "Go+hfdKYCaSYcA1gM3SVNQQVhYU49uprSP/VXUjLz2/v4TTq+zFXwltWBltWFgas+yjyiR2laTLX\\\n",
       "4BF1GG9v2m/Yhzd4vZ1YNyj2+tXvPyyeJ8I98eGpAEhpyAp+tfeE3MMX0HYNeWzCeXjuwxK57lAE\\\n",
       "av/zdRlsFkXuTqJfw6dfv3jv6BzMW/UtXPV+XHdhlqHyOXhfZLPv8RurrvL53RzMAFLsU6otJOwa\\\n",
       "viZI/9VdsGVlIf1Xd0U/saNk27gGj6hDEMGSaO+irw4WIlUgiyydVdECP33mRAVkVfHW/RWGnoHB\\\n",
       "u4aIKt5V35TJti76/Yjf3rQfF80pwokatxzf0k/2oK7eDxWhja/108Phqp6JIglfB0+mkv6ru2QG\\\n",
       "sC3oA87TyTim5ed3ikylJPYAJqJ2pS8C2T57bNhzxLRqJElOO9xeH1wNAZk+UyiuH2+3QAHg1PUG\\\n",
       "fPiagYZM3Vd7TxgygPpCFZEp1AePIgMY3PhavK74erKuXq4JHPH0OlYHU0ScAm6GjpJCbq8p3Eiv\\\n",
       "29h4Yh1vZ5uaJqKObcaKYqz6RivKaKyBdDjB07L6gA5ASJuZpk7Dvr1pP577sARurx8OmyVkWjiW\\\n",
       "5+uDQU4FR9ZRPr/bE6eAu4C2nsJt7HUbG09afr7MOkabBo50neZOIYfFZslEXZ7Ysi24yjZWYnp4\\\n",
       "aJ+0kOAPQEhBRrhp2HDtavRb352sq0f3xDhZ5NEUwfses/EzRcMAsAuIeU1ckNZaixfLeERwd+TF\\\n",
       "lyKOIdJ1WiXgbY/+fETUppobFIkAS/Tei9RyJbj9jF64djWxbH13umPl9C9FwingZujMKeSKwkKU\\\n",
       "PzkX8PmiVtO2xDRs8DVKf/0wqlavhuJwQHE44K+sbLyit4XHFKKjVAwTUYcmpmkBNHmKVjw/0tTx\\\n",
       "6a7Xa+7zzagzf363FAaAzdCZf4FEKxVYrch84nGk5eeHDaxibrkSw2uJa+wenAv4fPK1j7z4EgCg\\\n",
       "54MzudaPiNpFrEFUtDYr7RWIsfVL03Xmz++WwilgkxLTqyL4A8JPrcbcdDmIfno5/Vd3QYmPh/fQ\\\n",
       "IZT++mEkjxuHxceP4++ZGUjLz4clMRH+ysqQKd0lS5agoKCg2e+ViKgx4aZmw4k2jSyuMfsfOzFj\\\n",
       "RXGbNWTmej86HQwATSotPx8D1n1kyLiFW3NXW1wM+HyoLS4OWTMYbg2hOHbkxZcMrV5UjwdQVVSt\\\n",
       "WYPXkrrhj8eO4vF167BkyZKwr7tkyRJMnz4dc+bMYRBIRK2usSAqeG9g0RxaH+TdOzoHVkXbC3jV\\\n",
       "N2VN2potXHFIrLjej04Hp4CboaunkCsKCw3TsyJDKIK1cGsI5dSyosCSnCyndUt//bAW/CUn48VN\\\n",
       "XxheZ/HixZg2bZr8WQR/erNnz8YD557LtjBE1C7CTbOGOyamgYf2SZNbwMUSmHEat2119c/vWDAD\\\n",
       "SFJwRu/Iiy/BX1kJINC6xZaVhYS8PBn8ielh/XQvrFZAVWFJTASgBYUJwy7GX2+6MST4A4Dp06fj\\\n",
       "2TvvBBA++AOAOXPm4PePPtou7W6IqOs43UxbuAxhuGMiG7fwlrwmZeU4jUttjRnAZmirvyBaqnFy\\\n",
       "Y4/rizXSf3UXyuf8AVBVQFGQOfv3ALR1gv6aGi0w1BVx+CsrYUlJwcAvNxleR2QN/+h2YfG+fVHf\\\n",
       "56BBg7B79+6o59yX3gO/u/129H7+udO+D0RkXh2xiIPaHjOAzAB2CrH2vWvsvMYe16/FO/bqa1rw\\\n",
       "BwCqivIn5+Lw0wvgLSuD6naHFJAIIviyde+O8ifnwta9O2xZWTjriisijjsXuQAggz/xczjdLZaw\\\n",
       "6xGb8j71Y23xhtJE1KFFy7Q992EJSk/WyTYvRF0ZA8BOINZGz42dp39cH/yI78U5IoCD1Qpnbq42\\\n",
       "pevzQXW7AQCKw2HYyaPngzNhy8oyrBN07dwJ+Hxw7d6NAes+wm/+/Gc8npERMqbJmIxFWIR8aIFk\\\n",
       "PvKxCIswGZNDzn28ZwZu7d7dkFkMF+TFer/aawcVImo/LJgg0nAKuBk6Ygo5lv15ARgKOADIqV/x\\\n",
       "vQj6xJq/qjVr4Bw0CN4TJwwBmL4ARF80EpedDdfu3UgeNw4Jwy7Wzj96FO8cOYK5Rw4D0DJ9i7BI\\\n",
       "jrESlUhBivz5ftyPndgJoCH4S0sLO83cUg2qicjcOAVsHh3x87utMQBsho74CxTc4BkIXbdn6dZN\\\n",
       "fp88bhxObdgAf20t4PXCOXgwvCdOICEvD7XFxTL4C672DQ4o9a8hsm8iGAQgi0kUpxP/MyQPv339\\\n",
       "dQBaxu9u3B3yPl7BKyiENjX7zC9/iZ/u+hYAm0UTkXkwIG09HfHzu60xAGyGjvgLFLzFmwz8dBSn\\\n",
       "E9aGqdTDTy+A6nIFHrRaMWjXTvmjPqAUwSIQyPA5Bw2Ca/duwOeDJSUFlsREGfyJ17WkpBjGkFkw\\\n",
       "GyP+8Ae55m8lVhoyf5WoxERMBKAVhnz77benfS+Y4SOi1tLaARpbw7Sejvj53da4BrCLScvPR+YT\\\n",
       "j4dfA6co2heHQzaBDg7+kseNkz9WFBbCX1MDS0oKMp94HNUffQR/ZSX8lZWBNX4NX2G1oueDM0Oa\\\n",
       "SwOQ7WCEFx58UAZ/+cg3BH8AkIIUuSZw9+7dWLJkyWndC67xI6LWFOvuIS3ZeoaopdjaewDU8tLy\\\n",
       "8w1BmJiK7TZypMzghat8tWVkIGHYxfLnY6++Jqd00/LztbYwDZy5uTIDKKaM9YGW6vHI771lZfL7\\\n",
       "dyoqDGsA9dO/+jWAd+Nu7Gz4n+gLOG3aNJnV009R1xYXh83yibWKjRWDEBGdjntH58gMYDT6QLEp\\\n",
       "mcLbLu3DqV9qNZwCbobOmEIWU7qWlBT4T53SsnfQpoVVlwuWlEA2Tj/N6z1xArbu3WVhR3AfPn0P\\\n",
       "QUAX9FmtsGVkwFtWhncqKzG3/JDheZMxGXfgDrnmT6wJfANv4E28aTh38eLFuOqtv2jTyYqitanR\\\n",
       "FauI9YlERB0J1/J1PJ3x87ulMQBshtb8BWrJ9WvRCjZEsUjt5i2oWr060PsPkMGVPsjSZ9XS8vMN\\\n",
       "ff9cu3ZBcTrhyMmBa9cureAkMRGq243/PnRIZv6C5SJXVvuG+1nviT59cIszXq5jjJYBJCIiCocB\\\n",
       "INcAdlhNXb8WrqmxOHbkxZfktdLy8zFg3Ueyd1/yuHE48uJLocGfoiB53Dh5juJ0wnvokGwGXf7k\\\n",
       "XBn8ecvKtIBPVaHW1WnrAlUVUFX4Kyuhulw44fNGHLsI9gZ07274OZxTvbJgy8pCxiOzMGDdR4Yp\\\n",
       "ayIiIooNM4DN0JEygLJaV1GgOBxQHA4AkNOl4lhwG5WSSy4NVOjqzus2cqQhs7Z70HmBAFFkBqGt\\\n",
       "BfQcPBhSaQwAsNkAbyDwW3zsKP54/HjY8c8dMwY3nqrB2/v3Ye7h8JnC+844AzMvuNDQikZsVyf6\\\n",
       "AxIRETWGGUBmADsskamLdVoz/Vd3aYGZqkJ1uQIBmThWXw9/ZSWOvPhSxO3PbL16Qa2vl8GfPgMp\\\n",
       "AkrF6ZT9BQFo2b5IvMas3/T0HrjvjDNCTiu46CLcUFoGf2Ulbk1Nw+M9Q3cMefDS4Zh5wYWGgg79\\\n",
       "dnX6ohMiIiKKrssGgPPnz8ewYcOQlJSEnj17YuLEiSgpMe7vqKoqCgoKkJWVhfj4eIwePRq7du1q\\\n",
       "pxFHFsuetaL9iyUlBYrTCUtKCno+OFO2hBHTuarbDW9ZmawM7vngTC1IREPhhs+HqlWrYOveXSsU\\\n",
       "qalB6a8f1jKDTqcMBJMnTJCvLbaIi8X0jExDELh48WLc7Kk3nHNrWhoe75Ulf77vjDNwb3y8Yfs5\\\n",
       "oCHoFa1t4uJiev1o95J7AxMRkVl02SngcePGIT8/H8OGDYPX68Vjjz2GHTt24Ntvv0ViQ1+6BQsW\\\n",
       "YN68eXjjjTdwzjnnYO7cuVi/fj1KSkqQlJTU6Gu0VQpZX2HbWKVrY1PH3+UNgVpXByU+HucWbzM8\\\n",
       "x9a9e/iMnqi4bSDGsffGm7TzxVSv1SobQzsHDQp7LcXpxLnbi1FQUIAePXpg2rRpKP31w6hatSrk\\\n",
       "NddNn4YDH3+MOw/+nzws2tKE25Ek3PsNfjzavWzKfSYios6LU8BdOAO4Zs0a3HHHHRg8eDAuvPBC\\\n",
       "vP766zhw4AC2bt0KQMv+vfTSS3jsscdwww03IDc3F2+++SZqa2vxzjvvtPPojdJ/dVf4xs4N9Jmr\\\n",
       "xopHRKZMnzET08393vt/cObmhj6pIUMovhfjcDU0c4bXK5tFx/XRWhy4vvsu8ByLBYrTCQBQXS7s\\\n",
       "Pv8C3PLBGtx6xhmoKCxEbXExMgtmyxYyAJA8fjymTZuGBe+9B0tiopzS1t8Hsfewv6Ym0q0LuR/R\\\n",
       "7mVj95mIiKir6LIZwGA//PADBgwYgB07diA3Nxc//vgjcnJysG3bNuTl5cnzrr/+eqSmpuLNN98M\\\n",
       "uYbb7YZbN91ZVVWF7Ozsdv8LQp+5Cm7TEqyxjJm4lugLCABKfDxUlwuKw4GMR2YB0JpL+2trgXpt\\\n",
       "+lZMD4ctBgEMhSMGdjtQXy+nrMXYajdvQdWaNXAOGgTPwYNQ3W5ZxCJfv6pKZiYjZe24HRwREQVj\\\n",
       "BtAkAaCqqrj++utRUVGBzz77DADw+eefY8SIESgtLUWWLvP0q1/9Cvv378eHH34Ycp2CggLMmTMn\\\n",
       "5Hhb/wIFBzUtEeQYsmlerxaYATLAAyD3+g23v3BMGoK9SBSnU6tEjoszBHcADAGkPjgFtAA1Y9Zv\\\n",
       "5Xtn0EdERNEwAOzCU8B606dPxzfffIMVK1aEPKY0FBEIqqqGHBMeffRRVFZWyn8HDx5slfEGCy5O\\\n",
       "CJ7WbKxiWDy/9NcPG76K61UUFqL8yblaUCcqd+vrQ4I1UUASS9GH4nTKgE7y+5FZMBuZBbPDPkd1\\\n",
       "uaDW1cFfWakVm1itcObmwpaVBeegQYbz9Ne2pqUZ3ru4P9EqnoPvDQs/iIjITLp8AHj//ffjn//8\\\n",
       "Jz7++GOceeaZ8nhmZiYAoLy83HD+kSNHkJER2oYEABwOB5KTkw3/2kJT1rFFe37VqlXa1zVrDNc7\\\n",
       "9uprWnYtKPBV4uMBS9CviKIYsm9QFCRPmGDYQg7QgkXV5TI+3+dD+Zw/4PDTCwLHRKYxSMYjszBo\\\n",
       "106k3vhzAIAnKNi2du+OzNm/D3sfxP0B0Ggz7aY23CYiIuoKumwAqKoqpk+fjr///e9Yt24d+vXr\\\n",
       "Z3i8X79+yMzMxNq1a+Uxj8eDTz/9FJdddllbDzeq4IDvtHoEiuCuYYcPS0oKfBUV2J17vlzzlzx+\\\n",
       "vHyOmFaVzxOFIMG7hYwfj9ri4tAXVdVA5k5RtECvoZpYBpCKgszHficLRATRYub7MVfKnUf8NTWG\\\n",
       "jKCY3tW3hhHZPACG3U6iBcos/CAiIjPqsmsA77vvPrzzzjv4xz/+gYEDB8rjKSkpiI+PB6C1gZk/\\\n",
       "fz5ef/11DBgwAE899RQ++eSTDtcGRmjO2jax44fYMUPuHCJYrbB062bcFcTphFpXpwVqs3+vrRFs\\\n",
       "eNySkoJuI0eias2aQPYw6Fcps2C2zLABoYUiovDjyIsvadPKDev/RDGI2NkEqiq/imIPcS98J05A\\\n",
       "dbnk+kS2cSEiosZwDWAXzgAuXboUlZWVGD16NHr16iX//fWvf5Xn/Pa3v8XMmTNx33334eKLL0Zp\\\n",
       "aSmKiopiCv7aQ3OmK0U2rOeDM1FRWAh/TY02xWuzyayggT5Tp7uGJSVFBm61xcWByl4RpAWNN0FX\\\n",
       "Ya263Vpz6oaWLyLQ81dWQq2v14o/GnYr8VVUAIoC5+DBWiPr8eMNmTpxL/TrEVsim8c1gUREZAZd\\\n",
       "NgPYFjpTBlAvUsNjQ0No0cx5927A55MZNl9FhWwkrcTFGTJ3cdnZcO3aBdhssCQkGDOEDcR19BXM\\\n",
       "5U/ONbyGvso40h6/YqwJeXmGPYuF0l8/jKo1a5A8bhx6P/9cs+8NERF1HcwAduEMYFcU69q/isJC\\\n",
       "lFxyKUouudSwNk6/hVq4TFlafj4S8vK0HTx8Prh/+EFuL+evqtIybg1ZQVGtq7rd2vdVVVqhhqpq\\\n",
       "ff0SE3Fqw4ZA8Ge3y0KR4ApmsV1dzwdnyrV7gtjjN/g9iHvR+/nnZKCmr3CuWr1a29ZuzZom3WOu\\\n",
       "CSQiIjNgBrAZOupfEPr1ffpq2FiyWrsH5xoydoZ1fFYrkseNM2zbpu/Jp68E7vngTBx+eoFhGjn4\\\n",
       "8WiBbMQ1i1YrMp94POS5+sfh82njqq9vcgaQiIi6vo76+d2WmAHsgtJ/dZdcq5f+q7uiZrWCs4XB\\\n",
       "awHFlLMtKwvJ48ahtrhY2y7OakXyhAnIeGSWtpYQkFuydRs5EsdefQ2qfucPRYHqdmtBXWJixF1K\\\n",
       "RJYv3JpFKArg84WsgRSPW1JSkDxuHGxZWbKNDIM/IiKiUMwANkNX+AsiOFso2qqEW1sXvD5O7h4S\\\n",
       "vGtHmIpgIHT9X6SxBGcqxfFIz2/scSIiIr2u8PndXMwAmlxwtlBM99YWF4esNwzOJIoKXlEBrDid\\\n",
       "WjYwKPhTnE45/RstOIuUqRTHxRpBAGHXNAKNN34mIiIiZgCbpbP/BRGuqjj4mKimdQ4aBO+JE4bq\\\n",
       "Xf0av+QJE9D7+ecMGUVnbi48Bw9C9Xi081Q14hq+pmisipkZQCIiiqazf363BAaAzdDZf4FiaXkS\\\n",
       "XBQSrlULAMO0sGjros/K6QU3c25qwKZ/HoCo7WCIiIiCdfbP75bAKWAT00+5RmqAnDxunGELNkAL\\\n",
       "6FSPR1vrZ7UCiiIbPuvbuogCFDHFnDxhQthmzkdefCnktaM1ZNa3w5H7HAftb0xERESRMQPYDJ3t\\\n",
       "Lwh98+RTGzYACLRjibWQQlxDZgAb2q401mIm2nSzuJb+GsFtYGJ5T8wAEhFRLDrb53drYADYDJ3t\\\n",
       "Fyi4Vx4QOh0bLhgLJ5bAS1QJC5GuGy44jDUAJCIiaqrO9vndGjgFbBLBvfL0lb9AYFpV9N/TV+IG\\\n",
       "9wrUny924giXdRNVwmKtYLgK30jrAIP7ADZlipiIiIiiYwawGTrTXxCn2ytPX9QBIKbdRPTPFRnA\\\n",
       "SDt/NFaIElxUom8Dwz17iYjodHSmz+/WwgygSZxur7xjr76mBX+KYsgYBhMZObEXb0VhIdLy8zHw\\\n",
       "y00Y+OWmJvf+C3l9q9VwDvfsJSIiOn3MADZDZ/wLoqmtV2I9P3h9YUv16GNvPyIiammd8fO7pTEA\\\n",
       "bAb+AgU0VhTCKVsiIuoo+PkN2Np7ANS+WirDlpafH/X5Yps5TtkSERG1P2YAm6Er/AXBzBwREZlN\\\n",
       "V/j8bi4WgZgciymIiIjMhxnAZuBfEERERJ0PP7+ZASS0TFNlNmYmIiLqPBgAEo69+lqTegO21jW6\\\n",
       "sndL3sXY98bi3ZJ323soREREDACpZdYBci1hdMt2LMOhmkNYtmNZew+FiIiIawCbg2sIKFbvlryL\\\n",
       "ZTuWIa9nHoqPFGPq+VNx88Cb23tYRESmxM9vZgCJ2sTNA29G0Y1FKD5SzEwgERG1OwaARG1o6vlT\\\n",
       "0SuxF6aeP7VJz+MaQiI6HV+vXY3Xpt2Jr9eubu+hUAfDAJCoDYlMYLjp32hBHtcQEtHp+Grle6g6\\\n",
       "dgRfrXyvvYdCHQwDQKIW0twsXbQg73Qzh0Rkbj+ZeCOS03viJxNvbO+hUAfDIpBm4CJS0hv73lgc\\\n",
       "qjmEXom9UHRjEYBA8UcsRR9NOZeIOpev167GVyvfw08m3ogLrx7f3sMxPX5+MwNIJtUaa+rCZema\\\n",
       "MnUbbXqYiDo3TsVSR8MAkEypNdbUhQvgOHVL1LWcblFFc6ZiWchBrYEBIJlSY4HZ6WYIg5/XkbJ6\\\n",
       "rCQmar7TzeRdePV43LXkz6c1/cvsIbUGBoBkSo0FZk3NEIrgauG2hThUcwgvb3s5bLDVkkFYU6/F\\\n",
       "SmKi5mvpoopYsnvRXpPZQTpdDACJwhAZwryeeTLIiqVNiwoVyXHJqPZUhw229EFYuOs1JahrakDH\\\n",
       "6Wii5mtOJi+caNk9EdwBkK8ZHPDFkh2MFCQyeDQ3BoDUJTQnsxbuucE7d8z7cp7M7ukDLvHcvJ55\\\n",
       "6JXYCw8MeQCJ9kSoUGFRLCHB1tTzpyI5Lhm19bV4edvLIddrLKjTj7WpAV1Hmo4mImDVwmdQdfwo\\\n",
       "bA5H2OxeuOAu+FgsGclIQSKnls2NASB1CU0JnBp7bnCQZVEs8Kt+qFAjVvkWHymWwZUIzB675LGQ\\\n",
       "YOvmgTcj0Z6ISk8lFCgh12ssqNOPlQEdUedW8sUGQFXhq683ZBRFZi5r4LkhwV1wwBcuIxmc2csa\\\n",
       "eC4UiwVZA881vH6k42QOtvYeAFFLmHr+VNlDL5zgwCnac/Xnin5+C7cthAoVU8+fiq2Ht2Lel/Mw\\\n",
       "ru+4sK9788CbIwZls9bPQnlNOZxWJ2YMmRE2QIwW0DX2Pomo8+jZ92wc/vEH9Ox7tuG4yMwB2tSv\\\n",
       "3oVXj290+lmf2bvw6vEoK/kOqt+PspLvDOdFOk7m0GUzgOvXr8d1112HrKwsKIqClStXGh5XVRUF\\\n",
       "BQXIyspCfHw8Ro8ejV27drXPYKnZGttirba+FslxyWEDp+DnBmfhbh54MxLsCajyVGHZjmVYs28N\\\n",
       "/Kofa/atafI41+xbAxUqXD4Xnt38LEasGIF3S95FQUEBlixZYhhzcMZyyZIl+HbFt4axvlvyLkau\\\n",
       "GCmvEwtWAxN1DHVVVYavgJa989TVweZwwOOqPa31ecFZQvFz1sBz8dq0O7Fq4TMRM4zBuE6w6+qy\\\n",
       "O4F88MEH2LhxI4YMGYKf//zneP/99zFx4kT5+IIFCzBv3jy88cYbOOecczB37lysX78eJSUlSEpK\\\n",
       "iuk12Em8YxM7a9TU16DKU2XYoaOp18jrmYfiI8UyA7hm3xqM6ztOrhGM9dqz1s/C6r3G/5DWrqrF\\\n",
       "j//vRwBA1qQs3Db1tpDrLlmyBNOnTwcAzJ49GwUFBQACu48AiHkM4XYsIaK2p98dBNAydx5XLVyn\\\n",
       "TkGxWKD6/UhO7xmSBTxdr027E1XHjoS9dqSdSsRzWnIcHQE/v7twBvDaa6/F3LlzccMNN4Q8pqoq\\\n",
       "XnrpJTz22GO44YYbkJubizfffBO1tbV455132mG01BrEVG64tXaNCW7rIoK/ZTuWYWjGUDx2yWMo\\\n",
       "PlKM7s7uUKCgwlURU0ZtwagFeOLSJ5Aclwyn1YmT/zwpgz8AKPtLGd5+7W1DFnLK76fI4A8A5syZ\\\n",
       "IwPAqedPRUpciiG72ViGj9XARB2Dfv2enPZVFSSn98TA4SNPq92MPmP39drVWDIlH+PzcvHo/ffh\\\n",
       "JxNvhDMxCVa7Hc7EJMO1Fzz5JP7fJxtCCkK4l3DXZco1gHv37kV5eTnGjh0rjzkcDlx++eX4/PPP\\\n",
       "cffdd4d9ntvthtvtlj9X6dL21PHo18vFUiih34tXBI9OqxMWxYK8nnkhxSKHag7hcO1hOaX78raX\\\n",
       "Y369RHsisjZmYcvft4Q8VvZ2GY5eehRF07TM35+fDP2re86cOQAgA8FwlcQLty3k3sJE7SBcZq+x\\\n",
       "PYB/MvHGsOeJgC7Wa4lAckPhW3DX1mLNN99h7bff44Ptu3DmuYMRFx8P17FqJCSlyGssWbIEKz7b\\\n",
       "BAA4e8gw3KW7njhHBIbcx7jr6LJTwHqKohimgD///HOMGDECpaWlyMrKkuf96le/wv79+/Hhhx+G\\\n",
       "vU5BQYH84NUzcwq5o9EHcU0J+vJ65sm1fSI7tmzHMtTW16LSUwmn1Qm3zw0FClSoOO+M83DCdUJO\\\n",
       "L1sUC5LsSaj0VDY6tTr2vbHY/vZ2HP3H0ahjGzRoEHbv3h31nNmzZ+Pz3M8NU7qNTX1zCpiodemn\\\n",
       "TQGg6tgROBMblhYpKkbm3x4S5EUK7MJdK3g6NuxUcl0d/vHlVqz99nvD9R6Zfi/O9rvka+mXlwj6\\\n",
       "ZSbBY+gq08CcAu7CU8CxUBTF8LOqqiHH9B599FFUVlbKfwcPHmztIVITRWsHo58aDZ7iFcGf6N0n\\\n",
       "CkNmDJmBXom94Pa5oUKFH1o7mF3Hd+Fw7WFUebQssF/1y3Mbm1qdev5U2JPtER/PRS4AyOBP/BxO\\\n",
       "jx49whatFN1YhAeGPBB2PJwCJmpd+mlT8T0UFa6aarhOnWpSP75w1xLFHKIwY0PhWzLrJ6aVd9Rb\\\n",
       "QoI/AHh68VJ8vEP7b0u44A8wLjMJHgN1HabMAP7444/IycnBtm3bkJeXJ8+7/vrrkZqaijfffDOm\\\n",
       "6/IviI4nWgZQn/kCtCnc5LhkJNoTZZGHvtgDgLzW1sNb8cHeDwAAKkL/LzP4jMEo/M/CRsejzzj+\\\n",
       "861/4rvlxvYLkzEZd+AOvIJXUIhC5CMfd+NuvIE38CaMv5eLFy/GtGnTmn1fiEgTLRPX3GtmDTwX\\\n",
       "+7YXywwgAGxY8RdAUdH3wiGGxxp7bX1G7icTb8S/ly8FVBVQFFw15V68v/GrsLNVepmpySg/GX0Z\\\n",
       "0y3jrsLFqfEYOHwkJsz4bdPeeAfHz2+TZgD79euHzMxMrF27Vh7zeDz49NNPcdlll7XjyKi5RCNm\\\n",
       "sdWanj7zJb5/YMgDKLqxCEMzhgIA1h1YJ/fy1WcTF4xagMzETBn82S12WBQLxvcbjycufQIHqw9i\\\n",
       "5IqRIdu6zftynmHrN/Fz8ZFi7F62G3c+cac8Pxe5uAN3AADuxt1YiZW4G9p61DtwhyETGC74E1nN\\\n",
       "WetnhRSBNLYFHRG1zs4Y4pplJd9h2p9XYNryQln0ITKC+77eBnddjSE7uGrhM3g+/zq8POnnMtOn\\\n",
       "bxDt7NYNnro6bCh8Swv+AEBV8dXK99CjR4+I4xH/HRHBX7QZBteRcqh+P777/LOWuBXUwXTZAPDU\\\n",
       "qVPYvn07tm/fDkAr/Ni+fTsOHDgARVEwc+ZMPPXUU3j//fexc+dO3HHHHUhISMCtt97avgMnAM3r\\\n",
       "VRdpZw8AsodecO8/8RyXzwUAUKCETJXqp0zr/fXISMjA0IyheHnby6jyVKHSU4m5m+bKnnzLdiwz\\\n",
       "TCsH/wwAy/+wHIsXLwYA7MROvIJX5GukIEV+/wpewU7sBBA58yfew5p9a0KmwfV7G+uDUiIKON2p\\\n",
       "zmh77Xrq6uDs1i3kmqIi19mtG7z19VD9fkBRkDXwXCyZko/vNq4HVBVejxsbVvwFr027ExtW/EUG\\\n",
       "k3HOBLhqquH11AOKAovVBme3bohPToZr/Qf4Wd7gkHFOxmQswiLkIx8AkI98LMIiTMbkkHMXL16M\\\n",
       "/zg3BwBgsVpjfs/UeXTZAHDLli3Iy8uTU7wPPfQQ8vLy8Pvf/x4A8Nvf/hYzZ87Efffdh4svvhil\\\n",
       "paUoKiqKuQcgta7GtnaLJq9nnqzcjfVaYss3ALAoFswYMgMAUFNfg4XbFmLW+lkhzxfXVBBYN6pC\\\n",
       "RZWnCi9vexk19TVIiUuRW8IFbxEnAtMeV/VA75zeAIBCFKISlYbXqUQlCqFNL/fO6Y13ur8TNtso\\\n",
       "ml2P6zsuZI2ffm/j4CCUiDThtlWLhcjyffTnPxkCIpHlc9fWhn2taX9egb4XDoG3obuEM6Ebykq+\\\n",
       "g+vUKcO5Xq9HaxGjqHAmJsHjqpVNnG1xdkBV4fd54a6txeG9ewAAIwb0NQSBpzPDYLFogZ/4Gu49\\\n",
       "R8uWMkjs2LpsADh69Gioqhry74033gCgrQssKCjAoUOH4HK58OmnnyI3N3IqnNpWcwoVRJBTfKQ4\\\n",
       "5mvdPPBmjOs7DhbFgnF9x+HmgTdj2Y5lMrMnsmpCclyyvKYo/hjfbzxS4lLgtDpR7amWBSLLdizD\\\n",
       "rPWzsHDbQtTU1wAwTg/PfnY2SveUAtD+Itdn/gAtEyj+Yi/dU4q9q/ei0lOJeV/Ok0Hgsh3LUOmp\\\n",
       "xKn6UxiaMTRktxD93saR9ikmoqbRT8mK5sr6gOgnE2+Ux0UWLzgYKvlig/y+70V5WmawWzdAV5Do\\\n",
       "9Xhgi3PIn12nTuG7zz+Dx1WLvhcOkeerfj9scXHyPH0QeDozDLa4hmI1BSFj12dLIwV6rTGlTi3H\\\n",
       "FEUgrYWLSDued0velfv2PjDkgSa1ghEtX0Rgt3DbQrh9bjisDozoPUJWCitQkByXLLOEL297GQoU\\\n",
       "+fO8L+fBr/oBADbFBq/qle1jAMBpdSLNmYZDNYdw/N/HcehtLbDMRS4WYZEcVyUqDf+Rvh/3y/9I\\\n",
       "97qtF8646gxD6xfxuhbFYgjw2PaFzKo1ijr0gosx9K+lL/4oK/lO7vAR3Erl7Udn4vCPP2g/KAqc\\\n",
       "Cd0w8pZJAIBP/rJcZgcFm8MBn5gyBuT1DMUmX2+Dq6ZGrg18Zs2nOFKlZRVXYqXhvyuVqMRETASg\\\n",
       "tZ769ttv5WPimvrdSa68856orWoitafpaP0D+fndhTOAZE4iE5ZoT4w5wyWmiFWohh6AlZ5KpDnT\\\n",
       "MGPIDBQfKcag7oMAaNO8lZ5KPLnpSTy7+VmZJVy4baEh+AMAr+oFANgsgZ7rLp8LtfW1qPmkRgZ/\\\n",
       "gPYX+ht4A4D2F/lETJR/sb+BN2TwBwCH3j4E72deQ+uXxy55DBbFAr/qD7v+j1O+ZDatnYHSZ8GC\\\n",
       "p4/Fa+/7ehsAIKVnJqAoqK2qNGTK9PsAQ9VaxXzy1nJ8tfI92Oyh7aJstjgMHD5SW/dns4XsF/zD\\\n",
       "li/hOnUKtrg4KBYLNn6/TwZ/jc0w7N69G4/ef5/M5on3NDL/9rAZznD3Qe90p9SpbTAApC4lONiJ\\\n",
       "pZhEbKcmvgeACleF/PrytpdxqOYQdp8Ibcrs8rmgQIHT6tT6BDZk4Mb3G29YG2hVjGtoflz9I/a+\\\n",
       "sTfkem/iTdyP++Wav0IU4n7cH9ICBgC+W/4dZj87W743EQSKYg/xvvUFL6wAJjNpTv+6aOvXxBZr\\\n",
       "G1b8RV470hQpVAVVx47gyL4fZVFHuGliPW+9tubPVVMDm8Mhp4MViwUjb5mktYxRVfh9PrhOncKG\\\n",
       "wrfw7+VLUXXsiCFjeDT9TLxfvAuANsMg1vwBMKw1vht3yzWATy9eig+++MowxguvHo8r77wn4r0U\\\n",
       "gV64+0AdFwNA6hRON3CJpQDk5oE3I8GeIIs35n05T1YDiwCvV2IvjOs7DslxybBbjH+Vq1ARZ42T\\\n",
       "jZfH9R2HjaUbDf0CvX6v/N6m2OCt9iISkelzZDkMP4dz/Nhxw3vTF3uEq4R+dvOzss2N/jgDQuqK\\\n",
       "mpOB0mcPg4PBr1a+B9epU3DVVOOrle+FzTTK7Nktk+Tevs5u3UL24NUHVxln94disSCjX44WFKoq\\\n",
       "EpJScO5l/wEoCqw2sSYv0PbFYrMZpnuFjd/vx9OLl8qfmzLD8H7xLmw7csLwnsPdy3D3hYUhnQfX\\\n",
       "ADYD1xC0nVjXsQWf927Ju3KN3ojeI2ST5+DpYXFetac6pNHzE5c+YWjiXF5THnKO3WKHT/XJ4K/S\\\n",
       "Y6zk1UuJS0G1pxqH3j8UcTs4scbP+5k3pFm0MPiWwbCOs2Jc33FYMGpByPsRDaeLjxTLbeHEWsSU\\\n",
       "uBRsuGUD1wcSRaBfvyYCG2e3bohzJsh1dlAVuV4v3Pq/aGvfVi18BiVfbDA0WV4yJR+uU6fg7NYN\\\n",
       "I/NvD3l9QFsD6Pf64PdF/iNy4/f7ZOYvWC5yDcFe8M96P8sbjJEDzw677g8IXfsXy/vuKNvK8fOb\\\n",
       "GUDqJGJdxxZuW7REeyIqPZVYvXd1SDZQ3yMQgKHRM6AFa8G9Ah3WQDWeAgUpcSnw+r3wq36s3rsa\\\n",
       "1Z5q+bi4jtPqhE3R1gHW1NfADz8yfpaBHteHNmy984k70fua3lCg4Ke3/1T2CdTrcX0PWK7R1vtt\\\n",
       "LN2Id0vexYgVI2R7mOBMoMhiXtvvWvRK7CULVrg+kCg8fcZLTOd6PfXaur7txZi2vBDT/rwCF149\\\n",
       "PuL6v2iZsJIvNkD1+2UV8NdrV2uZPABQFcM1swaeK5/ndbsNwV/w9DEAnPJ4Ir6uCPYykrsZfg6n\\\n",
       "xlMfcd0fEDrFHkvGldvKdRzMADYD/4Lo2PRZMP1ev5EqZEUVMAC5RZx+SzhA6/03+IzBuGHADfLa\\\n",
       "6w6sk1PGwUQVsE2xwaf6ZIApijUUKCh/v1xmAq+aeRUOX3Q4pGJY3aji3y/9GwBw2R2XIXFCIipc\\\n",
       "FXD5XHKsok2NPpvHLeCIYhNL9kqfoZu2PHTrx8aupT++Y10RDv/4AzLO7o+0Xlla42dAbucmnvf1\\\n",
       "2tX46M9/klW/IRTFMP1rczjgdbvx4c7/DbsXMKBl9kYM6Bs1U3j3bbfifLsfXq8HNrvdsEWdqFzO\\\n",
       "OLs/bpv/Usz3ryPh5zczgNSFiYxd8ZFiWRwR3P9OZMC6O7ujylMFu8WO5LhkuUXc1sNb8eSmJ3Go\\\n",
       "5pAMsHYd34W5m+aiwlWBjaUbIwZ/AOBTfQC0amB95lBUCqtQZSYw67YslF9knF52+Vw4VHMIJ4ee\\\n",
       "xLlTzkWP63sgcUIiim4swm+G/UZuZyeaXgNa4QrX9BE1TSxZu5H5tyM5vafcy7cx/7d7Z9g1ch/9\\\n",
       "+U+oPFIOQKsC1vcChKri/3bvlGvlNqz4i9wlRE+xWEKCP0CrEoai4Jrcc3D1eQNCxiSCP8ViwYgB\\\n",
       "fXHDxeeHnDN79mwMTXY07DTi0QpNVvxFPi7a1sj2NWDPv86IASB1CrEUKwSfo5/eDN76TZwvsmO7\\\n",
       "T+yGChU+1YeNt2wEAIxcMRKr9wYWKg8+Y7DcLUSFCpfPJRs7A1rmTYECCyxQoGB8v/G4tt+18vGc\\\n",
       "1BwkxyUjJS4FFt3/9ewWOzJ+loHuV3WXx2yKzVBF7PK5MOc3c3DRbRdh6vlTQzJ7oum1OFdkLJuz\\\n",
       "owqRmcQyNRlLIQQQCIa++/wzVB07gk/eWi4bRouGzV5PPZzduqG2qjJkGrfkiw345K3lqDp2BB53\\\n",
       "HZyJSSGBnur3hwZ/DgdG3jIJzsREAAgJAkXwJ55vczgwon9f3HPj9fKcu2+7FQUFBfJ+yMbSSuC1\\\n",
       "Ms7ub/ga6/2jjoVTwM3AFHLbiaVYoakFDeL85LhkeHweuH1uXNvvWiwYtUA+Jgw+YzAK/1Ob8sl7\\\n",
       "K0/29xOCp2GBhiBOUVDvrwcQmPYVX4Veib3k8xQouLbftdhYuhFun1tmF51WJ34z7Ddy2vmDvR9A\\\n",
       "hQoFCh6/9HEAwNxNc2X2cHy/8VgwagGngIlaWbiiBlHgAcAwdatYLLDa7fC63bKgRBR3aPv5WuH3\\\n",
       "+ZDRL8eQXdOzWG1yDaBisaBn37NxZN+Pspjk67WrsWHFX+CqCaxF/nDn/6Kb04HLB58T0lha+PLA\\\n",
       "IZysqsb1lwxFXHy8nMoNV6zSFB11apif38wAUicRS7FCUwsapp4/Fclxyaj2VMPlcyEzMVNW0+b1\\\n",
       "zDNk4A5WH5TZxUR7ojwuCjsUKCHP8apeGfwBwLi+46BAMQR/TqsTU8+fKq+jQsW6A+tQ6amULWiS\\\n",
       "45Ix5qwxcus4EfyJ85/d/Cxe3vYyHFaHfP3iI8WNBn9sAUPUfOEyX2Ul30H1+2XwZ4tzBDJ/DcHf\\\n",
       "yPzbtW3fEpPkVG631O64asq9Ws/AMBSLBXHOeNkuZuDwkUjrlWU4RwR/tjgHnN26wWKz4ZrzB+KG\\\n",
       "sVfC7/NFfB+XDzoHN40eKfcd3lD4luG9lJVo3QhWLXwGL9zyU6xa+ExM94dTwx0XA0DqFMJN4Tbl\\\n",
       "nHDBjqgQVqHColgMgWPxkWKoUOG0OmFRLKitr8WhmkOYu2kuRvQeIaeCE+2J6JXYCyN6jzAEZuEs\\\n",
       "GLUAyXHaX5pOq1M2n164baEho+j2ueG0OgFoAV6iPVHubwyENpV2+9yo8lTJghD9bibRpn85PUzU\\\n",
       "NOGme0WVsOgXCAQ1d1YU2OxxsFgD/7+NcybI6uG+F2nrd20OB+KTk/HvZX+UgWPG2f1x7ohR8nmq\\\n",
       "3w9XTTWO7PtRBmXB1cQedx0AwO/3YdryQnRL7Q6oKg7/+AP8XmP18LkjRuGqqfc1BKEqfjLxRm0N\\\n",
       "IQCoinwvyek9kTXwXLw27U589/lnhtdrDKeGOy4GgNRpnE7GSjxn4baFYYMdkTXUF4e8W/IuKlwV\\\n",
       "MpvmV/2ymEOFaigqmTFkhmy3Ei34sygWjFgxwrBmUEzxBvcMvLbftUhzpsnnTT1/KqaeP1WOx6t6\\\n",
       "4bQ64bQ6kRyXjGv7XSvXFs4YMkPuY1zhqkByXHLEjChbwBA1TaRsVvBxfXNnZ0I3uGqqA9k3RZHB\\\n",
       "0NdrV2vVv6oKr9sdMu17eO8elJV8F2gQfXZ/JKf3RM++Z0OxWBCfnAyr3Q4oCnr2PRuvTbtTBnni\\\n",
       "a7idRmwOBx5a8U85peuuq4Hr1Cn8e/lSeL0eOBOT0PeiPLw27U4AwF1L/oyyku9QdeyI3GJu4PCR\\\n",
       "8nrBgbH+Z24H13FxDWAzcA1B24q2xk8/3QlAfi+yXPq2LpGyiLPWz8KafWsQZ4mTa+9E+xabxQar\\\n",
       "YoXD6sCMITNkY+iXt70Mj88Dn+pDvb8eTqsTY84aYygeicX4fuOxoXQDPD4P4qxxGNl7ZEjT6hEr\\\n",
       "RqDKo+0bGstayMbOI6KmiaW9i/74qoXP4LvPP4PFaoXFYoUtzo6+Fw5BWcl3IQ2ewxHr/fTrC/Vt\\\n",
       "YcT+vGGrgR0OPPDW3wzjyxp4rraNnKKi74VDsO/rbXCdOhXyus5u3eRxW5wDD/zlb4b3CMBwPVft\\\n",
       "KUBV5Tg7SrPnaPj5DdgaP4WoYxABXbiMVfB0pvhe/5zGiiBEr0C3L7BIWkzN1vvrkZ6YjqIbi5D/\\\n",
       "r3w8uenJsNdIc6ZhaMZQw3Sw2H1DsCgWqKoKq2KFV/VCgYKhGUNRfKRYTuUWHykOCdweGPIAnt38\\\n",
       "LNw+t6HtS7j7tHDbQqhQmd0jakFi2jbacX2gVPLFBm3PXq8XfniRkJwiM2lijZ3o2xdOXLxT7jyy\\\n",
       "ZEo+vJ56eOs9gKpCsVjQrfsZqD52NCT406ad7Vi18BkZbMYnJ+O7jethsdng93oDfQd1LFYb4uKd\\\n",
       "cvoXALwet8zkifcoArzqE8fkdLViscjgMGvguag+cczQwJo6HmYAm4F/QXQckTKAjQV9Ius3ru84\\\n",
       "AMAHez+Q/fr0/f301bnBU7Y2xQabxSb3AxbBqGg6LcajbzQNaOsAxWuIqdiF2xbC7XMbsoBiOzfx\\\n",
       "eKWnUm7lRkTtI1zWT5+dE+vmSr7YgJ59z0ZdVZUhe+apq4OrplqujxMZtR+2fCkDwnNHjMKEGb+V\\\n",
       "DagFMQUbLogDAkGlyBDKTGEjFIsFD634J75euxqfvLUcXo82juBMXriMor5RNDOAnQPXAFKXoC8A\\\n",
       "iVQMEm4Nocj6rdm3BgtGLUBmYiZcPhfirHHoldgLg88YDAUKHFZHxD1+/fDjN8N+g423bMTNA2+W\\\n",
       "1cBWxYqXt70MACi6sQgzhsyQxSPiK6AFlyJY3XDLBqQ501DlqcKafWtwqOaQ/Dp301z5+irURtdE\\\n",
       "ssqXqPUEr/sLnprNGnguykq+w8DhIw3B34bCt3Dq5Am4aqphsdngcdUC0Nbq7ft6G7y6bdxE5a0+\\\n",
       "I+fs1g1X3nmPthdxA4vNBpsj0Gge0IK2gcNHNh78KYpWpQygW/czAGgZzQf+8jecO2KUfC/CqoXP\\\n",
       "4KM//wlZA8/FmYNyERcfbwj+xHth4UfHxwCQTCN4mvjdkncRZ4mDAgWDug/C2PfGIq9nntxdo+jG\\\n",
       "IpxwnZBNn0VVMKBl/ZxWp2zrsnDbQrkX78bSjVChot5fjypPlXy9rYe3QlW1a4zrO05ONTusDizb\\\n",
       "sSykgfW4vuPQK7EXBnUfBCCwT7FFsRgyjazyJWp7wUHOVyvfk8HflXfeI6d6S77YgKpjR/Dv5Uvx\\\n",
       "7+VL4Tp1ylCo4Tp1Cl+tfA9frXxPy/I1TMrZHA78ZOKNsrDC5nDI9jEXXj0eXo/WYsoW50C31O7G\\\n",
       "aWQ1EFAqSvSPeUVRZKav+vgxw2OiBUzJFxvkOETV8Xeff4aP/vynsEUxLPzoHBgAkmkEV70u27FM\\\n",
       "9v874Toht40T6wbfLXkXU8+fipS4FCTHJWNk75Hw+LW/zv3wG9quqFBR5alCpacSVZ4qWaXrtDpR\\\n",
       "4arAsLeHYfXe1VChwuP3hFQNH6o5hHlfzsO7Je/KDOaCUQvkLiWC0+qUFcuNVfHm9cyDRbFEXS9I\\\n",
       "RKcnOMgRAeGVd94jW8Pos3BQVe2fbks3xWJBcnpPxCcno+r4UVhsgWX5NrsdF149XgsMa6rhq6+X\\\n",
       "wSIA2OLsDRcBPHV1hgygLc4uA0rRNDqYxWaTvQkDz4szVPCKCmLV75evK96PzR4nA15m+jonrgFs\\\n",
       "Bq4h6NhiaYQcrXI4uIJWX4XrtDrDVgRXe6plX8HHLnlMXktv8BmDccOAG+TOHU6rEx6/B37VH/Ka\\\n",
       "I1eMNEw7N6Wqt6k7oxBR6/h67Wqt6ENVMPKWSdhQ+BZcp07B2a0bpi0vxPP/9Z/yXFucQ2bkbHEO\\\n",
       "+P0+uTuImEq+8Orxch2ex1UL16lTMhspXqfvRXkNU8r1gIKQQhN5/oq/wOv1wGaLw8hbJsmpbbF+\\\n",
       "r6mVz50FP79ZBUxdmH4KtLFiELF2UP/c4Mya6MOnQIHL55K9+oa9PUxuIzc0Yyjmbporp4VnDJmB\\\n",
       "hdsWoqa+RlYUn3CdwM0Db8bL215GlacKcdY4uc1b8GuKLKHT6kSaM61JVb0imM3rmYex743ldnBE\\\n",
       "7SRc9bC+pYqeLc4On7e+Yb/gQNBWV1VlKKgQ1wwOxEQAV1byHaYtL5Tnf712NT75y3J43W45vSwz\\\n",
       "jMeqkZCUIscorhctyItUEU2dB6eAqctqbIo00ho5MQULwFBEMWPIDPRK7IVr+12LXom9kNczD/O+\\\n",
       "nCfXB67ZtwY3D7wZSXFJALTgTRR29EjoIa8vpmQfGPKAXG+of02xlvDdknflOb8Z9ptGd0IJLvoQ\\\n",
       "1yw+Usy1gEQtLNyuINGO6+mnj/VbqtkcDozMvx1X3nkPnN26BZ6gax4d7Vpfr10NT10dnN26hZx/\\\n",
       "4dXj8cBbf8NVU+9DQlKKPB68llF/PX2hS7T3Fct7po6HU8DNwBRy59bYFHHwFGrwlPG8L+cZ9vUd\\\n",
       "fMZgFP5nYch1g6eHW6uJc6Qp38beJxGFamyKM1KrE/1x0QZm4PCROHNQbtjrvXDLT+VauodW/DPs\\\n",
       "GERFsfgaaUwvT/o5vB43LFYbuqV1NxSoiOfE0qIl+HX1TavDPa8ztH0Jxs9vZgCpExMZr1nrZ51W\\\n",
       "u5PG9hcOVzQiMmnLdiyDX/VDafgfAOw+sdtQxCGuu2zHMlR5qgz79EYy9fypsrq4qcUbkTKeseyj\\\n",
       "TERGkbZ9EyK1OtEf1+/TG+l6oqhCv7WaILJxwRXF+tYz+sybt76hSM3nRdWxI/joz3/ChsK3DM/J\\\n",
       "GnhuSGuXSO+9rOQ7mQ2M1tqFbV86J2YAm4F/QbQvkfGyKJawBRQtTWTS8nrmyVYvCpSQIo3g3UdE\\\n",
       "BlCBIotGYn1f+j2KiajtNKXIIVJT6E/eWg5vvQcZ/XJQefiw3IItWhbv67WrsWHFXwzNlcNl5PTZ\\\n",
       "PCgKnAndkJKRgSP7fkTPvmfjyL4fofr9cCYmIS4+PuQ5zm7dEOdMCBlzuNfpivj5zQwgdWLB/fJa\\\n",
       "e9sz/Zq6Sk8lEu2Jcl3g+H7jDcGffs3dzQNvloHiwm0LAURv0jz1/KkyqOW6PaL20ZReduGye1+t\\\n",
       "fA9ejxvJZ/RAXVUVXDXViHMmyGxepCyeaPuib/kinDkoN6T1jGgx46qpRl1VFR5a8U/cNv8lXHnn\\\n",
       "PUhO74mRt0wKeY6zWze4ampCxiyyhfu+3hb1vXPNX9fAAJA6LX2/vLac4tT31ws3hnBTsaKaV3wN\\\n",
       "V4AigkIAeOySx5oc1M5aPwsXvnUhZq2f1RJvk4hiFG4KVH8s0vdAaPD4k4k3wpmYZCjkEIGZ2D9Y\\\n",
       "uPDq8bJgxJmYZHj94OIQEbDJoK5h8s8wFSx2HNHtPBJOY9Pj1DmwDQxRExUfKYZf9aP4SHHYx4Nb\\\n",
       "ygCQO3eIgE4/TSzog8JIAW20go7gbe2IqG2Ea4kSfCzS96IXn8dVawjQDMFVhMBMTNkGb8UW/LjY\\\n",
       "d/irle9p5+muI7ebA2QfwMbW8omiEK7569yYASRqoqnnT0VyXDJq62vDTuGGm94Nbi0DICTI02cO\\\n",
       "I00RR9vebVzfcbAoFozrO65F3icRtb4Lrx6PuPh4w5RvcIZt5C2T5HSuPpvXWCZOPA5FNWQdR94y\\\n",
       "qdGsYWNj5lZvnR8DQGpT0da+ddTXD9dfL9GeiEpPZdhALFqQFu0xMX28bMcyLNy2MOx50XobLhi1\\\n",
       "AF/f/jWzf0SdTPC0cKy9+RqrvhWPj8y/PSRgi3MmYOQtkxjEmRgDQGpT0QKgjvr64Z4TLRBr6mP6\\\n",
       "AFO8lugXGEtLl/YOqomoeUSAB2g99QBEzLDpg77GMnGRHj/dNXws/uha2AamGVhG3nTt3ZT4dF5/\\\n",
       "1vpZWLNvDcb1Hdcq2TV9A+fgFjJNfT73/CVqWy25J25bNVQ+3TF3xobPkfDzmwFgs/AXyBxaO8Bq\\\n",
       "blDc3kE1kZm1ZFDUksFka4yjo4yvJfDzmwFgs/AXyBwYYBFRJF0pKBK6UqYvEn5+cw0gUaNaYys1\\\n",
       "rtsj6ppac52cuPaqhc806zUaGyO3djMHBoBE7aC9i2GIqGUEF1S0ZpPkDSv+gqpjR/Dd559FfI1Y\\\n",
       "gsTGxthR2ryw6KR1mT4A/OMf/4h+/frB6XRi6NCh+Oyzz9p7SGQC0SqFiajzaKyFS4tStBVbtri4\\\n",
       "iK8hgruSLzZEDPI6S4aPO460LlOvAfzrX/+KSZMm4Y9//CNGjBiBV155BcuWLcO3336Ls846q9Hn\\\n",
       "cw0BERG1lVjWG4pzsgaei7KS7zr12sTWXF/Jz2+TB4CXXHIJhgwZgqVLl8pjgwYNwsSJEzF//vxG\\\n",
       "n89fICIios6Hn98mngL2eDzYunUrxo4dazg+duxYfP7552Gf43a7UVVVZfhHRERE1NmYNgA8duwY\\\n",
       "fD4fMjIyDMczMjJQXl4e9jnz589HSkqK/Jednd0WQyUiIiJqUaYNAAVFUQw/q6oackx49NFHUVlZ\\\n",
       "Kf8dPHiwLYZIRETUpliB2/WZNgBMT0+H1WoNyfYdOXIkJCsoOBwOJCcnG/4RERF1NazA7fpMGwDG\\\n",
       "xcVh6NChWLt2reH42rVrcdlll7XTqIiIiNpfZ2kVQ6fP1t4DaE8PPfQQJk2ahIsvvhjDhw/Hq6++\\\n",
       "igMHDuCee+5p76ERERG1mwuvHt9p28dQbEwdAP7Xf/0Xjh8/jj/84Q84dOgQcnNzsXr1avTp06e9\\\n",
       "h0ZERETUakzdB7C52EeIiIio8+Hnt4nXABIRERGZFQNAIiIiIpNhAEhERERkMgwAiYiIiEyGASAR\\\n",
       "ERGRyTAAJCIiIjIZBoBEREREJsMAkIiIiMhkGAASERERmQwDQCIiIiKTYQBIREREZDIMAImIiIhM\\\n",
       "hgEgERERkckwACQiIiIyGQaARERERCbDAJCIiIjIZBgAEhEREZkMA0AiIiIik2EASERERGQyDACJ\\\n",
       "iIiITIYBIBEREZHJMAAkIiIiMhkGgEREREQmwwCQiIiIyGQYABIRERGZDANAIiIiIpNhAEhERERk\\\n",
       "MgwAiYiIiEyGASARERGRyTAAJCIiIjIZBoBEREREJsMAkIiIiMhkGAASERERmQwDQCIiIiKTYQBI\\\n",
       "REREZDJdMgCcN28eLrvsMiQkJCA1NTXsOQcOHMB1112HxMREpKenY8aMGfB4PG07UCIiIqJ2YGvv\\\n",
       "AbQGj8eDm266CcOHD8fy5ctDHvf5fJgwYQJ69OiBDRs24Pjx45g8eTJUVcWiRYvaYcREREREbadL\\\n",
       "BoBz5swBALzxxhthHy8qKsK3336LgwcPIisrCwDw/PPP44477sC8efOQnJzcVkMlIiIianNdcgq4\\\n",
       "MV988QVyc3Nl8AcA11xzDdxuN7Zu3dqOIyMiIiJqfV0yA9iY8vJyZGRkGI6lpaUhLi4O5eXlEZ/n\\\n",
       "drvhdrvlz1VVVa02RiIiIqLW0mkygAUFBVAUJeq/LVu2xHw9RVFCjqmqGva4MH/+fKSkpMh/2dnZ\\\n",
       "p/VeiIiIiNpTp8kATp8+Hfn5+VHP6du3b0zXyszMxJdffmk4VlFRgfr6+pDMoN6jjz6Khx56SP5c\\\n",
       "VVXFIJCIiIg6nU4TAKanpyM9Pb1FrjV8+HDMmzcPhw4dQq9evQBohSEOhwNDhw6N+DyHwwGHw9Ei\\\n",
       "YyAiIiJqL50mAGyKAwcO4MSJEzhw4AB8Ph+2b98OAOjfvz+6deuGsWPH4rzzzsOkSZPw7LPP4sSJ\\\n",
       "E3j44Ydx1113sQKYiIiIurwuGQD+/ve/x5tvvil/zsvLAwB8/PHHGD16NKxWK1atWoX77rsPI0aM\\\n",
       "QHx8PG699VY899xz7TVkIiIiojajqKqqtvcgOquqqiqkpKSgsrKSmUMiIqJOgp/fnagKmIiIiIha\\\n",
       "BgNAIiIiIpNhAEhERERkMgwAiYiIiEyGASARERGRyTAAJCIiIjIZBoBEREREJsMAkIiIiMhkGAAS\\\n",
       "ERERmQwDQCIiIiKTYQBIREREZDIMAImIiIhMhgEgERERkckwACQiIiIyGQaARERERCbDAJCIiIjI\\\n",
       "ZBgAEhEREZkMA0AiIiIik2EASERERGQyDACJiIiITIYBIBEREZHJMAAkIiIiMhkGgEREREQmwwCQ\\\n",
       "iIiIyGQYABIRERGZDANAIiIiIpNhAEhERERkMgwAiYiIiEyGASARERGRyTAAJCIiIjIZBoBERERE\\\n",
       "JsMAkIiIiMhkGAASERERmQwDQCIiIiKTYQBIRETUBexcX4q3frcRO9eXtvdQqBNgAEhERNQFbFuz\\\n",
       "D9Un3Ni2Zl97D4U6gS4XAO7btw9TpkxBv379EB8fj5ycHMyePRsej8dw3oEDB3DdddchMTER6enp\\\n",
       "mDFjRsg5REREncWQcX2R1N2BIeP6ttg1mVXsumztPYCW9t1338Hv9+OVV15B//79sXPnTtx1112o\\\n",
       "qanBc889BwDw+XyYMGECevTogQ0bNuD48eOYPHkyVFXFokWL2vkdEBERNV3uqN7IHdW7Ra+pzyq2\\\n",
       "9LWpfSmqqqrtPYjW9uyzz2Lp0qX48ccfAQAffPAB/vM//xMHDx5EVlYWAKCwsBB33HEHjhw5guTk\\\n",
       "5JiuW1VVhZSUFFRWVsb8HCIios5i5/pSbFuzD0PG9e1SASA/v7tgBjCcyspKdO/eXf78xRdfIDc3\\\n",
       "VwZ/AHDNNdfA7XZj69atuOKKK9pjmERERI1qy6CsNbKK1DF0uTWAwfbs2YNFixbhnnvukcfKy8uR\\\n",
       "kZFhOC8tLQ1xcXEoLy+PeC23242qqirDPyIiorbEYg9qCZ0mACwoKICiKFH/bdmyxfCcsrIyjBs3\\\n",
       "DjfddBOmTp1qeExRlJDXUFU17HFh/vz5SElJkf+ys7Nb5s0RERHFqLFij6Llu/DH+9ahaPmuth0Y\\\n",
       "dSqdZg3gsWPHcOzYsajn9O3bF06nE4AW/F1xxRW45JJL8MYbb8BiCcS6v//97/GPf/wDX3/9tTxW\\\n",
       "UVGB7t27Y926dRGngN1uN9xut/y5qqoK2dnZpl5DQEREHcsf71sH1Q8oFuC+P45p7+F0SFwD2InW\\\n",
       "AKanpyM9PT2mc0tLS3HFFVdg6NCheP311w3BHwAMHz4c8+bNw6FDh9CrVy8AQFFRERwOB4YOHRrx\\\n",
       "ug6HAw6H4/TfBBERUYPWWsvXf2gGvt9yGAoULHtoPS6dmMN1fBSi00wBx6qsrAyjR49GdnY2nnvu\\\n",
       "ORw9ehTl5eWGtX1jx47Feeedh0mTJqG4uBgfffQRHn74Ydx1112m/UuAiKgra89+dpGmZE9nLV8s\\\n",
       "72PslMFISnPA71fhrvVifWFJ2PP112K/P/PpcgFgUVERfvjhB6xbtw5nnnkmevXqJf8JVqsVq1at\\\n",
       "gtPpxIgRI3DzzTdj4sSJsk8gERF1Le1ZOPHD1sNQ/dpXvSHj+sKRYIPH5QsJvCIFZOJ9bFq5J2rA\\\n",
       "Jq4NBVD9CPu+9fektYJR6ri6XAB4xx13QFXVsP/0zjrrLPzrX/9CbW0tjh8/jkWLFnF6l4ioi2qN\\\n",
       "XTJi1X9oBhSL9lUvd1RvxDmtcNd6QwKvSAGZeB8AIgaCYmr50ok5uPyWgRHft7hWZk4qPC4fHAm2\\\n",
       "Jt0fViN3bp2mCKQj4iJSIiKKRaT1fuJ4Zk4qyveclI/rzwcQ8tyi5bvw/ZbDQMMneFJ3B25/agR2\\\n",
       "ri/F+sISqP7AscbGVFddD2+9H44EG6a+MKrZ76kz4Od3F8wAEhERtaamTn2KoCxctix3VG/c/tQI\\\n",
       "lO85aXhcHAcQ9rnle07K4E+xwBAoigrgxrJ5IoPn9fpjeh/BxBg7W/BHmk5TBUxERNQRNHV/XH1Q\\\n",
       "lpmTird+tzEkazZkXF+ZCdQ/HimgGzKuLzat3AMAssp35/pSOZWrP6bPMG469DekpZ6BgfGjkZmT\\\n",
       "CuAknElxOHawGmcNPgMAsGTJEhw9ehQFBQUx3Y/OnAk0M2YAiYiImqCp6wnF+aPyB4Zk+oRImUD9\\\n",
       "c0VwtXN9aUjwB2iBprvWizin1XCs+oQbP2w9jMKiV7H0jRfx1EuP41/r/4ofth7GkHF94ar2QPVr\\\n",
       "WcUlS5Zg+vTpmDNnTswBINcCdk5cA9gMXENARER6wdmwxn6O9nwgdO0fALz1u42oPqFtSmCzW+Dz\\\n",
       "+dF/aAayBqSGrCcU11i787/x9v8sNbzWTSPux+gLJqL/0Awc2HUcH29/H+98/JLhnNmzZzcaCHbG\\\n",
       "DCA/vxkANgt/gYiISE8EZ6IAQ/zsSLAhzmkNGyRFCqDEc0UFsQjqyr4/ie+3HIZFUeD3i4WAQFKa\\\n",
       "Q04l68dQUFCAOXPmhB3vTSPux3+O+i/8e+vf8JeiF8OeM3v2bNw45q5OF+RFw89vBoDNwl8gIiLS\\\n",
       "i5Tx87h8cNd6Qypzd64vxacrSrSCDgW4/JaBACAzeaKHoGKBrOwFIANDtaF+w2a3wFvvl21dfth6\\\n",
       "GP2HZmDlhuVY+kb4wE44u88A/Lj/+6jnTBz5S1w1+LZGK4s7C35+cw0gERFRiwmujBU/XzoxJ2zT\\\n",
       "521r9slqXqjAppV7ZAavfM9JjMrX+vj1H5oBm92C6gq3FitagPTsJCR1d+DyWwei30U9oFgAZ1Ic\\\n",
       "vt+iBY0Hdh3HqbIoY0UuAMjgT/wcznkX58jgks2fuwYGgERERK0sUtNnuWOHjn6HkLLvTwIAsgak\\\n",
       "wufzAypw6oQbqh84ur8amTmpyB3VG+V7TspjIqCsd/kwavBE/Nd/zAgZz2RMxiIsQj7yAQD5yMci\\\n",
       "LMJkTA45d9LYBzHvxcfCFqnocWeQzoVTwM3AFDIREcUqWrFEcGXvppV74K71yscdCTYk94jXArwg\\\n",
       "jgQbzhp8BvZuPwpvfWhPP8UCfPLNSvy/jYsAaJm+RVgkH69EJVKQIn++H/djJ3YCAG69YiYm/2Iq\\\n",
       "yvecRGZOKg7sOi7HGPwegtc/dmT8/GYA2Cz8BSIiMrdwQV0slbzhriHWCSoWQFEU+H2Bj2dR7atG\\\n",
       "6NmsXw8YfFwUkJTUfYKnXnocgJbxuxt3h5z/Cl5BIQoBBApEAOOaw0gBXmeqBubnNwPAZuEvEBGR\\\n",
       "uYWr8tVX4QIIeRwwBoX6a3hcXkMgZ7EqsDuscNd5A2sFFaDHWUmoKKsJm/EDIKeVgzN1vdP7oez4\\\n",
       "PgDASqw0ZP4qUYmJmAgAyEw9C0/c8jpG5RuLUvTb1XVm/PzmTiBERESnTQR8HpdPro0Tu3R4XL6G\\\n",
       "3TVOGh4HYNhJRFxDHxyK/XmhwjAV3KNPElzVHlQcCgR/jgSb4RyLRZE/b1q5B2Xfn0T5npP4av8H\\\n",
       "MvjLR74h+AOAFKQgH/koRCHKTx5AqeML5I4aAwAxt66hzoNFIERERKcpXJUvAFnwUb7npHxc7B4i\\\n",
       "dvfIzEnFsofWY9PKPSGBVL+LeiCpuwP+oEm6o/urtf17PYHMX33DawKAogB2p1X+7K714vvNh/Gv\\\n",
       "9X/FknfmaWNGrmH6txKV8vu7cbesBn7qpcdx+zUPoWj5rpDiDu7+0fkxACQiImoBHpdXVvkGbxcX\\\n",
       "3B4G0Nq0uGu154gCkE0r96D6hBt7vz4Kj8sHi0UBoGX1oH0LxaJNDQuyGTQAVQWSe8QbxvXpzkAB\\\n",
       "CADsxE68gTcAaGv+JmIiXsErAIA38IYsAAGAvxS9iOVvvoLqE26sLyyRQaD+/TWn+peVw+2HU8BE\\\n",
       "RESnQT8Num3NPtmwWWTz9MFe8LlizZ/gC1rL5633G7J8fr9qWEcYXCWsKFrwB2hZQtEYOjj4E97E\\\n",
       "m9iKrTLYK0Qhdjb8L9i7ny2CqgKXD56ITSv3yPflcflk4CoC36ZOB+sziZxKblvMABIREZ0GffAi\\\n",
       "MmKj8gfKHUD0ma1w5541+AyZ1QO0gpLkHvFQLFqRR3B/QADIzNH2+9Vn+RwJNsTFh57rSLCh1lMV\\\n",
       "cfwi2MtMO8vwczgur7H9zLY1+2T2EoAh29kUwZlSajvMABIREZ0GfbEHAENrlOA1ch6XD7Y4i2zu\\\n",
       "7HH58P2Ww4CqZQ2tdguqT7hx6qTW5PnYwWqMyh+IT98pkdcU6/kA4NRJt3awIYD0eY0ZRL9fhc/l\\\n",
       "xbVDbofdYcHKDa+HfQ83jbgfl+dOjJgpBIAJP5mMnw7/pcxS7lxfKt87EL4nYKyCM6XUdpgBJCIi\\\n",
       "CqOx9WmRdvcAjJktkS3zef1aELflsJY5a5iyTc9OAqBl7MT3qh8ywAomevsldXfAEW8LXEuXTfT7\\\n",
       "VK2djAI8Oe9JTBz5y5Dr5F8+A5fnTgQAXJ4bfseQ8Rffjut+cgfctV5467Xxb3zve2xbsw+XTszB\\\n",
       "1BdGMYDrpBgAEhERhRFLpWvwFKYIGgHIog9xjgjaRGGHcPRAtZxKrTpaJ4+76xrW+ClacDhgWIac\\\n",
       "Zh47ZbB8TVucBV6vP9AnEIEiEUe8DbmjeuPeO36Na4feLh+/acT9uHLIzw3j+I/zrsetV8yUP08c\\\n",
       "+UsseP4pWO3GUMFb7w+5LzvXl2LZQ+ux7KH1YauGqeNhI+hmYCNJIqKuq7Fed2L7Nl+9H1a7BZdO\\\n",
       "zDE0gY60HdorMz6B1+OHxaogMSVO9vwTa/70xR1QtCDu0ok5AAJZwbMGn4Efth6WhSci2wcAUCGL\\\n",
       "QAAtQLTaLHDXerFqy5vo5kzB5bkTMWBYhpyGFmxxFny07e+oV07h/c/+jJ3rS7Hxve+18VoU2J1W\\\n",
       "nDX4DNkQGoBhFxMAje4Y0hHw85sBYLPwF4iIqOuJtcmx2MFDcCTYZBAY/Fz9Xr++er8M+Ka+MCpk\\\n",
       "67j1hSUysItzalO8jgSbcTcQQQEGXJxhCMg2rdwT/twgSd0d2vh1gaO+8EQf0Irzg9f+hato1geI\\\n",
       "HXV6mJ/fLAIhIiIyiLU1Sbh2LJGKGsQ6QEALssS06s71pWGfow8Ig19DzxFvw9gpg+W1Nv6/7yNu\\\n",
       "D6dnsSpaYYrdAqvdYgjaxOttWrkHl07MkQGffj2jfozcEaRzYgBIRESkE7w1WyQicAvO4IWTmZOK\\\n",
       "6orDsCiKlgFsWLMn1tEF77Urpk53ri+Fx2UM/mx2C6AAVps27Syyi7Fk/QT9dnHeej8O7DqOqS+M\\\n",
       "QtHyXfJ4vdsXttJXHxCyirfz4hRwMzCFTEREsRDTxXK9HrQp3lH5Aw3TrAAiN3xWAJtNW9tns1vg\\\n",
       "8/mRnp2EYwer5TVPl5iO/uN96wLXUiADSvF4V8HPb1YBExERtZp352/GknvWQQVkJbDI4PUfmiGr\\\n",
       "hBXdp7EvTJWtzW5BUpoD/S7qAUeCDd56P1S/tuuHPvhzJNhw+a0D4Uiwycph8X2PPknGwemKkX31\\\n",
       "fuxcX4r+QzPksR5nJclz3HXekKpebuPWuTEAJCIiOg2NBUA715fi6H5tB41TJ9wYMq4vyvec1Nb/\\\n",
       "qUD5npMAtKlk0f8P0JpCi4KLSyfmIKm7QzaKFs8JZrEoshBDZA3jnFaMnTIYl07MQZzTivNGZOHy\\\n",
       "WwfCFqcFoPoAz1vvx6fvlGDv10flsWMHq7VzAMN0tRBLmxzquLgGkIiI6DSEKxYJ3vNX6NEnyVAx\\\n",
       "G7z92bGDga3WgnfWyB3VG0XLd+GHrYeRmZOqBWnQCjn8Pm2O1u9X5RpA/fWLlu+Su4dsWrkHcU4r\\\n",
       "rDYLvB4/jh1s2DNYt+ew/nuxIwkQ2ONYL9a1ktQxMQAkIiI6DeECoOA9f/UVskXLd+HUycM4a/AZ\\\n",
       "hsrdTSv3QIECFao2PawjAkqPywfVr2UNRQBnsSjw+9VA4UfDtnIigNy5vlQGf0DD1HKtV05Bq37I\\\n",
       "gDG4yrhHnyS4qj3IzEnFgV3Hw75/FoB0bpwCJiIiOg1i/d62NfvkNLDY9SMzJzWkPUr5npMyiBPT\\\n",
       "x2K61u9XAUWbitVnDkVA6a7TegFm5qQC0PXrawj+bHYLHAk2jMofKF8vOAPpFfsF64o7RMsYsVZQ\\\n",
       "TP+6qj24/akRGDtlsNzubn1hCdf7dSEMAImIiE5T8Dq43FG9cftTI1C+52TI+rjg/YGrT7jh8wam\\\n",
       "XG02S8jUsCwQUYE4pxXle04G2rc0PNeRYMPdi0bLKt23frcRRct3oa66XmsUPSwDrmpPIOjzGEuG\\\n",
       "3bVe/LD1MC6dmIPLbxkYcQyqP3QdIHVeDACJiIhOU2ZOKhQLZGZOCN4jGAgEhwDgcfm0htA27WNY\\\n",
       "sQAjbhog9w/W7yk8Kj8QlInrAjBM+QLadPH6whJUn3Djh62HtexeQ7GJfJ6u8tdiVeSewSK4C5fV\\\n",
       "zB3V2zAG8VqsAO7cuAaQiIjoNOmndfWirY8Tu2nos4Fiylg8V78bx9QXRoUUhei3ltNfV2wh139o\\\n",
       "BvZuPwqv14/MnFQ5Hn1RSGJKHADI/oT6vX2Di1uC30/wObFun0cdBzOAREREpylcpi+SnetLseyh\\\n",
       "9airrocjwSaf43H58P2Ww6g+4camlXvw1u82whdhOzeReSv7/iQ8Li/ctV4ZOIqxjMofiLFTBiM+\\\n",
       "yS4zgOJ5WQNSMWBYBhQL4EyKk5lI/drBWN5T8DlsCdP5cCeQZmAncSIiipXYDQTQmkLf/tQIwzF9\\\n",
       "cYbNbkF8kt2wPVzuqN4hO4qI3USCs25Fy3fh+y2HYbNZkJaVKPsRiunj4J1HmrvLR2fLAPLzmwFg\\\n",
       "s/AXiIiIYqWfttW3ahHHfPV+WZUrgjIR8Int4URAqP8q2rTo+weKLd3EDiNit5DLbx0IAFhfWCKP\\\n",
       "WSxaC5r+QzNke5qujp/fXXQK+Kc//SnOOussOJ1O9OrVC5MmTUJZWZnhnAMHDuC6665DYmIi0tPT\\\n",
       "MWPGDHg8nnYaMRERdXW5o3pj6gujDGv69MesogegEijs0Bd9iJ1ARHuWzJxUfL/5MNy1XrleUBRm\\\n",
       "9B+aIdcCiu8HDMuQa/n6D83Q9ha2W+BXVah+4Ieth8OOm7qmLpkBfPHFFzF8+HD06tULpaWlePjh\\\n",
       "hwEAn3/+OQDA5/PhoosuQo8ePfD888/j+PHjmDx5Mm644QYsWrQo5tfhXxBERBRJU6dFo50vHtNP\\\n",
       "CeuzeCKY83r8MU3pisyi6Fn4w9bDMWUAO9tUbyT8/O6iVcAPPvig/L5Pnz545JFHMHHiRNTX18Nu\\\n",
       "t6OoqAjffvstDh48iKysLADA888/jzvuuAPz5s0z7S8DERHFLlIwpN+9QxRpNDdYEpk7EbhtW7MP\\\n",
       "/YdmyHV+I24agE0r94T0+IskMycVp05qW8uNnTI45qnfcBXCel0lQDSDLjkFrHfixAn893//Ny67\\\n",
       "7DLY7XYAwBdffIHc3FwZ/AHANddcA7fbja1bt7bXUImIqBOJVPkqjgOIuUI42vX09NW3Y6cMxrSl\\\n",
       "Y3D3otHIHdUbl07MQVJ3h5w+jiZS+5rGNFYhzGrgzqNLZgABYNasWVi8eDFqa2tx6aWX4l//+pd8\\\n",
       "rLy8HBkZGYbz09LSEBcXh/Ly8ojXdLvdcLsDlVNVVVUtP3AiIuowomW0wu0FHHy8KVmwcNcLfv1o\\\n",
       "/QXDPRZp/M6kOFSfcMOZFBfz+CK9RmPvgTqmTpMBLCgogKIoUf9t2bJFnv+b3/wGxcXFKCoqgtVq\\\n",
       "xe233w79ckdFUUJeQ1XVsMeF+fPnIyUlRf7Lzs5u2TdJREQdSrSMltjZIzgginS8MeGet2nlHtkf\\\n",
       "sCXHf+xgteFrSznd905tr9NkAKdPn478/Pyo5/Tt21d+n56ejvT0dJxzzjkYNGgQsrOzsWnTJgwf\\\n",
       "PhyZmZn48ssvDc+tqKhAfX19SGZQ79FHH8VDDz0kf66qqmIQSETUhXXGjJY+6xc8fvFYenYSjh2s\\\n",
       "1qqByZQ6TQAoArrTITJ/Yvp2+PDhmDdvHg4dOoRevXoBAIqKiuBwODB06NCI13E4HHA4HKc1BiIi\\\n",
       "6nwam/JsbZdOzGl0WjiYPusXnI3Tr0+8749jQp7LIg7z6DRTwLH66quvsHjxYmzfvh379+/Hxx9/\\\n",
       "jFtvvRU5OTkYPnw4AGDs2LE477zzMGnSJBQXF+Ojjz7Cww8/jLvuuosVwERE1GGEm1JtrNAiWqEG\\\n",
       "izhI6DQZwFjFx8fj73//O2bPno2amhr06tUL48aNQ2FhoczeWa1WrFq1Cvfddx9GjBiB+Ph43Hrr\\\n",
       "rXjuuefaefRERGR2jWXhGpuWbmqhSFOuTV1Hl2wE3VbYSJKIiFqavknz7U+NaO/hdEn8/O6CU8BE\\\n",
       "RESdWWPTtK1l5/pSuZUcdX3MADYD/4IgIqKuQmQeHQk2xDmtXboQhJ/fzAASERERAplHACwEMYEu\\\n",
       "VwRCRERETScKRPRFKNR1MQAkIiIiqb17H1Lb4BQwERERkckwACQiIiIyGQaARERERCbDAJCIiIjI\\\n",
       "ZBgAEhEREZkMA0AiIiIik2EASERERGQyDACJiIiITIYBIBEREZHJMAAkIiIiMhkGgEREREQmwwCQ\\\n",
       "iIiIyGQYABIRERGZjK29B9CZqaoKAKiqqmrnkRAREVGsxOe2+Bw3IwaAzVBdXQ0AyM7ObueREBER\\\n",
       "UVNVV1cjJSWlvYfRLhTVzOFvM/n9fpSVlSEpKQmKorT3cGJWVVWF7OxsHDx4EMnJye09nA6L96lx\\\n",
       "vEeN4z2KDe9T43iPGhfrPVJVFdXV1cjKyoLFYs7VcMwANoPFYsGZZ57Z3sM4bcnJyfyPSAx4nxrH\\\n",
       "e9Q43qPY8D41jveocbHcI7Nm/gRzhr1EREREJsYAkIiIiMhkGACakMPhwOzZs+FwONp7KB0a71Pj\\\n",
       "eI8ax3sUG96nxvEeNY73KHYsAiEiIiIyGWYAiYiIiEyGASARERGRyTAAJCIiIjIZBoBEREREJsMA\\\n",
       "0ET27duHKVOmoF+/foiPj0dOTg5mz54Nj8djOO/AgQO47rrrkJiYiPT0dMyYMSPknK5s3rx5uOyy\\\n",
       "y5CQkIDU1NSw55j9HgHAH//4R/Tr1w9OpxNDhw7FZ5991t5Dalfr16/Hddddh6ysLCiKgpUrVxoe\\\n",
       "V1UVBQUFyMrKQnx8PEaPHo1du3a1z2Dbyfz58zFs2DAkJSWhZ8+emDhxIkpKSgznmP0+LV26FBdc\\\n",
       "cIFsZDx8+HB88MEH8nGz359w5s+fD0VRMHPmTHmM96lxDABN5LvvvoPf78crr7yCXbt24cUXX8Sf\\\n",
       "/vQn/O53v5Pn+Hw+TJgwATU1NdiwYQMKCwvxt7/9Db/+9a/bceRty+Px4KabbsK9994b9nHeI+Cv\\\n",
       "f/0rZs6cicceewzFxcX4j//4D1x77bU4cOBAew+t3dTU1ODCCy/E4sWLwz7+zDPP4IUXXsDixYux\\\n",
       "efNmZGZm4uqrr5Z7ipvBp59+imnTpmHTpk1Yu3YtvF4vxo4di5qaGnmO2e/TmWeeiaeffhpbtmzB\\\n",
       "li1bMGbMGFx//fUyeDH7/Qm2efNmvPrqq7jgggsMx3mfYqCSqT3zzDNqv3795M+rV69WLRaLWlpa\\\n",
       "Ko+tWLFCdTgcamVlZXsMsd28/vrrakpKSshx3iNV/clPfqLec889hmPnnnuu+sgjj7TTiDoWAOr7\\\n",
       "778vf/b7/WpmZqb69NNPy2Mul0tNSUlR//SnP7XDCDuGI0eOqADUTz/9VFVV3qdI0tLS1GXLlvH+\\\n",
       "BKmurlYHDBigrl27Vr388svVBx54QFVV/h7FihlAk6usrET37t3lz1988QVyc3ORlZUlj11zzTVw\\\n",
       "u93YunVrewyxwzH7PfJ4PNi6dSvGjh1rOD527Fh8/vnn7TSqjm3v3r0oLy833DOHw4HLL7/c1Pes\\\n",
       "srISAOR/g3ifjHw+HwoLC1FTU4Phw4fz/gSZNm0aJkyYgKuuuspwnPcpNrb2HgC1nz179mDRokV4\\\n",
       "/vnn5bHy8nJkZGQYzktLS0NcXBzKy8vbeogdktnv0bFjx+Dz+ULuQUZGhine/+kQ9yXcPdu/f397\\\n",
       "DKndqaqKhx56CCNHjkRubi4A3idhx44dGD58OFwuF7p164b3338f5513ngxezH5/AKCwsBDbtm3D\\\n",
       "5s2bQx7j71FsmAHsAgoKCqAoStR/W7ZsMTynrKwM48aNw0033YSpU6caHlMUJeQ1VFUNe7yzOJ17\\\n",
       "FE1XvEdNFfxezfb+TwfvWcD06dPxzTffYMWKFSGPmf0+DRw4ENu3b8emTZtw7733YvLkyfj222/l\\\n",
       "42a/PwcPHsQDDzyAt99+G06nM+J5Zr9PjWEGsAuYPn068vPzo57Tt29f+X1ZWRmuuOIKDB8+HK++\\\n",
       "+qrhvMzMTHz55ZeGYxUVFaivrw/5a6ozaeo9iqar3qNYpaenw2q1hmT7jhw5Yor3fzoyMzMBaJmJ\\\n",
       "Xr16yeNmvWf3338//vnPf2L9+vU488wz5XHeJ01cXBz69+8PALj44ouxefNmvPzyy5g1axYA3p+t\\\n",
       "W7fiyJEjGDp0qDzm8/mwfv16LF68WFaWm/0+NYYZwC4gPT0d5557btR/4q+k0tJSjB49GkOGDMHr\\\n",
       "r78Oi8X4KzB8+HDs3LkThw4dkseKiorgcDgM/2frbJpyjxrTVe9RrOLi4jB06FCsXbvWcHzt2rW4\\\n",
       "7LLL2mlUHVu/fv2QmZlpuGcejweffvqpqe6ZqqqYPn06/v73v2PdunXo16+f4XHep/BUVYXb7eb9\\\n",
       "aXDllVdix44d2L59u/x38cUX4xe/+AW2b9+Os88+m/cpFu1VfUJtr7S0VO3fv786ZswY9f/+7//U\\\n",
       "Q4cOyX+C1+tVc3Nz1SuvvFLdtm2b+u9//1s988wz1enTp7fjyNvW/v371eLiYnXOnDlqt27d1OLi\\\n",
       "YrW4uFitrq5WVZX3SFVVtbCwULXb7ery5cvVb7/9Vp05c6aamJio7tu3r72H1m6qq6vl7woA9YUX\\\n",
       "XlCLi4vV/fv3q6qqqk8//bSakpKi/v3vf1d37Nih3nLLLWqvXr3Uqqqqdh5527n33nvVlJQU9ZNP\\\n",
       "PjH896e2tlaeY/b79Oijj6rr169X9+7dq37zzTfq7373O9VisahFRUWqqvL+RKKvAlZV3qdYMAA0\\\n",
       "kddff10FEPaf3v79+9UJEyao8fHxavfu3dXp06erLpernUbd9iZPnhz2Hn388cfyHLPfI1VV1SVL\\\n",
       "lqh9+vRR4+Li1CFDhshWHmb18ccfh/29mTx5sqqqWmuK2bNnq5mZmarD4VBHjRql7tixo30H3cYi\\\n",
       "/ffn9ddfl+eY/T7deeed8v9XPXr0UK+88koZ/Kkq708kwQEg71PjFFVV1TZMOBIRERFRO+MaQCIi\\\n",
       "IiKTYQBIREREZDIMAImIiIhMhgEgERERkckwACQiIiIyGQaARERERCbDAJCIiIjIZBgAEhEREZkM\\\n",
       "A0AiIiIik2EASERERGQyDACJiIiITIYBIBEREZHJMAAkIiIiMhkGgEREREQmwwCQiIiIyGQYABIR\\\n",
       "ERGZDANAIiIiIpNhAEhERERkMgwAiYiIiEyGASARERGRyTAAJCIiIjIZBoBEREREJsMAkIiIiMhk\\\n",
       "GAASERERmQwDQCIiIiKTYQBIREREZDIMAImIiIhMhgEgERERkckwACQiIiIyGQaARERERCbDAJCI\\\n",
       "iIjIZP4/EGgT4FUbCSEAAAAASUVORK5CYII=\\\n",
       "\"\n",
       "  frames[1] = \"data:image/png;base64,iVBORw0KGgoAAAANSUhEUgAAAoAAAAHgCAYAAAA10dzkAAAAOXRFWHRTb2Z0d2FyZQBNYXRwbG90\\\n",
       "bGliIHZlcnNpb24zLjkuMSwgaHR0cHM6Ly9tYXRwbG90bGliLm9yZy/TGe4hAAAACXBIWXMAAA9h\\\n",
       "AAAPYQGoP6dpAAA5B0lEQVR4nO3de3xU5YH/8e/kNgmXDGAgIRKBBYrBqAW8BaiirlFK2ebXVTd1\\\n",
       "q+ElWMQEi/Zi0VYmbQEVq90mUfFSodutqesFbUVKWhRERAFRCSBbLZeUkBIEJxFlQpLz+2Ocw0wy\\\n",
       "CQm5TGaez9vXvJJzzjMnT44h55vndhyWZVkCAACAMWLCXQEAAAD0LAIgAACAYQiAAAAAhiEAAgAA\\\n",
       "GIYACAAAYBgCIAAAgGEIgAAAAIYhAAIAABiGAAgAAGAYAiAAAIBhCIAAAACGIQACAAAYhgAIAABg\\\n",
       "GAIgAACAYQiAAAAAhiEAAgAAGIYACAAAYBgCIAAAgGEIgAAAAIYhAAIAABiGAAgAAGAYAiAAAIBh\\\n",
       "CIAAAACGIQACAAAYhgAIAABgGAIgAACAYQiAAAAAhiEAAgAAGIYACAAAYBgCIAAAgGEIgAAAAIYh\\\n",
       "AAIAABiGAAgAAGAYAiAAAIBhCIAAAACGIQACAAAYhgAIAABgGAIgAACAYQiAAAAAhiEAAgAAGIYA\\\n",
       "CAAAYBgCIAAAgGEIgAAAAIYhAAIAABiGAAgAAGAYAiAAAIBhCIAAAACGIQACAAAYhgAIAABgGAIg\\\n",
       "AACAYQiAAAAAhiEAAgAAGIYACAAAYBgCIAAAgGEIgAAAAIYhAAIAABgmLtwViGRNTU2qqqpS//79\\\n",
       "5XA4wl0dAADQDpZlqa6uTunp6YqJMbMtjADYCVVVVcrIyAh3NQAAwGmorKzUsGHDwl2NsCAAdkL/\\\n",
       "/v0l+X6AkpOTw1wbAADQHrW1tcrIyLDv4yYiAHaCv9s3OTmZAAgAQIQxefiWmR3fAAAABiMAAgAA\\\n",
       "GIYACAAAYBgCIAAAgGEIgAAAAIYhAAIAABiGAAgAAGAYAiAAAIBhCIBAG9xut0pLS9ssU1paKrfb\\\n",
       "3TMVAgCgC/AkEKAVbrdbRUVF9nZBQUGLMqWlpSosLAx6DwAAvR0tgEAIzcNfYWFhi5bA5uGvqKiI\\\n",
       "AAgAiAgEQKCZ5uHPLzAENg9/foRAAEAkIADCLJufkh7O8n0MobXw51dYWKhx48aFDH9+hEAAQG9H\\\n",
       "AIRZNjwseSp9H0MYPHhwq2/NUpYkadeuXUHbHT0PAADhRgCEWabcIbkyfB9DKCgoUElJSYv9+cpX\\\n",
       "sYqVpzxJUp7yVKxi5Su/RdmSkpKQE0YAAOgtHJZlWeGuRKSqra2Vy+WSx+NRcnJyuKuDLhQ4xi9L\\\n",
       "WSpWsX3MI49cctnb8zRPFaqQRPgDgEjA/ZsWQCCkwJbAClVomZbZxwLD3zItI/wBACIOARDR5RST\\\n",
       "PDqioKBAmZmZkqQylckjT9BxjzwqU5kkKTMzk/AHAIgYBEBEl1NM8uiI0tJSe8JHnvKCWv4kX0ug\\\n",
       "f0zgrl27TvnEEAAAegsCIKLLKSZ5tFfzMYBzNMc+FtgSOEdz7NnAoRaLBgCgNyIAIrpcOEu6o8L3\\\n",
       "sTWB3cQhuoybL/JcoQot13JJvjF/ucq1xwQu13J7DKBECAQARAZmAXcCs4gi0OanpFU/lKxGyREr\\\n",
       "OZOl40elpIGSJZVuqlPhS0dCvjVLWUFhr/l2ICaEAEDvxf2bFkCY5q8/94U/yffx+KdSoi/86fhR\\\n",
       "1Xz6Watv9Ye9zFRn0HYoNTU1XVVjAAC6HAEQ0SXULODNT0n3j5CKBvpa+4JYvn3OfpIk99QkLbzu\\\n",
       "q62evqSkRDv/WKqSb6W1WmbhwoU8Cg4A0KsRABH5AkNfqFnAf/259MVRyWpq/Ryeyi8/seTOPqGF\\\n",
       "Cxe2KGJ36144SwXPHwz5xBDCHwAgEhAAEfkCQ9+UO3zj+byfSY9PldyuEK1+bXFIU+6Q2+3Wwtkz\\\n",
       "7L2hxvQ1f2wc4Q9AT3O73aeceFZaWsrvJrQQF+4KAJ2y+Smp/jPfOL4pd/hm//oDYVVHgp+k2Hjp\\\n",
       "mvt9nz+cJfeoz6TLEjT4jEGtTujw76+pqeEXLIAe5Xa7VVRUZG+H+j3VfFUDfk/Bj1nAncAsol7g\\\n",
       "4Sxf2PtyFq8avVLTCanxxOmdLybeFwRPfC7F95H6nHEyWAJAL9E8/Ekteyqahz+Jngo/7t+0ACLS\\\n",
       "TbnD1+Ln/ayDXb2taDrhe0lSrNO3piAA9CKhwp8kO+wVFBSEDH+S7PcRAsEYQEQ2/8LPV/7U1w0c\\\n",
       "E981500c6Dun1KXPFwaAzmgt/PkVFhZq3LhxIcOfX1FREQEQBEBEiQtnST/eK/VvfXmWDnH2O9nt\\\n",
       "24XPFwaAzhg8eHCrx/yPpfQ/w9y/3dHzwAwEQES+wBY6/yzgDnP4niEs+Z4QEvgs4S56vjAAdFbz\\\n",
       "1Qf88pWvYhUrT3mSpDzlqVjFyld+i7I8qQgSk0A6hUGkYeZf988//s+V4esOfm6WVPHcqd+f6F8Y\\\n",
       "2iG5hkmef0jxSVLOL5j0AaBXCxzjl6UsFavYPuaRRy657O15mmc/uYjw58P9mxZARDJ/16xDvvCX\\\n",
       "cbGvJbDi+dDlY+J9rYP+FkJvrTT9IWn6L79cCNqSGrwnwx9j/wCEye827dPk+9bqd5v2hTwe2BJY\\\n",
       "oQot0zL7WGD4W6ZlhD+ERABE5PJ3zY660rf94aovA6HjZJmY+JNdu00nfE8EOeGV5PA9C/ivPw8e\\\n",
       "23fO/zv5OWP/AITJo69/rAOffqFHX/+41TIFBQXKzMyUJJWpTB55go575FGZyiRJmZmZhD8EidoA\\\n",
       "+Oijj+q8885TcnKykpOTlZ2drVdffdU+blmW3G630tPTlZSUpKlTp2rHjh1hrDE6zD8DuPJtX1Br\\\n",
       "+MK33z+qwRErTbu/5bjAeKeUNODLMjoZJKc/JF0b0NrH2D8AYTJ36iidOSBJc6eOarVMaWmpPeEj\\\n",
       "T3lBLX+SryXQPyZw165dp3xiCMwStWMA//jHPyo2NlajR4+WJK1YsUJLly7Vtm3bdM455+j+++/X\\\n",
       "okWLtHz5cn3lK1/RL37xC61fv167d+9W//792/U1GEPQS/jHAmZc7AuD/o/NF3B+bpa040VfK9/w\\\n",
       "SScfHcd4PwARpqvHAP5u0z49+vrHmjt1lL5zyfBurn34cf+O4gAYyqBBg7R06VLdfPPNSk9P1/z5\\\n",
       "83XXXXdJkrxer1JTU3X//fdrzpw57TofP0Bh5A99HQlw/qeG+CeLAEAvFhjKJNmfe7b+qcU6f/nK\\\n",
       "10zN1DItU5nKlKc8zdEcLddyrdCKoLKhQuDk+9bqwKdf6MwBSXrzx1d07zfWC3D/NiQANjY26n//\\\n",
       "93+Vn5+vbdu2KTExUaNGjdK7776r8ePH2+W++c1vasCAAVqxYkUbZzuJH6AwOp0wdzqhEQB6wO82\\\n",
       "7dODf94tSbr0K4NVvrNaX5xokiQNSIpX3fETarSkmF1/1p6Xi0OeI0tZdktfqO1AzUMgLYDmiepH\\\n",
       "wW3fvl3Z2dk6fvy4+vXrpxdffFHjxo3Txo0bJUmpqalB5VNTU7VvX+gZV5KvldDr9drbtbW13VNx\\\n",
       "nJr/EXAdGZ934SyCH4Cw8YesicMHauu+o0Fh68E/79anX/geQ/nKB1VqDGiaOeZtsLc/PfJJq+f3\\\n",
       "h73MzEzt2rWr1fAnSTU1NUHb37lkuBHBDydF7SQQSRo7dqzee+89bdq0SXPnzlV+fr527txpH3cE\\\n",
       "zhaVb2JI832BlixZIpfLZb8yMjK6re44Bf8EEImlWgBEhAf/vFsHPv1CL79f1WKGr7eh0f68sVm/\\\n",
       "XEOTpdgvb03Jk2+Qa/K3W/0aJSUl2rlzZ8jFov0WLlzIo+BgRhew37/+679q1KhRuuuuu06rCzhU\\\n",
       "C2BGRobRTchh4+/Orf/Mt7QL4/oA9GK/27RPP1l58ndUrEOafl661v9fjbwNTfriRGOr7z3vTJdG\\\n",
       "pPTVy+9X2fs+3fA/8rz5TFC55t26gRNF/Ah/PnQBR3kLYHOWZcnr9WrkyJFKS0tTeXm5fay+vl7r\\\n",
       "1q3TpEmTWn2/0+m0l5XxvxAm/jX6LLFUC4BeJdQizs3X82uypJffr9KnX5xoM/xJ0gcHPPpjQPiT\\\n",
       "pAFT/lNnfO0/7e1QEzuaPzaO8IdAUTsG8O6779a0adOUkZGhuro6lZWV6fXXX9fq1avlcDg0f/58\\\n",
       "LV68WGPGjNGYMWO0ePFi9enTRzfccEO4q472CBwDyLg+AL1I4CLO/nF1E4cP1IFPv7DLdLTrzV8+\\\n",
       "xiE542LljIuRY9K31dDUpLg+rlYXefbvr6mpIfwhSNQGwH/+85+68cYbdfDgQblcLp133nlavXq1\\\n",
       "rrrqKknSj370I33xxRe67bbbdPToUV188cVas2ZNu9cARJgxoQNALzVx+EBVe77QxOED7Ykfx7wN\\\n",
       "XXLuJkv64kSjnHExmnF+ul5x/Kemn5fe5nt4AghCMWoMYFdjDAEAoLnANfUk6cCnX8ghKTE+xl7a\\\n",
       "pbOS4mO06+fTuuRcJuL+bdgYQAAAulvgY9zmTh2lWIevC3dQX6eS4mO76Ku0vmIF0B5R2wUMAEA4\\\n",
       "hFpT78E/79Yxb4MaGrumBbDjowiBYLQAAgDQjb5zyXD1dcbp0y9O6ETTyeB25oDEDp3n385PV1I8\\\n",
       "t210DX6SED6bn2IRZwBG8HcLBwc4h36Rm6UBSfFtvndAUrx+kZulX397vJxxvi5k/0fgdBEAET7+\\\n",
       "tfw2PBzumgBAt/rOJcP15o+v0D3Tx2lAUrwGJMVr7tRRkqS6475HwMU6pF/kZtlP/ZB82+8tzLG7\\\n",
       "lH9w9VidOSBJP7h6bI9/D4gujAFE+JzO83wBIII1Hx84+b61arR84a/om1n6ziXD9c6eI3rlgypN\\\n",
       "Py+9xVhCntmLrsIyMJ3ANHIAQGf41wmcO3UUwa4Hcf8mAHYKP0AAAEQe7t+MAQQAADAOARA9i5m/\\\n",
       "AACEHQEQPYuZvwAAhB0BED1ryh2SK4OZvwAAhBHLwKBnXTjL9wIAAGFDCyB6FmMAAQAIOwIgehZj\\\n",
       "AAEACDsCIHoWYwABAAg7xgCiZzEGEACAsKMFEAAAwDAEQAAAAMMQAAEAAAxDAESHHC0r09+uuFJH\\\n",
       "y8rCXRUAAHCaCIDokMOPP6GGqiodfvyJcFcFAACcJgIgOiTlu7coLj1dKd+9JdxVAQAAp8lhWZYV\\\n",
       "7kpEqtraWrlcLnk8HiUnJ4e7OgAAoB24f9MCCAAAYBwCoIHcbrdKS0vbLFNaWiq3290zFQIAAD2K\\\n",
       "J4EYxu12q6ioyN4uKChoUaa0tFSFhYVB7wEAANGDFkCDNA9/hYWFLVoCm4e/oqIiAiAAAFGGAGiI\\\n",
       "5uHPLzAENg9/foRAAACiC7OAOyFSZhG1Fv4CfeXMM/V/Bw60WWbhwoUEQQBAxIuU+3d3ogXQAIMH\\\n",
       "D271WJayJMkOf/7tjp4HAABEDgKgAQoKClRSUtJif77yVaxi5SlPkpSnPBWrWPnKb1G2pKQk5IQR\\\n",
       "AAAQeegC7oRIa0IOHOOXpSwVq9g+5pFHLrns7XmapwpVSCL8AQCiS6Tdv7sDLYAGCWwJrFCFlmmZ\\\n",
       "fSww/C3TMsIfAABRjBbATojUvyDGjRunXbt2SZJWamVQ+PPIo1zlSpIyMzO1c+fOcFQRAIBuE6n3\\\n",
       "765EC6BhSktL7fCXp7yg8Cf5WgL9YwJ37dp1yieGAACAyEMANEjzMYBzNMc+5pHH/nyO5tizgUMt\\\n",
       "Fg0AACIbAdAQzRd5rlCFlmu5JN+Yv1zl2mMCl2u5PQZQIgQCABBtCIAR4GhZmf52xZU6WlbWoWN+\\\n",
       "rT3hY4VWaJ7mqUy+95apTPM0Tyu0okVZQiAAANEjLtwVwKkdfvwJNVRV6fDjT2hgXp6OlpXp8ONP\\\n",
       "KOW7t+jQw79Sk8ejf97/gA49/CtZXq8cTqf6TZmiz7dtU5/x4/XhC8+3em5/S19mZqZ27doV1PLX\\\n",
       "XE1NTZd/bwAAoOcxC7gTunMWkT/k9Rk/Xp9t2BAU7GpXrZIsS4qLkxoa2j6RwyFZlkrr6lRaFfpR\\\n",
       "b/6lXlprKZR4DBwAIHowC5gA2Cnd+QP0tyuuVENVlRQbKzU2nvzYEV+GP78nBg7Uw5veCirSfJ2/\\\n",
       "UCGQ8AcAiCYEQMYA9lop371FcenpSr7mGvtjhzXL9rd8+ql+9O//bm/fO+YrLRZ5bv7YOMIfAADR\\\n",
       "J2oD4JIlS3ThhReqf//+GjJkiHJzc7V79+6gMpZlye12Kz09XUlJSZo6dap27NgRphqH1ufCCzRm\\\n",
       "7V+75FwOp1P3P/ecfvTv/657x3xF839WFLKcPwQS/gAAiE5RGwDXrVungoICbdq0SeXl5WpoaFBO\\\n",
       "To6OHTtml3nggQf00EMPqaSkRJs3b1ZaWpquuuoq1dXVhbHmPoETP46Wlan2lVe65LxHy8p0/3PP\\\n",
       "qej/fGF498WXaPfFl7SYRVxQUED4AwAgShkzBrCmpkZDhgzRunXrdOmll8qyLKWnp2v+/Pm66667\\\n",
       "JEler1epqam6//77NWfOnFOcsfsngRx6+Ff2dpPH03rhjoiNVdpPf6KBeXknxxlKiktP77KWRgAA\\\n",
       "ejPGAEZxC2Bzni8D1KBBgyRJe/bsUXV1tXJycuwyTqdTl112mTZu3BiWOgYamJenmL59uy74+TU2\\\n",
       "qvrnv9DRsjKlfPcWxbhcinG5lPLdW7r26wAAgF7LiHUALcvSnXfeqSlTpigry/eIs+rqaklSampq\\\n",
       "UNnU1FTt27cv5Hm8Xq+8Xq+9XVtb20019kn57i32en+SVF30sxYTOzokNtb3sbFRhx9/QmPW/lUD\\\n",
       "8/K6oKYAACCSGBEACwsL9cEHH2jDhg0tjjkcjqBty7Ja7PNbsmSJiopCT5zoDgPz8oIC2uebt6h2\\\n",
       "9erTWg7G4XQGLRBNix8AAOaK+i7gefPm6eWXX9Zrr72mYcOG2fvT0tIknWwJ9Dt06FCLVkG/BQsW\\\n",
       "yOPx2K/Kysruq3gIn23Y0PHwJylt4b2KHTRITR6PPt+2jZY/AAAMF7UB0LIsFRYW6oUXXtDatWs1\\\n",
       "cuTIoOMjR45UWlqaysvL7X319fVat26dJk2aFPKcTqdTycnJQa+waaWVsrnk6dM1MC/PXleQlj8A\\\n",
       "ABC1XcAFBQX6/e9/r5deekn9+/e3W/pcLpeSkpLkcDg0f/58LV68WGPGjNGYMWO0ePFi9enTRzfc\\\n",
       "cEOYax/akDvmh5wZ7EhMlHX8eHDhgNm+UsvuZAAAYK6oXQamtXF8Tz/9tGbOnCnJ10pYVFSkZcuW\\\n",
       "6ejRo7r44otVWlpqTxQ5lXBOI/c/K9jfoucPhoFj/Ah8AAC0xDIwURwAe0JP/gAFBj6CHQAAp48A\\\n",
       "GMVjAKNN4JNBAAAAOoMAGCGYxAEAALoKXcCdQBMyAACRh/s3LYAAAADGIQACAAAYhgAIAABgGAIg\\\n",
       "AACAYQiAAAAAhiEAAgAAGIYACAAAYBgCIAAAgGEIgAAAAIYhAAIAABiGAAgAAGAYAiAAAIBhCIAA\\\n",
       "AACGIQACAAAYhgAIAABgGAIgAACAYQiAAAAAhiEAAgAAGIYACAAAYBgCIAAAgGEIgAAAAIYhAAIA\\\n",
       "ABiGAAgAAGAYAiAAAIBhCIAAAACGIQACAAAYhgAIAABgGAIgAACAYQiAAAAAhiEAAgAAGIYACAAA\\\n",
       "YBgCIAAAgGEIgAAAAIYhAAIAABiGAAgAAGAYAiAAAIBhCIAAAACGIQACAAAYhgAIAABgGAIgAACA\\\n",
       "YaI2AK5fv14zZsxQenq6HA6HVq5cGXTcsiy53W6lp6crKSlJU6dO1Y4dO8JTWQAAgB4UtQHw2LFj\\\n",
       "Ov/881VSUhLy+AMPPKCHHnpIJSUl2rx5s9LS0nTVVVeprq6uh2uKSON2u1VaWtpmmdLSUrnd7p6p\\\n",
       "EAAAHRQX7gp0l2nTpmnatGkhj1mWpV/96le655579K1vfUuStGLFCqWmpur3v/+95syZ05NVRQRx\\\n",
       "u90qKiqytwsKClqUKS0tVWFhYdB7AADoTaK2BbAte/bsUXV1tXJycux9TqdTl112mTZu3BjGmqE3\\\n",
       "ax7+CgsLW7QENg9/RUVFBEAAQK9jZACsrq6WJKWmpgbtT01NtY+F4vV6VVtbG/SCGZqHP7/AENg8\\\n",
       "/PkRAgFEI4bDRLao7QJuD4fDEbRtWVaLfYGWLFkSMgQgurUW/vz8IXDXrl2tlvG/n1+EAKIBw2Ei\\\n",
       "n5EtgGlpaZLUorXv0KFDLVoFAy1YsEAej8d+VVZWdms90TsMHjy41WNZypIkO/z5tzt6HgCIFAyH\\\n",
       "iQ5GBsCRI0cqLS1N5eXl9r76+nqtW7dOkyZNavV9TqdTycnJQS9Ev4KCgpCzyfOVr2IVK095kqQ8\\\n",
       "5alYxcpXfouyJSUlIf9CBoBIwnCY6BG1XcCfffaZPvroI3t7z549eu+99zRo0CCdddZZmj9/vhYv\\\n",
       "XqwxY8ZozJgxWrx4sfr06aMbbrghjLVGT3h297N6cvuTmn3ubF0/9vp2vccf3vy/1LKUpZmaKUma\\\n",
       "oznKU55cckmSZmqmtmqrKlQhifAHIDowHCa6RG0L4JYtWzR+/HiNHz9eknTnnXdq/PjxuvfeeyVJ\\\n",
       "P/rRjzR//nzddtttuuCCC3TgwAGtWbNG/fv3D2e10QOe3P6kDh47qCe3P9lqmWd3P6uc53L07O5n\\\n",
       "7X2BLYEVqtAyLbOP+cOfJC3TMsIfgKjDcJjo4rAsywp3JSJVbW2tXC6XPB4P3cERpD0tgDnP5ejg\\\n",
       "sYMa2neo1ly7JujYuHHj7F9yK7UyKPx55FGuciVJmZmZ2rlzZ/d8EwAQBqG6d/OVr5maqWVapjKV\\\n",
       "KU95mqM5Wq7lWqEVQWV7yx/F3L+juAUQ5gnVahfK9WOv15pr17TZ/Tv73Nka2neoZp87O2h/YPdG\\\n",
       "YLevn0sue0zgrl27TrlEAgBEkuZjopsPh1mplZoj38MUZmpmUEtgbwl/8KEFsBP4C6J38bfaJSck\\\n",
       "q2983w6N8WuPwL98s5SlYhXbxzzyBIXBeZpHNzCAqBX4+9Df4tecv0VQ6n2/B7l/EwA7hR+g3sXf\\\n",
       "tfv5ic/lqfdoaN+hGj9kvFbvXa3UPqmqPlatWEes+sT30fcmfK9D4TBauj0AoKtE8nAY7t8EwE7h\\\n",
       "B6h3enb3s/r1u7+WJUt19XWy1PJHPDnB9/+rvrFe9U31arKadM4Z56jsG2UtxgjOuneWfvPz34T8\\\n",
       "WlnKslv6Qm0HIgQCiBa0AEY+xgAiorRnnJ+/Za+2vlaxjljFOGI0tO/QoDK19bWqra/V8cbjarKa\\\n",
       "JEk7Ptkh6eQs4UVvL9Kzu5/V6x++3urX8oe9zMzMoO1QampqTv0NAkCYvV++Sk8U3Kz3y1eFPN58\\\n",
       "OExg+PPIY38+R3PsMYChFotGeBEAEVHas4SLpBatfuOHjNc5Z5zT5nviHHG6a/1d+vzE53LIoSar\\\n",
       "SYveXqRrC6/VkNwhrb6vpKREO3fuDLlYtN/ChQtZ9wpAr9FWyHtn5XOqPXxI76x8rsWx5sNhKlSh\\\n",
       "5Vouydfil6tce4ms5Voe9EcxIbB3IQAiorQ2O7e5KWdOUYwjRg1Wg5qsJq3eu9pu4WtNg9WgVXtW\\\n",
       "yVPvkTPWqRhHjJqsJm07tE0z75gZMgQGdmu09sQQwh+A7naqVrvmx/0h76+/eUyv/PqBoGMX5V6r\\\n",
       "OKdTtZ/U6JVfP2Cfo7UnfKzQCs3TPLu7t0xlmqd5LcZCS4TA3oQAiIjSniVcnt39rFbvXa0mq0kx\\\n",
       "X/6Ip/Zp/RnPoRxvPK7MQZlKTkjW0eNH9eqeVzUkd4gyvpVhlwk1pqV5CCT8AegJbbXaBR7/628e\\\n",
       "0/vlq3RR7rWSJKupSR++uT7ovedf9XU11NdLlqUPN75hn6OtYSwMh4k8TALpBAaR9k7+5WD8LXhd\\\n",
       "6esjv66ktUkaPHhwmwOaS0tLVVNTQ/gD0CPeL1+ld1Y+p4tyr9X5V3095PG/PPWoZFmKczoVFx+v\\\n",
       "45991qJc/5TBqjscHNDOnnyp9r7/rmQ59ObBw3pm9V9C1uHHhXO1pPiRVlsKpd7zRzH37yh+FjDM\\\n",
       "Nfvc2fYs3kVvL+qSEOiQQ5YsbTu0TWvca05ZvjfNdgMQvQKD3y2lv2n12PlXfV0bnvlvHT9Wpwav\\\n",
       "Vw1eb8jzNQ9/kvThm+vtzy8YkKTD48aofOffgsr8v/Hn6F+ajktq+ex0v94S/uBDFzCiin8Jl/FD\\\n",
       "xuvJ7U92WQvgTy75iT32sL1PHAGA7tZW1++GZ/5btYcP6S9PPqLSm7+tEV8dL0fM6d/2E/v219js\\\n",
       "Kbpu6hTN+c4N9v4fF87VtOyL7G5lieEwkYAu4E6gCbn3ad79mxibqOONxzt1zsTYRG3+zuYWXyPU\\\n",
       "c4IBoCe11fVbOisvqJvXEROjISP+Rf/8+0en9bXiEpyKS4jXiPMnqGr3h9pa69W5l0yKyOEw3L8J\\\n",
       "gJ3CD1DvE9gCuO3QNs0+d7Z+/e6v5an3nPrNrUiMTdQPL/yhPfGk+ULRANAbvfLrB/ThxjcUExur\\\n",
       "psZGqYtv98kpQ1p0O0cK7t8EwE7hB6h38we1o8ePdroVkNY+AJHmiYKbVXv4kJJThuii3Gvt7uKu\\\n",
       "0j9lsBxytDrxpDfj/s0YQESR5mPz/ItGJ8QmKDkhWfEx8SHfF+MI/c/AleBSckKyXAmuU647CAC9\\\n",
       "zUW51yo5ZYjSx56td1Y+p/SxZ3fp+esO17S59Ax6NwIgokbzp4T4F43+3oTvqW98X51oOiFXgssO\\\n",
       "dj+95Kfanr9d79/0vn56yU+DAmKMI0a3T7hd35vwPfWJ7xOubwkATkvg2MCq3R+q9vAh7X5rQ6fP\\\n",
       "23wSiSMmJmjyByIHARBRo/lTQgIXjfYfs2TJU+9R3/i+QeP3rh97vVKSUiT5wt89F98jSVr09qJ2\\\n",
       "PXoOAHqTwNnB/pbAsdlTFJfg7PC54hKcksOhOKdTVpNvZYXEfv2UnDJEV958a8R1/8KHdQARNa4f\\\n",
       "e32rkzL8xwIncDQXuH7g9WOvV85zOb6niThi6AIGEFH8Y/4Cx+e9s/I5NZyoD1m+rRnCDSd8TwWJ\\\n",
       "i49XXHy8ZDk0Je9Ggl+EYxJIJzCINHqEmtnLbF8A0cI/ISTO6VRDfb3iEhI0+oKLtfutDbKamlrM\\\n",
       "6H2/fJX++pvH7BY/R0xMVLX2cf8mAHYKP0DRg7X9AESz1tYLbGsdwffLV2nDM/8tOSxNybspasKf\\\n",
       "xP1bIgB2Cj9A0YPWPgAwB/dvJoGgB0TCo9MCJ4wAgOneL1+lJwpu1vvlq8JdFXQTAiC6XfPlWQAA\\\n",
       "vVtbzxhGdCAAots1X54FANC7+ZeOab7GHy2D0YMxgJ3AGAIAgEkCHy8Xqc8Blrh/S7QAAgCAdmqt\\\n",
       "ZRCRhxbATuAvCAAAIg/3b1oAAQAAjEMABAAAMAwBEAAA9DrMOO5eBEAAANDrsBZh9yIAAgCAXocZ\\\n",
       "x92LWcCdwCwiAAAiD/dvWgABAACMQwAEAAAwDAEQAADAMARAAAAAwxAAAQAADEMABAAAMAwBEAAA\\\n",
       "wDAEQAAAAMMQAAEAAAxDAAQAADAMARAAAMAwxgfARx55RCNHjlRiYqImTpyoN954I9xVAgAA6FZG\\\n",
       "B8A//OEPmj9/vu655x5t27ZNX/va1zRt2jTt378/3FUDAADoNg7LsqxwVyJcLr74Yk2YMEGPPvqo\\\n",
       "vS8zM1O5ublasmTJKd9fW1srl8slj8ej5OTk7qwqAADoIty/DW4BrK+v19atW5WTkxO0PycnRxs3\\\n",
       "bgz5Hq/Xq9ra2qAXAABApDE2AB4+fFiNjY1KTU0N2p+amqrq6uqQ71myZIlcLpf9ysjI6ImqAgAA\\\n",
       "dCljA6Cfw+EI2rYsq8U+vwULFsjj8divysrKnqgiAABAl4oLdwXCJSUlRbGxsS1a+w4dOtSiVdDP\\\n",
       "6XTK6XT2RPUAAAC6jbEtgAkJCZo4caLKy8uD9peXl2vSpElhqhUAAED3M7YFUJLuvPNO3Xjjjbrg\\\n",
       "gguUnZ2txx9/XPv379ett94a7qoBAAB0G6MD4H/8x3/ok08+0c9+9jMdPHhQWVlZWrVqlYYPHx7u\\\n",
       "qgEAAHQbo9cB7CzWEQIAIPJw/zZ4DCAAAICpCIAAAACGIQACAAAYhgAIAABgGAIgAACAYQiAAAAA\\\n",
       "hiEAAgAAGIYACAAAYBgCIAAAgGEIgAAAAIYhAAIAABiGAAgAAGAYAiAAAIBhCIAAAACGIQACAAAY\\\n",
       "hgAIAABgGAIgAACAYQiAAAAAhiEAAgAAGIYACAAAYBgCIAAAgGEIgAAAAIYhAAIAABiGAAgAAGAY\\\n",
       "AiAAAIBhCIAAAACGIQACAAAYhgAIAABgGAIgAACAYQiAAAAAhiEAAgAAGIYACAAAYBgCIAAAgGEI\\\n",
       "gAAAAIYhAAIAABiGAAgAAGAYAiAAAIBhCIAAAACGIQACAAAYhgAIAABgGAIgAACAYQiAAAAAhiEA\\\n",
       "AgAAGCYqA+CiRYs0adIk9enTRwMGDAhZZv/+/ZoxY4b69u2rlJQU3X777aqvr+/ZigIAAIRBXLgr\\\n",
       "0B3q6+t13XXXKTs7W0899VSL442NjZo+fboGDx6sDRs26JNPPlF+fr4sy1JxcXEYagwAANBzojIA\\\n",
       "FhUVSZKWL18e8viaNWu0c+dOVVZWKj09XZL0y1/+UjNnztSiRYuUnJzcU1UFAADocVHZBXwqb731\\\n",
       "lrKysuzwJ0lXX321vF6vtm7d2ur7vF6vamtrg14AAACRxsgAWF1drdTU1KB9AwcOVEJCgqqrq1t9\\\n",
       "35IlS+RyuexXRkZGd1cVAACgy0VMAHS73XI4HG2+tmzZ0u7zORyOFvssywq532/BggXyeDz2q7Ky\\\n",
       "8rS+FwAAgHCKmDGAhYWFysvLa7PMiBEj2nWutLQ0vf3220H7jh49qhMnTrRoGQzkdDrldDrb9TUA\\\n",
       "AAB6q4gJgCkpKUpJSemSc2VnZ2vRokU6ePCghg4dKsk3McTpdGrixIld8jUAAAB6q4gJgB2xf/9+\\\n",
       "HTlyRPv371djY6Pee+89SdLo0aPVr18/5eTkaNy4cbrxxhu1dOlSHTlyRD/4wQ90yy23MAMYAABE\\\n",
       "vagMgPfee69WrFhhb48fP16S9Nprr2nq1KmKjY3VK6+8ottuu02TJ09WUlKSbrjhBj344IPhqjIA\\\n",
       "AECPcViWZYW7EpGqtrZWLpdLHo+HlkMAACIE9+8ImgUMAACArkEABAAAMAwBEAAAwDAEQAAAAMMQ\\\n",
       "AAEAAAxDAAQAADAMARAAAMAwBEAAAADDEAABAAAMQwAEAAAwDAEQAADAMARAAAAAwxAAAQAADEMA\\\n",
       "BAAAMAwBEAAAwDAEQAAAAMMQAAEAAAxDAAQAADAMARAAAMAwBEAAAADDEAABAAAMQwAEAAAwDAEQ\\\n",
       "AADAMARAAAAAwxAAAQAADEMABAAAMAwBEAAAwDAEQAAAAMMQAAEAAAxDAAQAADAMARAAAMAwBEAA\\\n",
       "AADDEAABAAAMQwAEAAAwDAEQAADAMARAAAAAwxAAAQAADEMABAAAMAwBEAAAwDAEQAAAAMMQAAEA\\\n",
       "AAxDAAQAADAMARAAAMAwURcA9+7dq1mzZmnkyJFKSkrSqFGjtHDhQtXX1weV279/v2bMmKG+ffsq\\\n",
       "JSVFt99+e4syAAAA0Sgu3BXoah9++KGampq0bNkyjR49WhUVFbrlllt07NgxPfjgg5KkxsZGTZ8+\\\n",
       "XYMHD9aGDRv0ySefKD8/X5Zlqbi4OMzfAQAAQPdyWJZlhbsS3W3p0qV69NFH9fe//12S9Oqrr+ob\\\n",
       "3/iGKisrlZ6eLkkqKyvTzJkzdejQISUnJ7frvLW1tXK5XPJ4PO1+DwAACC/u31HYBRyKx+PRoEGD\\\n",
       "7O233npLWVlZdviTpKuvvlper1dbt25t9Txer1e1tbVBLwAAgEgT9QHw448/VnFxsW699VZ7X3V1\\\n",
       "tVJTU4PKDRw4UAkJCaqurm71XEuWLJHL5bJfGRkZ3VZvAACA7hIxAdDtdsvhcLT52rJlS9B7qqqq\\\n",
       "dM011+i6667T7Nmzg445HI4WX8OyrJD7/RYsWCCPx2O/Kisru+abAwAA6EERMwmksLBQeXl5bZYZ\\\n",
       "MWKE/XlVVZUuv/xyZWdn6/HHHw8ql5aWprfffjto39GjR3XixIkWLYOBnE6nnE5nxysPAADQi0RM\\\n",
       "AExJSVFKSkq7yh44cECXX365Jk6cqKeffloxMcENndnZ2Vq0aJEOHjyooUOHSpLWrFkjp9OpiRMn\\\n",
       "dnndAQAAepOomwVcVVWlyy67TGeddZZ++9vfKjY21j6WlpYmybcMzFe/+lWlpqZq6dKlOnLkiGbO\\\n",
       "nKnc3NwOLQPDLCIAACIP9+8IagFsrzVr1uijjz7SRx99pGHDhgUd82fd2NhYvfLKK7rttts0efJk\\\n",
       "JSUl6YYbbrDXCQQAAIhmUdcC2JP4CwIAgMjD/TuCZgEDAACgaxAAAQAADEMABAAAMAwBEAAAwDAE\\\n",
       "QAAA0Glut1ulpaVtliktLZXb7e6ZCqFNUbcMDAAA6Flut1tFRUX2dkFBQYsypaWlKiwsDHoPwocW\\\n",
       "QAAAcNqah7/CwsIWLYHNw19RUREBMMwIgAAA4LQ0D39+gSGwefjzIwSGFwtBdwILSQIATNVa+AuU\\\n",
       "mZmpXbt2tVlm4cKFPR4EuX/TAggAAE7D4MGDWz2WpSxJssOff7uj50H3IQACANDLVaw/oN/e/aYq\\\n",
       "1h8Id1VsBQUFKikpabE/X/kqVrHylCdJylOeilWsfOW3KFtSUhJywgi6HwEQAIBe7t3Ve1V3xKt3\\\n",
       "V+8Nd1WCNA+BWcrSTM2UJM3RHK3USs3RHEnSTM0Magkk/IUXARAAgF5uwjUj1H+QUxOuGRHuqrQQ\\\n",
       "GAIrVKFlWmYfc8llf75My1ShCkmEv96ASSCdwCBSAAB8xo0bZ4/5W6mVQeHPI49ylSvJNzFk586d\\\n",
       "4aiijfs3LYAAAKCTSktL7fCXp7yg8Cf5WgL9YwJ37dp1yieGoPvxJBAAAGCrWH9Am1Z+rBPeRjU1\\\n",
       "WRpzQapyZp3TatkHFv1S/73mYUm+MYD+MX+Sr+XPHwbnaI4qvvzPvy4g3cDhQwsgAACGCTWreM1T\\\n",
       "O/TIbWv15nN/k/fzBjU1WpIlfbT1n63OQg4Mf5JvDOByLZfkG/OXq1x7TOByLbfHAEqhnxiCnsMY\\\n",
       "wE5gDAEAINJUrD+g9WW7ZTVJzj5xSkiMVdqoAfrb5n/6CjgkZ1Kc6o83yGqS+g1y6rOjXsnylZ/9\\\n",
       "0KWSpHvuWKTFv/pJyK+RpaygsNd8O1A4JoRw/6YFEAAAo7y7eq+sJsnxZQKoO+I9Gf4kxcQ41Hii\\\n",
       "SVaTb/uzI77wJ0knvI12uZ1bPm71a/jDXmZmZtB2KDU1NafzbaCTCIAAABiiYv0B1R9vlLNPnC7N\\\n",
       "G6tLckfZQdCvqdFSw4mmkO9varRUOnetls17XXNnfl8zLpnZ6tcqKSnRzp07Qy4W7ReOx8DBhwAI\\\n",
       "AIAh3l29V97PG+zPJWn0xNSOncSSGk40qfrjT3Xt5bM1beJNLYoEduu29sQQwl94MQsYAABDTLhm\\\n",
       "hN5dvVf1xxtVd8Srdc/strt3Oypt1ACljxkg6bsace4ZenS5bzJIqDF9/m3/7F/CX/gRAAEAMETW\\\n",
       "pWdKkt4o+z/fjk5MA/3b5n9qz/s1mnztGN106UMaMjxZgwcPbnVCh39/TU0N4a8XYBZwJzCLCAAQ\\\n",
       "aX5795uqO+LtsvP1H+TUTYsnd9n5egL3b8YAAgBglAnXjFBcfNfc/uMSYnrl84lxanQBAwBgiIr1\\\n",
       "B/Tu6r2afN0Y7XyzSjX76k77XJHY8oeTCIAAABji3dV7VXfEq3dX79Vnn55eN3BMrEN9XQlKGzVA\\\n",
       "T965XpJ0Se4oe3whIgNdwAAAGGLCNSPUf5BTE64ZoZSM/pJ8T/qw1wJ0nPocVpPle3LIln/K+3mD\\\n",
       "vJ832EvKIHIQAAEAMETWpWfaS8HU1nwhyZf5Ls0bK2efOMXFx4QcH9hvkNP+3Pry+cD2DGKHGAcY\\\n",
       "gQiAAAAYxN8NLMluDcy69EwlJMaqob5JDSeaFBPrawocPLy/LrthrK9hMKB1cPTEVDn7xMnZJ06X\\\n",
       "fXss3b8RiDGAAAAYxN8C6A9+gfvffO5vajjRpFEThihn1jmSApaN+TIAOvvE2ccQuWgBBADAIFmX\\\n",
       "nqmbFk9u0WqXdemZSuoXL1lS9cef2vv94wbHXOBr9ZN8s4kR2QiAAABAUvAkET9/YMyZdY4SEmOZ\\\n",
       "9BEl6AIGAACSfGGvrfF8gd3HiGwEQAAA0C6nCoiIHHQBAwAAGIYACAAAYBgCIAAAgGEIgAAAAIYh\\\n",
       "AAIAABiGAAgAAGAYAiAAAIBhCIAAAACGicoA+G//9m8666yzlJiYqKFDh+rGG29UVVVVUJn9+/dr\\\n",
       "xowZ6tu3r1JSUnT77bervr4+TDUGAADoOVEZAC+//HI9++yz2r17t55//nl9/PHHuvbaa+3jjY2N\\\n",
       "mj59uo4dO6YNGzaorKxMzz//vL7//e+HsdYAAAA9w2FZlhXuSnS3l19+Wbm5ufJ6vYqPj9err76q\\\n",
       "b3zjG6qsrFR6erokqaysTDNnztShQ4eUnJzcrvPW1tbK5XLJ4/G0+z0AACC8uH9HaQtgoCNHjuh/\\\n",
       "/ud/NGnSJMXHx0uS3nrrLWVlZdnhT5Kuvvpqeb1ebd26NVxVBQAA6BFRGwDvuusu9e3bV2eccYb2\\\n",
       "79+vl156yT5WXV2t1NTUoPIDBw5UQkKCqqurWz2n1+tVbW1t0AsAACDSxIW7Au3ldrtVVFTUZpnN\\\n",
       "mzfrggsukCT98Ic/1KxZs7Rv3z4VFRXppptu0p/+9Cc5HA5Jsj8Gsiwr5H6/JUuWhKwDQRAAgMjh\\\n",
       "v28bMAquVREzBvDw4cM6fPhwm2VGjBihxMTEFvv/8Y9/KCMjQxs3blR2drbuvfdevfTSS3r//fft\\\n",
       "MkePHtWgQYO0du1aXX755SHP7/V65fV67e0DBw5o3Lhxp/kdAQCAcKqsrNSwYcPCXY2wiJgWwJSU\\\n",
       "FKWkpJzWe/0Z1x/esrOztWjRIh08eFBDhw6VJK1Zs0ZOp1MTJ05s9TxOp1NOp9Pe7tevnyorK9W/\\\n",
       "f/+QLYe1tbXKyMhQZWWlsYNMuxrXtOtxTbse17RrcT27nunX1LIs1dXVBc0FME3EBMD2euedd/TO\\\n",
       "O+9oypQpGjhwoP7+97/r3nvv1ahRo5SdnS1JysnJ0bhx43TjjTdq6dKlOnLkiH7wgx/olltu6dA/\\\n",
       "hJiYmHb95ZCcnGzkP7DuxDXtelzTrsc17Vpcz65n8jV1uVzhrkJYRd0kkKSkJL3wwgu68sorNXbs\\\n",
       "WN18883KysrSunXr7Na72NhYvfLKK0pMTNTkyZN1/fXXKzc3Vw8++GCYaw8AAND9oq4F8Nxzz9Xa\\\n",
       "tWtPWe6ss87Sn/70px6oEQAAQO8SdS2AvYnT6dTChQuDxg2ic7imXY9r2vW4pl2L69n1uKaImFnA\\\n",
       "AAAA6Bq0AAIAABiGAAgAAGAYAiAAAIBhCIAAAACGIQB2g71792rWrFkaOXKkkpKSNGrUKC1cuFD1\\\n",
       "9fVB5fbv368ZM2aob9++SklJ0e23396iDE5atGiRJk2apD59+mjAgAEhy3BNO+aRRx7RyJEjlZiY\\\n",
       "qIkTJ+qNN94Id5Uixvr16zVjxgylp6fL4XBo5cqVQccty5Lb7VZ6erqSkpI0depU7dixIzyVjRBL\\\n",
       "lizRhRdeqP79+2vIkCHKzc3V7t27g8pwXdvv0Ucf1XnnnWcv9pydna1XX33VPs61NBsBsBt8+OGH\\\n",
       "ampq0rJly7Rjxw49/PDDeuyxx3T33XfbZRobGzV9+nQdO3ZMGzZsUFlZmZ5//nl9//vfD2PNe7f6\\\n",
       "+npdd911mjt3bsjjXNOO+cMf/qD58+frnnvu0bZt2/S1r31N06ZN0/79+8NdtYhw7NgxnX/++Sop\\\n",
       "KQl5/IEHHtBDDz2kkpISbd68WWlpabrqqqtUV1fXwzWNHOvWrVNBQYE2bdqk8vJyNTQ0KCcnR8eO\\\n",
       "HbPLcF3bb9iwYbrvvvu0ZcsWbdmyRVdccYW++c1v2iGPa2k4Cz3igQcesEaOHGlvr1q1yoqJibEO\\\n",
       "HDhg73vmmWcsp9NpeTyecFQxYjz99NOWy+VqsZ9r2jEXXXSRdeuttwbtO/vss60f//jHYapR5JJk\\\n",
       "vfjii/Z2U1OTlZaWZt133332vuPHj1sul8t67LHHwlDDyHTo0CFLkrVu3TrLsriuXWHgwIHWk08+\\\n",
       "ybWERQtgD/F4PBo0aJC9/dZbbykrKyvoQdRXX321vF6vtm7dGo4qRjyuafvV19dr69atysnJCdqf\\\n",
       "k5OjjRs3hqlW0WPPnj2qrq4Our5Op1OXXXYZ17cDPB6PJNm/O7mup6+xsVFlZWU6duyYsrOzuZag\\\n",
       "C7gnfPzxxyouLtatt95q76uurlZqampQuYEDByohIUHV1dU9XcWowDVtv8OHD6uxsbHF9UpNTeVa\\\n",
       "dQH/NeT6nj7LsnTnnXdqypQpysrKksR1PR3bt29Xv3795HQ6deutt+rFF1/UuHHjuJYgAHaE2+2W\\\n",
       "w+Fo87Vly5ag91RVVemaa67Rddddp9mzZwcdczgcLb6GZVkh90er07mmbeGadkzz68K16lpc39NX\\\n",
       "WFioDz74QM8880yLY1zX9hs7dqzee+89bdq0SXPnzlV+fr527txpH+damisu3BWIJIWFhcrLy2uz\\\n",
       "zIgRI+zPq6qqdPnllys7O1uPP/54ULm0tDS9/fbbQfuOHj2qEydOtPiLLJp19Jq2hWvafikpKYqN\\\n",
       "jW3xl/6hQ4e4Vl0gLS1Nkq/FaujQofZ+rm/7zJs3Ty+//LLWr1+vYcOG2fu5rh2XkJCg0aNHS5Iu\\\n",
       "uOACbd68Wf/1X/+lu+66SxLX0mS0AHZASkqKzj777DZfiYmJkqQDBw5o6tSpmjBhgp5++mnFxARf\\\n",
       "6uzsbFVUVOjgwYP2vjVr1sjpdGrixIk9+n2FU0eu6alwTdsvISFBEydOVHl5edD+8vJyTZo0KUy1\\\n",
       "ih4jR45UWlpa0PWtr6/XunXruL5tsCxLhYWFeuGFF7R27VqNHDky6DjXtfMsy5LX6+VaglnA3eHA\\\n",
       "gQPW6NGjrSuuuML6xz/+YR08eNB++TU0NFhZWVnWlVdeab377rvWX/7yF2vYsGFWYWFhGGveu+3b\\\n",
       "t8/atm2bVVRUZPXr18/atm2btW3bNquurs6yLK5pR5WVlVnx8fHWU089Ze3cudOaP3++1bdvX2vv\\\n",
       "3r3hrlpEqKurs38GJVkPPfSQtW3bNmvfvn2WZVnWfffdZ7lcLuuFF16wtm/fbn3729+2hg4datXW\\\n",
       "1oa55r3X3LlzLZfLZb3++utBvzc///xzuwzXtf0WLFhgrV+/3tqzZ4/1wQcfWHfffbcVExNjrVmz\\\n",
       "xrIsrqXpCIDd4Omnn7YkhXwF2rdvnzV9+nQrKSnJGjRokFVYWGgdP348TLXu/fLz80Ne09dee80u\\\n",
       "wzXtmNLSUmv48OFWQkKCNWHCBHu5DZzaa6+9FvLnMT8/37Is35IlCxcutNLS0iyn02ldeuml1vbt\\\n",
       "28Nb6V6utd+bTz/9tF2G69p+N998s/3ve/DgwdaVV15phz/L4lqazmFZltWDDY4AAAAIM8YAAgAA\\\n",
       "GIYACAAAYBgCIAAAgGEIgAAAAIYhAAIAABiGAAgAAGAYAiAAAIBhCIAAAACGIQACAAAYhgAIAABg\\\n",
       "GAIgAACAYQiAAAAAhiEAAgAAGIYACAAAYBgCIAAAgGEIgAAAAIYhAAIAABiGAAgAAGAYAiAAAIBh\\\n",
       "CIAAAACGIQACAAAYhgAIAABgGAIgAACAYQiAAAAAhiEAAgAAGIYACAAAYBgCIAAAgGEIgAAAAIYh\\\n",
       "AAIAABiGAAgAAGAYAiAAAIBh/j99sC54bg7+2gAAAABJRU5ErkJggg==\\\n",
       "\"\n",
       "  frames[2] = \"data:image/png;base64,iVBORw0KGgoAAAANSUhEUgAAAoAAAAHgCAYAAAA10dzkAAAAOXRFWHRTb2Z0d2FyZQBNYXRwbG90\\\n",
       "bGliIHZlcnNpb24zLjkuMSwgaHR0cHM6Ly9tYXRwbG90bGliLm9yZy/TGe4hAAAACXBIWXMAAA9h\\\n",
       "AAAPYQGoP6dpAAAnAklEQVR4nO3df4zddYHv/9cA6VikM0JaZ+i3VZqlartzZbG4fltR0P1SZVli\\\n",
       "Y75mJ+SSadY1BWYwtWtUJF9nuvfSIiir6YxsyRrK/oE1+12t5quSNlctchEvJRKprZuwi9tGmG0V\\\n",
       "MlO7OtVyvn/UOXd+lpZ25vSc9+NBTjqfH3P67idkznPe5/P5nKZKpVIJAADFOK/WAwAAYHYJQACA\\\n",
       "wghAAIDCCEAAgMIIQACAwghAAIDCCEAAgMIIQACAwghAAIDCCEAAgMIIQACAwghAAIDCCEAAgMII\\\n",
       "QACAwghAAIDCCEAAgMIIQACAwghAAIDCCEAAgMIIQACAwghAAIDCCEAAgMIIQACAwghAAIDCCEAA\\\n",
       "gMIIQACAwghAAIDCCEAAgMIIQACAwghAAIDCCEAAgMIIQACAwghAAIDCCEAAgMIIQACAwghAAIDC\\\n",
       "CEAAgMIIQACAwghAAIDCCEAAgMIIQACAwghAAIDCCEAAgMIIQACAwghAAIDCCEAAgMIIQACAwghA\\\n",
       "AIDCCEAAgMIIQACAwghAAIDCCEAAgMIIQACAwghAAIDCCEAAgMIIQACAwlxQ6wHUs5dffjnPP/98\\\n",
       "5s2bl6amploPBwA4BZVKJUeOHMnChQtz3nllzoUJwDPw/PPPZ/HixbUeBgDwKhw8eDCLFi2q9TBq\\\n",
       "QgCegXnz5iU58T9QS0tLjUcDAJyK4eHhLF68uPo6XiIBeAZG3/ZtaWkRgABQZ0o+favMN74BAAom\\\n",
       "AAEACiMAAQAKIwABAAojACFJX19fBgYGTrrPwMBA+vr6ZmdAADCDXAVM8fr6+rJx48bqcnd396R9\\\n",
       "BgYG0tPTM+57AKBemQGkaBPjr6enZ9JM4MT427hxowAEoK4JQIo1Mf5GjY3AifE3SgQCUM+aKpVK\\\n",
       "pdaDqFfDw8NpbW3N0NCQG0HXmenib6xly5Zl//79J92nt7dXCALUGa/fZgAp1IIFC6bd1pGOJKnG\\\n",
       "3+jy6T4PAJyrBCBF6u7uTn9//6T1XenKlmxJZzqTJJ3pzJZsSVe6Ju3b398/5QUjAHCu8xbwGTCF\\\n",
       "XP/GnuPXkY5syZbqtqEMpTWt1eXbc3v2Zm8S8QdQz7x+mwGkcGNnAvdmb7Zma3Xb2Pjbmq3iD4CG\\\n",
       "YQbwDPgNonEsX768es7fjuwYF39DGcqarEly4sKQffv21WKIAJwlXr/NAEIGBgaq8deZznHxl5yY\\\n",
       "CRw9J3D//v2v+IkhAHCuE4AUbeI5gOuyrrptKEPVr9dlXfVq4KluFg0A9UQAUqyJN3nem73Zlm1J\\\n",
       "TpzztyZrqucEbsu26jmAiQgEoL45B/AMOIegfk33CR/JiZnAsbE3cXksF4QA1B+v32YAKdThw4en\\\n",
       "3TYae8uWLRu3fLrPAwDnKgFIkfr6+tLb2zvt9v7+/uzbt2/Km0WP8jFwANQrAUixpovAsW/rTveJ\\\n",
       "IeIPgHomACnaxAic6py+iREo/gCodxfUegBQa6Mxt2DBgmkv6Bhdf/jwYfEH1L2+vr6T/sxLTlws\\\n",
       "52de4xKAkJzSDzhX+wKNoK+vLxs3bqwuT/WzbeKdEkRg4xGANJYnv5x8a8P/Xu4bmn5fgMJMjL/R\\\n",
       "yBsbgRPjb3R/EdhYnANIY/kf/63WIwA4J02Mv1Fjb2w/3T1SN27cKAAbjBlAGktTrQcAcO6ZLv5G\\\n",
       "jUbg6OeiT8VMYGMxA0j9e/LLyd91nPjzvf9P0ro4ueE+b/8C/MGCBQum3Tb6Oeej8Te6fLrPQ30R\\\n",
       "gNS/x/4uGTp44s+3fzj52N4TfwKQZPp7mnalK1uyJZ3pTJJ0pjNbsiVd6Zq0r4++bCwCkPp39cdO\\\n",
       "zPpd/bFajwTgnDUxAjvSkbVZmyRZl3XZkR1Zl3VJkrVZO24mUPw1HgFI/TPrB3BKxkbg3uzN1myt\\\n",
       "bmtNa/Xrrdla/Rx08deYmiqVSqXWg6hXw8PDaW1tzdDQUFpaWmo9HAA4JcuXL6+e87cjO8bF31CG\\\n",
       "siZrkiTLli3Lvn37ajHEGeX1u4FnAO+///689a1vTUtLS1paWrJy5cp85zvfqW6vVCrp6+vLwoUL\\\n",
       "M3fu3Fx77bX56U9/WsMRA8DMG3u1b2c6x8VfcmImcPScwP3791dvEUNjadgAXLRoUe6+++7s2bMn\\\n",
       "e/bsyXvf+9584AMfqEbePffck/vuuy/9/f158skn097enuuuuy5Hjhyp8cgBYGaMvc9fRzqq5/wl\\\n",
       "J2b+Rq3Luuo5gGPvE0jjaNgAvPHGG/Pnf/7nedOb3pQ3velNueuuu3LRRRfliSeeSKVSyRe+8IXc\\\n",
       "eeed+eAHP5iOjo489NBD+c///M88/PDDtR46AJx1E2/yvDd7sy3bkpw4529N1lTPCdyWbdVzABMR\\\n",
       "2IiKuBH08ePH80//9E85evRoVq5cmeeeey6Dg4NZvXp1dZ/m5uZcc801efzxx7Nu3bqTPBsA1Jfp\\\n",
       "PuHjoTyUp/JUNfa2Z3v2/uG/iab62DjqV8POACbJM888k4suuijNzc255ZZb8vWvfz3Lly/P4OBg\\\n",
       "kqStrW3c/m1tbdVtUxkZGcnw8PC4BwCc6w4fPjztttHYW7Zs2bjl030e6ktDB+Cb3/zmPP3003ni\\\n",
       "iSdy6623pqura9zVTE1N4z83rFKpTFo31ubNm9Pa2lp9LF68eMbGDgBnS19fX3p7e6fd3t/fn337\\\n",
       "9k15s+hRvb29PgaugTR0AM6ZMyeXX355rrrqqmzevDlXXHFFvvjFL6a9vT1JJs32HTp0aNKs4Fh3\\\n",
       "3HFHhoaGqo+DBw/O6PgB4GyZLgLH3udvuk8MEX+Np6EDcKJKpZKRkZEsWbIk7e3t2bVrV3XbsWPH\\\n",
       "snv37qxatWra729ubq7eVmb0AQD1YmIETnWT54kRKP4aU8NeBPLpT386119/fRYvXpwjR45k+/bt\\\n",
       "+f73v59HHnkkTU1NWb9+fTZt2pSlS5dm6dKl2bRpUy688MLcdNNNtR46AMyY0ZhbsGDBtBd0jK4/\\\n",
       "fPiw+GtQDRuA//Ef/5Gbb745L7zwQlpbW/PWt741jzzySK677rokySc+8Yn85je/yW233ZaXXnop\\\n",
       "73jHO7Jz587MmzevxiMHgFN32ae+Vf36v6/pyH/9P9/4it9zKlHnat/G5qPgzoCPkjlDT345eezv\\\n",
       "kqs/5nN8AV6lsQH4f7xubv7np95bw9HUB6/fhZ0DyDnmsb9Lhg6e+BOAM3brtX9U6yFQJxr2LWDq\\\n",
       "wNUf+98zgAC8Kj+/+4ZaD4E6JACpnbd/2Fu/AFAD3gIGACiMAAQAKIwABAAojAAEACiMAAQAKIwA\\\n",
       "BAAojAAEACiMAAQAKIwABAAojAAEACiMAAQAKIwABAAojAAEACiMAAQAKIwABAAojAAEACiMAAQA\\\n",
       "KIwABAAojAAEACiMAAQAKIwABAAojAAEACiMAAQAKIwABAAojABsEH19fRkYGDjpPgMDA+nr65ud\\\n",
       "AQEA56wLaj0AzlxfX182btxYXe7u7p60z8DAQHp6esZ9DwBQJjOAdW5i/PX09EyaCZwYfxs3bhSA\\\n",
       "AFAwAVjHJsbfqLERODH+RolAAChXU6VSqdR6EPVqeHg4ra2tGRoaSktLy6z+3dPF31jLli3L/v37\\\n",
       "T7pPb2+vEASgKLV8/T5XmAGsUwsWLJh2W0c6kqQaf6PLp/s8AEBjEoB1qru7O/39/ZPWd6UrW7Il\\\n",
       "nelMknSmM1uyJV3pmrRvf3//lBeMAACNzVvAZ+BcmEIee45fRzqyJVuq24YylNa0Vpdvz+3Zm71J\\\n",
       "xB8A5ToXXr9rzQxgnRs7E7g3e7M1W6vbxsbf1mwVfwBAEjOAZ+Rc+g1i+fLl1XP+dmTHuPgbylDW\\\n",
       "ZE2SExeG7Nu3rxZDBIBzwrn0+l0rZgAbwMDAQDX+OtM5Lv6SEzOBo+cE7t+//xU/MQQAaGwCsM5N\\\n",
       "PAdwXdZVtw1lqPr1uqyrXg081c2iAYByCMA6NvEmz3uzN9uyLcmJc/7WZE31nMBt2VY9BzARgQBQ\\\n",
       "MucAnoFankMw3Sd8JCdmAsfG3sTlsVwQAkBpnANoBrBuHT58eNpto7G3bNmyccun+zwAQGMSgHWq\\\n",
       "r68vvb29027v7+/Pvn37prxZ9CgfAwcAZRKAdWy6CBz7tu50nxgi/gCgXAKwzk2MwKnO6ZsYgeIP\\\n",
       "AMp2Qa0HwJkbjbkFCxZMe0HH6PrDhw+LPwAoXMNeBbx58+Z87Wtfy89+9rPMnTs3q1atymc/+9m8\\\n",
       "+c1vru5TqVSycePGPPDAA3nppZfyjne8IwMDA/njP/7jU/o7ZvIqov1vWVb9etnP9p/V5waAkrkK\\\n",
       "uIHfAt69e3e6u7vzxBNPZNeuXfn973+f1atX5+jRo9V97rnnntx3333p7+/Pk08+mfb29lx33XU5\\\n",
       "cuRIDUcOADCzGnYGcKLDhw/n9a9/fXbv3p13v/vdqVQqWbhwYdavX59PfvKTSZKRkZG0tbXls5/9\\\n",
       "bNatW/cKz2gGEADqkRnAgs4BHBo68bFol1xySZLkueeey+DgYFavXl3dp7m5Oddcc00ef/zxKQNw\\\n",
       "ZGQkIyMj1eXh4eEZG6/oAwBmSsO+BTxWpVLJhg0bcvXVV6ej48Tn4Q4ODiZJ2traxu3b1tZW3TbR\\\n",
       "5s2b09raWn0sXrx4ZgcOADADigjAnp6e/OQnP8lXvvKVSduamprGLVcqlUnrRt1xxx0ZGhqqPg4e\\\n",
       "PDgj4wUAmEkN/xbw7bffnm9+85t59NFHs2jRour69vb2JCdmAi+99NLq+kOHDk2aFRzV3Nyc5ubm\\\n",
       "mR0wAMAMa9gZwEqlkp6ennzta1/Ld7/73SxZsmTc9iVLlqS9vT27du2qrjt27Fh2796dVatWzfZw\\\n",
       "AQBmTcPOAHZ3d+fhhx/ON77xjcybN696Xl9ra2vmzp2bpqamrF+/Pps2bcrSpUuzdOnSbNq0KRde\\\n",
       "eGFuuummGo8eAGDmNGwA3n///UmSa6+9dtz6Bx98MGvXrk2SfOITn8hvfvOb3HbbbdUbQe/cuTPz\\\n",
       "5s2b5dECAMyeYu4DOBPcRwgA6o/X7wY+BxAAgKkJQACAwghAAIDCCEAAgMIIQACAwghAAIDCCEAA\\\n",
       "gMIIQACAwghAAIDCCEAAgMIIQACAwghAAIDCCEAAgMIIQACAwghAAIDCCEAAgMIIQACAwghAAIDC\\\n",
       "CEAAgMIIQACAwghAAIDCCEAAgMIIQACAwghAAIDCCEAAgMIIQACAwghAAIDCCEAAgMIIQACAwghA\\\n",
       "AIDCCEAAgMIIQACAwghAAIDCCEAAgMIIQACAwghAAIDCCEAAgMIIQACAwghAAIDCCEAAgMIIQACA\\\n",
       "wghAAIDCCEAAgMIIQACAwghAAIDCNGwAPvroo7nxxhuzcOHCNDU1ZceOHeO2VyqV9PX1ZeHChZk7\\\n",
       "d26uvfba/PSnP63NYAEAZlHDBuDRo0dzxRVXpL+/f8rt99xzT+6777709/fnySefTHt7e6677roc\\\n",
       "OXJklkfKuaqvry8DAwMn3WdgYCB9fX2zMyAAOEsuqPUAZsr111+f66+/fsptlUolX/jCF3LnnXfm\\\n",
       "gx/8YJLkoYceSltbWx5++OGsW7duNofKOaivry8bN26sLnd3d0/aZ2BgID09PeO+BwDqQcPOAJ7M\\\n",
       "c889l8HBwaxevbq6rrm5Oddcc00ef/zxab9vZGQkw8PD4x40nonx19PTM2kmcGL8bdy4UQACUDeK\\\n",
       "DMDBwcEkSVtb27j1bW1t1W1T2bx5c1pbW6uPxYsXz+g4mX0T42/U2AicGH+jRCDA6XGqTe007FvA\\\n",
       "p6KpqWnccqVSmbRurDvuuCMbNmyoLg8PD4vABjJd/I0ajcD9+/dPu8/o9/thBXByTrWprSJnANvb\\\n",
       "25Nk0mzfoUOHJs0KjtXc3JyWlpZxDxrHggULpt3WkY4kqcbf6PLpPg8ATrU5FxQZgEuWLEl7e3t2\\\n",
       "7dpVXXfs2LHs3r07q1atquHIqKXu7u4prxrvSle2ZEs605kk6UxntmRLutI1ad/+/v4pf4sF4ASn\\\n",
       "2pwbGvYt4F//+td59tlnq8vPPfdcnn766VxyySV5wxvekPXr12fTpk1ZunRpli5dmk2bNuXCCy/M\\\n",
       "TTfdVMNRU2uj8Tb6g6cjHVmbtUmSdVmXznSmNa1JkrVZm6fyVPZmbxLxB/BKnGpz7mjYGcA9e/bk\\\n",
       "yiuvzJVXXpkk2bBhQ6688sp85jOfSZJ84hOfyPr163Pbbbflqquuyi9+8Yvs3Lkz8+bNq+WwOQeM\\\n",
       "nQncm73Zmq3VbaPxlyRbs1X8AZwGp9qcO5oqlUql1oOoV8PDw2ltbc3Q0JDzARvQ8uXLqz+IdmTH\\\n",
       "uPgbylDWZE2SZNmyZdm3b18thghQd6Z6e7crXVmbtdmardme7elMZ9ZlXbZlWx7KQ+P2PRu/cHv9\\\n",
       "buAZQDgTY9+CGPu276jWtFbPCdy/f/8r3sYAgBMmnm898VSbHdmRdTnxgQxrs3bcTKB3W84eAQgT\\\n",
       "jP3ttCMd1R9EyYmZv1Hrsq76g2mqK9gAmJpTbWpPAMIYE9+a2Ju92ZZtSU78IFqTNdUfVNuyrfqD\\\n",
       "KRGBAKeju7s7y5YtS5Jsz/Zxv2AnJ37h3p7tSU6caiP+zi4BCH8w3W0HHspDuT23V38Qbc/23J7b\\\n",
       "J52XkohAgFPlVJvaEoDwB4cPH5522+hM3+hvq2Nn/k7neQBwqs25QADCH/T19aW3t3fa7f39/dm3\\\n",
       "b9+UN4se1dvb695UACfhVJtzg9vAnAGXkTemqW5UOvHk46neLhZ/ACc33ak2yYmZwLGxN3F5rDO9\\\n",
       "IMTrtxlAmGTiTOBUP2gm3sZA/AG8MqfanDsa9qPgYNQnH/1kHvn5I3n/Ze/PZ9/92VP6ntGYW7Bg\\\n",
       "wbS/ZY6uP3z4sPgDOAWjPyun+zi40V+4TzZT6Bfus8NbwGfAFHJ9+C8P/Zfq1890PVPDkQCQ1P5U\\\n",
       "G6/f3gIGAGaZU21qz1vAAMCsc6pNbXkL+AyYQgaA5PN/+RfVr/+vv74tV1z35zUczSvz+u0tYADg\\\n",
       "LPpfO/7fWg+BUyAAAYCz5k/X/N+1HgKnwDmAAMAZ+Zuv/n+1HgKnyQwgAEBhBCAAQGEEIABAYQQg\\\n",
       "AEBhBCAAQGEEIABAYQQgAEBhBCAAQGEEIABAYQQgAEBhBCAAQGEEIABAYQQgAEBhBCAAQGEEIABA\\\n",
       "YQQgAEBhBCAAQGEEIABAYQQgAEBhBCAAQGEEIABAYQQgAEBhBCAAQGEEIABAYQQgAEBhBCAAQGEE\\\n",
       "IABAYQQgAEBhBCAAQGGKD8AvfelLWbJkSV7zmtdkxYoV+cEPflDrIQEAzKiiA/CrX/1q1q9fnzvv\\\n",
       "vDM//vGP8653vSvXX399Dhw4UOuhAQDMmKZKpVKp9SBq5R3veEfe9ra35f7776+uW7ZsWdasWZPN\\\n",
       "mze/4vcPDw+ntbU1Q0NDaWlpmcmhAgBnidfvgmcAjx07lqeeeiqrV68et3716tV5/PHHazQqAICZ\\\n",
       "d0GtB1Arv/zlL3P8+PG0tbWNW9/W1pbBwcEpv2dkZCQjIyPV5eHh4RkdIwDATCh2BnBUU1PTuOVK\\\n",
       "pTJp3ajNmzentbW1+li8ePFsDBEA4KwqNgDnz5+f888/f9Js36FDhybNCo664447MjQ0VH0cPHhw\\\n",
       "NoYKAHBWFRuAc+bMyYoVK7Jr165x63ft2pVVq1ZN+T3Nzc1paWkZ9wAAqDfFngOYJBs2bMjNN9+c\\\n",
       "q666KitXrswDDzyQAwcO5JZbbqn10AAAZkzRAfiXf/mX+dWvfpW//du/zQsvvJCOjo58+9vfzhvf\\\n",
       "+MZaDw0AYMYUfR/AM+U+QgBQf7x+F3wOIABAqQQgAEBhBCAAQGEEIABAYQQgAEBhBCAAQGEEIABA\\\n",
       "YQQgAEBhBCAAQGEEIABAYQQgAEBhBCAAQGEEIABAYQQgAEBhBCAAQGEEIABAYQQgAEBhBCAAQGEE\\\n",
       "IABAYQQgAEBhBCAAQGEEIABAYQQgAEBhBCAAQGEEIABAYQQgAEBhBCAAQGEEIABAYQQgAEBhBCAA\\\n",
       "QGEEIABAYQQgAEBhBCAAQGEEIABAYQQgAEBhBCAAQGEEIABAYQQgAEBhBCAAQGEEIABAYQQgAEBh\\\n",
       "BCAAQGEEIABAYQQgAEBhBCAAQGEEIABAYRoyAO+6666sWrUqF154YV73utdNuc+BAwdy44035rWv\\\n",
       "fW3mz5+fj370ozl27NjsDhQAoAYuqPUAZsKxY8fyoQ99KCtXrsyXv/zlSduPHz+eG264IQsWLMhj\\\n",
       "jz2WX/3qV+nq6kqlUsmWLVtqMGIAgNnTkAG4cePGJMm2bdum3L5z587s27cvBw8ezMKFC5Mkn//8\\\n",
       "57N27drcddddaWlpma2hAgDMuoZ8C/iV/PCHP0xHR0c1/pLkfe97X0ZGRvLUU09N+30jIyMZHh4e\\\n",
       "9wAAqDdFBuDg4GDa2trGrbv44oszZ86cDA4OTvt9mzdvTmtra/WxePHimR4qAMBZVzcB2NfXl6am\\\n",
       "ppM+9uzZc8rP19TUNGldpVKZcv2oO+64I0NDQ9XHwYMHX9W/BQCglurmHMCenp50dnaedJ/LLrvs\\\n",
       "lJ6rvb09P/rRj8ate+mll/K73/1u0szgWM3NzWlubj6lvwMA4FxVNwE4f/78zJ8//6w818qVK3PX\\\n",
       "XXflhRdeyKWXXprkxIUhzc3NWbFixVn5OwAAzlV1E4Cn48CBA3nxxRdz4MCBHD9+PE8//XSS5PLL\\\n",
       "L89FF12U1atXZ/ny5bn55ptz77335sUXX8zHP/7xfOQjH3EFMADQ8BoyAD/zmc/koYceqi5feeWV\\\n",
       "SZLvfe97ufbaa3P++efnW9/6Vm677ba8853vzNy5c3PTTTflc5/7XK2GDAAwa5oqlUql1oOoV8PD\\\n",
       "w2ltbc3Q0JCZQwCoE16/6+gqYAAAzg4BCABQGAEIAFAYAQgAUBgBCABQGAEIAFAYAQgAUBgBCABQ\\\n",
       "GAEIAFAYAQgAUBgBCABQGAEIAFAYAQgAUBgBCABQGAEIAFAYAQgAUBgBCABQGAEIAFAYAQgAUBgB\\\n",
       "CABQGAEIAFAYAQgAUBgBCABQGAEIAFAYAQgAUBgBCABQGAEIAFAYAQgAUBgBCABQGAEIAFAYAQgA\\\n",
       "UBgBCABQGAEIAFAYAQgAUBgBCABQGAEIAFAYAQgAUBgBCABQGAEIAFAYAQgAUBgBCABQGAEIAFAY\\\n",
       "AQgAUBgBCABQGAEIAFCYhgvAn//85/nwhz+cJUuWZO7cufmjP/qj9Pb25tixY+P2O3DgQG688ca8\\\n",
       "9rWvzfz58/PRj3500j4AAI3ogloP4Gz72c9+lpdffjlbt27N5Zdfnr179+YjH/lIjh49ms997nNJ\\\n",
       "kuPHj+eGG27IggUL8thjj+VXv/pVurq6UqlUsmXLlhr/CwAAZlZTpVKp1HoQM+3ee+/N/fffn3/7\\\n",
       "t39LknznO9/JX/zFX+TgwYNZuHBhkmT79u1Zu3ZtDh06lJaWllN63uHh4bS2tmZoaOiUvwcAqC2v\\\n",
       "3w34FvBUhoaGcskll1SXf/jDH6ajo6Maf0nyvve9LyMjI3nqqadqMUQAgFnTcG8BT/Sv//qv2bJl\\\n",
       "Sz7/+c9X1w0ODqatrW3cfhdffHHmzJmTwcHBaZ9rZGQkIyMj1eXh4eGzP2AAgBlWNzOAfX19aWpq\\\n",
       "Ouljz549477n+eefz/vf//586EMfyl//9V+P29bU1DTp76hUKlOuH7V58+a0trZWH4sXLz47/zgA\\\n",
       "gFlUNzOAPT096ezsPOk+l112WfXr559/Pu95z3uycuXKPPDAA+P2a29vz49+9KNx61566aX87ne/\\\n",
       "mzQzONYdd9yRDRs2VJeHh4dFIABQd+omAOfPn5/58+ef0r6/+MUv8p73vCcrVqzIgw8+mPPOGz/R\\\n",
       "uXLlytx111154YUXcumllyZJdu7cmebm5qxYsWLa521ubk5zc/Or/0cAAJwDGu4q4Oeffz7XXHNN\\\n",
       "3vCGN+Qf//Efc/7551e3tbe3JzlxG5g/+ZM/SVtbW+699968+OKLWbt2bdasWXNat4FxFREA1B+v\\\n",
       "33U0A3iqdu7cmWeffTbPPvtsFi1aNG7baOuef/75+da3vpXbbrst73znOzN37tzcdNNN1fsEAgA0\\\n",
       "soabAZxNfoMAgPrj9buOrgIGAODsEIAAAIURgAAAhRGAAACFEYAAAIURgABAzfX19WVgYOCk+wwM\\\n",
       "DKSvr292BtTgGu4+gABAfenr68vGjRury93d3ZP2GRgYSE9Pz7jv4dUzAwgA1MzE+Ovp6Zk0Ezgx\\\n",
       "/jZu3CgAz5AABABqYmL8jRobgRPjb5QIPDM+CeQMuJM4ALw608XfWMuWLcv+/ftPuk9vb+9ph6DX\\\n",
       "bzOAAEANLFiwYNptHelIkmr8jS6f7vMwPQEIAMy67u7u9Pf3T1rfla5syZZ0pjNJ0pnObMmWdKVr\\\n",
       "0r79/f1TXjDCK/MW8BkwhQwAZ2bsOX4d6ciWbKluG8pQWtNaXb49t2dv9iY5s/jz+m0GEACoobEz\\\n",
       "gXuzN1uztbptbPxtzdazEn+cYAbwDPgNAgDOjuXLl1fP+duRHePibyhDWZM1SU5cGLJv374z+ru8\\\n",
       "fpsBBABqbGBgoBp/nekcF3/JiZnA0XMC9+/f/4qfGMIrE4AAQM1MPAdwXdZVtw1lqPr1uqyrXg08\\\n",
       "1c2iOT0CEACoiYk3ed6bvdmWbUlOnPO3Jmuq5wRuy7bqOYCJCDxTzgE8A84hAIBXZ7pP+EhOzASO\\\n",
       "jb2Jy2O9mgtCvH6bAQQAauDw4cPTbhuNvWXLlo1bPt3nYXoCEACYdX19fent7Z12e39/f/bt2zfl\\\n",
       "zaJHvZqPgeMEAQgA1MR0ETj2bd3pPjFE/J0ZAQgA1MzECJzqnL6JESj+ztwFtR4AANBYBm75bvXr\\\n",
       "7r9/7yvuPxpzCxYsmPaCjtH1hw8fFn9ngQAEAGruVKLOx7+dPd4CBgAojBlAAOCsOpW3faktM4AA\\\n",
       "AIURgAAAhRGAAACFEYAAAIURgAAAhRGAAACFEYAAAIURgAAAhRGAAACFEYAAAIURgAAAhRGAAACF\\\n",
       "EYAAAIW5oNYDqGeVSiVJMjw8XOORAACnavR1e/R1vEQC8AwcOXIkSbJ48eIajwQAOF1HjhxJa2tr\\\n",
       "rYdRE02VkvP3DL388st5/vnnM2/evDQ1NdV6OA1heHg4ixcvzsGDB9PS0lLr4TQ0x3p2OM6zx7Ge\\\n",
       "PfV+rCuVSo4cOZKFCxfmvPPKPBvODOAZOO+887Jo0aJaD6MhtbS01OUPlXrkWM8Ox3n2ONazp56P\\\n",
       "dakzf6PKzF4AgIIJQACAwghAzinNzc3p7e1Nc3NzrYfS8Bzr2eE4zx7HevY41vXPRSAAAIUxAwgA\\\n",
       "UBgBCABQGAEIAFAYAQgAUBgByDnjrrvuyqpVq3LhhRfmda973ZT7HDhwIDfeeGNe+9rXZv78+fno\\\n",
       "Rz+aY8eOze5AG8CXvvSlLFmyJK95zWuyYsWK/OAHP6j1kOreo48+mhtvvDELFy5MU1NTduzYMW57\\\n",
       "pVJJX19fFi5cmLlz5+baa6/NT3/609oMto5t3rw5b3/72zNv3ry8/vWvz5o1a/Iv//Iv4/ZxrM+O\\\n",
       "+++/P29961urN3teuXJlvvOd71S3O871TQByzjh27Fg+9KEP5dZbb51y+/Hjx3PDDTfk6NGjeeyx\\\n",
       "x7J9+/b88z//c/7mb/5mlkda37761a9m/fr1ufPOO/PjH/8473rXu3L99dfnwIEDtR5aXTt69Giu\\\n",
       "uOKK9Pf3T7n9nnvuyX333Zf+/v48+eSTaW9vz3XXXVf9THFOze7du9Pd3Z0nnngiu3btyu9///us\\\n",
       "Xr06R48ere7jWJ8dixYtyt133509e/Zkz549ee9735sPfOAD1chznOtcBc4xDz74YKW1tXXS+m9/\\\n",
       "+9uV8847r/KLX/yiuu4rX/lKpbm5uTI0NDSLI6xvf/qnf1q55ZZbxq17y1veUvnUpz5VoxE1niSV\\\n",
       "r3/969Xll19+udLe3l65++67q+t++9vfVlpbWyt///d/X4MRNo5Dhw5VklR2795dqVQc65l28cUX\\\n",
       "V/7hH/7BcW4AZgCpGz/84Q/T0dGRhQsXVte9733vy8jISJ566qkajqx+HDt2LE899VRWr149bv3q\\\n",
       "1avz+OOP12hUje+5557L4ODguOPe3Nyca665xnE/Q0NDQ0mSSy65JIljPVOOHz+e7du35+jRo1m5\\\n",
       "cqXj3AAEIHVjcHAwbW1t49ZdfPHFmTNnTgYHB2s0qvryy1/+MsePH590HNva2hzDGTR6bB33s6tS\\\n",
       "qWTDhg25+uqr09HRkcSxPtueeeaZXHTRRWlubs4tt9ySr3/961m+fLnj3AAEIDOqr68vTU1NJ33s\\\n",
       "2bPnlJ+vqalp0rpKpTLleqY38Xg5hrPDcT+7enp68pOf/CRf+cpXJm1zrM+ON7/5zXn66afzxBNP\\\n",
       "5NZbb01XV1f27dtX3e44168Laj0AGltPT086OztPus9ll112Ss/V3t6eH/3oR+PWvfTSS/nd7343\\\n",
       "6bdQpjZ//vycf/75k35DP3TokGM4g9rb25OcmJ269NJLq+sd91fv9ttvzze/+c08+uijWbRoUXW9\\\n",
       "Y312zZkzJ5dffnmS5KqrrsqTTz6ZL37xi/nkJz+ZxHGuZ2YAmVHz58/PW97ylpM+XvOa15zSc61c\\\n",
       "uTJ79+7NCy+8UF23c+fONDc3Z8WKFTP1T2goc+bMyYoVK7Jr165x63ft2pVVq1bVaFSNb8mSJWlv\\\n",
       "bx933I8dO5bdu3c77qepUqmkp6cnX/va1/Ld7343S5YsGbfdsZ5ZlUolIyMjjnMDMAPIOePAgQN5\\\n",
       "8cUXc+DAgRw/fjxPP/10kuTyyy/PRRddlNWrV2f58uW5+eabc++99+bFF1/Mxz/+8XzkIx9JS0tL\\\n",
       "bQdfRzZs2JCbb745V111VVauXJkHHnggBw4cyC233FLrodW1X//613n22Wery88991yefvrpXHLJ\\\n",
       "JXnDG96Q9evXZ9OmTVm6dGmWLl2aTZs25cILL8xNN91Uw1HXn+7u7jz88MP5xje+kXnz5lVns1tb\\\n",
       "WzN37tw0NTU51mfJpz/96Vx//fVZvHhxjhw5ku3bt+f73/9+HnnkEce5EdTuAmQYr6urq5Jk0uN7\\\n",
       "3/tedZ9///d/r9xwww2VuXPnVi655JJKT09P5be//W3tBl2nBgYGKm984xsrc+bMqbztbW+r3kKD\\\n",
       "V+973/velP//dnV1VSqVE7cn6e3trbS3t1eam5sr7373uyvPPPNMbQddh6Y6xkkqDz74YHUfx/rs\\\n",
       "+Ku/+qvqz4kFCxZU/uzP/qyyc+fO6nbHub41VSqVyuxnJwAAteIcQACAwghAAIDCCEAAgMIIQACA\\\n",
       "wghAAIDCCEAAgMIIQACAwghAAIDCCEAAgMIIQACAwghAAIDCCEAAgMIIQACAwghAAIDCCEAAgMII\\\n",
       "QACAwghAAIDCCEAAgMIIQACAwghAAIDCCEAAgMIIQACAwghAAIDCCEAAgMIIQACAwghAAIDCCEAA\\\n",
       "gMIIQACAwghAAIDCCEAAgMIIQACAwvz/G60AG9C6s0IAAAAASUVORK5CYII=\\\n",
       "\"\n",
       "  frames[3] = \"data:image/png;base64,iVBORw0KGgoAAAANSUhEUgAAAoAAAAHgCAYAAAA10dzkAAAAOXRFWHRTb2Z0d2FyZQBNYXRwbG90\\\n",
       "bGliIHZlcnNpb24zLjkuMSwgaHR0cHM6Ly9tYXRwbG90bGliLm9yZy/TGe4hAAAACXBIWXMAAA9h\\\n",
       "AAAPYQGoP6dpAAAmKElEQVR4nO3dfWydZ2H38Z/bKialsWkVYzdKoNEaIJkfWEk3lPDSwtSwrquI\\\n",
       "kNCsSpWjbSildlHUIViphE8mNSktVKDYdKk2Nd0fJWgaFPTwokQCUlApaiIqGhImdeuWiNZLoJUd\\\n",
       "MnAgPc8fmc/j1zStY5+cc30+6Eg+93375OotdM7X1/1yWqrVajUAABTjonoPAACAhSUAAQAKIwAB\\\n",
       "AAojAAEACiMAAQAKIwABAAojAAEACiMAAQAKIwABAAojAAEACiMAAQAKIwABAAojAAEACiMAAQAK\\\n",
       "IwABAAojAAEACiMAAQAKIwABAAojAAEACiMAAQAKIwABAAojAAEACiMAAQAKIwABAAojAAEACiMA\\\n",
       "AQAKIwABAAojAAEACiMAAQAKIwABAAojAAEACiMAAQAKIwABAAojAAEACiMAAQAKIwABAAojAAEA\\\n",
       "CiMAAQAKIwABAAojAAEACiMAAQAKIwABAAojAAEACiMAAQAKIwABAAojAAEACiMAAQAKIwABAAoj\\\n",
       "AAEACiMAAQAKIwABAAojAAEACiMAAQAKIwABAAojAAEACiMAAQAKc0m9B9DIXn755Tz//PNZsmRJ\\\n",
       "Wlpa6j0cAOAcVKvVnDhxIsuWLctFF5U5FyYA5+D555/PihUr6j0MAOA1OHr0aJYvX17vYdSFAJyD\\\n",
       "JUuWJDnzf6C2trY6jwYAOBejo6NZsWJF7XO8RAJwDsYP+7a1tQlAAGgwJZ++VeaBbwCAgglAAIDC\\\n",
       "CEAAgMIIQACAwghASFKpVDI0NHTWbYaGhlKpVBZmQAAwj1wFTPEqlUq2bt1ae97X1zdtm6GhofT3\\\n",
       "90/6HQBoVGYAKdrU+Ovv7582Ezg1/rZu3SoAAWhoApBiTY2/cRMjcGr8jROBADSylmq1Wq33IBrV\\\n",
       "6Oho2tvbMzIy4kbQDWa2+Jto9erVOXz48Fm3GRgYEIIADcbntxlACtXR0THruu50J0kt/safv9rX\\\n",
       "AYALlQCkSH19fRkcHJy2vDe92ZEd6UlPkqQnPdmRHelN77RtBwcHZ7xgBAAudA4Bz4Ep5MY38Ry/\\\n",
       "7nRnR3bU1o1kJO1prz2/I3fkYA4mEX8AjczntxlACjdxJvBgDmZndtbWTYy/ndkp/gBoGmYA58Bf\\\n",
       "EM1jzZo1tXP+Hstjk+JvJCPZmI1JzlwYcujQoXoMEYDzxOe3GUDI0NBQLf560jMp/pIzM4Hj5wQe\\\n",
       "Pnz4Fb8xBAAudAKQok09B3BzNtfWjWSk9vPmbK5dDTzTzaIBoJEIQIo19SbPB3Mwu7IryZlz/jZm\\\n",
       "Y+2cwF3ZVTsHMBGBADQ25wDOgXMIGtds3/CRnJkJnBh7U59P5IIQgMbj89sMIIU6fvz4rOvGY2/1\\\n",
       "6tWTnr/a1wGAC5UApEiVSiUDAwOzrh8cHMyhQ4dmvFn0OF8DB0CjEoAUa7YInHhYd7ZvDBF/ADQy\\\n",
       "AUjRpkbgTOf0TY1A8QdAo7uk3gOAehuPuY6Ojlkv6Bhffvz4cfEHNLxKpXLW97zkzMVy3vOalwCE\\\n",
       "5Jze4FztCzSDSqWSrVu31p7P9N429U4JIrD5CECaT2XCN3lURmbfDqAwU+NvPPImRuDU+BvfXgQ2\\\n",
       "F+cAAkABpsbfuIk3tp/tHqlbt24VgE3GDCAANLnZ4m/ceASOfy/6TMwENhcBSPNx2Bdgko6OjlnX\\\n",
       "jX/b0Xj8ne3bj872OjQWh4ABoMnNdk/T3vRmR3akJz1Jkp70ZEd2pDe907b11ZfNxXcBz4HvEgSg\\\n",
       "kUw8x6873dmRHbV1IxlJe/7/RXR35I7aTGCzxZ/PbzOAAFCMiTOBB3MwO7Oztm5i/O3MzqaNP84w\\\n",
       "AzgH/oIAoBGtWbOmds7fY3lsUvyNZCQbszFJsnr16hw6dKgeQ5xXPr+beAbwwQcfzNvf/va0tbWl\\\n",
       "ra0t69aty7e//e3a+mq1mkqlkmXLlmXx4sW5/vrr87Of/ayOIwaA+Tfxat+e9EyKv+TMTOD4OYGH\\\n",
       "Dx+u3SKG5tK0Abh8+fLce++92b9/f/bv358PfOAD+dCHPlSLvPvuuy8PPPBABgcH89RTT6Wrqys3\\\n",
       "3HBDTpw4UeeRA8D8mHoO4OZsrq0byf+/g8LmbE53upNMvk8gzaNpA/Dmm2/On//5n+ctb3lL3vKW\\\n",
       "t+See+7JZZddlieffDLVajVf+MIXcvfdd+fDH/5wuru788gjj+R//ud/8uijj9Z76ABw3k29yfPB\\\n",
       "HMyu7Epy5py/jdlYOydwV3ZNuhWMCGw+RdwH8PTp0/mXf/mXnDx5MuvWrctzzz2X4eHhbNiwobZN\\\n",
       "a2trrrvuujzxxBPZvHnzWV4NABrLbN/w8UgeyYEcqMXe7uzOwf/931QzfW0cjatpZwCT5Jlnnsll\\\n",
       "l12W1tbW3Hbbbfna176WNWvWZHh4OEnS2dk5afvOzs7aupmMjY1ldHR00gMALnTHjx+fdd147K1e\\\n",
       "vXrS81f7OjSWpg7At771rXn66afz5JNP5mMf+1h6e3snXc3U0tIyaftqtTpt2UTbt29Pe3t77bFi\\\n",
       "xYp5GzsAnC+VSiUDAwOzrh8cHMyhQ4dmvFn0uIGBAV8D10SaOgAXLVqUq6++Otdee222b9+ed7zj\\\n",
       "HfniF7+Yrq6uJJk223fs2LFps4IT3XXXXRkZGak9jh49Oq/jB4DzZbYInHifv9m+MUT8NZ+mDsCp\\\n",
       "qtVqxsbGsnLlynR1dWXv3r21dadOncq+ffuyfv36WX+/tbW1dluZ8QcANIqpETjTTZ6nRqD4a05N\\\n",
       "exHIpz/96dx4441ZsWJFTpw4kd27d+f73/9+vvOd76SlpSVbtmzJtm3bsmrVqqxatSrbtm3LpZde\\\n",
       "mltuuaXeQweAeTMecx0dHbNe0DG+/Pjx4+KvSTVtAP73f/93br311rzwwgtpb2/P29/+9nznO9/J\\\n",
       "DTfckCT55Cc/md/85je5/fbb89JLL+Vd73pX9uzZkyVLltR55ABw7q76u2/Wfv7Pe286p985l6hz\\\n",
       "tW9z81Vwc+CrZACot9cSgKXz+V3YOYAAADTxIWAAKIFZP14LM4AAAIURgAAAhRGAAACFEYAAAIUR\\\n",
       "gAAAhRGAAACFEYAAAIURgAAAhRGAAACFEYAAAIURgAAAhRGAAACFEYAAAIURgAAAhRGAAACFEYAA\\\n",
       "AIURgAAAhRGAAACFEYAAAIURgAAAhRGAAACFEYAAAIURgAAAhRGAAACFEYAAAIURgE2iUqlkaGjo\\\n",
       "rNsMDQ2lUqkszIAAgAvWJfUeAHNXqVSydevW2vO+vr5p2wwNDaW/v3/S7wAAZTID2OCmxl9/f/+0\\\n",
       "mcCp8bd161YBCAAFE4ANbGr8jZsYgVPjb5wIBIBytVSr1Wq9B9GoRkdH097enpGRkbS1tS3ovz1b\\\n",
       "/E20evXqHD58+KzbDAwMCEEAilLPz+8LhRnABtXR0THruu50J0kt/safv9rXAQCakwBsUH19fRkc\\\n",
       "HJy2vDe92ZEd6UlPkqQnPdmRHelN77RtBwcHZ7xgBABobg4Bz8GFMIU88Ry/7nRnR3bU1o1kJO1p\\\n",
       "rz2/I3fkYA4mEX8AlOtC+PyuNzOADW7iTODBHMzO7Kytmxh/O7NT/AEAScwAzsmF9BfEmjVrauf8\\\n",
       "PZbHJsXfSEayMRuTnLkw5NChQ/UYIgBcEC6kz+96MQPYBIaGhmrx15OeSfGXnJkJHD8n8PDhw6/4\\\n",
       "jSEAQHMTgA1u6jmAm7O5tm4kI7WfN2dz7WrgmW4WDQCUQwA2sKk3eT6Yg9mVXUnOnPO3MRtr5wTu\\\n",
       "yq7aOYCJCASAkjkHcA7qeQ7BbN/wkZyZCZwYe1OfT+SCEABK4xxAM4AN6/jx47OuG4+91atXT3r+\\\n",
       "al8HAGhOArBBVSqVDAwMzLp+cHAwhw4dmvFm0eN8DRwAlEkANrDZInDiYd3ZvjFE/AFAuQRgg5sa\\\n",
       "gTOd0zc1AsUfAJTtknoPgLkbj7mOjo5ZL+gYX378+HHxBwCFa9qrgLdv356vfvWr+fnPf57Fixdn\\\n",
       "/fr1+exnP5u3vvWttW2q1Wq2bt2ahx56KC+99FLe9a53ZWhoKH/4h394Tv/GfF5FdPhtq2s/r/75\\\n",
       "4fP62gBQMlcBN/Eh4H379qWvry9PPvlk9u7dm9///vfZsGFDTp48WdvmvvvuywMPPJDBwcE89dRT\\\n",
       "6erqyg033JATJ07UceQAAPOraWcApzp+/Hje+MY3Zt++fXnf+96XarWaZcuWZcuWLfnUpz6VJBkb\\\n",
       "G0tnZ2c++9nPZvPmza/wimYAAaARmQEs6BzAkZEzX4t2xRVXJEmee+65DA8PZ8OGDbVtWltbc911\\\n",
       "1+WJJ56YMQDHxsYyNjZWez46Ojpv4xV9AMB8adpDwBNVq9Xceeedec973pPu7jPfhzs8PJwk6ezs\\\n",
       "nLRtZ2dnbd1U27dvT3t7e+2xYsWK+R04AMA8KCIA+/v789Of/jRf/vKXp61raWmZ9LxarU5bNu6u\\\n",
       "u+7KyMhI7XH06NF5GS8AwHxq+kPAd9xxR77xjW/k8ccfz/Lly2vLu7q6kpyZCbzyyitry48dOzZt\\\n",
       "VnBca2trWltb53fAAADzrGlnAKvVavr7+/PVr3413/3ud7Ny5cpJ61euXJmurq7s3bu3tuzUqVPZ\\\n",
       "t29f1q9fv9DDBQBYME07A9jX15dHH300X//617NkyZLaeX3t7e1ZvHhxWlpasmXLlmzbti2rVq3K\\\n",
       "qlWrsm3btlx66aW55ZZb6jx6AID507QB+OCDDyZJrr/++knLH3744WzatClJ8slPfjK/+c1vcvvt\\\n",
       "t9duBL1nz54sWbJkgUcLALBwirkP4HxwHyEAaDw+v5v4HEAAAGYmAAEACiMAAQAKIwABAAojAAEA\\\n",
       "CiMAAQAKIwABAAojAAEACiMAAQAKIwABAAojAAEACiMAAQAKIwABAAojAAEACiMAAQAKIwABAAoj\\\n",
       "AAEACiMAAQAKIwABAAojAAEACiMAAQAKIwABAAojAAEACiMAAQAKIwABAAojAAEACiMAAQAKIwAB\\\n",
       "AAojAAEACiMAAQAKIwABAAojAAEACiMAAQAKIwABAAojAAEACiMAAQAKIwABAAojAAEACiMAAQAK\\\n",
       "IwABAAojAAEACiMAAQAKIwABAAojAAEACiMAAQAK07QB+Pjjj+fmm2/OsmXL0tLSkscee2zS+mq1\\\n",
       "mkqlkmXLlmXx4sW5/vrr87Of/aw+gwUAWEBNG4AnT57MO97xjgwODs64/r777ssDDzyQwcHBPPXU\\\n",
       "U+nq6soNN9yQEydOLPBIuVBVKpUMDQ2ddZuhoaFUKpWFGRAAnCeX1HsA8+XGG2/MjTfeOOO6arWa\\\n",
       "L3zhC7n77rvz4Q9/OEnyyCOPpLOzM48++mg2b968kEPlAlSpVLJ169ba876+vmnbDA0Npb+/f9Lv\\\n",
       "AEAjaNoZwLN57rnnMjw8nA0bNtSWtba25rrrrssTTzxRx5FxIZgaf/39/dNmAqfG39atWwUgAA2j\\\n",
       "yAAcHh5OknR2dk5a3tnZWVs3k7GxsYyOjk560Fymxt+4iRE4Nf7GiUCAV8epNvXTtIeAz0VLS8uk\\\n",
       "59VqddqyibZv3z5jHNAcZou/ceMRePjw4Vm3Gf99b1YAZ+dUm/oqcgawq6srSabN9h07dmzarOBE\\\n",
       "d911V0ZGRmqPo0ePzus4WVgdHR2zrutOd5LU4m/8+at9HQCcanMhKDIAV65cma6uruzdu7e27NSp\\\n",
       "U9m3b1/Wr18/6++1tramra1t0oPm0dfXN+NV473pzY7sSE96kiQ96cmO7EhveqdtOzg4OONfsQCc\\\n",
       "4VSbC0PTHgL+9a9/nWeffbb2/LnnnsvTTz+dK664Im9605uyZcuWbNu2LatWrcqqVauybdu2XHrp\\\n",
       "pbnlllvqOGrqbTzext94utOdTdmUJNmczelJT9rTniTZlE05kAM5mINJxB/AK3GqzYWjaWcA9+/f\\\n",
       "n2uuuSbXXHNNkuTOO+/MNddck8985jNJkk9+8pPZsmVLbr/99lx77bX5xS9+kT179mTJkiX1HDYX\\\n",
       "gIkzgQdzMDuzs7ZuPP6SZGd2ij+AV8GpNheOlmq1Wq33IBrV6Oho2tvbMzIy4nBwE1qzZk3tjeix\\\n",
       "PDYp/kYyko3ZmCRZvXp1Dh06VI8hAjScmQ7v9qY3m7IpO7Mzu7M7PenJ5mzOruzKI3lk0rbn4w9u\\\n",
       "n99NPAMIczHxEMTEw77j2tNeOyfw8OHDr3gbAwDOmHq+9dRTbR7LY9mcM1/IsCmbJs0EOtpy/ghA\\\n",
       "mGLiX6fd6a69ESVnZv7Gbc7m2hvTTFewATAzp9rUnwCECaYemjiYg9mVXUnOvBFtzMbaG9Wu7Kq9\\\n",
       "MSUiEODV6Ovry+rVq5Mku7N70h/YyZk/uHdnd5Izp9qIv/NLAML/mu22A4/kkdyRO2pvRLuzO3fk\\\n",
       "jmnnpSQiEOBcOdWmvgQg/K/jx4/Pum58pm/8r9WJM3+v5nUAcKrNhUAAwv+qVCoZGBiYdf3g4GAO\\\n",
       "HTo0482ixw0MDLg3FcBZONXmwuA2MHPgMvLmNNONSqeefDzT4WLxB3B2s51qk5yZCZwYe1OfTzTX\\\n",
       "C0J8fpsBhGmmzgTO9EYz9TYG4g/glTnV5sLRtF8FB3MxHnMdHR2z/pU5vvz48ePiD+AcjL9XzvZ1\\\n",
       "cON/cJ9tptAf3OeHQ8BzYAq5MfyfR/5P7ednep+p40gASOp/qo3Pb4eAAYAF5lSb+nMIGABYcE61\\\n",
       "qS+HgOfAFDIAJJ//y7+o/fy3X/m/dRzJufH57RAwAEBxBCAAQGGcAwgAzEkjHPZlMjOAAACFEYAA\\\n",
       "AIURgAAAhRGAAACFEYAAAIURgAAAhRGAAACFEYAAAIURgAAAhRGAAACFEYAAAIURgAAAhRGAAACF\\\n",
       "EYAAAIURgAAAhRGAAACFEYAAAIURgAAAhRGAAACFEYAAAIURgAAAhRGAAACFEYAAAIURgAAAhRGA\\\n",
       "AACFEYAAAIURgAAAhRGAAACFEYAAAIUpPgC/9KUvZeXKlXnd616XtWvX5gc/+EG9hwQAMK+KDsCv\\\n",
       "fOUr2bJlS+6+++785Cc/yXvf+97ceOONOXLkSL2HBgAwb1qq1Wq13oOol3e961155zvfmQcffLC2\\\n",
       "bPXq1dm4cWO2b9/+ir8/Ojqa9vb2jIyMpK2tbT6HCgCcJz6/C54BPHXqVA4cOJANGzZMWr5hw4Y8\\\n",
       "8cQTdRoVAMD8u6TeA6iXX/7ylzl9+nQ6OzsnLe/s7Mzw8PCMvzM2NpaxsbHa89HR0XkdIwDAfCh2\\\n",
       "BnBcS0vLpOfVanXasnHbt29Pe3t77bFixYqFGCIAwHlVbAAuXbo0F1988bTZvmPHjk2bFRx31113\\\n",
       "ZWRkpPY4evToQgwVAOC8KjYAFy1alLVr12bv3r2Tlu/duzfr16+f8XdaW1vT1tY26QEA0GiKPQcw\\\n",
       "Se68887ceuutufbaa7Nu3bo89NBDOXLkSG677bZ6Dw0AYN4UHYB/+Zd/mV/96lf5+7//+7zwwgvp\\\n",
       "7u7Ot771rbz5zW+u99AAAOZN0fcBnCv3EQKAxuPzu+BzAAEASiUAAQAKIwABAAojAAEACiMAAQAK\\\n",
       "IwABAAojAAEACiMAAQAKIwABAAojAAEACiMAAQAKIwABAAojAAEACiMAAQAKIwABAAojAAEACiMA\\\n",
       "AQAKIwABAAojAAEACiMAAQAKIwABAAojAAEACiMAAQAKIwABAAojAAEACiMAAQAKIwABAAojAAEA\\\n",
       "CiMAAQAKIwABAAojAAEACiMAAQAKIwABAAojAAEACiMAAQAKIwABAAojAAEACiMAAQAKIwABAAoj\\\n",
       "AAEACiMAAQAKIwABAAojAAEACiMAAQAKIwABAAojAAEACtOUAXjPPfdk/fr1ufTSS/OGN7xhxm2O\\\n",
       "HDmSm2++Oa9//euzdOnSfPzjH8+pU6cWdqAAAHVwSb0HMB9OnTqVj3zkI1m3bl3+6Z/+adr606dP\\\n",
       "56abbkpHR0d++MMf5le/+lV6e3tTrVazY8eOOowYAGDhNGUAbt26NUmya9euGdfv2bMnhw4dytGj\\\n",
       "R7Ns2bIkyec///ls2rQp99xzT9ra2hZqqAAAC64pDwG/kh/96Efp7u6uxV+SfPCDH8zY2FgOHDgw\\\n",
       "6++NjY1ldHR00gMAoNEUGYDDw8Pp7OyctOzyyy/PokWLMjw8POvvbd++Pe3t7bXHihUr5nuoAADn\\\n",
       "XcMEYKVSSUtLy1kf+/fvP+fXa2lpmbasWq3OuHzcXXfdlZGRkdrj6NGjr+m/BQCgnhrmHMD+/v70\\\n",
       "9PScdZurrrrqnF6rq6srP/7xjycte+mll/K73/1u2szgRK2trWltbT2nfwMA4ELVMAG4dOnSLF26\\\n",
       "9Ly81rp163LPPffkhRdeyJVXXpnkzIUhra2tWbt27Xn5NwAALlQNE4CvxpEjR/Liiy/myJEjOX36\\\n",
       "dJ5++ukkydVXX53LLrssGzZsyJo1a3Lrrbfm/vvvz4svvphPfOIT+ehHP+oKYACg6TVlAH7mM5/J\\\n",
       "I488Unt+zTXXJEm+973v5frrr8/FF1+cb37zm7n99tvz7ne/O4sXL84tt9ySz33uc/UaMgDAgmmp\\\n",
       "VqvVeg+iUY2Ojqa9vT0jIyNmDgGgQfj8bqCrgAEAOD8EIABAYQQgAEBhBCAAQGEEIABAYQQgAEBh\\\n",
       "BCAAQGEEIABAYQQgAEBhBCAAQGEEIABAYQQgAEBhBCAAQGEEIABAYQQgAEBhBCAAQGEEIABAYQQg\\\n",
       "AEBhBCAAQGEEIABAYQQgAEBhBCAAQGEEIABAYQQgAEBhBCAAQGEEIABAYQQgAEBhBCAAQGEEIABA\\\n",
       "YQQgAEBhBCAAQGEEIABAYQQgAEBhBCAAQGEEIABAYQQgAEBhBCAAQGEEIABAYQQgAEBhBCAAQGEE\\\n",
       "IABAYQQgAEBhBCAAQGEEIABAYQQgAEBhmi4A//M//zN//dd/nZUrV2bx4sX5gz/4gwwMDOTUqVOT\\\n",
       "tjty5EhuvvnmvP71r8/SpUvz8Y9/fNo2AADN6JJ6D+B8+/nPf56XX345O3fuzNVXX52DBw/mox/9\\\n",
       "aE6ePJnPfe5zSZLTp0/npptuSkdHR374wx/mV7/6VXp7e1OtVrNjx446/xcAAMyvlmq1Wq33IObb\\\n",
       "/fffnwcffDD/8R//kST59re/nb/4i7/I0aNHs2zZsiTJ7t27s2nTphw7dixtbW3n9Lqjo6Npb2/P\\\n",
       "yMjIOf8OAFBfPr+b8BDwTEZGRnLFFVfUnv/oRz9Kd3d3Lf6S5IMf/GDGxsZy4MCBegwRAGDBNN0h\\\n",
       "4Kn+/d//PTt27MjnP//52rLh4eF0dnZO2u7yyy/PokWLMjw8POtrjY2NZWxsrPZ8dHT0/A8YAGCe\\\n",
       "NcwMYKVSSUtLy1kf+/fvn/Q7zz//fP7sz/4sH/nIR/I3f/M3k9a1tLRM+zeq1eqMy8dt37497e3t\\\n",
       "tceKFSvOz38cAMACapgZwP7+/vT09Jx1m6uuuqr28/PPP5/3v//9WbduXR566KFJ23V1deXHP/7x\\\n",
       "pGUvvfRSfve7302bGZzorrvuyp133ll7Pjo6KgIBgIbTMAG4dOnSLF269Jy2/cUvfpH3v//9Wbt2\\\n",
       "bR5++OFcdNHkic5169blnnvuyQsvvJArr7wySbJnz560trZm7dq1s75ua2trWltbX/t/BADABaDp\\\n",
       "rgJ+/vnnc9111+VNb3pT/vmf/zkXX3xxbV1XV1eSM7eB+aM/+qN0dnbm/vvvz4svvphNmzZl48aN\\\n",
       "r+o2MK4iAoDG4/O7gWYAz9WePXvy7LPP5tlnn83y5csnrRtv3Ysvvjjf/OY3c/vtt+fd7353Fi9e\\\n",
       "nFtuuaV2n0AAgGbWdDOAC8lfEADQeHx+N9BVwAAAnB8CEACgMAIQAKAwAhAAoDACEACgMAIQAKi7\\\n",
       "SqWSoaGhs24zNDSUSqWyMANqck13H0AAoLFUKpVs3bq19ryvr2/aNkNDQ+nv75/0O7x2ZgABgLqZ\\\n",
       "Gn/9/f3TZgKnxt/WrVsF4BwJQACgLqbG37iJETg1/saJwLnxTSBz4E7iAPDazBZ/E61evTqHDx8+\\\n",
       "6zYDAwOvOgR9fpsBBADqoKOjY9Z13elOklr8jT9/ta/D7AQgALDg+vr6Mjg4OG15b3qzIzvSk54k\\\n",
       "SU96siM70pveadsODg7OeMEIr8wh4DkwhQwAczPxHL/udGdHdtTWjWQk7WmvPb8jd+RgDiaZW/z5\\\n",
       "/DYDCADU0cSZwIM5mJ3ZWVs3Mf52Zud5iT/OMAM4B/6CAIDzY82aNbVz/h7LY5PibyQj2ZiNSc5c\\\n",
       "GHLo0KE5/Vs+v80AAgB1NjQ0VIu/nvRMir/kzEzg+DmBhw8ffsVvDOGVCUAAoG6mngO4OZtr60Yy\\\n",
       "Uvt5czbXrgae6WbRvDoCEACoi6k3eT6Yg9mVXUnOnPO3MRtr5wTuyq7aOYCJCJwr5wDOgXMIAOC1\\\n",
       "me0bPpIzM4ETY2/q84leywUhPr/NAAIAdXD8+PFZ143H3urVqyc9f7Wvw+wEIACw4CqVSgYGBmZd\\\n",
       "Pzg4mEOHDs14s+hxr+Vr4DhDAAIAdTFbBE48rDvbN4aIv7kRgABA3UyNwJnO6ZsageJv7i6p9wAA\\\n",
       "gOYydNt3az/3/cMHXnH78Zjr6OiY9YKO8eXHjx8Xf+eBAAQA6u5cos7Xv50/DgEDABTGDCAAcF6d\\\n",
       "y2Ff6ssMIABAYQQgAEBhBCAAQGEEIABAYQQgAEBhBCAAQGEEIABAYQQgAEBhBCAAQGEEIABAYQQg\\\n",
       "AEBhBCAAQGEEIABAYS6p9wAaWbVaTZKMjo7WeSQAwLka/9we/xwvkQCcgxMnTiRJVqxYUeeRAACv\\\n",
       "1okTJ9Le3l7vYdRFS7Xk/J2jl19+Oc8//3yWLFmSlpaWeg+nKYyOjmbFihU5evRo2tra6j2cpmU/\\\n",
       "Lxz7euHY1wun0fd1tVrNiRMnsmzZslx0UZlnw5kBnIOLLrooy5cvr/cwmlJbW1tDvqk0Gvt54djX\\\n",
       "C8e+XjiNvK9LnfkbV2b2AgAUTAACABRGAHJBaW1tzcDAQFpbW+s9lKZmPy8c+3rh2NcLx75ufC4C\\\n",
       "AQAojBlAAIDCCEAAgMIIQACAwghAAIDCCEAuGPfcc0/Wr1+fSy+9NG94wxtm3ObIkSO5+eab8/rX\\\n",
       "vz5Lly7Nxz/+8Zw6dWphB9oEvvSlL2XlypV53etel7Vr1+YHP/hBvYfU8B5//PHcfPPNWbZsWVpa\\\n",
       "WvLYY49NWl+tVlOpVLJs2bIsXrw4119/fX72s5/VZ7ANbPv27fnjP/7jLFmyJG984xuzcePG/Nu/\\\n",
       "/dukbezr8+PBBx/M29/+9trNntetW5dvf/vbtfX2c2MTgFwwTp06lY985CP52Mc+NuP606dP56ab\\\n",
       "bsrJkyfzwx/+MLt3786//uu/5m//9m8XeKSN7Stf+Uq2bNmSu+++Oz/5yU/y3ve+NzfeeGOOHDlS\\\n",
       "76E1tJMnT+Yd73hHBgcHZ1x/33335YEHHsjg4GCeeuqpdHV15YYbbqh9pzjnZt++fenr68uTTz6Z\\\n",
       "vXv35ve//302bNiQkydP1raxr8+P5cuX5957783+/fuzf//+fOADH8iHPvShWuTZzw2uCheYhx9+\\\n",
       "uNre3j5t+be+9a3qRRddVP3FL35RW/blL3+52traWh0ZGVnAETa2P/mTP6nedtttk5a97W1vq/7d\\\n",
       "3/1dnUbUfJJUv/a1r9Wev/zyy9Wurq7qvffeW1v229/+ttre3l79h3/4hzqMsHkcO3asmqS6b9++\\\n",
       "arVqX8+3yy+/vPqP//iP9nMTMANIw/jRj36U7u7uLFu2rLbsgx/8YMbGxnLgwIE6jqxxnDp1KgcO\\\n",
       "HMiGDRsmLd+wYUOeeOKJOo2q+T333HMZHh6etN9bW1tz3XXX2e9zNDIykiS54oorktjX8+X06dPZ\\\n",
       "vXt3Tp48mXXr1tnPTUAA0jCGh4fT2dk5adnll1+eRYsWZXh4uE6jaiy//OUvc/r06Wn7sbOz0z6c\\\n",
       "R+P71n4/v6rVau6888685z3vSXd3dxL7+nx75plnctlll6W1tTW33XZbvva1r2XNmjX2cxMQgMyr\\\n",
       "SqWSlpaWsz72799/zq/X0tIybVm1Wp1xObObur/sw4Vhv59f/f39+elPf5ovf/nL09bZ1+fHW9/6\\\n",
       "1jz99NN58skn87GPfSy9vb05dOhQbb393LguqfcAaG79/f3p6ek56zZXXXXVOb1WV1dXfvzjH09a\\\n",
       "9tJLL+V3v/vdtL9CmdnSpUtz8cUXT/sL/dixY/bhPOrq6kpyZnbqyiuvrC2331+7O+64I9/4xjfy\\\n",
       "+OOPZ/ny5bXl9vX5tWjRolx99dVJkmuvvTZPPfVUvvjFL+ZTn/pUEvu5kZkBZF4tXbo0b3vb2876\\\n",
       "eN3rXndOr7Vu3bocPHgwL7zwQm3Znj170tramrVr187Xf0JTWbRoUdauXZu9e/dOWr53796sX7++\\\n",
       "TqNqfitXrkxXV9ek/X7q1Kns27fPfn+VqtVq+vv789WvfjXf/e53s3Llyknr7ev5Va1WMzY2Zj83\\\n",
       "ATOAXDCOHDmSF198MUeOHMnp06fz9NNPJ0muvvrqXHbZZdmwYUPWrFmTW2+9Nffff39efPHFfOIT\\\n",
       "n8hHP/rRtLW11XfwDeTOO+/MrbfemmuvvTbr1q3LQw89lCNHjuS2226r99Aa2q9//es8++yztefP\\\n",
       "Pfdcnn766VxxxRV505velC1btmTbtm1ZtWpVVq1alW3btuXSSy/NLbfcUsdRN56+vr48+uij+frX\\\n",
       "v54lS5bUZrPb29uzePHitLS02Nfnyac//enceOONWbFiRU6cOJHdu3fn+9//fr7zne/Yz82gfhcg\\\n",
       "w2S9vb3VJNMe3/ve92rb/Nd//Vf1pptuqi5evLh6xRVXVPv7+6u//e1v6zfoBjU0NFR985vfXF20\\\n",
       "aFH1ne98Z+0WGrx23/ve92b8/29vb2+1Wj1ze5KBgYFqV1dXtbW1tfq+972v+swzz9R30A1opn2c\\\n",
       "pPrwww/XtrGvz4+/+qu/qr1PdHR0VP/0T/+0umfPntp6+7mxtVSr1erCZycAAPXiHEAAgMIIQACA\\\n",
       "wghAAIDCCEAAgMIIQACAwghAAIDCCEAAgMIIQACAwghAAIDCCEAAgMIIQACAwghAAIDCCEAAgMII\\\n",
       "QACAwghAAIDCCEAAgMIIQACAwghAAIDCCEAAgMIIQACAwghAAIDCCEAAgMIIQACAwghAAIDCCEAA\\\n",
       "gMIIQACAwghAAIDCCEAAgMIIQACAwghAAIDCCEAAgML8P2mi8djtyt8IAAAAAElFTkSuQmCC\\\n",
       "\"\n",
       "  frames[4] = \"data:image/png;base64,iVBORw0KGgoAAAANSUhEUgAAAoAAAAHgCAYAAAA10dzkAAAAOXRFWHRTb2Z0d2FyZQBNYXRwbG90\\\n",
       "bGliIHZlcnNpb24zLjkuMSwgaHR0cHM6Ly9tYXRwbG90bGliLm9yZy/TGe4hAAAACXBIWXMAAA9h\\\n",
       "AAAPYQGoP6dpAAAmKElEQVR4nO3dfWydZ2H38Z/bKialsWkVYzdKoNEaIJkfWEk3lPDSwtSwrquI\\\n",
       "kNCsSpWjbSildlHUIViphE8mNSktVKDYdKk2Nd0fJWgaFPTwokQCUlApaiIqGhImdeuWiNZLoJUd\\\n",
       "MnAgPc8fmc/j1zStY5+cc30+6Eg+93375OotdM7X1/1yWqrVajUAABTjonoPAACAhSUAAQAKIwAB\\\n",
       "AAojAAEACiMAAQAKIwABAAojAAEACiMAAQAKIwABAAojAAEACiMAAQAKIwABAAojAAEACiMAAQAK\\\n",
       "IwABAAojAAEACiMAAQAKIwABAAojAAEACiMAAQAKIwABAAojAAEACiMAAQAKIwABAAojAAEACiMA\\\n",
       "AQAKIwABAAojAAEACiMAAQAKIwABAAojAAEACiMAAQAKIwABAAojAAEACiMAAQAKIwABAAojAAEA\\\n",
       "CiMAAQAKIwABAAojAAEACiMAAQAKIwABAAojAAEACiMAAQAKIwABAAojAAEACiMAAQAKIwABAAoj\\\n",
       "AAEACiMAAQAKIwABAAojAAEACiMAAQAKIwABAAojAAEACiMAAQAKc0m9B9DIXn755Tz//PNZsmRJ\\\n",
       "Wlpa6j0cAOAcVKvVnDhxIsuWLctFF5U5FyYA5+D555/PihUr6j0MAOA1OHr0aJYvX17vYdSFAJyD\\\n",
       "JUuWJDnzf6C2trY6jwYAOBejo6NZsWJF7XO8RAJwDsYP+7a1tQlAAGgwJZ++VeaBbwCAgglAAIDC\\\n",
       "CEAAgMIIQACAwghASFKpVDI0NHTWbYaGhlKpVBZmQAAwj1wFTPEqlUq2bt1ae97X1zdtm6GhofT3\\\n",
       "90/6HQBoVGYAKdrU+Ovv7582Ezg1/rZu3SoAAWhoApBiTY2/cRMjcGr8jROBADSylmq1Wq33IBrV\\\n",
       "6Oho2tvbMzIy4kbQDWa2+Jto9erVOXz48Fm3GRgYEIIADcbntxlACtXR0THruu50J0kt/safv9rX\\\n",
       "AYALlQCkSH19fRkcHJy2vDe92ZEd6UlPkqQnPdmRHelN77RtBwcHZ7xgBAAudA4Bz4Ep5MY38Ry/\\\n",
       "7nRnR3bU1o1kJO1prz2/I3fkYA4mEX8AjczntxlACjdxJvBgDmZndtbWTYy/ndkp/gBoGmYA58Bf\\\n",
       "EM1jzZo1tXP+Hstjk+JvJCPZmI1JzlwYcujQoXoMEYDzxOe3GUDI0NBQLf560jMp/pIzM4Hj5wQe\\\n",
       "Pnz4Fb8xBAAudAKQok09B3BzNtfWjWSk9vPmbK5dDTzTzaIBoJEIQIo19SbPB3Mwu7IryZlz/jZm\\\n",
       "Y+2cwF3ZVTsHMBGBADQ25wDOgXMIGtds3/CRnJkJnBh7U59P5IIQgMbj89sMIIU6fvz4rOvGY2/1\\\n",
       "6tWTnr/a1wGAC5UApEiVSiUDAwOzrh8cHMyhQ4dmvFn0OF8DB0CjEoAUa7YInHhYd7ZvDBF/ADQy\\\n",
       "AUjRpkbgTOf0TY1A8QdAo7uk3gOAehuPuY6Ojlkv6Bhffvz4cfEHNLxKpXLW97zkzMVy3vOalwCE\\\n",
       "5Jze4FztCzSDSqWSrVu31p7P9N429U4JIrD5CECaT2XCN3lURmbfDqAwU+NvPPImRuDU+BvfXgQ2\\\n",
       "F+cAAkABpsbfuIk3tp/tHqlbt24VgE3GDCAANLnZ4m/ceASOfy/6TMwENhcBSPNx2Bdgko6OjlnX\\\n",
       "jX/b0Xj8ne3bj872OjQWh4ABoMnNdk/T3vRmR3akJz1Jkp70ZEd2pDe907b11ZfNxXcBz4HvEgSg\\\n",
       "kUw8x6873dmRHbV1IxlJe/7/RXR35I7aTGCzxZ/PbzOAAFCMiTOBB3MwO7Oztm5i/O3MzqaNP84w\\\n",
       "AzgH/oIAoBGtWbOmds7fY3lsUvyNZCQbszFJsnr16hw6dKgeQ5xXPr+beAbwwQcfzNvf/va0tbWl\\\n",
       "ra0t69aty7e//e3a+mq1mkqlkmXLlmXx4sW5/vrr87Of/ayOIwaA+Tfxat+e9EyKv+TMTOD4OYGH\\\n",
       "Dx+u3SKG5tK0Abh8+fLce++92b9/f/bv358PfOAD+dCHPlSLvPvuuy8PPPBABgcH89RTT6Wrqys3\\\n",
       "3HBDTpw4UeeRA8D8mHoO4OZsrq0byf+/g8LmbE53upNMvk8gzaNpA/Dmm2/On//5n+ctb3lL3vKW\\\n",
       "t+See+7JZZddlieffDLVajVf+MIXcvfdd+fDH/5wuru788gjj+R//ud/8uijj9Z76ABw3k29yfPB\\\n",
       "HMyu7Epy5py/jdlYOydwV3ZNuhWMCGw+RdwH8PTp0/mXf/mXnDx5MuvWrctzzz2X4eHhbNiwobZN\\\n",
       "a2trrrvuujzxxBPZvHnzWV4NABrLbN/w8UgeyYEcqMXe7uzOwf/931QzfW0cjatpZwCT5Jlnnsll\\\n",
       "l12W1tbW3Hbbbfna176WNWvWZHh4OEnS2dk5afvOzs7aupmMjY1ldHR00gMALnTHjx+fdd147K1e\\\n",
       "vXrS81f7OjSWpg7At771rXn66afz5JNP5mMf+1h6e3snXc3U0tIyaftqtTpt2UTbt29Pe3t77bFi\\\n",
       "xYp5GzsAnC+VSiUDAwOzrh8cHMyhQ4dmvFn0uIGBAV8D10SaOgAXLVqUq6++Otdee222b9+ed7zj\\\n",
       "HfniF7+Yrq6uJJk223fs2LFps4IT3XXXXRkZGak9jh49Oq/jB4DzZbYInHifv9m+MUT8NZ+mDsCp\\\n",
       "qtVqxsbGsnLlynR1dWXv3r21dadOncq+ffuyfv36WX+/tbW1dluZ8QcANIqpETjTTZ6nRqD4a05N\\\n",
       "exHIpz/96dx4441ZsWJFTpw4kd27d+f73/9+vvOd76SlpSVbtmzJtm3bsmrVqqxatSrbtm3LpZde\\\n",
       "mltuuaXeQweAeTMecx0dHbNe0DG+/Pjx4+KvSTVtAP73f/93br311rzwwgtpb2/P29/+9nznO9/J\\\n",
       "DTfckCT55Cc/md/85je5/fbb89JLL+Vd73pX9uzZkyVLltR55ABw7q76u2/Wfv7Pe286p985l6hz\\\n",
       "tW9z81Vwc+CrZACot9cSgKXz+V3YOYAAADTxIWAAKIFZP14LM4AAAIURgAAAhRGAAACFEYAAAIUR\\\n",
       "gAAAhRGAAACFEYAAAIURgAAAhRGAAACFEYAAAIURgAAAhRGAAACFEYAAAIURgAAAhRGAAACFEYAA\\\n",
       "AIURgAAAhRGAAACFEYAAAIURgAAAhRGAAACFEYAAAIURgAAAhRGAAACFEYAAAIURgE2iUqlkaGjo\\\n",
       "rNsMDQ2lUqkszIAAgAvWJfUeAHNXqVSydevW2vO+vr5p2wwNDaW/v3/S7wAAZTID2OCmxl9/f/+0\\\n",
       "mcCp8bd161YBCAAFE4ANbGr8jZsYgVPjb5wIBIBytVSr1Wq9B9GoRkdH097enpGRkbS1tS3ovz1b\\\n",
       "/E20evXqHD58+KzbDAwMCEEAilLPz+8LhRnABtXR0THruu50J0kt/safv9rXAQCakwBsUH19fRkc\\\n",
       "HJy2vDe92ZEd6UlPkqQnPdmRHelN77RtBwcHZ7xgBABobg4Bz8GFMIU88Ry/7nRnR3bU1o1kJO1p\\\n",
       "rz2/I3fkYA4mEX8AlOtC+PyuNzOADW7iTODBHMzO7Kytmxh/O7NT/AEAScwAzsmF9BfEmjVrauf8\\\n",
       "PZbHJsXfSEayMRuTnLkw5NChQ/UYIgBcEC6kz+96MQPYBIaGhmrx15OeSfGXnJkJHD8n8PDhw6/4\\\n",
       "jSEAQHMTgA1u6jmAm7O5tm4kI7WfN2dz7WrgmW4WDQCUQwA2sKk3eT6Yg9mVXUnOnPO3MRtr5wTu\\\n",
       "yq7aOYCJCASAkjkHcA7qeQ7BbN/wkZyZCZwYe1OfT+SCEABK4xxAM4AN6/jx47OuG4+91atXT3r+\\\n",
       "al8HAGhOArBBVSqVDAwMzLp+cHAwhw4dmvFm0eN8DRwAlEkANrDZInDiYd3ZvjFE/AFAuQRgg5sa\\\n",
       "gTOd0zc1AsUfAJTtknoPgLkbj7mOjo5ZL+gYX378+HHxBwCFa9qrgLdv356vfvWr+fnPf57Fixdn\\\n",
       "/fr1+exnP5u3vvWttW2q1Wq2bt2ahx56KC+99FLe9a53ZWhoKH/4h394Tv/GfF5FdPhtq2s/r/75\\\n",
       "4fP62gBQMlcBN/Eh4H379qWvry9PPvlk9u7dm9///vfZsGFDTp48WdvmvvvuywMPPJDBwcE89dRT\\\n",
       "6erqyg033JATJ07UceQAAPOraWcApzp+/Hje+MY3Zt++fXnf+96XarWaZcuWZcuWLfnUpz6VJBkb\\\n",
       "G0tnZ2c++9nPZvPmza/wimYAAaARmQEs6BzAkZEzX4t2xRVXJEmee+65DA8PZ8OGDbVtWltbc911\\\n",
       "1+WJJ56YMQDHxsYyNjZWez46Ojpv4xV9AMB8adpDwBNVq9Xceeedec973pPu7jPfhzs8PJwk6ezs\\\n",
       "nLRtZ2dnbd1U27dvT3t7e+2xYsWK+R04AMA8KCIA+/v789Of/jRf/vKXp61raWmZ9LxarU5bNu6u\\\n",
       "u+7KyMhI7XH06NF5GS8AwHxq+kPAd9xxR77xjW/k8ccfz/Lly2vLu7q6kpyZCbzyyitry48dOzZt\\\n",
       "VnBca2trWltb53fAAADzrGlnAKvVavr7+/PVr3413/3ud7Ny5cpJ61euXJmurq7s3bu3tuzUqVPZ\\\n",
       "t29f1q9fv9DDBQBYME07A9jX15dHH300X//617NkyZLaeX3t7e1ZvHhxWlpasmXLlmzbti2rVq3K\\\n",
       "qlWrsm3btlx66aW55ZZb6jx6AID507QB+OCDDyZJrr/++knLH3744WzatClJ8slPfjK/+c1vcvvt\\\n",
       "t9duBL1nz54sWbJkgUcLALBwirkP4HxwHyEAaDw+v5v4HEAAAGYmAAEACiMAAQAKIwABAAojAAEA\\\n",
       "CiMAAQAKIwABAAojAAEACiMAAQAKIwABAAojAAEACiMAAQAKIwABAAojAAEACiMAAQAKIwABAAoj\\\n",
       "AAEACiMAAQAKIwABAAojAAEACiMAAQAKIwABAAojAAEACiMAAQAKIwABAAojAAEACiMAAQAKIwAB\\\n",
       "AAojAAEACiMAAQAKIwABAAojAAEACiMAAQAKIwABAAojAAEACiMAAQAKIwABAAojAAEACiMAAQAK\\\n",
       "IwABAAojAAEACiMAAQAKIwABAAojAAEACiMAAQAK07QB+Pjjj+fmm2/OsmXL0tLSkscee2zS+mq1\\\n",
       "mkqlkmXLlmXx4sW5/vrr87Of/aw+gwUAWEBNG4AnT57MO97xjgwODs64/r777ssDDzyQwcHBPPXU\\\n",
       "U+nq6soNN9yQEydOLPBIuVBVKpUMDQ2ddZuhoaFUKpWFGRAAnCeX1HsA8+XGG2/MjTfeOOO6arWa\\\n",
       "L3zhC7n77rvz4Q9/OEnyyCOPpLOzM48++mg2b968kEPlAlSpVLJ169ba876+vmnbDA0Npb+/f9Lv\\\n",
       "AEAjaNoZwLN57rnnMjw8nA0bNtSWtba25rrrrssTTzxRx5FxIZgaf/39/dNmAqfG39atWwUgAA2j\\\n",
       "yAAcHh5OknR2dk5a3tnZWVs3k7GxsYyOjk560Fymxt+4iRE4Nf7GiUCAV8epNvXTtIeAz0VLS8uk\\\n",
       "59VqddqyibZv3z5jHNAcZou/ceMRePjw4Vm3Gf99b1YAZ+dUm/oqcgawq6srSabN9h07dmzarOBE\\\n",
       "d911V0ZGRmqPo0ePzus4WVgdHR2zrutOd5LU4m/8+at9HQCcanMhKDIAV65cma6uruzdu7e27NSp\\\n",
       "U9m3b1/Wr18/6++1tramra1t0oPm0dfXN+NV473pzY7sSE96kiQ96cmO7EhveqdtOzg4OONfsQCc\\\n",
       "4VSbC0PTHgL+9a9/nWeffbb2/LnnnsvTTz+dK664Im9605uyZcuWbNu2LatWrcqqVauybdu2XHrp\\\n",
       "pbnlllvqOGrqbTzext94utOdTdmUJNmczelJT9rTniTZlE05kAM5mINJxB/AK3GqzYWjaWcA9+/f\\\n",
       "n2uuuSbXXHNNkuTOO+/MNddck8985jNJkk9+8pPZsmVLbr/99lx77bX5xS9+kT179mTJkiX1HDYX\\\n",
       "gIkzgQdzMDuzs7ZuPP6SZGd2ij+AV8GpNheOlmq1Wq33IBrV6Oho2tvbMzIy4nBwE1qzZk3tjeix\\\n",
       "PDYp/kYyko3ZmCRZvXp1Dh06VI8hAjScmQ7v9qY3m7IpO7Mzu7M7PenJ5mzOruzKI3lk0rbn4w9u\\\n",
       "n99NPAMIczHxEMTEw77j2tNeOyfw8OHDr3gbAwDOmHq+9dRTbR7LY9mcM1/IsCmbJs0EOtpy/ghA\\\n",
       "mGLiX6fd6a69ESVnZv7Gbc7m2hvTTFewATAzp9rUnwCECaYemjiYg9mVXUnOvBFtzMbaG9Wu7Kq9\\\n",
       "MSUiEODV6Ovry+rVq5Mku7N70h/YyZk/uHdnd5Izp9qIv/NLAML/mu22A4/kkdyRO2pvRLuzO3fk\\\n",
       "jmnnpSQiEOBcOdWmvgQg/K/jx4/Pum58pm/8r9WJM3+v5nUAcKrNhUAAwv+qVCoZGBiYdf3g4GAO\\\n",
       "HTo0482ixw0MDLg3FcBZONXmwuA2MHPgMvLmNNONSqeefDzT4WLxB3B2s51qk5yZCZwYe1OfTzTX\\\n",
       "C0J8fpsBhGmmzgTO9EYz9TYG4g/glTnV5sLRtF8FB3MxHnMdHR2z/pU5vvz48ePiD+AcjL9XzvZ1\\\n",
       "cON/cJ9tptAf3OeHQ8BzYAq5MfyfR/5P7ednep+p40gASOp/qo3Pb4eAAYAF5lSb+nMIGABYcE61\\\n",
       "qS+HgOfAFDIAJJ//y7+o/fy3X/m/dRzJufH57RAwAEBxBCAAQGGcAwgAzEkjHPZlMjOAAACFEYAA\\\n",
       "AIURgAAAhRGAAACFEYAAAIURgAAAhRGAAACFEYAAAIURgAAAhRGAAACFEYAAAIURgAAAhRGAAACF\\\n",
       "EYAAAIURgAAAhRGAAACFEYAAAIURgAAAhRGAAACFEYAAAIURgAAAhRGAAACFEYAAAIURgAAAhRGA\\\n",
       "AACFEYAAAIURgAAAhRGAAACFEYAAAIUpPgC/9KUvZeXKlXnd616XtWvX5gc/+EG9hwQAMK+KDsCv\\\n",
       "fOUr2bJlS+6+++785Cc/yXvf+97ceOONOXLkSL2HBgAwb1qq1Wq13oOol3e961155zvfmQcffLC2\\\n",
       "bPXq1dm4cWO2b9/+ir8/Ojqa9vb2jIyMpK2tbT6HCgCcJz6/C54BPHXqVA4cOJANGzZMWr5hw4Y8\\\n",
       "8cQTdRoVAMD8u6TeA6iXX/7ylzl9+nQ6OzsnLe/s7Mzw8PCMvzM2NpaxsbHa89HR0XkdIwDAfCh2\\\n",
       "BnBcS0vLpOfVanXasnHbt29Pe3t77bFixYqFGCIAwHlVbAAuXbo0F1988bTZvmPHjk2bFRx31113\\\n",
       "ZWRkpPY4evToQgwVAOC8KjYAFy1alLVr12bv3r2Tlu/duzfr16+f8XdaW1vT1tY26QEA0GiKPQcw\\\n",
       "Se68887ceuutufbaa7Nu3bo89NBDOXLkSG677bZ6Dw0AYN4UHYB/+Zd/mV/96lf5+7//+7zwwgvp\\\n",
       "7u7Ot771rbz5zW+u99AAAOZN0fcBnCv3EQKAxuPzu+BzAAEASiUAAQAKIwABAAojAAEACiMAAQAK\\\n",
       "IwABAAojAAEACiMAAQAKIwABAAojAAEACiMAAQAKIwABAAojAAEACiMAAQAKIwABAAojAAEACiMA\\\n",
       "AQAKIwABAAojAAEACiMAAQAKIwABAAojAAEACiMAAQAKIwABAAojAAEACiMAAQAKIwABAAojAAEA\\\n",
       "CiMAAQAKIwABAAojAAEACiMAAQAKIwABAAojAAEACiMAAQAKIwABAAojAAEACiMAAQAKIwABAAoj\\\n",
       "AAEACiMAAQAKIwABAAojAAEACiMAAQAKIwABAAojAAEACtOUAXjPPfdk/fr1ufTSS/OGN7xhxm2O\\\n",
       "HDmSm2++Oa9//euzdOnSfPzjH8+pU6cWdqAAAHVwSb0HMB9OnTqVj3zkI1m3bl3+6Z/+adr606dP\\\n",
       "56abbkpHR0d++MMf5le/+lV6e3tTrVazY8eOOowYAGDhNGUAbt26NUmya9euGdfv2bMnhw4dytGj\\\n",
       "R7Ns2bIkyec///ls2rQp99xzT9ra2hZqqAAAC64pDwG/kh/96Efp7u6uxV+SfPCDH8zY2FgOHDgw\\\n",
       "6++NjY1ldHR00gMAoNEUGYDDw8Pp7OyctOzyyy/PokWLMjw8POvvbd++Pe3t7bXHihUr5nuoAADn\\\n",
       "XcMEYKVSSUtLy1kf+/fvP+fXa2lpmbasWq3OuHzcXXfdlZGRkdrj6NGjr+m/BQCgnhrmHMD+/v70\\\n",
       "9PScdZurrrrqnF6rq6srP/7xjycte+mll/K73/1u2szgRK2trWltbT2nfwMA4ELVMAG4dOnSLF26\\\n",
       "9Ly81rp163LPPffkhRdeyJVXXpnkzIUhra2tWbt27Xn5NwAALlQNE4CvxpEjR/Liiy/myJEjOX36\\\n",
       "dJ5++ukkydVXX53LLrssGzZsyJo1a3Lrrbfm/vvvz4svvphPfOIT+ehHP+oKYACg6TVlAH7mM5/J\\\n",
       "I488Unt+zTXXJEm+973v5frrr8/FF1+cb37zm7n99tvz7ne/O4sXL84tt9ySz33uc/UaMgDAgmmp\\\n",
       "VqvVeg+iUY2Ojqa9vT0jIyNmDgGgQfj8bqCrgAEAOD8EIABAYQQgAEBhBCAAQGEEIABAYQQgAEBh\\\n",
       "BCAAQGEEIABAYQQgAEBhBCAAQGEEIABAYQQgAEBhBCAAQGEEIABAYQQgAEBhBCAAQGEEIABAYQQg\\\n",
       "AEBhBCAAQGEEIABAYQQgAEBhBCAAQGEEIABAYQQgAEBhBCAAQGEEIABAYQQgAEBhBCAAQGEEIABA\\\n",
       "YQQgAEBhBCAAQGEEIABAYQQgAEBhBCAAQGEEIABAYQQgAEBhBCAAQGEEIABAYQQgAEBhBCAAQGEE\\\n",
       "IABAYQQgAEBhBCAAQGEEIABAYQQgAEBhmi4A//M//zN//dd/nZUrV2bx4sX5gz/4gwwMDOTUqVOT\\\n",
       "tjty5EhuvvnmvP71r8/SpUvz8Y9/fNo2AADN6JJ6D+B8+/nPf56XX345O3fuzNVXX52DBw/mox/9\\\n",
       "aE6ePJnPfe5zSZLTp0/npptuSkdHR374wx/mV7/6VXp7e1OtVrNjx446/xcAAMyvlmq1Wq33IObb\\\n",
       "/fffnwcffDD/8R//kST59re/nb/4i7/I0aNHs2zZsiTJ7t27s2nTphw7dixtbW3n9Lqjo6Npb2/P\\\n",
       "yMjIOf8OAFBfPr+b8BDwTEZGRnLFFVfUnv/oRz9Kd3d3Lf6S5IMf/GDGxsZy4MCBegwRAGDBNN0h\\\n",
       "4Kn+/d//PTt27MjnP//52rLh4eF0dnZO2u7yyy/PokWLMjw8POtrjY2NZWxsrPZ8dHT0/A8YAGCe\\\n",
       "NcwMYKVSSUtLy1kf+/fvn/Q7zz//fP7sz/4sH/nIR/I3f/M3k9a1tLRM+zeq1eqMy8dt37497e3t\\\n",
       "tceKFSvOz38cAMACapgZwP7+/vT09Jx1m6uuuqr28/PPP5/3v//9WbduXR566KFJ23V1deXHP/7x\\\n",
       "pGUvvfRSfve7302bGZzorrvuyp133ll7Pjo6KgIBgIbTMAG4dOnSLF269Jy2/cUvfpH3v//9Wbt2\\\n",
       "bR5++OFcdNHkic5169blnnvuyQsvvJArr7wySbJnz560trZm7dq1s75ua2trWltbX/t/BADABaDp\\\n",
       "rgJ+/vnnc9111+VNb3pT/vmf/zkXX3xxbV1XV1eSM7eB+aM/+qN0dnbm/vvvz4svvphNmzZl48aN\\\n",
       "r+o2MK4iAoDG4/O7gWYAz9WePXvy7LPP5tlnn83y5csnrRtv3Ysvvjjf/OY3c/vtt+fd7353Fi9e\\\n",
       "nFtuuaV2n0AAgGbWdDOAC8lfEADQeHx+N9BVwAAAnB8CEACgMAIQAKAwAhAAoDACEACgMAIQAKi7\\\n",
       "SqWSoaGhs24zNDSUSqWyMANqck13H0AAoLFUKpVs3bq19ryvr2/aNkNDQ+nv75/0O7x2ZgABgLqZ\\\n",
       "Gn/9/f3TZgKnxt/WrVsF4BwJQACgLqbG37iJETg1/saJwLnxTSBz4E7iAPDazBZ/E61evTqHDx8+\\\n",
       "6zYDAwOvOgR9fpsBBADqoKOjY9Z13elOklr8jT9/ta/D7AQgALDg+vr6Mjg4OG15b3qzIzvSk54k\\\n",
       "SU96siM70pveadsODg7OeMEIr8wh4DkwhQwAczPxHL/udGdHdtTWjWQk7WmvPb8jd+RgDiaZW/z5\\\n",
       "/DYDCADU0cSZwIM5mJ3ZWVs3Mf52Zud5iT/OMAM4B/6CAIDzY82aNbVz/h7LY5PibyQj2ZiNSc5c\\\n",
       "GHLo0KE5/Vs+v80AAgB1NjQ0VIu/nvRMir/kzEzg+DmBhw8ffsVvDOGVCUAAoG6mngO4OZtr60Yy\\\n",
       "Uvt5czbXrgae6WbRvDoCEACoi6k3eT6Yg9mVXUnOnPO3MRtr5wTuyq7aOYCJCJwr5wDOgXMIAOC1\\\n",
       "me0bPpIzM4ETY2/q84leywUhPr/NAAIAdXD8+PFZ143H3urVqyc9f7Wvw+wEIACw4CqVSgYGBmZd\\\n",
       "Pzg4mEOHDs14s+hxr+Vr4DhDAAIAdTFbBE48rDvbN4aIv7kRgABA3UyNwJnO6ZsageJv7i6p9wAA\\\n",
       "gOYydNt3az/3/cMHXnH78Zjr6OiY9YKO8eXHjx8Xf+eBAAQA6u5cos7Xv50/DgEDABTGDCAAcF6d\\\n",
       "y2Ff6ssMIABAYQQgAEBhBCAAQGEEIABAYQQgAEBhBCAAQGEEIABAYQQgAEBhBCAAQGEEIABAYQQg\\\n",
       "AEBhBCAAQGEEIABAYS6p9wAaWbVaTZKMjo7WeSQAwLka/9we/xwvkQCcgxMnTiRJVqxYUeeRAACv\\\n",
       "1okTJ9Le3l7vYdRFS7Xk/J2jl19+Oc8//3yWLFmSlpaWeg+nKYyOjmbFihU5evRo2tra6j2cpmU/\\\n",
       "Lxz7euHY1wun0fd1tVrNiRMnsmzZslx0UZlnw5kBnIOLLrooy5cvr/cwmlJbW1tDvqk0Gvt54djX\\\n",
       "C8e+XjiNvK9LnfkbV2b2AgAUTAACABRGAHJBaW1tzcDAQFpbW+s9lKZmPy8c+3rh2NcLx75ufC4C\\\n",
       "AQAojBlAAIDCCEAAgMIIQACAwghAAIDCCEAuGPfcc0/Wr1+fSy+9NG94wxtm3ObIkSO5+eab8/rX\\\n",
       "vz5Lly7Nxz/+8Zw6dWphB9oEvvSlL2XlypV53etel7Vr1+YHP/hBvYfU8B5//PHcfPPNWbZsWVpa\\\n",
       "WvLYY49NWl+tVlOpVLJs2bIsXrw4119/fX72s5/VZ7ANbPv27fnjP/7jLFmyJG984xuzcePG/Nu/\\\n",
       "/dukbezr8+PBBx/M29/+9trNntetW5dvf/vbtfX2c2MTgFwwTp06lY985CP52Mc+NuP606dP56ab\\\n",
       "bsrJkyfzwx/+MLt3786//uu/5m//9m8XeKSN7Stf+Uq2bNmSu+++Oz/5yU/y3ve+NzfeeGOOHDlS\\\n",
       "76E1tJMnT+Yd73hHBgcHZ1x/33335YEHHsjg4GCeeuqpdHV15YYbbqh9pzjnZt++fenr68uTTz6Z\\\n",
       "vXv35ve//302bNiQkydP1raxr8+P5cuX5957783+/fuzf//+fOADH8iHPvShWuTZzw2uCheYhx9+\\\n",
       "uNre3j5t+be+9a3qRRddVP3FL35RW/blL3+52traWh0ZGVnAETa2P/mTP6nedtttk5a97W1vq/7d\\\n",
       "3/1dnUbUfJJUv/a1r9Wev/zyy9Wurq7qvffeW1v229/+ttre3l79h3/4hzqMsHkcO3asmqS6b9++\\\n",
       "arVqX8+3yy+/vPqP//iP9nMTMANIw/jRj36U7u7uLFu2rLbsgx/8YMbGxnLgwIE6jqxxnDp1KgcO\\\n",
       "HMiGDRsmLd+wYUOeeOKJOo2q+T333HMZHh6etN9bW1tz3XXX2e9zNDIykiS54oorktjX8+X06dPZ\\\n",
       "vXt3Tp48mXXr1tnPTUAA0jCGh4fT2dk5adnll1+eRYsWZXh4uE6jaiy//OUvc/r06Wn7sbOz0z6c\\\n",
       "R+P71n4/v6rVau6888685z3vSXd3dxL7+nx75plnctlll6W1tTW33XZbvva1r2XNmjX2cxMQgMyr\\\n",
       "SqWSlpaWsz72799/zq/X0tIybVm1Wp1xObObur/sw4Vhv59f/f39+elPf5ovf/nL09bZ1+fHW9/6\\\n",
       "1jz99NN58skn87GPfSy9vb05dOhQbb393LguqfcAaG79/f3p6ek56zZXXXXVOb1WV1dXfvzjH09a\\\n",
       "9tJLL+V3v/vdtL9CmdnSpUtz8cUXT/sL/dixY/bhPOrq6kpyZnbqyiuvrC2331+7O+64I9/4xjfy\\\n",
       "+OOPZ/ny5bXl9vX5tWjRolx99dVJkmuvvTZPPfVUvvjFL+ZTn/pUEvu5kZkBZF4tXbo0b3vb2876\\\n",
       "eN3rXndOr7Vu3bocPHgwL7zwQm3Znj170tramrVr187Xf0JTWbRoUdauXZu9e/dOWr53796sX7++\\\n",
       "TqNqfitXrkxXV9ek/X7q1Kns27fPfn+VqtVq+vv789WvfjXf/e53s3Llyknr7ev5Va1WMzY2Zj83\\\n",
       "ATOAXDCOHDmSF198MUeOHMnp06fz9NNPJ0muvvrqXHbZZdmwYUPWrFmTW2+9Nffff39efPHFfOIT\\\n",
       "n8hHP/rRtLW11XfwDeTOO+/MrbfemmuvvTbr1q3LQw89lCNHjuS2226r99Aa2q9//es8++yztefP\\\n",
       "Pfdcnn766VxxxRV505velC1btmTbtm1ZtWpVVq1alW3btuXSSy/NLbfcUsdRN56+vr48+uij+frX\\\n",
       "v54lS5bUZrPb29uzePHitLS02Nfnyac//enceOONWbFiRU6cOJHdu3fn+9//fr7zne/Yz82gfhcg\\\n",
       "w2S9vb3VJNMe3/ve92rb/Nd//Vf1pptuqi5evLh6xRVXVPv7+6u//e1v6zfoBjU0NFR985vfXF20\\\n",
       "aFH1ne98Z+0WGrx23/ve92b8/29vb2+1Wj1ze5KBgYFqV1dXtbW1tfq+972v+swzz9R30A1opn2c\\\n",
       "pPrwww/XtrGvz4+/+qu/qr1PdHR0VP/0T/+0umfPntp6+7mxtVSr1erCZycAAPXiHEAAgMIIQACA\\\n",
       "wghAAIDCCEAAgMIIQACAwghAAIDCCEAAgMIIQACAwghAAIDCCEAAgMIIQACAwghAAIDCCEAAgMII\\\n",
       "QACAwghAAIDCCEAAgMIIQACAwghAAIDCCEAAgMIIQACAwghAAIDCCEAAgMIIQACAwghAAIDCCEAA\\\n",
       "gMIIQACAwghAAIDCCEAAgMIIQACAwghAAIDCCEAAgML8P2mi8djtyt8IAAAAAElFTkSuQmCC\\\n",
       "\"\n",
       "\n",
       "\n",
       "    /* set a timeout to make sure all the above elements are created before\n",
       "       the object is initialized. */\n",
       "    setTimeout(function() {\n",
       "        anim7a3039d332e549508286202bb45fd823 = new Animation(frames, img_id, slider_id, 500.0,\n",
       "                                 loop_select_id);\n",
       "    }, 0);\n",
       "  })()\n",
       "</script>\n"
      ],
      "text/plain": [
       "<IPython.core.display.HTML object>"
      ]
     },
     "execution_count": 38,
     "metadata": {},
     "output_type": "execute_result"
    }
   ],
   "source": [
    "# Creating an animation of the optimization steps\n",
    "X = data.clone()\n",
    "fig, ax = plt.subplots()\n",
    "ani = FuncAnimation(fig, one_step, frames=5, interval=500, repeat=False)\n",
    "plt.close()\n",
    "HTML(ani.to_jshtml())"
   ]
  },
  {
   "cell_type": "markdown",
   "id": "27bf360a-0fe4-4c25-9272-cb8474919267",
   "metadata": {},
   "source": [
    "## Speeding Up Operations Using GPU Batched Algorithm"
   ]
  },
  {
   "cell_type": "markdown",
   "id": "de813084-8e76-45b5-9382-163c75478206",
   "metadata": {},
   "source": [
    "Before moving the algorithm's operations over to the GPU, we need to be aware of the considerable communications overhead between the flow of data between the CPU and GPU. This is called the **Kernel Launch Overhead** and more details on this topic can be found in this [paper](https://www.hpcs.cs.tsukuba.ac.jp/icpp2019/data/posters/Poster17-abst.pdf).\n",
    "\n",
    "Functionally, we will do away with the model's loop and replace it with broadcasting."
   ]
  },
  {
   "cell_type": "code",
   "execution_count": 39,
   "id": "2011f2d5-f889-42e8-b1c5-106e6a297aab",
   "metadata": {},
   "outputs": [
    {
     "data": {
      "text/plain": [
       "(torch.Size([5, 2]), torch.Size([3000, 2]))"
      ]
     },
     "execution_count": 39,
     "metadata": {},
     "output_type": "execute_result"
    }
   ],
   "source": [
    "# Create a batch size\n",
    "bs = 5\n",
    "X = data.clone()\n",
    "# Small x will be used for testing the number of items based on the batch size.\n",
    "# Starting off with 5\n",
    "x = X[:bs]\n",
    "x.shape, X.shape"
   ]
  },
  {
   "cell_type": "markdown",
   "id": "62f51c49-d23d-4add-850f-ec86647da93d",
   "metadata": {},
   "source": [
    "We need to rework our distance calculation which can return a matrix containing item-wise distances. Bear in mind that matrix compatibility needs to be considered before running these calculations."
   ]
  },
  {
   "cell_type": "code",
   "execution_count": 40,
   "id": "7f5df717-e266-4377-9408-b568de30fb33",
   "metadata": {},
   "outputs": [
    {
     "data": {
      "text/plain": [
       "(torch.Size([1, 5, 2]), torch.Size([3000, 1, 2]), torch.Size([3000, 5, 2]))"
      ]
     },
     "execution_count": 40,
     "metadata": {},
     "output_type": "execute_result"
    }
   ],
   "source": [
    "# Unit axes need to be added for compatibility\n",
    "# x[None] == x[None, :]\n",
    "x[None].shape, X[:, None].shape, (x[None, :] - X[:, None]).shape"
   ]
  },
  {
   "cell_type": "code",
   "execution_count": 41,
   "id": "2e290f32-738d-41c4-a37b-38cb0f7fcf5e",
   "metadata": {},
   "outputs": [],
   "source": [
    "# Now that our matrices align, lets define the distance function\n",
    "def dist_b(a, b):\n",
    "    return (((a[None] - b[:, None])**2).sum(2)).sqrt()"
   ]
  },
  {
   "cell_type": "code",
   "execution_count": 42,
   "id": "06ed1ff6-d036-4611-b01f-1384dc5766f3",
   "metadata": {},
   "outputs": [
    {
     "data": {
      "text/plain": [
       "tensor([[ 0.000,  3.899,  4.834,  ..., 19.760, 18.393, 20.129],\n",
       "        [ 3.899,  0.000,  4.978,  ..., 23.651, 22.270, 24.028],\n",
       "        [ 4.834,  4.978,  0.000,  ..., 22.261, 21.109, 22.391],\n",
       "        [ 3.726,  0.185,  4.969,  ..., 23.475, 22.091, 23.855],\n",
       "        [ 6.273,  5.547,  1.615,  ..., 23.764, 22.641, 23.860]])"
      ]
     },
     "execution_count": 42,
     "metadata": {},
     "output_type": "execute_result"
    }
   ],
   "source": [
    "dist_b(X, x)"
   ]
  },
  {
   "cell_type": "code",
   "execution_count": 43,
   "id": "2267e124-5bf3-4eed-8827-842dc8d59986",
   "metadata": {},
   "outputs": [
    {
     "data": {
      "text/plain": [
       "torch.Size([5, 3000])"
      ]
     },
     "execution_count": 43,
     "metadata": {},
     "output_type": "execute_result"
    }
   ],
   "source": [
    "dist_b(X, x).shape"
   ]
  },
  {
   "cell_type": "code",
   "execution_count": 44,
   "id": "f66193f5-0f3f-4b55-b4d9-2eaf4831b2c1",
   "metadata": {},
   "outputs": [
    {
     "data": {
      "text/plain": [
       "tensor([[    0.199,     0.030,     0.011,  ...,     0.000,     0.000,     0.000],\n",
       "        [    0.030,     0.199,     0.009,  ...,     0.000,     0.000,     0.000],\n",
       "        [    0.011,     0.009,     0.199,  ...,     0.000,     0.000,     0.000],\n",
       "        [    0.035,     0.199,     0.009,  ...,     0.000,     0.000,     0.000],\n",
       "        [    0.001,     0.004,     0.144,  ...,     0.000,     0.000,     0.000]])"
      ]
     },
     "execution_count": 44,
     "metadata": {},
     "output_type": "execute_result"
    }
   ],
   "source": [
    "# We'll skip Triangular Weighting in favour of the Gaussian function\n",
    "weight = gaussian(dist_b(X, x), 2)\n",
    "weight"
   ]
  },
  {
   "cell_type": "code",
   "execution_count": 45,
   "id": "56f3a6e0-0922-4372-a3d6-3abf045215eb",
   "metadata": {},
   "outputs": [
    {
     "data": {
      "text/plain": [
       "(torch.Size([5, 3000]), torch.Size([3000, 2]))"
      ]
     },
     "execution_count": 45,
     "metadata": {},
     "output_type": "execute_result"
    }
   ],
   "source": [
    "weight.shape, X.shape"
   ]
  },
  {
   "cell_type": "code",
   "execution_count": 46,
   "id": "b2dff3bb-bcce-4b9d-bc1a-508a77db9f83",
   "metadata": {},
   "outputs": [
    {
     "data": {
      "text/plain": [
       "(torch.Size([5, 3000, 1]), torch.Size([1, 3000, 2]))"
      ]
     },
     "execution_count": 46,
     "metadata": {},
     "output_type": "execute_result"
    }
   ],
   "source": [
    "# Adding unit axes\n",
    "weight[..., None].shape, X[None].shape"
   ]
  },
  {
   "cell_type": "code",
   "execution_count": 47,
   "id": "841f04f2-404e-4f49-ab89-8e34455cf71e",
   "metadata": {},
   "outputs": [
    {
     "data": {
      "text/plain": [
       "torch.Size([5, 2])"
      ]
     },
     "execution_count": 47,
     "metadata": {},
     "output_type": "execute_result"
    }
   ],
   "source": [
    "# Testing the output of the matrix multiplication\n",
    "# Numerator for the weighted average\n",
    "num = (weight[..., None] * X[None]).sum(1)\n",
    "num.shape"
   ]
  },
  {
   "cell_type": "code",
   "execution_count": 48,
   "id": "71cfb753-5721-427d-82ef-f6f0772aab0c",
   "metadata": {},
   "outputs": [
    {
     "data": {
      "text/plain": [
       "tensor([[ 732.245,  764.068],\n",
       "        [ 999.371, 1132.997],\n",
       "        [ 650.169,  649.820],\n",
       "        [1016.320, 1149.992],\n",
       "        [ 435.592,  441.056]])"
      ]
     },
     "execution_count": 48,
     "metadata": {},
     "output_type": "execute_result"
    }
   ],
   "source": [
    "num"
   ]
  },
  {
   "cell_type": "markdown",
   "id": "cdd6e887-a57c-4262-a427-370bd0de9bd5",
   "metadata": {},
   "source": [
    "Since we're working with products and sums, we can use Einsum for cleaner code. Here we need to remember that:\n",
    "- `weight` which is (5, 3000) will be `ij`.\n",
    "- `X` is (3000, 2) will be `jk`.\n",
    "- `ik` is the result."
   ]
  },
  {
   "cell_type": "code",
   "execution_count": 49,
   "id": "73cf0397-12aa-4deb-92e8-06c1edd1cb07",
   "metadata": {},
   "outputs": [
    {
     "data": {
      "text/plain": [
       "tensor([[ 732.245,  764.068],\n",
       "        [ 999.371, 1132.997],\n",
       "        [ 650.169,  649.821],\n",
       "        [1016.320, 1149.992],\n",
       "        [ 435.592,  441.056]])"
      ]
     },
     "execution_count": 49,
     "metadata": {},
     "output_type": "execute_result"
    }
   ],
   "source": [
    "torch.einsum('ij, jk -> ik', weight, X)"
   ]
  },
  {
   "cell_type": "code",
   "execution_count": 50,
   "id": "bbce2024-bc29-4bbc-b64f-e9e0b1eaaef7",
   "metadata": {},
   "outputs": [
    {
     "data": {
      "text/plain": [
       "tensor([[ 732.245,  764.068],\n",
       "        [ 999.371, 1132.997],\n",
       "        [ 650.169,  649.821],\n",
       "        [1016.320, 1149.992],\n",
       "        [ 435.592,  441.056]])"
      ]
     },
     "execution_count": 50,
     "metadata": {},
     "output_type": "execute_result"
    }
   ],
   "source": [
    "# PyTorch operations are cleaner still\n",
    "weight @ X"
   ]
  },
  {
   "cell_type": "code",
   "execution_count": 51,
   "id": "38d1aa4f-fc50-48f5-b1d4-b895c32f8ce7",
   "metadata": {},
   "outputs": [
    {
     "data": {
      "text/plain": [
       "tensor([[27.647],\n",
       "        [38.207],\n",
       "        [22.522],\n",
       "        [38.898],\n",
       "        [14.890]])"
      ]
     },
     "execution_count": 51,
     "metadata": {},
     "output_type": "execute_result"
    }
   ],
   "source": [
    "# The denominator for weighted avg. here is the sum of the weights\n",
    "div = weight.sum(1, keepdim=True)\n",
    "div"
   ]
  },
  {
   "cell_type": "code",
   "execution_count": 52,
   "id": "28b0d755-ccb8-4985-a103-f4dafb5ddd2a",
   "metadata": {},
   "outputs": [
    {
     "data": {
      "text/plain": [
       "tensor([[26.485, 27.636],\n",
       "        [26.157, 29.654],\n",
       "        [28.868, 28.853],\n",
       "        [26.128, 29.564],\n",
       "        [29.253, 29.620]])"
      ]
     },
     "execution_count": 52,
     "metadata": {},
     "output_type": "execute_result"
    }
   ],
   "source": [
    "# Weighted average, all cleaned up\n",
    "num / div"
   ]
  },
  {
   "cell_type": "code",
   "execution_count": 53,
   "id": "62754c6c-c78c-44c5-84a6-c40d59632d1c",
   "metadata": {},
   "outputs": [],
   "source": [
    "def meanshift(data, bs=500):\n",
    "    n = len(data)\n",
    "    X = data.clone()\n",
    "    for it in range(5):\n",
    "        for i in range(0, n, bs):\n",
    "            # Slicing the batches for repeated ops\n",
    "            s = slice(i, min(i+bs, n))\n",
    "            weight = gaussian(dist_b(X, X[s]), 2.5)\n",
    "            # This time we won't be using triangular \n",
    "        #   weight = tri(dist_b(X, X[s]), 8)\n",
    "            div = weight.sum(1, keepdim=True)\n",
    "            X[s] = weight@X / div\n",
    "    return X"
   ]
  },
  {
   "cell_type": "code",
   "execution_count": 54,
   "id": "26929208-f2a5-4470-974e-637ea9e80d71",
   "metadata": {},
   "outputs": [],
   "source": [
    "# Moving things over to cuda\n",
    "data = data.cuda()"
   ]
  },
  {
   "cell_type": "code",
   "execution_count": 55,
   "id": "44401d5e-e6c6-4253-9217-99e9f2a3b3a0",
   "metadata": {},
   "outputs": [],
   "source": [
    "X = meanshift(data).cpu()"
   ]
  },
  {
   "cell_type": "code",
   "execution_count": 56,
   "id": "faa89c18-abb3-418a-b087-3a232b5d4ff9",
   "metadata": {},
   "outputs": [
    {
     "name": "stdout",
     "output_type": "stream",
     "text": [
      "114 ms ± 6.32 ms per loop (mean ± std. dev. of 7 runs, 5 loops each)\n"
     ]
    }
   ],
   "source": [
    "# Testing various batch sizes\n",
    "%timeit -n 5 _= meanshift(data, 20).cpu()"
   ]
  },
  {
   "cell_type": "code",
   "execution_count": 57,
   "id": "7a5df695-a968-493d-9c7e-9802dcf7f494",
   "metadata": {},
   "outputs": [
    {
     "name": "stdout",
     "output_type": "stream",
     "text": [
      "20.8 ms ± 1.53 ms per loop (mean ± std. dev. of 7 runs, 5 loops each)\n"
     ]
    }
   ],
   "source": [
    "# Testing various batch sizes\n",
    "%timeit -n 5 _= meanshift(data, 100).cpu()"
   ]
  },
  {
   "cell_type": "code",
   "execution_count": 58,
   "id": "3540498d-094a-4ff0-a934-1cfcc2d276d3",
   "metadata": {},
   "outputs": [
    {
     "name": "stdout",
     "output_type": "stream",
     "text": [
      "9.73 ms ± 63.1 μs per loop (mean ± std. dev. of 7 runs, 5 loops each)\n"
     ]
    }
   ],
   "source": [
    "# Testing various batch sizes\n",
    "%timeit -n 5 _= meanshift(data, 500).cpu()"
   ]
  },
  {
   "cell_type": "code",
   "execution_count": 59,
   "id": "ae0a8a8d-6c6b-4ddc-806f-c70a5f46e30c",
   "metadata": {},
   "outputs": [
    {
     "name": "stdout",
     "output_type": "stream",
     "text": [
      "11.4 ms ± 173 μs per loop (mean ± std. dev. of 7 runs, 5 loops each)\n"
     ]
    }
   ],
   "source": [
    "# Testing various batch sizes\n",
    "%timeit -n 5 _= meanshift(data, 1000).cpu()"
   ]
  },
  {
   "cell_type": "code",
   "execution_count": 60,
   "id": "d2e24ef4-fe15-4910-bd67-69212cc017c8",
   "metadata": {},
   "outputs": [
    {
     "name": "stdout",
     "output_type": "stream",
     "text": [
      "17.7 ms ± 349 μs per loop (mean ± std. dev. of 7 runs, 5 loops each)\n"
     ]
    }
   ],
   "source": [
    "# Testing various batch sizes\n",
    "%timeit -n 5 _= meanshift(data, 3000).cpu()"
   ]
  },
  {
   "cell_type": "code",
   "execution_count": 61,
   "id": "102632ea-a1a4-4cd4-88b0-0ce10787a4a5",
   "metadata": {},
   "outputs": [
    {
     "data": {
      "image/png": "[encoded data removed]",
      "text/plain": [
       "<Figure size 640x480 with 1 Axes>"
      ]
     },
     "metadata": {},
     "output_type": "display_data"
    }
   ],
   "source": [
    "plot_data(centroids+2, X, n_samples)"
   ]
  },
  {
   "cell_type": "code",
   "execution_count": null,
   "id": "280f17a4-0059-4815-9702-481b1814fc0f",
   "metadata": {},
   "outputs": [],
   "source": []
  }
 ],
 "metadata": {
  "kernelspec": {
   "display_name": "Python 3 (ipykernel)",
   "language": "python",
   "name": "python3"
  },
  "language_info": {
   "codemirror_mode": {
    "name": "ipython",
    "version": 3
   },
   "file_extension": ".py",
   "mimetype": "text/x-python",
   "name": "python",
   "nbconvert_exporter": "python",
   "pygments_lexer": "ipython3",
   "version": "3.10.14"
  },
  "widgets": {
   "application/vnd.jupyter.widget-state+json": {
    "state": {},
    "version_major": 2,
    "version_minor": 0
   }
  }
 },
 "nbformat": 4,
 "nbformat_minor": 5
}
